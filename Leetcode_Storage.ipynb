{
  "nbformat": 4,
  "nbformat_minor": 0,
  "metadata": {
    "colab": {
      "provenance": [],
      "toc_visible": true,
      "authorship_tag": "ABX9TyNiwrnl6OwjjPjvYGfCqwa7",
      "include_colab_link": true
    },
    "kernelspec": {
      "name": "python3",
      "display_name": "Python 3"
    },
    "language_info": {
      "name": "python"
    }
  },
  "cells": [
    {
      "cell_type": "markdown",
      "metadata": {
        "id": "view-in-github",
        "colab_type": "text"
      },
      "source": [
        "<a href=\"https://colab.research.google.com/github/ObiAU/Adult-Income-Modelling/blob/main/Leetcode_Storage.ipynb\" target=\"_parent\"><img src=\"https://colab.research.google.com/assets/colab-badge.svg\" alt=\"Open In Colab\"/></a>"
      ]
    },
    {
      "cell_type": "markdown",
      "source": [
        "# 1. Arrays & Hashing"
      ],
      "metadata": {
        "id": "nXAaRk-I4MbP"
      }
    },
    {
      "cell_type": "markdown",
      "source": [
        "### Valid Anagram\n",
        "\n",
        "Given two strings s and t, return true if t is an anagram of s, and false otherwise.\n",
        "\n",
        "An Anagram is a word or phrase formed by rearranging the letters of a different word or phrase, typically using all the original letters exactly once."
      ],
      "metadata": {
        "id": "S4MCT_bsGHak"
      }
    },
    {
      "cell_type": "code",
      "source": [
        "class Solution(object):\n",
        "    def isAnagram(self, s, t):\n",
        "        \"\"\"\n",
        "        :type s: str\n",
        "        :type t: str\n",
        "        :rtype: bool\n",
        "        \"\"\"\n",
        "        # return true if t is an anagram of s\n",
        "        storeS, storeT = {}, {}\n",
        "\n",
        "        for char in s:\n",
        "            if char in storeS:\n",
        "                storeS[char] += 1\n",
        "\n",
        "            else:\n",
        "                storeS[char] = 1\n",
        "\n",
        "        for char in t:\n",
        "            if char in storeT:\n",
        "                storeT[char] += 1\n",
        "\n",
        "            else:\n",
        "                storeT[char] = 1\n",
        "\n",
        "\n",
        "        return storeT == storeS"
      ],
      "metadata": {
        "id": "9LGfQSZcF5ki"
      },
      "execution_count": null,
      "outputs": []
    },
    {
      "cell_type": "code",
      "source": [
        "def isAnagram(s,t):\n",
        "  if len(s) != len(t):\n",
        "    return False\n",
        "  # Count the number of occurences in each string\n",
        "  # Use Hashmaps\n",
        "  countS, countT = {}, {}\n",
        "  for i in range(len(s)):\n",
        "    # key of the hashmap\n",
        "    countS[s[i]] = 1 + countS.get(s[i],0) # We use get in case the letter/key doesn't exist\n",
        "    # If the key does not exist, the default value is 0.\n",
        "    countT[t[i]] = 1 + countT.get(t[i],0)\n",
        "\n",
        " # Next we want to iterate through the hashmaps\n",
        "  for c in countS:\n",
        "    # The .get is there so that if the letter does not exist, then countT becomes 0\n",
        "    # and as a result we still return False.\n",
        "    # If the letter does exist, and their counts are not equal,\n",
        "    # then we still return false\n",
        "    # So this line performs two checks in 1\n",
        "    if countS[c] != countT.get(c, 0):\n",
        "      return False\n",
        "  # All checks have been made so if the strings pass those checks then they are anagrams\n",
        "  return True\n"
      ],
      "metadata": {
        "id": "LxjkfTIiFlqL"
      },
      "execution_count": null,
      "outputs": []
    },
    {
      "cell_type": "code",
      "source": [
        "word = 'eat'\n",
        "''.join(sorted(word))"
      ],
      "metadata": {
        "colab": {
          "base_uri": "https://localhost:8080/",
          "height": 35
        },
        "id": "xvSxBJb0KK72",
        "outputId": "784156bf-6422-4b87-8e2d-23376ab313a1"
      },
      "execution_count": null,
      "outputs": [
        {
          "output_type": "execute_result",
          "data": {
            "text/plain": [
              "'aet'"
            ],
            "application/vnd.google.colaboratory.intrinsic+json": {
              "type": "string"
            }
          },
          "metadata": {},
          "execution_count": 2
        }
      ]
    },
    {
      "cell_type": "code",
      "source": [
        "class Solution(object):\n",
        "    def isAnagram(self, s, t):\n",
        "        \"\"\"\n",
        "        :type s: str\n",
        "        :type t: str\n",
        "        :rtype: bool\n",
        "        \"\"\"\n",
        "        return sorted(s) == sorted(t)"
      ],
      "metadata": {
        "id": "zacB1YxnR1Yz"
      },
      "execution_count": null,
      "outputs": []
    },
    {
      "cell_type": "markdown",
      "source": [
        "## Group Anagrams\n",
        "\n",
        "Given an array of strings strs, group the anagrams together. You can return the answer in any order.\n",
        "\n",
        "An Anagram is a word or phrase formed by rearranging the letters of a different word or phrase, typically using all the original letters exactly once\n"
      ],
      "metadata": {
        "id": "P3Iqvx_UDM08"
      }
    },
    {
      "cell_type": "code",
      "source": [
        "class Solution(object):\n",
        "    def groupAnagrams(self, strs):\n",
        "        \"\"\"\n",
        "        :type strs: List[str]\n",
        "        :rtype: List[List[str]]\n",
        "        \"\"\"\n",
        "        # use sorted to take strings and put them in alphabetical order\n",
        "        checker = {}\n",
        "\n",
        "        for word in strs:\n",
        "            sword = ''.join(sorted(word))\n",
        "\n",
        "            if sword in checker:\n",
        "                checker[sword].append(word)\n",
        "\n",
        "            else:\n",
        "                checker[sword] = [word]\n",
        "\n",
        "        return checker.values()"
      ],
      "metadata": {
        "id": "CjKx1KMfMNdu"
      },
      "execution_count": null,
      "outputs": []
    },
    {
      "cell_type": "code",
      "source": [
        "def groupAnagrams(strs):\n",
        "        \"\"\"\n",
        "        :type strs: List[str]\n",
        "        :rtype: List[List[str]]\n",
        "        \"\"\"\n",
        "        ## The sorted function takes strings and puts them in ALPHABETICAL ORDER\n",
        "        strs_table = {}\n",
        "        # for each string in the list, sort them alphabetically\n",
        "        # they will become the key of our sorted dictionary\n",
        "        for string in strs:\n",
        "            sorted_string = ''.join(sorted(string))\n",
        "            # each string when sorted, if they are anagrams, will look exactly the same\n",
        "            # not in used to prevent duplicate keys\n",
        "            if sorted_string not in strs_table:\n",
        "                strs_table[sorted_string] = []\n",
        "\n",
        "            strs_table[sorted_string].append(string)\n",
        "\n",
        "        return list(strs_table.values())"
      ],
      "metadata": {
        "id": "BFrm9n3WDQRa"
      },
      "execution_count": null,
      "outputs": []
    },
    {
      "cell_type": "code",
      "source": [
        "strs = [\"eat\",\"tea\",\"tan\",\"ate\",\"nat\",\"bat\"]\n",
        "groupAnagrams(strs)"
      ],
      "metadata": {
        "colab": {
          "base_uri": "https://localhost:8080/"
        },
        "id": "m6-ITGn0fCwF",
        "outputId": "1aa5774f-8ca7-46b2-c797-a43c4a9cb77b"
      },
      "execution_count": null,
      "outputs": [
        {
          "output_type": "execute_result",
          "data": {
            "text/plain": [
              "[['eat', 'tea', 'ate'], ['tan', 'nat'], ['bat']]"
            ]
          },
          "metadata": {},
          "execution_count": 9
        }
      ]
    },
    {
      "cell_type": "markdown",
      "source": [
        "## Contains Duplicates\n",
        "\n",
        "Given an integer array nums, return true if any value appears at least twice in the array, and return false if every element is distinct.\n",
        "\n"
      ],
      "metadata": {
        "id": "tfYZcnw_67PI"
      }
    },
    {
      "cell_type": "code",
      "source": [
        "def containsduplicates(nums):\n",
        "  # if the length of the set is not the same as the original then duplicates exist\n",
        "  if len(set(nums)) != len(nums):\n",
        "    return True\n",
        "  else:\n",
        "    return False"
      ],
      "metadata": {
        "id": "VX2vE9W7698n"
      },
      "execution_count": null,
      "outputs": []
    },
    {
      "cell_type": "markdown",
      "source": [
        "## Two Sum\n",
        "\n",
        "Given an array of integers nums and an integer target, return indices of the two numbers such that they add up to target.\n",
        "\n",
        "You may assume that each input would have exactly one solution, and you may not use the same element twice.\n",
        "\n",
        "You can return the answer in any order"
      ],
      "metadata": {
        "id": "OzZK2YC999s6"
      }
    },
    {
      "cell_type": "code",
      "source": [
        "  def twoSum(self, nums, target):\n",
        "        \"\"\"\n",
        "        :type nums: List[int]\n",
        "        :type target: int\n",
        "        :rtype: List[int]\n",
        "        \"\"\"\n",
        "        lst = []\n",
        "        for i in range(len(nums)):\n",
        "            for j in range(len(nums)):\n",
        "                if i!=j:\n",
        "                    if nums[i] + nums[j] == target:\n",
        "                        lst.extend([i,j])\n",
        "                        return lst"
      ],
      "metadata": {
        "id": "cbe0AQDl9_QH"
      },
      "execution_count": null,
      "outputs": []
    },
    {
      "cell_type": "markdown",
      "source": [
        "## Top K Frequent Elements\n",
        "\n",
        "Given an integer array nums and an integer k, return the k most frequent elements. You may return the answer in any order."
      ],
      "metadata": {
        "id": "yjxB00sB47Kc"
      }
    },
    {
      "cell_type": "code",
      "source": [
        "class Solution(object):\n",
        "    def topKFrequent(self, nums, k):\n",
        "        \"\"\"\n",
        "        :type nums: List[int]\n",
        "        :type k: int\n",
        "        :rtype: List[int]\n",
        "        \"\"\"\n",
        "        # attempt this with (hashmaps or) dictionaries\n",
        "        # the element with the highest count is returned\n",
        "        counter = {}\n",
        "        for num in nums:\n",
        "            if num not in counter:\n",
        "                counter[num] = 1\n",
        "            else:\n",
        "                counter[num] += 1\n",
        "        # Here, we are sorting the dictionary\n",
        "        # .items() puts the dictionary in pairs of tuples : (key, value), (key, value) etc\n",
        "        # lambda x: x[1] lets us index the 'value' part of the tuples, meaning our sorted\n",
        "        # sorts by the values.\n",
        "        # reverse = True means the sorting function sorts in descending order\n",
        "        # default of sorted is ascending order (reverse = False)\n",
        "        sorted_counter = sorted(counter.items(), key=lambda x: x[1], reverse=True)\n",
        "\n",
        "        # list comprehension to get our output\n",
        "        top_k_keys = [x[0] for x in sorted_counter[:k]]\n",
        "        return top_k_keys\n",
        "\n",
        "\n"
      ],
      "metadata": {
        "id": "vKVdF8au40ol"
      },
      "execution_count": null,
      "outputs": []
    },
    {
      "cell_type": "markdown",
      "source": [
        "## Longest Consecutive Sequence\n",
        "Given an unsorted array of integers nums, return the length of the longest consecutive elements sequence.\n",
        "\n",
        "You must write an algorithm that runs in O(n) time."
      ],
      "metadata": {
        "id": "6ZtiPaEIFYza"
      }
    },
    {
      "cell_type": "code",
      "source": [
        "class Solution(object):\n",
        "    def longestConsecutive(self, nums):\n",
        "        \"\"\"\n",
        "        :type nums: List[int]\n",
        "        :rtype: int\n",
        "        \"\"\"\n",
        "        # Write an algorithm that runs in O(n) time\n",
        "        # We want to find the longest consecutive numbers/elements sequence\n",
        "        # use a set to remove\n",
        "        # we cannot use sorted as that makes time complexity O(log(n))\n",
        "\n",
        "        true_nums = set(nums)\n",
        "        # keep track of longest sequence\n",
        "        longest = 0\n",
        "\n",
        "        for n in nums:\n",
        "            # check if its the start of a sequence\n",
        "            if (n-1) not in true_nums:\n",
        "                length = 0\n",
        "                while (n + length) in true_nums:\n",
        "                    length +=1\n",
        "                # update the longest by taking the max of the current length we just computed against what the longest originally was\n",
        "                longest = max(length, longest)\n",
        "        return longest\n",
        "\n",
        "\n"
      ],
      "metadata": {
        "id": "1HKiYnpxFa5j"
      },
      "execution_count": null,
      "outputs": []
    },
    {
      "cell_type": "markdown",
      "source": [
        "## Product of Array Except Self\n",
        "\n",
        "Given an integer array nums, return an array answer such that answer[i] is equal to the product of all the elements of nums except nums[i].\n",
        "\n",
        "The product of any prefix or suffix of nums is guaranteed to fit in a 32-bit integer.\n",
        "\n",
        "You must write an algorithm that runs in O(n) time and without using the division operation."
      ],
      "metadata": {
        "id": "5gtGLRRBFcp7"
      }
    },
    {
      "cell_type": "code",
      "source": [
        "class Solution(object):\n",
        "    def productExceptSelf(self, nums):\n",
        "        \"\"\"\n",
        "        :type nums: List[int]\n",
        "        :rtype: List[int]\n",
        "        \"\"\"\n",
        "        # answer[i] = product of all the elements of nums except nums[i]\n",
        "        # for each number i, calculate left product and right product\n",
        "\n",
        "        # give each position an initial value of 1\n",
        "        # we want it to be the length of the input array\n",
        "        res = [1] * (len(nums))\n",
        "\n",
        "        # left hand side\n",
        "        left = 1\n",
        "\n",
        "        for i in range(len(nums)):\n",
        "            # the left product is stored in the result output array (res[i])\n",
        "            res[i] = left\n",
        "            # compute the left product as we iterate over nums\n",
        "            left *= nums[i]\n",
        "\n",
        "        # Now do the same on the right prouct\n",
        "        right = 1\n",
        "        # recall range(start,stop,step)!\n",
        "        for i in range(len(nums)-1, -1, -1):\n",
        "            # we are not equating the right to res[i] or that would overrate the above left product\n",
        "            # we immediately begin with multiplying the right with the left\n",
        "            res[i] *= right\n",
        "            # we need to continously update the right product\n",
        "            right *= nums[i]\n",
        "        return res"
      ],
      "metadata": {
        "id": "f-4S02VxUc82"
      },
      "execution_count": null,
      "outputs": []
    },
    {
      "cell_type": "markdown",
      "source": [
        "## Valid Sudoku Solutions 1 and 2\n",
        "\n",
        "Determine if a 9 x 9 Sudoku board is valid. Only the filled cells need to be validated according to the following rules:\n",
        "\n",
        "Each row must contain the digits 1-9 without repetition.\n",
        "Each column must contain the digits 1-9 without repetition.\n",
        "Each of the nine 3 x 3 sub-boxes of the grid must contain the digits 1-9 without repetition.\n",
        "Note:\n",
        "\n",
        "A Sudoku board (partially filled) could be valid but is not necessarily solvable.\n",
        "Only the filled cells need to be validated according to the mentioned rules."
      ],
      "metadata": {
        "id": "M18BDceWZN6u"
      }
    },
    {
      "cell_type": "markdown",
      "source": [
        "Solution 1"
      ],
      "metadata": {
        "id": "tqsZ8rxhZRu1"
      }
    },
    {
      "cell_type": "code",
      "source": [
        "  # For this question, we want to define multiple functions.\n",
        "    # Functions to check:\n",
        "    # if the rows are valid\n",
        "    # if the columns are valid\n",
        "    # if each 3x3 square is valid\n",
        "    # if each unit is valid\n",
        "def isValidSudoku(self, board):\n",
        "    return (self.is_row_valid(board) and\n",
        "            self.is_col_valid(board) and\n",
        "            self.is_square_valid(board))\n",
        "\n",
        "def is_row_valid(self, board):\n",
        "    for row in board:\n",
        "        if not self.is_unit_valid(row):\n",
        "            return False\n",
        "    return True\n",
        "\n",
        "def is_col_valid(self, board):\n",
        "    for col in zip(*board):\n",
        "        if not self.is_unit_valid(col):\n",
        "            return False\n",
        "    return True\n",
        "\n",
        "def is_square_valid(self, board):\n",
        "    for i in (0, 3, 6):\n",
        "        for j in (0, 3, 6):\n",
        "            square = [board[x][y] for x in range(i, i + 3) for y in range(j, j + 3)]\n",
        "            if not self.is_unit_valid(square):\n",
        "                return False\n",
        "    return True\n",
        "\n",
        "def is_unit_valid(self, unit):\n",
        "    unit = [i for i in unit if i != '.']\n",
        "    return len(set(unit)) == len(unit)"
      ],
      "metadata": {
        "id": "4bFx9G-iZUOu"
      },
      "execution_count": null,
      "outputs": []
    },
    {
      "cell_type": "markdown",
      "source": [
        "Solution 2"
      ],
      "metadata": {
        "id": "XtbTksBmZWey"
      }
    },
    {
      "cell_type": "code",
      "source": [
        "class Solution(object):\n",
        "    def isValidSudoku(self, board):\n",
        "        \"\"\"\n",
        "        :type board: List[List[str]]\n",
        "        :rtype: bool\n",
        "        \"\"\"\n",
        "        # we are going to go over the entire grid, if we find duplicates we return false, if not we return true.\n",
        "        # we will go over each row, each column, and each 3x3 subgrid\n",
        "\n",
        "        # This is a hashmap where the key is 'cols' the column number, and the value is another set which will represent all particular values in that column\n",
        "        cols = collections.defaultdict(set)\n",
        "        # we create hashmaps for rows and squares\n",
        "        rows = collections.defaultdict(set)\n",
        "        squares = collections.defaultdict(set)\n",
        "        # Note: the key for the squares = (r/3, c/3)\n",
        "\n",
        "        for r in range(9):\n",
        "            for c in range(9):\n",
        "                # if the position on the board is empty, then just skip it\n",
        "                if board[r][c] == \".\":\n",
        "                    continue\n",
        "                # check if we have found any duplicates\n",
        "                # if we have, return false immediately\n",
        "                # the below means if the current number we are at (board[r][c]) has already been seen in rows[r], then it is a duplicate\n",
        "                if (board[r][c] in rows[r] or\n",
        "                # we want to check if the value has occurred in the current column we are in (indexed c) or the current square we are in\n",
        "                # if it is in any of them, then it is a duplicate and we return False\n",
        "                board[r][c] in cols[c] or\n",
        "                board[r][c] in squares[(r // 3, c // 3)]):\n",
        "                    return False\n",
        "                # we're going to add to the column the current character we just saw\n",
        "                # the below makes sure that our hashsets (maps) are updated, and will make sure to detect any duplicates when we get to the next iteration of the loops.\n",
        "                cols[c].add(board[r][c])\n",
        "                rows[r].add(board[r][c])\n",
        "                squares[(r//3, c//3)].add(board[r][c])\n",
        "        # if we never detect duplicates, then outside of the loop we can just return True\n",
        "        return True\n"
      ],
      "metadata": {
        "id": "8pW-o_BUZXwN"
      },
      "execution_count": null,
      "outputs": []
    },
    {
      "cell_type": "markdown",
      "source": [
        "## Decode and Encode Strings\n",
        "\n",
        "Design an algorithm to encode a list of strings to a string. The encoded string is then sent over the network and is decoded back to the original list of strings"
      ],
      "metadata": {
        "id": "9-ureVtvcs1c"
      }
    },
    {
      "cell_type": "code",
      "source": [
        "def encode(strs):\n",
        "    extract = \" \".join(strs)\n",
        "    return extract\n",
        "\n",
        "def decode(str):\n",
        "    retract = str.split(\" \")\n",
        "    return retract"
      ],
      "metadata": {
        "id": "10es_O38dKdk"
      },
      "execution_count": null,
      "outputs": []
    },
    {
      "cell_type": "code",
      "source": [
        "strs = ['john', 'charles', 'smith']\n",
        "encode(strs), decode(encode(strs))"
      ],
      "metadata": {
        "colab": {
          "base_uri": "https://localhost:8080/"
        },
        "id": "AoT56xUCmYTe",
        "outputId": "21037653-c4f9-42d7-d459-a4ea04e3e9b9"
      },
      "execution_count": null,
      "outputs": [
        {
          "output_type": "execute_result",
          "data": {
            "text/plain": [
              "('john charles smith', ['john', 'charles', 'smith'])"
            ]
          },
          "metadata": {},
          "execution_count": 7
        }
      ]
    },
    {
      "cell_type": "markdown",
      "source": [
        "# Two Pointers"
      ],
      "metadata": {
        "id": "N1x1Dlgz5M6d"
      }
    },
    {
      "cell_type": "markdown",
      "source": [
        "## Two Sum II - Input Array is Sorted\n",
        "\n",
        "Given a 1-indexed array of integers numbers that is already sorted in non-decreasing order, find two numbers such that they add up to a specific target number. Let these two numbers be numbers[index1] and numbers[index2] where 1 <= index1 < index2 <= numbers.length.\n",
        "\n",
        "Return the indices of the two numbers, index1 and index2, added by one as an integer array [index1, index2] of length 2.\n",
        "\n",
        "The tests are generated such that there is exactly one solution. You may not use the same element twice.\n",
        "\n",
        "Your solution must use only constant extra space."
      ],
      "metadata": {
        "id": "BkecIeb4fZoZ"
      }
    },
    {
      "cell_type": "code",
      "source": [
        "class Solution(object):\n",
        "    def twoSum(self, numbers, target):\n",
        "        \"\"\"\n",
        "        :type numbers: List[int]\n",
        "        :type target: int\n",
        "        :rtype: List[int]\n",
        "        \"\"\"\n",
        "        # Constant extra space means we cannot create a new list or vector etc.\n",
        "        # the given list is sorted in ascending order\n",
        "        for i in range(len(numbers)):\n",
        "            for j in range(len(numbers)):\n",
        "                if i!=j:\n",
        "                    if numbers[i] + numbers[j] == target:\n",
        "                        return [i+1,j+1]\n",
        "                    else:\n",
        "                        continue\n"
      ],
      "metadata": {
        "id": "09HcuKL5fhq4"
      },
      "execution_count": null,
      "outputs": []
    },
    {
      "cell_type": "code",
      "source": [
        "# Correct solution\n",
        "class Solution:\n",
        "    def twoSum2(self, numbers, target):\n",
        "      # initialize pointers i and j which point towards the first and last element respectively\n",
        "        i = 0\n",
        "        j = len(numbers) -1\n",
        "\n",
        "        # This while loop will iterate through all i and j combinations\n",
        "        # until it finds the one which does not satisfy its initial condition\n",
        "        # i.e. the combination where numbers[i] + numbers[j] == target\n",
        "        while numbers[i] + numbers[j]!=target:\n",
        "            s = numbers[i] + numbers[j]\n",
        "            if s > target:\n",
        "                j-=1\n",
        "            else:\n",
        "               i+=1\n",
        "\n",
        "        return [i + 1 , j + 1]"
      ],
      "metadata": {
        "id": "n48KX-hmjPRi"
      },
      "execution_count": null,
      "outputs": []
    },
    {
      "cell_type": "markdown",
      "source": [
        "## 3Sum\n",
        "Given an integer array nums, return all the triplets [nums[i], nums[j], nums[k]] such that i != j, i != k, and j != k, and nums[i] + nums[j] + nums[k] == 0.\n",
        "\n",
        "Notice that the solution set must not contain duplicate triplets."
      ],
      "metadata": {
        "id": "WdHUVO-FkM4o"
      }
    },
    {
      "cell_type": "code",
      "source": [
        "def threeSum1(nums):\n",
        "    nums.sort()\n",
        "    result = []\n",
        "    # left is leftmost pointer\n",
        "    # we use len(nums)-2 because we need at least 3 numbers to continue\n",
        "    for left in range(len(nums)-2):\n",
        "        if left > 0 and nums[left] == nums[left - 1]:\n",
        "            continue\n",
        "    # right is rightmost pointer\n",
        "    # mid is pointer between left and right\n",
        "        mid = left + 1\n",
        "        right = len(nums) - 1\n",
        "        while mid < right:\n",
        "            curr_sum = nums[left] + nums[mid] + nums[right]\n",
        "            if curr_sum < 0:\n",
        "                mid += 1\n",
        "            elif curr_sum > 0:\n",
        "                right -= 1\n",
        "            else:\n",
        "                result.append([nums[left], nums[mid], nums[right]])\n",
        "                while mid < right and nums[mid] == nums[mid + 1]: # Another conditional for not calculating duplicates\n",
        "                    mid += 1\n",
        "                while mid < right and nums[right] == nums[right - 1]: # Avoiding duplicates check\n",
        "                    right -= 1\n",
        "                mid += 1\n",
        "                right -= 1\n",
        "        return result\n"
      ],
      "metadata": {
        "id": "KgDCnzBvqmcC"
      },
      "execution_count": null,
      "outputs": []
    },
    {
      "cell_type": "code",
      "source": [
        "# Correct one\n",
        "\n",
        "def threeSumFinal(nums):\n",
        "  res = []        # Triples\n",
        "  n = len(nums)   # Length of the list\n",
        "  nums.sort()     # We need to sort the list first!\n",
        "\n",
        "  for i in range(n-2):\n",
        "\n",
        "      # Since the list is sorted, if nums[i] > 0, then all\n",
        "      # nums[j] with j > i are positive as well, and we cannot\n",
        "      # have three positive numbers sum up to 0. Return immediately.\n",
        "      if nums[i] > 0:\n",
        "          break\n",
        "\n",
        "      # The nums[i] == nums[i-1] condition helps us avoid duplicates.\n",
        "      # E.g., given [-1, -1, 0, 0, 1], when i = 0, we see [-1, 0, 1]\n",
        "      # works. Now at i = 1, since nums[1] == -1 == nums[0], we avoid\n",
        "      # this iteration and thus avoid duplicates. The i > 0 condition\n",
        "      # is to avoid negative index, i.e., when i = 0, nums[i-1] = nums[-1]\n",
        "      # and you don't want to skip this iteration when nums[0] == nums[-1]\n",
        "      if i > 0 and nums[i] == nums[i-1]:\n",
        "          continue\n",
        "\n",
        "      # Classic two pointer solution\n",
        "      l, r = i + 1, n - 1\n",
        "      while l < r:\n",
        "          s = nums[i] + nums[l] + nums[r]\n",
        "          if s < 0: # sum too small, move left ptr\n",
        "              l += 1\n",
        "          elif s > 0: # sum too large, move right ptr\n",
        "              r -= 1\n",
        "          else:\n",
        "              res.append([nums[i], nums[l], nums[r]])\n",
        "\n",
        "              # we need to skip elements that are identical to our\n",
        "              # current solution, otherwise we would have duplicated triples\n",
        "              while l < r and nums[l] == nums[l+1]:\n",
        "                  l += 1\n",
        "              while l < r and nums[r] == nums[r-1]:\n",
        "                  r -= 1\n",
        "              l += 1\n",
        "              r -= 1\n",
        "  return res\n"
      ],
      "metadata": {
        "id": "rxr3R4QC51gl"
      },
      "execution_count": null,
      "outputs": []
    },
    {
      "cell_type": "markdown",
      "source": [
        "## Valid Palindrome\n",
        "\n",
        "A phrase is a palindrome if, after converting all uppercase letters into lowercase letters and removing all non-alphanumeric characters, it reads the same forward and backward. Alphanumeric characters include letters and numbers.\n",
        "\n",
        "Given a string s, return true if it is a palindrome, or false otherwise."
      ],
      "metadata": {
        "id": "9O-TV2kIqzww"
      }
    },
    {
      "cell_type": "code",
      "source": [
        "class Solution(object):\n",
        "    def isPalindrome(self, s):\n",
        "        \"\"\"\n",
        "        :type s: str\n",
        "        :rtype: bool\n",
        "        \"\"\"\n",
        "        # remove characters that are non-alphanumeric\n",
        "        # use .isalnum() to remove the unwanted characters\n",
        "        p = ''.join(item for item in s if item.isalnum())\n",
        "        # convert to list form for later iteration\n",
        "        Ptest = list(p.lower())\n",
        "\n",
        "        # Now, we reverse the list and check to see if they are the same\n",
        "        if list(reversed(Ptest)) == Ptest:\n",
        "            return True\n",
        "        else:\n",
        "            return False"
      ],
      "metadata": {
        "id": "oZ5K0KLRq5XG"
      },
      "execution_count": null,
      "outputs": []
    },
    {
      "cell_type": "markdown",
      "source": [
        "## Container With Most Water\n",
        "\n",
        "You are given an integer array height of length n. There are n vertical lines drawn such that the two endpoints of the ith line are (i, 0) and (i, height[i]).\n",
        "\n",
        "Find two lines that together with the x-axis form a container, such that the container contains the most water.\n",
        "\n",
        "Return the maximum amount of water a container can store.\n",
        "\n",
        "Notice that you may not slant the container."
      ],
      "metadata": {
        "id": "BToIsbX_TQtC"
      }
    },
    {
      "cell_type": "code",
      "source": [
        "class Solution(object):\n",
        "    def maxArea(self, height):\n",
        "        \"\"\"\n",
        "        :type height: List[int]\n",
        "        :rtype: int\n",
        "        \"\"\"\n",
        "        l, r = 0, len(height) - 1\n",
        "        max_area = 0\n",
        "\n",
        "        while l < r:\n",
        "            # length is r - l\n",
        "            h = min(height[r], height[l])\n",
        "            area = (r-l) * h\n",
        "\n",
        "            max_area = max(max_area, area) # update max_area\n",
        "\n",
        "            # aim is to store the max between r or l.\n",
        "            # This way, we move the pointer which corresponds to a smaller pillar\n",
        "\n",
        "            if height[l] == h:\n",
        "                l += 1\n",
        "\n",
        "            elif height[r] == h:\n",
        "                r -= 1\n",
        "\n",
        "        return max_area"
      ],
      "metadata": {
        "id": "yjZFUaxbxbaD"
      },
      "execution_count": null,
      "outputs": []
    },
    {
      "cell_type": "code",
      "source": [
        "class Solution(object):\n",
        "    def maxArea(self, height):\n",
        "        \"\"\"\n",
        "        :type height: List[int]\n",
        "        :rtype: int\n",
        "        \"\"\"\n",
        "        # our objective is to essentially find the rectangle with the largest area\n",
        "        # if height[l] < height[r], move l, otherwise move r\n",
        "\n",
        "        # l = left pointer, r = right pointer\n",
        "        res, l, r = 0, 0, len(height) - 1\n",
        "        # l and r are as such so we move from both ends of the container\n",
        "\n",
        "        # this while loop iterates over the circumstances where l < r\n",
        "        while l < r:\n",
        "            # the min function since you only need the smaller of the two heights when computing area of a rectangle (with uneven vertical edges)\n",
        "            h = min(height[l], height[r])\n",
        "            res = max(res,  h * (r - l)) # as each l and r are updated, res is updated (until we hit a max)\n",
        "\n",
        "            l = l + (height[l] == h)\n",
        "            r = r - (height[r] == h)\n",
        "        return res\n",
        "\n",
        "# Key notes:\n",
        "\n",
        "# height[l] == h: This is a boolean expression that evaluates to True if the value at index l in the list height is equal to h, and False otherwise.\n",
        "# l + (height[l] == h): This expression adds the boolean value True (which is equivalent to the integer 1)\n",
        "# to the current value of l if the condition height[l] == h is True, and leaves l unchanged otherwise."
      ],
      "metadata": {
        "id": "ATS64vnxTPdq"
      },
      "execution_count": null,
      "outputs": []
    },
    {
      "cell_type": "markdown",
      "source": [
        "## Trapping Rain Water"
      ],
      "metadata": {
        "id": "6A0SI0dCxphN"
      }
    },
    {
      "cell_type": "code",
      "source": [
        "class Solution(object):\n",
        "    def trap(self, height):\n",
        "        \"\"\"\n",
        "        :type height: List[int]\n",
        "        :rtype: int\n",
        "        \"\"\"\n",
        "        if not height:\n",
        "            return 0\n",
        "\n",
        "        left, right = 0, len(height) - 1  # Initialize two pointers\n",
        "        left_max, right_max = height[left], height[right]  # Initialize max heights\n",
        "        water_trapped = 0\n",
        "\n",
        "        while left < right:\n",
        "            if height[left] < height[right]:\n",
        "                # Move left pointer\n",
        "                left += 1\n",
        "                left_max = max(left_max, height[left])  # Update max for left\n",
        "                water_trapped += left_max - height[left]  # Calculate water trapped\n",
        "            else:\n",
        "                # Move right pointer\n",
        "                right -= 1\n",
        "                right_max = max(right_max, height[right])  # Update max for right\n",
        "                water_trapped += right_max - height[right]  # Calculate water trapped\n",
        "\n",
        "        return water_trapped"
      ],
      "metadata": {
        "id": "cRfo4c8GxqYd"
      },
      "execution_count": null,
      "outputs": []
    },
    {
      "cell_type": "markdown",
      "source": [
        "## Winner of Tic Tac Toe Game"
      ],
      "metadata": {
        "id": "n8n1ZDyXPAkQ"
      }
    },
    {
      "cell_type": "code",
      "source": [
        "class Solution(object):\n",
        "    def tictactoe(self, moves):\n",
        "        \"\"\"\n",
        "        :type moves: List[List[int]]\n",
        "        :rtype: str\n",
        "        \"\"\"\n",
        "        # moves_i = [rowi, coli]\n",
        "\n",
        "        # if there are movements still to play return \"Pending\"\n",
        "        # if its a draw return \"Draw\"\n",
        "        # if theres a winner return the winner (\"A\" or \"B\")\n",
        "        # A plays X, B plays O\n",
        "\n",
        "        grid = [['' for _ in range(3)] for _ in range(3)]\n",
        "\n",
        "        for index, (x,y) in enumerate(moves):\n",
        "            grid[x][y] = 'A' if index % 2 == 0 else 'B'\n",
        "\n",
        "        for i in range(3):\n",
        "            # Check rows\n",
        "            if grid[i][0] == grid[i][1] == grid[i][2] != '':\n",
        "                return grid[i][0]\n",
        "            # Check columns\n",
        "            if grid[0][i] == grid[1][i] == grid[2][i] != '':\n",
        "                return grid[0][i]\n",
        "\n",
        "        # Check diagonals\n",
        "        if grid[0][0] == grid[1][1] == grid[2][2] != '':\n",
        "            return grid[0][0]\n",
        "        if grid[0][2] == grid[1][1] == grid[2][0] != '':\n",
        "            return grid[0][2]\n",
        "\n",
        "        # Check for draw or pending\n",
        "        if len(moves) == 9:\n",
        "            return \"Draw\"\n",
        "        else:\n",
        "            return \"Pending\""
      ],
      "metadata": {
        "id": "yU9_I2q4PD5A"
      },
      "execution_count": null,
      "outputs": []
    },
    {
      "cell_type": "markdown",
      "source": [
        "Time and Space complexity O(n^2) - iterate through 2x2 grid. Populate grid at worst case with 2 x 2 elements."
      ],
      "metadata": {
        "id": "rUZq4YHMPFtj"
      }
    },
    {
      "cell_type": "markdown",
      "source": [
        "## Valid State of Tic Tac Toe Game"
      ],
      "metadata": {
        "id": "Qm8zIpgvPPtq"
      }
    },
    {
      "cell_type": "code",
      "source": [
        "class Solution(object):\n",
        "    def validTicTacToe(self, board):\n",
        "        \"\"\"\n",
        "        :type board: List[str]\n",
        "        :rtype: bool\n",
        "        \"\"\"\n",
        "\n",
        "        # main conditions for valid tic tac toe board state:\n",
        "        # No. of 'X's must be >= number of 'O's (since X always goes first)\n",
        "        # neither X nor O can have won the game, unless X has exactly one more than O (in the case X won), or the number of X's and O's are equal (in the case O won)\n",
        "        def win(player):\n",
        "            \"\"\"Check if player has won.\"\"\"\n",
        "            for i in range(3):\n",
        "                # Check rows and columns\n",
        "                if all(board[i][j] == player for j in range(3)) or all(board[j][i] == player for j in range(3)):\n",
        "                    return True\n",
        "            # Check diagonals\n",
        "            return all(board[i][i] == player for i in range(3)) or all(board[i][2 - i] == player for i in range(3))\n",
        "\n",
        "        # Count 'X' and 'O'\n",
        "        x_count = sum(row.count('X') for row in board)\n",
        "        o_count = sum(row.count('O') for row in board)\n",
        "\n",
        "        # Check the count condition\n",
        "        if x_count not in {o_count, o_count + 1}:\n",
        "            return False\n",
        "\n",
        "        # Check win condition\n",
        "        if win('X') and x_count != o_count + 1:\n",
        "            return False\n",
        "        if win('O') and x_count != o_count:\n",
        "            return False\n",
        "\n",
        "        return True\n"
      ],
      "metadata": {
        "id": "k4q5giKYPPW_"
      },
      "execution_count": null,
      "outputs": []
    },
    {
      "cell_type": "markdown",
      "source": [
        "## Design Tic Tac Toe"
      ],
      "metadata": {
        "id": "VfGfuU9hXXbB"
      }
    },
    {
      "cell_type": "code",
      "source": [],
      "metadata": {
        "id": "u4pPkdGyXaLu"
      },
      "execution_count": null,
      "outputs": []
    },
    {
      "cell_type": "markdown",
      "source": [
        "## Design HashMap/Dictionary"
      ],
      "metadata": {
        "id": "HFFl_Ae9H534"
      }
    },
    {
      "cell_type": "code",
      "source": [
        "class MyHashMap(object):\n",
        "\n",
        "    def __init__(self):\n",
        "        self.hash = {}\n",
        "\n",
        "    def put(self, key, value):\n",
        "        \"\"\"\n",
        "        :type key: int\n",
        "        :type value: int\n",
        "        :rtype: None\n",
        "        \"\"\"\n",
        "        self.hash[key] = value\n",
        "\n",
        "\n",
        "    def get(self, key):\n",
        "        \"\"\"\n",
        "        :type key: int\n",
        "        :rtype: int\n",
        "        \"\"\"\n",
        "        # get method of a python dictionary retrieves the VALUE associated with the given key\n",
        "        return self.hash.get(key, -1) # returns -1 if key does not exist\n",
        "\n",
        "\n",
        "    def remove(self, key):\n",
        "        \"\"\"\n",
        "        :type key: int\n",
        "        :rtype: None\n",
        "        \"\"\"\n",
        "        self.hash.pop(key, None)\n",
        "\n",
        "\n",
        "# Your MyHashMap object will be instantiated and called as such:\n",
        "# obj = MyHashMap()\n",
        "# obj.put(key,value)\n",
        "# param_2 = obj.get(key)\n",
        "# obj.remove(key)"
      ],
      "metadata": {
        "id": "ab2hUurYH9LD"
      },
      "execution_count": null,
      "outputs": []
    },
    {
      "cell_type": "markdown",
      "source": [
        "# 2. Binary Search"
      ],
      "metadata": {
        "id": "yS6KrsprJK68"
      }
    },
    {
      "cell_type": "markdown",
      "source": [
        "## Binary Search"
      ],
      "metadata": {
        "id": "TeHtdH4JI2Mz"
      }
    },
    {
      "cell_type": "code",
      "source": [
        "class Solution(object):\n",
        "    def search(self, nums, target):\n",
        "        \"\"\"\n",
        "        :type nums: List[int]\n",
        "        :type target: int\n",
        "        :rtype: int\n",
        "        \"\"\"\n",
        "        l, r = 0, len(nums) - 1\n",
        "\n",
        "        while l <= r:\n",
        "            mid = (l+r)//2\n",
        "\n",
        "            if nums[mid] == target:\n",
        "                return mid\n",
        "\n",
        "            elif nums[mid] < target:\n",
        "                l = mid + 1\n",
        "\n",
        "            else:\n",
        "                r = mid - 1\n",
        "\n",
        "        return -1"
      ],
      "metadata": {
        "id": "laam_iQRI1fz"
      },
      "execution_count": null,
      "outputs": []
    },
    {
      "cell_type": "markdown",
      "source": [
        "**Time complexity: O (log n)**\n",
        "\n",
        "Binary Search Algorithm: The algorithm works by repeatedly dividing the search interval in half. If the value of the search key is less than the item in the middle of the interval, narrow the interval to the lower half. Otherwise, narrow it to the upper half. Repeatedly check until the value is found or the interval is empty.\n",
        "\n",
        "Time Complexity: The time complexity of binary search is O(log n). This is because with each comparison, it halves the number of elements to look through, which is a characteristic of logarithmic time complexity.\n",
        "\n",
        "**Space Complexity: O(1)**"
      ],
      "metadata": {
        "id": "Wn_5OedCa7GT"
      }
    },
    {
      "cell_type": "markdown",
      "source": [
        "## Search a 2D Matrix"
      ],
      "metadata": {
        "id": "aXl5Ab9YJAx1"
      }
    },
    {
      "cell_type": "code",
      "source": [
        "class Solution(object):\n",
        "    def searchMatrix(self, matrix, target):\n",
        "        \"\"\"\n",
        "        :type matrix: List[List[int]]\n",
        "        :type target: int\n",
        "        :rtype: bool\n",
        "        \"\"\"\n",
        "        # sort through array as if it is one giant list\n",
        "        # The array is objectively sorted throughout rows\n",
        "\n",
        "        for row in matrix:\n",
        "            l, r = 0, len(row) - 1\n",
        "\n",
        "            while l<=r:\n",
        "                m = (l+r)//2\n",
        "\n",
        "                if row[m] == target:\n",
        "                    return True\n",
        "\n",
        "                elif row[m] < target:\n",
        "                    l = m + 1\n",
        "\n",
        "                else:\n",
        "                    r = m - 1\n",
        "\n",
        "\n",
        "        return False\n"
      ],
      "metadata": {
        "id": "OvutOGlEJE_g"
      },
      "execution_count": null,
      "outputs": []
    },
    {
      "cell_type": "markdown",
      "source": [
        "**Constant space**\n",
        "\n",
        "**O(cols log rows) or O(m log n) time**"
      ],
      "metadata": {
        "id": "P4NCM9hodBRI"
      }
    },
    {
      "cell_type": "markdown",
      "source": [
        "## Kokos Eating Bananas"
      ],
      "metadata": {
        "id": "jOBzlEFzVTog"
      }
    },
    {
      "cell_type": "code",
      "source": [
        "import math\n",
        "class Solution(object):\n",
        "    def minEatingSpeed(self, piles, h):\n",
        "        \"\"\"\n",
        "        :type piles: List[int]\n",
        "        :type r: int\n",
        "        :rtype: int\n",
        "        \"\"\"\n",
        "        # n piles of bananas, n[i] = pile[i]\n",
        "        # i.e len(piles) = n\n",
        "\n",
        "        # kokos p/r speed = k, so she eats k from piles[i] each hour\n",
        "        # if piles[i] < k, she eats piles[i]\n",
        "        # guard come back in r hours. Return min k s.t. she finishes before guards get back\n",
        "\n",
        "        if len(piles) == h:\n",
        "            return max(piles)\n",
        "\n",
        "        l, r = 1, max(piles)\n",
        "\n",
        "        while l <= r:\n",
        "            m = (l + r) // 2\n",
        "\n",
        "            # math.ceil auto rounds up any decimals\n",
        "            # multiply by 1.0 to ensure its a floating point\n",
        "            if sum(math.ceil(1.0 * pile / m) for pile in piles) <= h:\n",
        "\n",
        "                r = m - 1\n",
        "\n",
        "            else:\n",
        "\n",
        "                l = m + 1\n",
        "\n",
        "        return l\n"
      ],
      "metadata": {
        "id": "U-ViNAiLVWGd"
      },
      "execution_count": null,
      "outputs": []
    },
    {
      "cell_type": "markdown",
      "source": [
        "O(log n) time complexity\n",
        "\n",
        "O(1) space complexity"
      ],
      "metadata": {
        "id": "bR1-YOQMeqaU"
      }
    },
    {
      "cell_type": "markdown",
      "source": [
        "## Minimum in Sorted Array"
      ],
      "metadata": {
        "id": "Sg30xZ2BbA9p"
      }
    },
    {
      "cell_type": "code",
      "source": [
        "class Solution(object):\n",
        "    def findMin(self, nums):\n",
        "        \"\"\"\n",
        "        :type nums: List[int]\n",
        "        :rtype: int\n",
        "        \"\"\"\n",
        "        # O(log n) time means we can't use a for loop\n",
        "        # For any rotation configuration, perform a standard binary search to find the min value\n",
        "        # For any input array, we want to revert it back to its original, sorted state\n",
        "        # max and min functions have O(n) so they cannot be used\n",
        "\n",
        "        # you cannot use for loops, let's try and modify the binary search to perform on\n",
        "        # an unsorted (but consecutive array)\n",
        "\n",
        "        low = 0\n",
        "        high = len(nums) - 1\n",
        "\n",
        "        # the target variable (minimum) can be found by sorting and then indexing with [0]?\n",
        "\n",
        "        while low < high:\n",
        "            mid = (low + high)//2\n",
        "\n",
        "            # check cases for nums mid + 1 and mid - 1 first\n",
        "            if nums[mid + 1] < nums[mid]:\n",
        "                return nums[mid + 1]\n",
        "\n",
        "            elif nums[mid - 1] > nums[mid]:\n",
        "                return nums[mid]\n",
        "\n",
        "            # normal binary search\n",
        "            elif nums[mid] < nums[high]:\n",
        "                high = mid - 1\n",
        "\n",
        "            # as per\n",
        "            else:\n",
        "                low = mid + 1\n",
        "\n",
        "        return nums[low]"
      ],
      "metadata": {
        "id": "NY3GoXT_JNAg"
      },
      "execution_count": null,
      "outputs": []
    },
    {
      "cell_type": "markdown",
      "source": [
        "Logarithmic time\n",
        "\n",
        "constant space"
      ],
      "metadata": {
        "id": "CxTFVG9Cez4a"
      }
    },
    {
      "cell_type": "code",
      "source": [
        "class Solution(object):\n",
        "    def findMin(self, nums):\n",
        "        \"\"\"\n",
        "        :type nums: List[int]\n",
        "        :rtype: int\n",
        "        \"\"\"\n",
        "        if len(nums) == 1:\n",
        "            return nums[0]\n",
        "\n",
        "        l, r = 0, len(nums) - 1\n",
        "\n",
        "        while l < r:\n",
        "            m = (l+r) // 2\n",
        "\n",
        "            if nums[m+1] < nums[m]:\n",
        "                return nums[m+1]\n",
        "\n",
        "            elif nums[m-1] > nums[m]:\n",
        "                return nums[m]\n",
        "\n",
        "            elif nums[m] > nums[r]:\n",
        "                l = m + 1\n",
        "\n",
        "            else:\n",
        "                r = m - 1\n",
        "\n",
        "        return nums[l]\n"
      ],
      "metadata": {
        "id": "EkpRNELdaVvc"
      },
      "execution_count": null,
      "outputs": []
    },
    {
      "cell_type": "markdown",
      "source": [
        "## Search in Rotated Sorted Array"
      ],
      "metadata": {
        "id": "4jgQz39bKDES"
      }
    },
    {
      "cell_type": "code",
      "source": [
        "# find target w/o sorting\n",
        "class Solution(object):\n",
        "    def search(self, nums, target):\n",
        "        \"\"\"\n",
        "        :type nums: List[int]\n",
        "        :type target: int\n",
        "        :rtype: int\n",
        "        \"\"\"\n",
        "        l, r = 0, len(nums) - 1\n",
        "\n",
        "        if target not in nums:\n",
        "            return -1\n",
        "\n",
        "        while l <= r:\n",
        "            m = (l+r) // 2\n",
        "\n",
        "            if nums[m] == target:\n",
        "                return m\n",
        "\n",
        "            # case when between mid and left (pivot & ordered)\n",
        "            if nums[m] >= nums[l]:\n",
        "                # ordered (MAKE SURE TO SHOW TARGET BETWEEN)\n",
        "                if nums[l] <= target < nums[m]:\n",
        "                    r = m - 1\n",
        "                else:\n",
        "                    l = m + 1\n",
        "\n",
        "            # case when between mid and right (pivot & ordered)\n",
        "            elif nums[m] <= nums[r]:\n",
        "                # ordered\n",
        "                if nums[r] >= target > nums[m]:\n",
        "                    l = m + 1\n",
        "                else:\n",
        "                    r = m - 1\n",
        "\n",
        "        return -1"
      ],
      "metadata": {
        "id": "KZ9ZVwVllpuD"
      },
      "execution_count": null,
      "outputs": []
    },
    {
      "cell_type": "code",
      "source": [
        "# Find pivot and sort\n",
        "class Solution(object):\n",
        "    def search(self, nums, target):\n",
        "        \"\"\"\n",
        "        :type nums: List[int]\n",
        "        :type target: int\n",
        "        :rtype: int\n",
        "        \"\"\"\n",
        "        lowp, highp = 0, len(nums) - 1\n",
        "\n",
        "        while lowp < highp:\n",
        "            midp = (lowp + highp) // 2\n",
        "\n",
        "            if target == nums[midp]:\n",
        "                return midp\n",
        "\n",
        "            # Find the pivot first\n",
        "            # pivot to the right\n",
        "            elif nums[highp] < nums[midp]:\n",
        "                lowp = midp + 1\n",
        "\n",
        "            else:\n",
        "                highp = midp\n",
        "\n",
        "\n",
        "        # lowp is the pivot, as it is the smallest value in the search\n",
        "        nums_sort = nums[lowp:] + nums[:lowp]\n",
        "\n",
        "        low, high = 0, len(nums_sort) - 1\n",
        "\n",
        "        while low <= high:\n",
        "            mid = (low + high) // 2\n",
        "\n",
        "            if target == nums_sort[mid]:\n",
        "                # this is the hard part\n",
        "                # add on the pivot index to the mid index, and then divide by length of array\n",
        "                # this will get you back to the original index\n",
        "                return (mid + lowp) % len(nums)\n",
        "\n",
        "            elif target > nums_sort[mid]:\n",
        "                low = mid + 1\n",
        "\n",
        "            else:\n",
        "                high = mid - 1\n",
        "\n",
        "        return - 1"
      ],
      "metadata": {
        "id": "EEBfHmYjKGWU"
      },
      "execution_count": null,
      "outputs": []
    },
    {
      "cell_type": "markdown",
      "source": [
        "O(log n) time complexity\n",
        "\n",
        "O(1) space complexity"
      ],
      "metadata": {
        "id": "m58nJuFwfFxG"
      }
    },
    {
      "cell_type": "markdown",
      "source": [
        "## Time Based Key Value Store"
      ],
      "metadata": {
        "id": "j3qd6oBiKMMV"
      }
    },
    {
      "cell_type": "code",
      "source": [
        "class TimeMap(object):\n",
        "\n",
        "    def __init__(self):\n",
        "        self.map = defaultdict(list)\n",
        "\n",
        "\n",
        "    def set(self, key, value, timestamp):\n",
        "        \"\"\"\n",
        "        :type key: str\n",
        "        :type value: str\n",
        "        :type timestamp: int\n",
        "        :rtype: None\n",
        "        \"\"\"\n",
        "        self.map[key].append((value, timestamp))\n",
        "\n",
        "\n",
        "    def get(self, key, timestamp):\n",
        "        \"\"\"\n",
        "        :type key: str\n",
        "        :type timestamp: int\n",
        "        :rtype: str\n",
        "        \"\"\"\n",
        "        if key not in self.map:\n",
        "            return \"\"\n",
        "\n",
        "        for val, time in reversed(self.map[key]):\n",
        "            if time <= timestamp:\n",
        "                return val\n",
        "\n",
        "        return \"\"\n",
        "\n",
        "\n",
        "\n",
        "# Your TimeMap object will be instantiated and called as such:\n",
        "# obj = TimeMap()\n",
        "# obj.set(key,value,timestamp)\n",
        "# param_2 = obj.get(key,timestamp)"
      ],
      "metadata": {
        "id": "uuE-vK5-KQxn"
      },
      "execution_count": null,
      "outputs": []
    },
    {
      "cell_type": "markdown",
      "source": [
        "**Time Complexity**\n",
        "\n",
        "**set Method:**\n",
        "\n",
        "* Adding an item to the list for a given key takes O(1) time.\n",
        "The overall time complexity of the set method is O(1).\n",
        "\n",
        "**get Method:**\n",
        "\n",
        "* The time complexity depends on the number of (value, timestamp) pairs associated with the given key.\n",
        "* In the worst case, you may need to iterate through all pairs for a key, which takes O(n) time, where n is the number of timestamped values for that key.\n",
        "\n",
        "\n",
        "**Space Complexity**\n",
        "\n",
        "* The space complexity of the TimeMap class depends on the number of keys and the total number of (value, timestamp) pairs stored.\n",
        "* If there are k keys and a total of n pairs, the space complexity is O(n), considering the storage of all timestamped values.\n",
        "\n",
        "\n",
        "**Notes**\n",
        "* The get method's efficiency could be improved by using binary search instead of linear search since the timestamps for each key are guaranteed to be in increasing order (as per the problem statement).\n",
        "* This would reduce the time complexity of the get method to O(log n) for a key with n timestamped values.\n",
        "* The space complexity remains the same regardless of whether linear search or binary search is used, as it is determined by the total amount of data stored, not by the search algorithm."
      ],
      "metadata": {
        "id": "klO0_xvCfP5T"
      }
    },
    {
      "cell_type": "markdown",
      "source": [
        "## Median of Two Sorted Arrays"
      ],
      "metadata": {
        "id": "jpx-Yh5aKRJ4"
      }
    },
    {
      "cell_type": "code",
      "source": [
        "class Solution(object):\n",
        "    def findMedianSortedArrays(self, nums1, nums2):\n",
        "        \"\"\"\n",
        "        :type nums1: List[int]\n",
        "        :type nums2: List[int]\n",
        "        :rtype: float\n",
        "        \"\"\"\n",
        "        # given two sorted arrays nums1 & nums2,\n",
        "        # return the median of the two arrays\n",
        "\n",
        "        nums = (nums1 + nums2)\n",
        "        nums.sort()\n",
        "        n = len(nums)\n",
        "\n",
        "        if n % 2 == 0:\n",
        "            return (nums[(n//2) - 1] + nums[(n//2)])/2.0\n",
        "\n",
        "        else:\n",
        "            return nums[n//2]\n"
      ],
      "metadata": {
        "id": "0cLMlIwlKUKJ"
      },
      "execution_count": null,
      "outputs": []
    },
    {
      "cell_type": "markdown",
      "source": [
        "**Time Complexity**\n",
        "* Merging Arrays: The operation nums1 + nums2 to merge the two arrays has a time complexity of O(m + n), where m and n are the lengths of nums1 and nums2, respectively.\n",
        "\n",
        "* Sorting the Merged Array: The .sort() method on the merged array nums has a time complexity of O((m + n) log(m + n)) since it sorts the entire merged array.\n",
        "\n",
        "* The sorting algorithm used in Python's .sort() method is Timsort, which has a time complexity of O(n log n) for sorting an array of n elements.\n",
        "\n",
        "Overall Time Complexity: Thus, the overall time complexity of your function is dominated by the sorting step, which is O((m + n) log(m + n)).\n",
        "\n",
        "**Space Complexity**\n",
        "* Space for Merged Array: The operation of merging arrays (nums1 + nums2) creates a new array, which requires O(m + n) additional space.\n",
        "\n",
        "* In-Place Sorting: Although the .sort() method sorts the array in place, the space required to store the merged array itself is O(m + n).\n",
        "\n",
        "Overall Space Complexity: Thus, the space complexity of your function is O(m + n).\n",
        "\n",
        "**Conclusion**\n",
        "\n",
        "Time Complexity: O((m + n) log(m + n)) due to sorting the merged array.\n",
        "\n",
        "Space Complexity: O(m + n) for storing the merged array."
      ],
      "metadata": {
        "id": "EFasKjrDgDKZ"
      }
    },
    {
      "cell_type": "code",
      "source": [
        "class Solution(object):\n",
        "    def findMedianSortedArrays(self, nums1, nums2):\n",
        "        \"\"\"\n",
        "        :type nums1: List[int]\n",
        "        :type nums2: List[int]\n",
        "        :rtype: float\n",
        "        \"\"\"\n",
        "        # Make sure nums1 is the smaller array to minimize the binary search range\n",
        "        if len(nums1) > len(nums2):\n",
        "            nums1, nums2 = nums2, nums1\n",
        "\n",
        "        m, n = len(nums1), len(nums2)\n",
        "        imin, imax, half_len = 0, m, (m + n + 1) // 2\n",
        "\n",
        "        while imin <= imax:\n",
        "            # Binary search on the smaller array\n",
        "            i = (imin + imax) // 2\n",
        "            j = half_len - i  # Calculate the corresponding index in the second array\n",
        "\n",
        "            # Check if i is too small, need to move to the right\n",
        "            if i < m and nums2[j - 1] > nums1[i]:\n",
        "                imin = i + 1\n",
        "\n",
        "            # Check if i is too big, need to move to the left\n",
        "            elif i > 0 and nums1[i - 1] > nums2[j]:\n",
        "                imax = i - 1\n",
        "\n",
        "            # i is perfect\n",
        "            else:\n",
        "                # Handle edge cases where partition is at the start or end of an array\n",
        "                if i == 0: max_of_left = nums2[j - 1]\n",
        "                elif j == 0: max_of_left = nums1[i - 1]\n",
        "                else: max_of_left = max(nums1[i - 1], nums2[j - 1])\n",
        "\n",
        "                # If the total length is odd, return the max of the left side\n",
        "                if (m + n) % 2 == 1:\n",
        "                    return max_of_left\n",
        "\n",
        "                # Compute min of right side for the even total length\n",
        "                if i == m: min_of_right = nums2[j]\n",
        "                elif j == n: min_of_right = nums1[i]\n",
        "                else: min_of_right = min(nums1[i], nums2[j])\n",
        "\n",
        "                # Return the average of max of left and min of right\n",
        "                return (max_of_left + min_of_right) / 2.0\n",
        "\n",
        "        return 0"
      ],
      "metadata": {
        "id": "dZsvf5Y5hJlw"
      },
      "execution_count": null,
      "outputs": []
    },
    {
      "cell_type": "markdown",
      "source": [
        "# Sorting"
      ],
      "metadata": {
        "id": "oPQNq_YMEsIH"
      }
    },
    {
      "cell_type": "markdown",
      "source": [
        "## Quick Sort"
      ],
      "metadata": {
        "id": "mdJSN3xjEvJ4"
      }
    },
    {
      "cell_type": "code",
      "source": [
        "class Solution(object):\n",
        "    def sortArray(self, nums):\n",
        "        \"\"\"\n",
        "        :type nums: List[int]\n",
        "        :rtype: List[int]\n",
        "        \"\"\"\n",
        "        # quick sort technique:\n",
        "        # partition array into left right and mid\n",
        "        # recursively sort left and right\n",
        "        # if array has length of <= 1 return the array\n",
        "        if len(nums) <= 1:\n",
        "            return nums\n",
        "\n",
        "        m = len(nums) // 2\n",
        "        pivot = nums[m]\n",
        "        left = [x for x in nums if x < pivot]\n",
        "        right = [x for x in nums if x > pivot]\n",
        "        mid = [x for x in nums if x == pivot]\n",
        "\n",
        "        return self.sortArray(left) + mid + self.sortArray(right)\n"
      ],
      "metadata": {
        "id": "rMqlTY5xE5s-"
      },
      "execution_count": null,
      "outputs": []
    },
    {
      "cell_type": "markdown",
      "source": [
        "O(log n) Space Complexity\n",
        "\n",
        "O (n log n) Time complexity"
      ],
      "metadata": {
        "id": "_ePIrsnnFDBE"
      }
    },
    {
      "cell_type": "markdown",
      "source": [
        "## Merge Sort"
      ],
      "metadata": {
        "id": "w3T3uy28ExKh"
      }
    },
    {
      "cell_type": "code",
      "source": [
        "class Solution(object):\n",
        "    def sortArray(self, nums):\n",
        "        \"\"\"\n",
        "        :type nums: List[int]\n",
        "        :rtype: List[int]\n",
        "        \"\"\"\n",
        "        # If the list is more than one element, we need to split and merge\n",
        "        if len(nums) > 1:\n",
        "            m = len(nums) // 2\n",
        "            left, right = nums[:m], nums[m:]\n",
        "            # Recursively split and sort the halves\n",
        "            self.sortArray(left)\n",
        "            self.sortArray(right)\n",
        "\n",
        "            i = j = k = 0  # Initialize pointers for left (i), right (j), and merged array (k)\n",
        "\n",
        "            # Merge the two halves by comparing elements and building up the sorted array\n",
        "            while i < len(left) and j < len(right):\n",
        "                # If left's element is smaller, put it in the merged array\n",
        "                if left[i] < right[j]:\n",
        "                    nums[k] = left[i]\n",
        "                    i += 1\n",
        "                else:\n",
        "                    # If right's element is smaller, put it in the merged array\n",
        "                    nums[k] = right[j]\n",
        "                    j += 1\n",
        "                k += 1  # Move to the next position in the merged array\n",
        "\n",
        "\n",
        "            # If the main merge loop exits, one of the sublists is exhausted.\n",
        "            # Since the sublists were sorted on the recursive calls, the remaining\n",
        "            # elements in either sublist are already sorted. We can simply append\n",
        "            # these elements to the merged array.\n",
        "            # If there are any remaining elements in the left half, add them to the merged array\n",
        "            while i < len(left):\n",
        "                nums[k] = left[i]\n",
        "                i += 1\n",
        "                k += 1\n",
        "\n",
        "            # If there are any remaining elements in the right half, add them to the merged array\n",
        "            while j < len(right):\n",
        "                nums[k] = right[j]\n",
        "                j += 1\n",
        "                k += 1\n",
        "\n",
        "        return nums  # Return the sorted array\n",
        "\n",
        "        # O(n) space as we use temporary arrays\n",
        "        # O(n log n) time in all cases\n"
      ],
      "metadata": {
        "id": "jWt0C7OfE6XF"
      },
      "execution_count": null,
      "outputs": []
    },
    {
      "cell_type": "markdown",
      "source": [
        "Space Complexity: O(n) due to using temporary arrays\n",
        "\n",
        "Time Complexity: O(n log n) in all cases"
      ],
      "metadata": {
        "id": "3lwb_GqB9Vje"
      }
    },
    {
      "cell_type": "markdown",
      "source": [
        "## Insertion Sort"
      ],
      "metadata": {
        "id": "3PPbZ54ZEzA7"
      }
    },
    {
      "cell_type": "code",
      "source": [
        "class Solution(object):\n",
        "    def sortArray(self, nums):\n",
        "        \"\"\"\n",
        "        :type nums: List[int]\n",
        "        :rtype: List[int]\n",
        "        \"\"\"\n",
        "        # insertion sort\n",
        "        # create gradually increasing left half\n",
        "\n",
        "        # start from 1 so the key is ahead of nums[j]\n",
        "        for i in range(1, len(nums)):\n",
        "            key = nums[i]\n",
        "            j = i - 1\n",
        "\n",
        "            # clause to insert key in correct position\n",
        "            while j >= 0 and key < nums[j]: # recall keys index is 1 ahead of j\n",
        "                nums[j + 1] = nums[j] # move nums[j] to the right\n",
        "                j -= 1\n",
        "\n",
        "            nums[j+1] = key\n",
        "\n",
        "        return nums # constant space, O(n^2) time, O(n) time if array is already sorted\n"
      ],
      "metadata": {
        "id": "iEThMti5E6wA"
      },
      "execution_count": null,
      "outputs": []
    },
    {
      "cell_type": "markdown",
      "source": [
        "Time Complexity O(n^2). (O(n) Space Complexity if array is already sorted)\n",
        "\n",
        "Space Complexity O(1) - no extra space used"
      ],
      "metadata": {
        "id": "BxmvTAmIJQOe"
      }
    },
    {
      "cell_type": "markdown",
      "source": [
        "## Bubble Sort"
      ],
      "metadata": {
        "id": "SLaD61Y6E1QO"
      }
    },
    {
      "cell_type": "code",
      "source": [],
      "metadata": {
        "id": "O4HSsQdUE7NV"
      },
      "execution_count": null,
      "outputs": []
    },
    {
      "cell_type": "markdown",
      "source": [
        "## Topological Sort"
      ],
      "metadata": {
        "id": "rOl2bACPE3R-"
      }
    },
    {
      "cell_type": "code",
      "source": [],
      "metadata": {
        "id": "mysUcVGYE7k2"
      },
      "execution_count": null,
      "outputs": []
    },
    {
      "cell_type": "markdown",
      "source": [
        "# 3. Sliding Window"
      ],
      "metadata": {
        "id": "QelJyo_q6RJK"
      }
    },
    {
      "cell_type": "markdown",
      "source": [
        "## Best Time to Buy and Sell Stock\n"
      ],
      "metadata": {
        "id": "WLSp26tx6Quk"
      }
    },
    {
      "cell_type": "code",
      "source": [
        "class Solution(object):\n",
        "    def maxProfit(self, prices):\n",
        "        \"\"\"\n",
        "        :type prices: List[int]\n",
        "        :rtype: int\n",
        "        \"\"\"\n",
        "        total_profit = 0\n",
        "        l, r = 0, 1\n",
        "\n",
        "        while r < len(prices):\n",
        "\n",
        "            # Check if the current price is less than the buying price\n",
        "            if prices[r] < prices[l]:\n",
        "                # Update the buying day to the current day if a lower price is found\n",
        "                l = r\n",
        "            else:\n",
        "                # profit: selling price - buying price\n",
        "                profit = prices[r] - prices[l]\n",
        "\n",
        "                total_profit = max(total_profit, profit)\n",
        "\n",
        "            # Move the selling day pointer to the next day\n",
        "            r += 1\n",
        "\n",
        "        return total_profit\n"
      ],
      "metadata": {
        "id": "t90Lze2o6wmz"
      },
      "execution_count": null,
      "outputs": []
    },
    {
      "cell_type": "markdown",
      "source": [
        "## Longest Substring Without Repeating Characters\n"
      ],
      "metadata": {
        "id": "g87oOnKz6xos"
      }
    },
    {
      "cell_type": "code",
      "source": [
        "class Solution(object):\n",
        "    def lengthOfLongestSubstring(self, s):\n",
        "        \"\"\"\n",
        "        :type s: str\n",
        "        :rtype: int\n",
        "        \"\"\"\n",
        "        # given string s, find length of longest substring w/o repeating characters\n",
        "        if len(s) == 0:\n",
        "            return 0\n",
        "\n",
        "        max_length = 0\n",
        "\n",
        "        l, r = 0, 0\n",
        "\n",
        "        seen = set()\n",
        "\n",
        "        while r < len(s):\n",
        "            while s[r] in seen:\n",
        "                seen.remove(s[l]) # remove when s[r] is in seen\n",
        "                l += 1\n",
        "\n",
        "            seen.add(s[r])\n",
        "            max_length = max(max_length, r - l + 1)\n",
        "\n",
        "            r += 1\n",
        "\n",
        "        return max_length"
      ],
      "metadata": {
        "id": "6sr_Mhxj-ZB6"
      },
      "execution_count": null,
      "outputs": []
    },
    {
      "cell_type": "markdown",
      "source": [
        "## Longest Repeating Character Replacement"
      ],
      "metadata": {
        "id": "2TRnt-pnBqU7"
      }
    },
    {
      "cell_type": "code",
      "source": [
        "class Solution(object):\n",
        "    def characterReplacement(self, s, k):\n",
        "        \"\"\"\n",
        "        :type s: str\n",
        "        :type k: int\n",
        "        :rtype: int\n",
        "        \"\"\"\n",
        "        max_length = 0\n",
        "        l, r = 0, 0\n",
        "        char_count = {}  # store chars per window\n",
        "        max_char_count = 0\n",
        "\n",
        "        while r < len(s):\n",
        "            char_count[s[r]] = char_count.get(s[r], 0) + 1\n",
        "            max_char_count = max(max_char_count, char_count[s[r]])\n",
        "\n",
        "            # If the window size minus the most frequent character count is greater than k,\n",
        "            # it means we need to shrink the window from the left.\n",
        "            if (r - l + 1) - max_char_count > k:\n",
        "                char_count[s[l]] -= 1\n",
        "                l += 1\n",
        "\n",
        "            # Update the maximum length for each valid window\n",
        "            max_length = max(max_length, r - l + 1)\n",
        "\n",
        "            # Move the right pointer to expand the window\n",
        "            r += 1\n",
        "\n",
        "        return max_length"
      ],
      "metadata": {
        "id": "hLjM9hwhBvHK"
      },
      "execution_count": null,
      "outputs": []
    },
    {
      "cell_type": "markdown",
      "source": [
        "## Permutation in String"
      ],
      "metadata": {
        "id": "LHy7WKMxBvlI"
      }
    },
    {
      "cell_type": "code",
      "source": [
        "class Solution(object):\n",
        "    def checkInclusion(self, s1, s2):\n",
        "        \"\"\"\n",
        "        :type s1: str\n",
        "        :type s2: str\n",
        "        :rtype: bool\n",
        "        \"\"\"\n",
        "        # two strings s1 and s2\n",
        "        # return true if s2 contains a permutation of s1, or false otherwise\n",
        "\n",
        "        l, r = 0, 0\n",
        "        while r < len(s2):\n",
        "            if r-l+1 == len(s1):\n",
        "                if sorted(s2[l:r+1]) == sorted(s1):\n",
        "                    return True\n",
        "                else:\n",
        "                    l+=1\n",
        "\n",
        "            r += 1\n",
        "        return False"
      ],
      "metadata": {
        "id": "vKQRTZShB_Zr"
      },
      "execution_count": null,
      "outputs": []
    },
    {
      "cell_type": "code",
      "source": [
        "class Solution(object):\n",
        "    def checkInclusion(self, s1, s2):\n",
        "        \"\"\"\n",
        "        :type s1: str\n",
        "        :type s2: str\n",
        "        :rtype: bool\n",
        "        \"\"\"\n",
        "        if len(s1) > len(s2):\n",
        "            return False\n",
        "\n",
        "        # Initialize frequency dictionaries\n",
        "        s1_freq = {}\n",
        "        window_freq = {}\n",
        "\n",
        "        # Frequency count for s1\n",
        "        for char in s1:\n",
        "            s1_freq[char] = s1_freq.get(char, 0) + 1\n",
        "\n",
        "        # Initialize the first window's frequency count\n",
        "        for i in range(len(s1)):\n",
        "            window_freq[s2[i]] = window_freq.get(s2[i], 0) + 1\n",
        "\n",
        "        # Compare the first window\n",
        "        if window_freq == s1_freq:\n",
        "            return True\n",
        "\n",
        "        # Slide the window over s2\n",
        "        for i in range(len(s1), len(s2)):\n",
        "            # Add the new character to the window\n",
        "            window_freq[s2[i]] = window_freq.get(s2[i], 0) + 1\n",
        "\n",
        "            # Remove the character going out of the window\n",
        "            window_freq[s2[i - len(s1)]] -= 1\n",
        "            if window_freq[s2[i - len(s1)]] == 0:\n",
        "                del window_freq[s2[i - len(s1)]]\n",
        "\n",
        "            # Compare the frequency counts\n",
        "            if window_freq == s1_freq:\n",
        "                return True\n",
        "\n",
        "        return False"
      ],
      "metadata": {
        "id": "Z3ESjtmkJnDb"
      },
      "execution_count": null,
      "outputs": []
    },
    {
      "cell_type": "markdown",
      "source": [
        "## Minimum Window Substring"
      ],
      "metadata": {
        "id": "Y5GV1fmdB8OY"
      }
    },
    {
      "cell_type": "code",
      "source": [
        "class Solution(object):\n",
        "    def minWindow(self, s, t):\n",
        "        \"\"\"\n",
        "        :type s: str\n",
        "        :type t: str\n",
        "        :rtype: str\n",
        "        \"\"\"\n",
        "        # given s and t of length m and n\n",
        "        # return min window substring of s s.t. every character in t is included in the window\n",
        "        # if there is no such window, return \"\"\n",
        "\n",
        "        # Create a counter for the characters in t and calculate the total number of missing characters\n",
        "        need, missing = collections.Counter(t), len(t)\n",
        "\n",
        "        # Initialize pointers for the sliding window and the result window\n",
        "        i = I = J = 0\n",
        "\n",
        "        # Enumerate over s with index j starting from 1\n",
        "        for j, c in enumerate(s, 1):\n",
        "            # Decrease missing count if the character is needed\n",
        "            missing -= need[c] > 0\n",
        "\n",
        "            # Decrease the count for the current character in the need dictionary\n",
        "            need[c] -= 1\n",
        "\n",
        "            # Once all characters are found\n",
        "            if not missing:\n",
        "                # Increase i to find the minimum window\n",
        "                while i < j and need[s[i]] < 0:\n",
        "                    need[s[i]] += 1\n",
        "                    i += 1\n",
        "\n",
        "                # Update the result window if the current window is smaller\n",
        "                if not J or j - i <= J - I:\n",
        "                    I, J = i, j\n",
        "\n",
        "        # Return the substring that forms the minimum window\n",
        "        return s[I:J]\n"
      ],
      "metadata": {
        "id": "N7U0oOAGCAW3"
      },
      "execution_count": null,
      "outputs": []
    },
    {
      "cell_type": "markdown",
      "source": [
        "## Sliding Window Maximum"
      ],
      "metadata": {
        "id": "fF3TXiESCBRr"
      }
    },
    {
      "cell_type": "code",
      "source": [
        "# Double ended queue - deque approach\n",
        "\n",
        "class Solution(object):\n",
        "    def maxSlidingWindow(self, nums, k):\n",
        "        \"\"\"\n",
        "        :type nums: List[int]\n",
        "        :type k: int\n",
        "        :rtype: List[int]\n",
        "        \"\"\"\n",
        "        # Check for edge cases\n",
        "        if not nums or k == 0:\n",
        "            return []\n",
        "\n",
        "        if k == 1:\n",
        "            return nums\n",
        "\n",
        "        # Initialize deque and result list\n",
        "        deq = deque()\n",
        "        result = []\n",
        "\n",
        "        for i in range(len(nums)):\n",
        "            # Remove elements outside the current window\n",
        "            while deq and deq[0] < i - k + 1:\n",
        "                deq.popleft()\n",
        "\n",
        "            # Remove smaller elements as they are not useful\n",
        "            while deq and nums[i] > nums[deq[-1]]:\n",
        "                deq.pop()\n",
        "\n",
        "            # Add the current element's index\n",
        "            deq.append(i)\n",
        "\n",
        "            # The first element of deque is the largest element of the window\n",
        "            if i >= k - 1:\n",
        "                result.append(nums[deq[0]])\n",
        "\n",
        "        return result"
      ],
      "metadata": {
        "id": "6abgjaO6qNmw"
      },
      "execution_count": null,
      "outputs": []
    },
    {
      "cell_type": "code",
      "source": [
        "# Time limit exceeded O(nk) complexity\n",
        "class Solution(object):\n",
        "    def maxSlidingWindow(self, nums, k):\n",
        "        \"\"\"\n",
        "        :type nums: List[int]\n",
        "        :type k: int\n",
        "        :rtype: List[int]\n",
        "        \"\"\"\n",
        "        # sliding window of size k, moving from l -> r of nums\n",
        "        # you can only see the k numbers in the window\n",
        "        # each time, sliding window moves right by one position (l+1, r+1)\n",
        "\n",
        "        # intialize first window for length k\n",
        "        l, r = 0, k-1\n",
        "\n",
        "        res = []\n",
        "        # min/max of a heap is O(1) as opposed to O(n) min/max of a list\n",
        "        while r < len(nums):\n",
        "            max_win = max(nums[l:r+1])\n",
        "\n",
        "            res.append(max_win)\n",
        "\n",
        "            r += 1\n",
        "            l += 1\n",
        "\n",
        "        return res"
      ],
      "metadata": {
        "id": "9ToITFBZCDnp"
      },
      "execution_count": null,
      "outputs": []
    },
    {
      "cell_type": "markdown",
      "source": [
        "# 4. Stacks"
      ],
      "metadata": {
        "id": "HSZJBFc7bIZB"
      }
    },
    {
      "cell_type": "markdown",
      "source": [
        "## Valid Parentheses"
      ],
      "metadata": {
        "id": "y0lhRnZZytvo"
      }
    },
    {
      "cell_type": "code",
      "source": [
        "class Solution(object):\n",
        "    def isValid(self, s):\n",
        "        \"\"\"\n",
        "        :type s: str\n",
        "        :rtype: bool\n",
        "        \"\"\"\n",
        "        stack = []\n",
        "        mapping = {\n",
        "\n",
        "        ')':'(',\n",
        "        '}':'{',\n",
        "        ']':'['\n",
        "\n",
        "        }\n",
        "\n",
        "        for char in s:\n",
        "            if char in mapping.values(): # mapping.values is the open of the brackets\n",
        "                stack.append(char) # append opening brackets first\n",
        "\n",
        "            elif char in mapping.keys():\n",
        "                # check if stack is empty or check closing brackets against opening brackets in the stack\n",
        "                if stack == [] or mapping[char] != stack.pop():\n",
        "                    return False\n",
        "\n",
        "            # if the character is neither an opening or a closing bracket\n",
        "            else:\n",
        "                return False\n",
        "\n",
        "        return stack == [] # by the end the stack should be empty if its valid\n"
      ],
      "metadata": {
        "id": "JiicRgNXytQU"
      },
      "execution_count": null,
      "outputs": []
    },
    {
      "cell_type": "markdown",
      "source": [
        "## Min Stack"
      ],
      "metadata": {
        "id": "1ES7zAoX4LVu"
      }
    },
    {
      "cell_type": "code",
      "source": [
        "class MinStack(object):\n",
        "    # design a stack that supports push, pop, top, and retrieving min in O(1) time\n",
        "    # push - pushes element val onto stack\n",
        "    # pop - removes topmost element on top of stack\n",
        "    # top - gets topmost element (not remove)\n",
        "    # min - gets min element in stack (needs O(1) time)\n",
        "\n",
        "    def __init__(self):\n",
        "        self.stack = []\n",
        "        self.min_stack = []\n",
        "\n",
        "\n",
        "    def push(self, val):\n",
        "        \"\"\"\n",
        "        :type val: int\n",
        "        :rtype: None\n",
        "        \"\"\"\n",
        "        self.stack.append(val)\n",
        "        # If the self.min_stack is empty (this is the first push operation), the minimum value is the value being pushed.\n",
        "\n",
        "# Otherwise, the minimum value is either the last known minimum (which we have saved at the top of self.min_stack stack) or the new value being pushed, whichever is smaller.\n",
        "        self.min_stack.append(val if not self.min_stack else min(val, self.min_stack[-1]))\n",
        "\n",
        "    def pop(self):\n",
        "        \"\"\"\n",
        "        :rtype: None\n",
        "        \"\"\"\n",
        "        self.stack.pop()\n",
        "        self.min_stack.pop()\n",
        "\n",
        "\n",
        "    def top(self):\n",
        "        \"\"\"\n",
        "        :rtype: int\n",
        "        \"\"\"\n",
        "        return self.stack[-1]\n",
        "\n",
        "\n",
        "    def getMin(self):\n",
        "        \"\"\"\n",
        "        :rtype: int\n",
        "        \"\"\"\n",
        "        # get minimum in O(1) time\n",
        "        return self.min_stack[-1]\n",
        "\n",
        "\n",
        "\n",
        "# Your MinStack object will be instantiated and called as such:\n",
        "# obj = MinStack()\n",
        "# obj.push(val)\n",
        "# obj.pop()\n",
        "# param_3 = obj.top()\n",
        "# param_4 = obj.getMin()"
      ],
      "metadata": {
        "id": "MjVuo5a04NAc"
      },
      "execution_count": null,
      "outputs": []
    },
    {
      "cell_type": "code",
      "source": [
        "# alternate push and pop functions\n",
        "class MinStack(object):\n",
        "    # design a stack that supports push, pop, top, and retrieving min in O(1) time\n",
        "    # push - pushes element val onto stack\n",
        "    # pop - removes topmost element on top of stack\n",
        "    # top - gets topmost element (not remove)\n",
        "    # min - gets min element in stack (needs O(1) time)\n",
        "\n",
        "    def __init__(self):\n",
        "        self.stack = []\n",
        "        self.min_stack = []\n",
        "\n",
        "\n",
        "    def push(self, val):\n",
        "        \"\"\"\n",
        "        :type val: int\n",
        "        :rtype: None\n",
        "        \"\"\"\n",
        "        self.stack.append(val)\n",
        "\n",
        "        if not self.min_stack or val <= self.min_stack[-1]:\n",
        "            self.min_stack.append(val)\n",
        "\n",
        "\n",
        "\n",
        "    def pop(self):\n",
        "        \"\"\"\n",
        "        :rtype: None\n",
        "        \"\"\"\n",
        "\n",
        "        # the min changes in this case, so we have to pop the min from min_stack aswell\n",
        "        if self.stack[-1] == self.min_stack[-1]:\n",
        "            self.min_stack.pop()\n",
        "\n",
        "        self.stack.pop()\n",
        "\n",
        "\n",
        "    def top(self):\n",
        "        \"\"\"\n",
        "        :rtype: int\n",
        "        \"\"\"\n",
        "        return self.stack[-1]\n",
        "\n",
        "\n",
        "    def getMin(self):\n",
        "        \"\"\"\n",
        "        :rtype: int\n",
        "        \"\"\"\n",
        "        # get minimum in O(1) time\n",
        "        return self.min_stack[-1]\n",
        "\n",
        "\n",
        "\n",
        "# Your MinStack object will be instantiated and called as such:\n",
        "# obj = MinStack()\n",
        "# obj.push(val)\n",
        "# obj.pop()\n",
        "# param_3 = obj.top()\n",
        "# param_4 = obj.getMin()"
      ],
      "metadata": {
        "id": "nStIN5tB_Whl"
      },
      "execution_count": null,
      "outputs": []
    },
    {
      "cell_type": "markdown",
      "source": [
        "## Evaluate Reverse Polish Notation"
      ],
      "metadata": {
        "id": "xb4Glw7l4NoC"
      }
    },
    {
      "cell_type": "code",
      "source": [
        "class Solution(object):\n",
        "    def evalRPN(self, tokens):\n",
        "        \"\"\"\n",
        "        :type tokens: List[str]\n",
        "        :rtype: int\n",
        "        \"\"\"\n",
        "        # array of strings, tokens that represents arithmetic eq in Reverse Polish Notation:\n",
        "        # e.g. [\"2\", \"1\", \"+\"] = 2 + 1\n",
        "\n",
        "        # return an integer which represents the value of the expression\n",
        "        operators = ['+', '-', '*', '/']\n",
        "        stack = []\n",
        "\n",
        "        for val in tokens:\n",
        "            if val not in operators:\n",
        "                stack.append(int(val))\n",
        "\n",
        "            else:\n",
        "                l, r = stack.pop(), stack.pop() # two most recent integers in the stack\n",
        "                if val == '+':\n",
        "                    stack.append(r + l)\n",
        "\n",
        "                elif val == '-':\n",
        "                    stack.append(r - l)\n",
        "\n",
        "                elif val == '*':\n",
        "                    stack.append(r * l)\n",
        "\n",
        "                elif val == '/':\n",
        "                    # division by zero truncated\n",
        "                    stack.append(int(float(r)/l))\n",
        "\n",
        "        # return the only element/answer left in the stack\n",
        "        return stack.pop()"
      ],
      "metadata": {
        "id": "2SHbErdG4RAh"
      },
      "execution_count": null,
      "outputs": []
    },
    {
      "cell_type": "markdown",
      "source": [
        "## Generate Parentheses"
      ],
      "metadata": {
        "id": "YLU1CwWC4SK8"
      }
    },
    {
      "cell_type": "code",
      "source": [
        "class Solution(object):\n",
        "    def generateParenthesis(self, n):\n",
        "        \"\"\"\n",
        "        :type n: int\n",
        "        :rtype: List[str]\n",
        "        \"\"\"\n",
        "        # given n pairs of parentheses, write a function to generate all combinations of well-formed parentheses\n",
        "\n",
        "        # backtracking approach\n",
        "\n",
        "        result = []\n",
        "\n",
        "        def backtrack(s = '', left = 0, right = 0):\n",
        "            # if current permutation is complete\n",
        "            if len(s) == n * 2:\n",
        "                result.append(s)\n",
        "                return\n",
        "\n",
        "             # If the number of opening brackets is less than n, add an opening bracket\n",
        "            if left < n:\n",
        "                backtrack(s+'(', left+1, right)\n",
        "\n",
        "            # If the number of closing brackets is less than opening brackets, add a closing bracket\n",
        "            if right < left:\n",
        "                backtrack(s+')', left, right+1)\n",
        "\n",
        "        # Initialize the backtracking process\n",
        "        backtrack()\n",
        "        return result"
      ],
      "metadata": {
        "id": "0Tk0EFrw4Ur9"
      },
      "execution_count": null,
      "outputs": []
    },
    {
      "cell_type": "markdown",
      "source": [
        "## Daily Temperatures"
      ],
      "metadata": {
        "id": "XZ8S6CEz4VP_"
      }
    },
    {
      "cell_type": "code",
      "source": [
        "class Solution(object):\n",
        "    def dailyTemperatures(self, temperatures):\n",
        "        \"\"\"\n",
        "        :type temperatures: List[int]\n",
        "        :rtype: List[int]\n",
        "        \"\"\"\n",
        "        # array of integers temperatures represents the daily temperatures\n",
        "        # return array answer such that answer[i] = number of days after the ith day to get a warmer temp\n",
        "        # if there is no such day, keep answer[i] == 0\n",
        "        answer = [0]*len(temperatures)\n",
        "        stack = [] # to store the indices of the temperatures\n",
        "        for i in range(len(temperatures)):\n",
        "            while stack and temperatures[i] > temperatures[stack[-1]]:\n",
        "# a) Whether the stack is empty.\n",
        "# b) Whether the current temperature (temperatures[i]) is greater than the temperature of the last index in the stack (temperatures[stack[-1]]).\n",
        "\n",
        "# If both conditions are true, it means we've found a warmer temperature for the day indexed by stack[-1].\n",
        "                current = stack.pop()# Pop the index of the colder day from the stack (current).\n",
        "                answer[current] = i - current\n",
        "                # Calculate how many days we had to wait by subtracting the colder day's index from the current day's index (i - current).\n",
        "                # This value is then stored in the answer list at the position current.\n",
        "            stack.append(i)\n",
        "        return answer\n"
      ],
      "metadata": {
        "id": "qG1Sa6cJ4Xu4"
      },
      "execution_count": null,
      "outputs": []
    },
    {
      "cell_type": "markdown",
      "source": [
        "## Car Fleet"
      ],
      "metadata": {
        "id": "CdNcZLWkbNSS"
      }
    },
    {
      "cell_type": "code",
      "source": [
        "class Solution(object):\n",
        "    def carFleet(self, target, position, speed):\n",
        "        \"\"\"\n",
        "        :type target: int\n",
        "        :type position: List[int]\n",
        "        :type speed: List[int]\n",
        "        :rtype: int\n",
        "        \"\"\"\n",
        "        # n cars along a 1 lane road, going to the same destination (LIFO)\n",
        "        # destination = target miles away\n",
        "        # we are given two arrays, position and speed (both of lengh n)\n",
        "            # position[i] == position of ith car\n",
        "            # speed[i] == speed of ith car\n",
        "\n",
        "        # a car can catchup to another car, and then slow down to match the slower car's speed\n",
        "        # it cannot overtake a car in front\n",
        "\n",
        "        # a car fleet is a set of cars driving at the same position and same speed\n",
        "\n",
        "        time = [float(target - p) / s for p, s in sorted(zip(position, speed))] # zip and sort to align the position and speed values\n",
        "        result = current = 0\n",
        "        # iterate from the back so we can check if a car will join an existing fleet or form a new one\n",
        "        for t in time[::-1]:\n",
        "            if t > current:\n",
        "                # if t is > than the one in front, then it cannot catch up, so we add 1 more to result (the fleet count)\n",
        "                result += 1\n",
        "                current = t # now update current\n",
        "        # by counting every time a car cannot catch up to the one in front of it, we get the total fleet count\n",
        "        return result\n",
        "\n"
      ],
      "metadata": {
        "id": "XzfS1ApMbLra"
      },
      "execution_count": null,
      "outputs": []
    },
    {
      "cell_type": "markdown",
      "source": [
        "# 5. Linked Lists\n",
        "\n",
        "Given a string s, find the length of the longest\n",
        "substring\n",
        " without repeating characters."
      ],
      "metadata": {
        "id": "iGkNyPSn6ISa"
      }
    },
    {
      "cell_type": "markdown",
      "source": [
        "## Reverse Linked List\n",
        "Given the head of a singly linked list, reverse the list, and return the reversed list."
      ],
      "metadata": {
        "id": "p4t43hsZOkA6"
      }
    },
    {
      "cell_type": "code",
      "source": [
        "# Definition for singly-linked list.\n",
        "# class ListNode(object):\n",
        "#     def __init__(self, val=0, next=None):\n",
        "#         self.val = val\n",
        "#         self.next = next\n",
        "class Solution(object):\n",
        "    def reverseList(self, head):\n",
        "        \"\"\"\n",
        "        :type head: ListNode\n",
        "        :rtype: ListNode\n",
        "        \"\"\"\n",
        "        # Initialize three pointers previous, current, and next.\n",
        "        previous = None\n",
        "        current = head\n",
        "        while current: # iterate over linked list until current = None (the end of the list)\n",
        "            next_node = current.next  # Store the next node.\n",
        "            current.next = previous   # Reverse the link.\n",
        "            previous = current        # Move previous to the current node.\n",
        "            current = next_node       # Move to the next node.\n",
        "        return previous  # previous is the new head of the reversed list\n",
        "\n",
        "# For each iteration, temporarily store the next node (next_node).\n",
        "# Reverse the link of the current node by pointing current.next to previous.\n",
        "# Move previous one step forward (to the current node).\n",
        "# Move current one step forward (to next_node, the original next node).\n",
        "# At the end of the loop, previous will be pointing to the new head of the reversed list, which you return."
      ],
      "metadata": {
        "id": "JGnZUHQSOnzm"
      },
      "execution_count": null,
      "outputs": []
    },
    {
      "cell_type": "code",
      "source": [
        "# Definition for singly-linked list.\n",
        "# class ListNode(object):\n",
        "#     def __init__(self, val=0, next=None):\n",
        "#         self.val = val\n",
        "#         self.next = next\n",
        "class Solution(object):\n",
        "    def reverseList(self, head):\n",
        "        \"\"\"\n",
        "        :type head: ListNode\n",
        "        :rtype: ListNode\n",
        "        \"\"\"\n",
        "        previous, current = None, head\n",
        "\n",
        "        # Store the next node before you update current.next or the line 'current= current.next' won't work\n",
        "        while current:\n",
        "            next_node = current.next\n",
        "            current.next = previous\n",
        "            previous = current\n",
        "            current = next_node\n",
        "\n",
        "        return previous"
      ],
      "metadata": {
        "id": "BHzCH7Oy85d3"
      },
      "execution_count": null,
      "outputs": []
    },
    {
      "cell_type": "markdown",
      "source": [
        "## Merge Two Sorted Lists\n",
        "\n",
        "You are given the heads of two sorted linked lists list1 and list2.\n",
        "\n",
        "Merge the two lists in a one sorted list. The list should be made by splicing together the nodes of the first two lists.\n",
        "\n",
        "Return the head of the merged linked list."
      ],
      "metadata": {
        "id": "aBypWtLuOo9m"
      }
    },
    {
      "cell_type": "code",
      "source": [
        "# Definition for singly-linked list.\n",
        "# class ListNode(object):\n",
        "#     def __init__(self, val=0, next=None):\n",
        "#         self.val = val\n",
        "#         self.next = next\n",
        "class Solution(object):\n",
        "    def mergeTwoLists(self, list1, list2):\n",
        "        \"\"\"\n",
        "        :type list1: Optional[ListNode]\n",
        "        :type list2: Optional[ListNode]\n",
        "        :rtype: Optional[ListNode]\n",
        "        \"\"\"\n",
        "        # list1 and list2 are sorted and should be merged into 1 sorted list\n",
        "        # list should be made by splicing together the nodes of the first two lists\n",
        "\n",
        "        # Create a dummy node, which helps in simplifying the merge logic\n",
        "        dummy = ListNode(-1) # setting val to -1. Arbitrary\n",
        "        # This tail node will keep track of the end of the merged list\n",
        "        tail = dummy\n",
        "        current1, current2 = list1, list2\n",
        "        # use and or the while loop will break if either of them is None\n",
        "\n",
        "        while current1 is not None and current2 is not None:\n",
        "            if current1.val < current2.val:\n",
        "                tail.next = current1 # add current1 to the list\n",
        "                current1 = current1.next # move the current1 to the next place\n",
        "\n",
        "            # elif current1.val >= current2.val:\n",
        "            else:\n",
        "                tail.next = current2\n",
        "                current2 = current2.next\n",
        "\n",
        "            tail = tail.next # move the tail along with the movements of current1 and current2\n",
        "\n",
        "        # None checks should be outside of the while loop\n",
        "        if current1 is None:\n",
        "            tail.next = current2\n",
        "        elif current2 is None:\n",
        "            tail.next = current1\n",
        "\n",
        "        return dummy.next # the initial dummy (ListNode(-1)) is arbitrary so we return the next value\n"
      ],
      "metadata": {
        "id": "Ob-oEbeFxqZm"
      },
      "execution_count": null,
      "outputs": []
    },
    {
      "cell_type": "markdown",
      "source": [
        "## Reorder List"
      ],
      "metadata": {
        "id": "TN5coW1ljv9C"
      }
    },
    {
      "cell_type": "code",
      "source": [
        "# Definition for singly-linked list.\n",
        "# class ListNode(object):\n",
        "#     def __init__(self, val=0, next=None):\n",
        "#         self.val = val\n",
        "#         self.next = next\n",
        "class Solution(object):\n",
        "    def reorderList(self, head):\n",
        "        \"\"\"\n",
        "        :type head: ListNode\n",
        "        :rtype: None Do not return anything, modify head in-place instead.\n",
        "        \"\"\"\n",
        "        # you are given the head of a singly linked-list\n",
        "        # list can be represented as L0 -> L1 -> ... -> Ln-1 -> Ln\n",
        "        # output: reorder to L0 -> Ln -> L1 -> Ln-1 -> L2 -> Ln-2\n",
        "\n",
        "        # reverseList function\n",
        "        def reverseList(head):\n",
        "            # reverse the list first, and then combine them by aligning them\n",
        "            current, previous = head, None\n",
        "            while current:\n",
        "                next_node = current.next\n",
        "                current.next = previous\n",
        "                previous = current\n",
        "                current = next_node\n",
        "            return previous\n",
        "\n",
        "        dummy = ListNode(-1) # create dummy\n",
        "        tail = dummy\n",
        "        # Find the midpoint of head, and then reverse the 2nd half, so that you get the\n",
        "        # first and second halves aligned but without having too many nodes\n",
        "        slow = fast = head\n",
        "        while fast and fast.next: # basically saying while fast and fast.next exist (are not none)\n",
        "            slow = slow.next\n",
        "            fast = fast.next.next # update fast and slow as they go\n",
        "\n",
        "        # the list will automatically stop when fast or fast.next = None\n",
        "        # As a result, the second half of the list starts at slow.next\n",
        "        # because slow is the MIDPOINT\n",
        "        head2 = reverseList(slow.next)\n",
        "        slow.next = None # break the list into two halves\n",
        "\n",
        "        # create two currents\n",
        "        current1, current2 = head, head2\n",
        "\n",
        "        while current1 and current2:\n",
        "            # only the indexing/node of the linked list matters... .val calls are unneeded\n",
        "            tail.next = current1\n",
        "            tail = current1 # reassign\n",
        "            current1 = current1.next # advance current1\n",
        "\n",
        "            tail.next = current2\n",
        "            tail = current2\n",
        "            current2 = current2.next\n",
        "\n",
        "        if current1:\n",
        "            tail.next = current1\n",
        "        elif current2:\n",
        "            tail.next = current2\n",
        "\n",
        "        return dummy.next # return the new list\n"
      ],
      "metadata": {
        "id": "Fx5BsKz-jtgj"
      },
      "execution_count": null,
      "outputs": []
    },
    {
      "cell_type": "markdown",
      "source": [
        "**Time Complexity**:\n",
        "\n",
        "* Finding the Middle of the List: The fast and slow pointer approach to find the middle of the list takes O(L/2), which simplifies to O(L), where L is the length of the list.\n",
        "\n",
        "* Reversing the Second Half of the List: Reversing a list of length L/2 takes O(L/2) time, which also simplifies to O(L).\n",
        "\n",
        "* Merging the Two Lists: The while loop for merging the two lists runs once for each element of the shorter list (half the length of the original list). So, this loop runs in O(L/2) time, which simplifies to O(L).\n",
        "\n",
        "Putting it all together, the overall time complexity is O(L) + O(L) + O(L), which simplifies to O(L).\n",
        "\n",
        "**Space Complexity**:\n",
        "\n",
        "* Auxiliary Space: The auxiliary space used in your function is constant, as you only use a fixed number of pointers and variables (current, previous, next_node, slow, fast, head2, dummy, tail, current1, and current2). No additional data structures that scale with the size of the input are used.\n",
        "\n",
        "* In-place Modifications: Since you are modifying the linked list in place and not using any additional data structures that depend on the size of the input, the space complexity is O(1)."
      ],
      "metadata": {
        "id": "S93Uhz2xIzce"
      }
    },
    {
      "cell_type": "markdown",
      "source": [
        "## Remove Nth Node From End of List"
      ],
      "metadata": {
        "id": "c8DOwv8pt6w2"
      }
    },
    {
      "cell_type": "code",
      "source": [
        "# Exemplary solution\n",
        "class Solution(object):\n",
        "    def removeNthFromEnd(self, head, n):\n",
        "        \"\"\"\n",
        "        :type head: ListNode\n",
        "        :type n: int\n",
        "        :rtype: ListNode\n",
        "        \"\"\"\n",
        "        # First, count the total number of nodes\n",
        "        current = head\n",
        "        Totalcount = 0\n",
        "        while current:\n",
        "            Totalcount += 1\n",
        "            current = current.next\n",
        "\n",
        "        # If we need to remove the first node (n-th from the end is the head)\n",
        "        if Totalcount == n:\n",
        "            return head.next\n",
        "\n",
        "        # Reset current to the beginning of the list\n",
        "        current = head\n",
        "\n",
        "        # Iterate to the node just before the one we want to remove\n",
        "        # the underscore in the for loop is to show that we do not need or will use the variable that would go there (e.g. i or j)\n",
        "        # we are only interested in repeating the loop 'Totalcount - n - 1' times.\n",
        "        for _ in range(Totalcount - n - 1):\n",
        "            current = current.next\n",
        "\n",
        "        # Skip the node to be removed\n",
        "        current.next = current.next.next if current.next else None\n",
        "\n",
        "        return head"
      ],
      "metadata": {
        "id": "mwKg_tI1t_Dm"
      },
      "execution_count": null,
      "outputs": []
    },
    {
      "cell_type": "code",
      "source": [
        "# Definition for singly-linked list.\n",
        "# class ListNode(object):\n",
        "#     def __init__(self, val=0, next=None):\n",
        "#         self.val = val\n",
        "#         self.next = next\n",
        "class Solution(object):\n",
        "    def removeNthFromEnd(self, head, n):\n",
        "        \"\"\"\n",
        "        :type head: ListNode\n",
        "        :type n: int\n",
        "        :rtype: ListNode\n",
        "        \"\"\"\n",
        "\n",
        "        if n == None:\n",
        "            return head\n",
        "\n",
        "        current = head\n",
        "        count = 0\n",
        "\n",
        "        while current:\n",
        "            count+=1\n",
        "            current = current.next\n",
        "\n",
        "        current =  head\n",
        "\n",
        "        for _ in range(count - n - 1):\n",
        "            current = current.next\n",
        "\n",
        "        if count == n:\n",
        "            return head.next # remember this\n",
        "\n",
        "        current.next = current.next.next if current.next else None\n",
        "\n",
        "        return head\n"
      ],
      "metadata": {
        "id": "Biwnpoo_uDtt"
      },
      "execution_count": null,
      "outputs": []
    },
    {
      "cell_type": "markdown",
      "source": [
        "## Add Two Numbers"
      ],
      "metadata": {
        "id": "c1yb6_7L9ohK"
      }
    },
    {
      "cell_type": "code",
      "source": [
        "class Solution(object):\n",
        "    def addTwoNumbers(self, l1, l2):\n",
        "        dummy = ListNode(0)\n",
        "        tail = dummy\n",
        "        current1, current2 = l1, l2\n",
        "        carry = 0 # the amount to carry over\n",
        "\n",
        "        while current1 or current2 or carry: # if current1 or current2 is none, iteration will continue because carry exists\n",
        "            val1 = current1.val if current1 else 0\n",
        "            val2 = current2.val if current2 else 0\n",
        "            total = val1 + val2 + carry\n",
        "\n",
        "            carry = total // 10 # floor division: if total = 15 (7 + 8), then carry = 15//10 which equals 1 by floor division\n",
        "            tail.next = ListNode(total % 10) # % = modulo. We get the remainder after division\n",
        "            # this is done after carry has been updated\n",
        "            tail = tail.next\n",
        "\n",
        "            if current1: current1 = current1.next\n",
        "            if current2: current2 = current2.next\n",
        "\n",
        "        return dummy.next"
      ],
      "metadata": {
        "id": "q4LR7_9T9rIv"
      },
      "execution_count": null,
      "outputs": []
    },
    {
      "cell_type": "markdown",
      "source": [
        "## Copy List"
      ],
      "metadata": {
        "id": "6IYOgqiDANe9"
      }
    },
    {
      "cell_type": "code",
      "source": [
        "\"\"\"\n",
        "# Definition for a Node.\n",
        "class Node:\n",
        "    def __init__(self, x, next=None, random=None):\n",
        "        self.val = int(x)\n",
        "        self.next = next\n",
        "        self.random = random\n",
        "\"\"\"\n",
        "\n",
        "class Solution(object):\n",
        "    def copyRandomList(self, head):\n",
        "        \"\"\"\n",
        "        :type head: Node\n",
        "        :rtype: Node\n",
        "        \"\"\"\n",
        "        # each node has an additional random pointer (can point any node or null)\n",
        "\n",
        "        # original list = Y, deep copy = X\n",
        "        # deep copy such that:\n",
        "            # n nodes in X\n",
        "            # each node has its value set to the value of its corresponding original node\n",
        "            # If Y2.random --> Y6, then X2.random --> X6 (Same with .next)\n",
        "\n",
        "        if head is None:\n",
        "            return None\n",
        "\n",
        "        # calling.random directly will copy the pointers to the original list.\n",
        "        # it won't count as random pointers to the corresponding nodes in the deep copied list\n",
        "        # we need to create a copy of the original list first and use a dictionary to hold the mapping from the original nodes to their copies\n",
        "\n",
        "        old_to_new = {}\n",
        "\n",
        "        # copy all nodes\n",
        "        current = head\n",
        "        while current:\n",
        "            copy = Node(current.val)\n",
        "            old_to_new[current] = copy # store the copy value in the dictionary\n",
        "            current = current.next # update current\n",
        "\n",
        "            # after this step, we just need to assign the next and random pointers\n",
        "\n",
        "        current = head\n",
        "        while current:\n",
        "            if current.next:\n",
        "                old_to_new[current].next = old_to_new[current.next] # store in dictionary the next pointer\n",
        "\n",
        "            if current.random:\n",
        "                old_to_new[current].random = old_to_new[current.random] # same for random pointer\n",
        "                # old_to_new[current].random is currently None. We are simply setting it's random pointer from current\n",
        "            current = current.next\n",
        "\n",
        "        return old_to_new[head] # return the head of the copied list\n"
      ],
      "metadata": {
        "id": "s_RejMc_AKkf"
      },
      "execution_count": null,
      "outputs": []
    },
    {
      "cell_type": "code",
      "source": [
        "\"\"\"\n",
        "# Definition for a Node.\n",
        "class Node:\n",
        "    def __init__(self, x, next=None, random=None):\n",
        "        self.val = int(x)\n",
        "        self.next = next\n",
        "        self.random = random\n",
        "\"\"\"\n",
        "\n",
        "class Solution(object):\n",
        "    def copyRandomList(self, head):\n",
        "        \"\"\"\n",
        "        :type head: Node\n",
        "        :rtype: Node\n",
        "        \"\"\"\n",
        "\n",
        "        if head is None:\n",
        "            return None\n",
        "\n",
        "        storage = {}\n",
        "\n",
        "        # copy all nodes\n",
        "        current = head\n",
        "        while current:\n",
        "            storage[current] = Node(current.val)\n",
        "            current = current.next\n",
        "\n",
        "        current = head\n",
        "        while current:\n",
        "            if current.next:\n",
        "                storage[current].next = storage[current.next] # now store the next pointers\n",
        "\n",
        "            if current.random:\n",
        "                storage[current].random = storage[current.random] # now store random pointers\n",
        "\n",
        "            current = current.next\n",
        "        return storage[head]"
      ],
      "metadata": {
        "id": "HZA-uVnxRHij"
      },
      "execution_count": null,
      "outputs": []
    },
    {
      "cell_type": "markdown",
      "source": [
        "## Linked List Cycle"
      ],
      "metadata": {
        "id": "SBvnkGPCLQ_C"
      }
    },
    {
      "cell_type": "code",
      "source": [
        "# Definition for singly-linked list.\n",
        "# class ListNode(object):\n",
        "#     def __init__(self, x):\n",
        "#         self.val = x\n",
        "#         self.next = None\n",
        "\n",
        "class Solution(object):\n",
        "    def hasCycle(self, head):\n",
        "        \"\"\"\n",
        "        :type head: ListNode\n",
        "        :rtype: bool\n",
        "        \"\"\"\n",
        "\n",
        "        # there is a cycle if there is some node that can be reached again by continuously following the next pointer\n",
        "        # internally, pos is used to denote the index of the node that tail's next pointer is connected to\n",
        "\n",
        "        # store nodes as keys in dictionary, if a node comes twice then its a cycle\n",
        "        llist_store, current = {}, head\n",
        "\n",
        "        while current:\n",
        "            # check if node already exists in dictionary\n",
        "            if current in llist_store:\n",
        "                return True\n",
        "\n",
        "            llist_store[current] = current.val # current as dictionary key\n",
        "            current = current.next\n",
        "\n",
        "        return False"
      ],
      "metadata": {
        "id": "zNLnHrcBLUHI"
      },
      "execution_count": null,
      "outputs": []
    },
    {
      "cell_type": "markdown",
      "source": [
        "## Find the duplicate number"
      ],
      "metadata": {
        "id": "m9q-RtpbbcSs"
      }
    },
    {
      "cell_type": "code",
      "source": [
        "class Solution(object):\n",
        "    def findDuplicate(self, nums):\n",
        "        \"\"\"\n",
        "        :type nums: List[int]\n",
        "        :rtype: int\n",
        "        \"\"\"\n",
        "\n",
        "        # n + 1 integers in range (1, n)\n",
        "        # REMAIN IN CONSTANT SPACE (O(1) extra space)\n",
        "        # store in dictionary and if its repeated once then\n",
        "\n",
        "        # simple hashmap approach\n",
        "        storage = {}\n",
        "\n",
        "        for i in range(len(nums)):\n",
        "\n",
        "            if nums[i] in storage:\n",
        "                return nums[i]\n",
        "\n",
        "            else:\n",
        "                storage[nums[i]] = nums[i]\n",
        "        return\n",
        "\n",
        "        # try binary search next"
      ],
      "metadata": {
        "id": "yRr6fZOmbetR"
      },
      "execution_count": null,
      "outputs": []
    },
    {
      "cell_type": "markdown",
      "source": [
        "## LRU Cache"
      ],
      "metadata": {
        "id": "ks1EMoWlraOq"
      }
    },
    {
      "cell_type": "code",
      "source": [
        "class Node:\n",
        "    def __init__(self, key, value):\n",
        "        self.key = key\n",
        "        self.value = value\n",
        "        self.prev = None\n",
        "        self.next = None\n",
        "\n",
        "class LRUCache:\n",
        "    def __init__(self, capacity):\n",
        "        self.capacity = capacity\n",
        "        self.cache = {}  # hashmap to store key-node pairs\n",
        "        # Initialize the doubly linked list with dummy head and tail\n",
        "        self.head = Node(0, 0)\n",
        "        self.tail = Node(0, 0)\n",
        "        self.head.next = self.tail\n",
        "        self.tail.prev = self.head\n",
        "\n",
        "    def _add_node(self, node):\n",
        "        \"\"\" Add node right after head \"\"\"\n",
        "        node.prev = self.head\n",
        "        node.next = self.head.next\n",
        "        self.head.next.prev = node\n",
        "        self.head.next = node\n",
        "\n",
        "    def _remove_node(self, node):\n",
        "        \"\"\" Remove an existing node from the linked list \"\"\"\n",
        "        prev = node.prev\n",
        "        new = node.next\n",
        "        prev.next = new\n",
        "        new.prev = prev\n",
        "\n",
        "    def _move_to_head(self, node):\n",
        "        \"\"\" Move certain node in between to the head \"\"\"\n",
        "        self._remove_node(node)\n",
        "        self._add_node(node)\n",
        "\n",
        "    def _pop_tail(self):\n",
        "        \"\"\" Pop the current tail \"\"\"\n",
        "        res = self.tail.prev\n",
        "        self._remove_node(res)\n",
        "        return res\n",
        "\n",
        "    def get(self, key):\n",
        "        node = self.cache.get(key, None)\n",
        "        if not node:\n",
        "            return -1\n",
        "        # Move the accessed node to the head\n",
        "        self._move_to_head(node)\n",
        "        return node.value\n",
        "\n",
        "    def put(self, key, value):\n",
        "        node = self.cache.get(key)\n",
        "        if not node:\n",
        "            newNode = Node(key, value)\n",
        "            self.cache[key] = newNode\n",
        "            self._add_node(newNode)\n",
        "            if len(self.cache) > self.capacity:\n",
        "                # Pop the tail\n",
        "                tail = self._pop_tail()\n",
        "                del self.cache[tail.key]\n",
        "        else:\n",
        "            # Update the value.\n",
        "            node.value = value\n",
        "            self._move_to_head(node)"
      ],
      "metadata": {
        "id": "GNO7bOwsrcO5"
      },
      "execution_count": null,
      "outputs": []
    },
    {
      "cell_type": "markdown",
      "source": [
        "## Merge K Sorted Linked Lists"
      ],
      "metadata": {
        "id": "0g9zOtbGBY-G"
      }
    },
    {
      "cell_type": "code",
      "source": [
        "# Definition for singly-linked list.\n",
        "# class ListNode(object):\n",
        "#     def __init__(self, val=0, next=None):\n",
        "#         self.val = val\n",
        "#         self.next = next\n",
        "class Solution(object):\n",
        "    def mergeKLists(self, lists):\n",
        "        \"\"\"\n",
        "        :type lists: List[ListNode]\n",
        "        :rtype: ListNode\n",
        "        \"\"\"\n",
        "        # k linked lists, each linked list sorted in ascending order\n",
        "        # merge linked lists into one sorted list\n",
        "        # merge sort approach\n",
        "        if not lists:\n",
        "            return None\n",
        "\n",
        "        if len(lists) == 1:\n",
        "            return lists[0] # each individual list is already sorted\n",
        "\n",
        "        mid = len(lists) // 2\n",
        "\n",
        "        left, right = self.mergeKLists(lists[:mid]), self.mergeKLists(lists[mid:])\n",
        "        return self.merge(left, right)\n",
        "\n",
        "    def merge(self, left, right):\n",
        "\n",
        "        dummy = tail = ListNode()\n",
        "        current1, current2 = left, right\n",
        "\n",
        "        while current1 and current2:\n",
        "            tail.next = ListNode() # initalize tail.next\n",
        "\n",
        "            if current1.val < current2.val:\n",
        "                tail.next = current1\n",
        "                current1 = current1.next\n",
        "\n",
        "            else:\n",
        "                tail.next = current2\n",
        "                current2 = current2.next\n",
        "\n",
        "            tail = tail.next\n",
        "\n",
        "        # clean up any leftover values\n",
        "        while current1:\n",
        "            tail.next = current1\n",
        "            current1 = current1.next\n",
        "            tail = tail.next\n",
        "\n",
        "        while current2:\n",
        "            tail.next = current2\n",
        "            current2 = current2.next\n",
        "            tail = tail.next\n",
        "\n",
        "        return dummy.next"
      ],
      "metadata": {
        "id": "S_ISBWbFBeAn"
      },
      "execution_count": null,
      "outputs": []
    },
    {
      "cell_type": "markdown",
      "source": [
        "## Reverse Nodes in k-Group"
      ],
      "metadata": {
        "id": "aPS2A7nNBh3Y"
      }
    },
    {
      "cell_type": "code",
      "source": [
        "# Definition for singly-linked list.\n",
        "# class ListNode:\n",
        "#     def __init__(self, x):\n",
        "#         self.val = x\n",
        "#         self.next = None\n",
        "\n",
        "class Solution:\n",
        "    def reverseKGroup(self, head, k):\n",
        "        \"\"\"\n",
        "        :type head: ListNode\n",
        "        :type k: int\n",
        "        :rtype: ListNode\n",
        "        \"\"\"\n",
        "        # Dummy node initialization\n",
        "        dummy = tail = ListNode(-1)\n",
        "        dummy.next = left = right = head\n",
        "\n",
        "        while True:\n",
        "            count = 0\n",
        "            while right and count < k:\n",
        "                count += 1\n",
        "                right = right.next\n",
        "            if count == k:\n",
        "                previous, current = right, left\n",
        "\n",
        "                # reverse\n",
        "                for _ in range(k):\n",
        "                    next_node = current.next\n",
        "                    current.next = previous\n",
        "                    previous = current\n",
        "                    current = next_node\n",
        "\n",
        "                tail.next = previous\n",
        "                tail = left\n",
        "                left = right\n",
        "            else:\n",
        "                return dummy.next"
      ],
      "metadata": {
        "id": "mrzIoDTRBlR5"
      },
      "execution_count": null,
      "outputs": []
    },
    {
      "cell_type": "code",
      "source": [
        "class Solution(object):\n",
        "    def reverseKGroup(self, head, k):\n",
        "        # Check if we have at least k nodes to reverse, otherwise return head\n",
        "        current = head\n",
        "        for _ in range(k):\n",
        "            if not current:\n",
        "                return head\n",
        "            current = current.next\n",
        "\n",
        "        # Reverse first k nodes\n",
        "        prev, current = None, head\n",
        "        for _ in range(k):\n",
        "            next_node = current.next\n",
        "            current.next = prev\n",
        "            prev = current\n",
        "            current = next_node\n",
        "\n",
        "        # Now head points to the kth node, and we want it to point to the (k+1)th node after reversal\n",
        "        head.next = self.reverseKGroup(current, k)\n",
        "\n",
        "        # prev is the new head of the reversed list\n",
        "        return prev\n"
      ],
      "metadata": {
        "id": "88_WklnlFamJ"
      },
      "execution_count": null,
      "outputs": []
    },
    {
      "cell_type": "markdown",
      "source": [
        "#2. Binary Trees"
      ],
      "metadata": {
        "id": "9pXDrPuhvFhx"
      }
    },
    {
      "cell_type": "markdown",
      "source": [
        "## Invert Binary Tree"
      ],
      "metadata": {
        "id": "BK2V4UEEvKr2"
      }
    },
    {
      "cell_type": "code",
      "source": [
        "# Definition for a binary tree node.\n",
        "# class TreeNode(object):\n",
        "#     def __init__(self, val=0, left=None, right=None):\n",
        "#         self.val = val\n",
        "#         self.left = left\n",
        "#         self.right = right\n",
        "class Solution(object):\n",
        "    def invertTree(self, root):\n",
        "        \"\"\"\n",
        "        :type root: TreeNode\n",
        "        :rtype: TreeNode\n",
        "        \"\"\"\n",
        "       # recursion\n",
        "        if root:\n",
        "            invert = self.invertTree\n",
        "            root.left, root.right = invert(root.right), invert(root.left)\n",
        "            return root"
      ],
      "metadata": {
        "id": "09r5ihT_vOJ4"
      },
      "execution_count": null,
      "outputs": []
    },
    {
      "cell_type": "markdown",
      "source": [
        "## Maximum Depth of Binary Tree"
      ],
      "metadata": {
        "id": "7VEvE2vxBqbf"
      }
    },
    {
      "cell_type": "code",
      "source": [
        "class Solution(object):\n",
        "    def maxDepth(self, root):\n",
        "        \"\"\"\n",
        "        :type root: TreeNode\n",
        "        :rtype: int\n",
        "        \"\"\"\n",
        "        if root is None:\n",
        "            return 0\n",
        "\n",
        "        # Recursively find the depth of the left and right subtrees\n",
        "        # At each node the function makes two recursive calls: one for left child and right child\n",
        "        left_depth = self.maxDepth(root.left)\n",
        "        right_depth = self.maxDepth(root.right)\n",
        "\n",
        "        # The depth of the tree is 1 (for the current node) plus the max of the left and right depths\n",
        "        return max(left_depth, right_depth) + 1"
      ],
      "metadata": {
        "id": "bQTUkX0_Bt9G"
      },
      "execution_count": null,
      "outputs": []
    },
    {
      "cell_type": "markdown",
      "source": [
        "## Diameter of Binary Tree"
      ],
      "metadata": {
        "id": "X9ypDxgyWVg0"
      }
    },
    {
      "cell_type": "code",
      "source": [
        "# Definition for a binary tree node.\n",
        "# class TreeNode(object):\n",
        "#     def __init__(self, val=0, left=None, right=None):\n",
        "#         self.val = val\n",
        "#         self.left = left\n",
        "#         self.right = right\n",
        "\n",
        "\n",
        "class Solution(object):\n",
        "    def diameterOfBinaryTree(self, root):\n",
        "        \"\"\"\n",
        "        :type root: TreeNode\n",
        "        :rtype: int\n",
        "        \"\"\"\n",
        "        # The diameter of a binary tree is the length of the longest path between any two nodes in a tree. This path may or may not pass through the root.\n",
        "        # create a depth helper function first to find the depth of any branch\n",
        "        self.diameter = 0\n",
        "        def depth(root):\n",
        "            if root is None:\n",
        "                return 0\n",
        "\n",
        "            lsub = depth(root.left)\n",
        "            rsub = depth(root.right)\n",
        "\n",
        "            # define self.diameter\n",
        "            self.diameter = max(self.diameter, lsub + rsub)\n",
        "            return max(lsub, rsub) + 1 # get the depth of any one root\n",
        "\n",
        "        depth(root)\n",
        "        return self.diameter"
      ],
      "metadata": {
        "id": "xKLday0TWXjd"
      },
      "execution_count": null,
      "outputs": []
    },
    {
      "cell_type": "markdown",
      "source": [
        "## Copy Tree"
      ],
      "metadata": {
        "id": "aCEnCTAWMhoj"
      }
    },
    {
      "cell_type": "code",
      "source": [
        "class Solution(object):\n",
        "      def copyTree(root):\n",
        "\n",
        "          if root is None:\n",
        "              return None\n",
        "\n",
        "          nroot = TreeNode(root.val)\n",
        "          nroot.left, nroot.right = copyTree(root.left), copyTree(root.right)\n",
        "\n",
        "          return nroot"
      ],
      "metadata": {
        "id": "bpATf1m-Mjpx"
      },
      "execution_count": null,
      "outputs": []
    },
    {
      "cell_type": "markdown",
      "source": [
        "## Same Tree"
      ],
      "metadata": {
        "id": "R1SCzVRFEzig"
      }
    },
    {
      "cell_type": "code",
      "source": [
        "# Definition for a binary tree node.\n",
        "# class TreeNode(object):\n",
        "#     def __init__(self, val=0, left=None, right=None):\n",
        "#         self.val = val\n",
        "#         self.left = left\n",
        "#         self.right = right\n",
        "class Solution(object):\n",
        "\n",
        "    def isSameTree(self, p, q):\n",
        "\n",
        "        if p is None and q is None:\n",
        "            return True\n",
        "\n",
        "        if p is None or q is None:\n",
        "            return False\n",
        "\n",
        "        if p.val != q.val:\n",
        "            return False\n",
        "\n",
        "        # Check the left and right subtrees of p and q\n",
        "        # The 'and' ensures that we only return True if both the left and right subtrees are the same\n",
        "        return self.isSameTree(p.left, q.left) and self.isSameTree(p.right, q.right)"
      ],
      "metadata": {
        "id": "aiiZ0nPoE3m1"
      },
      "execution_count": null,
      "outputs": []
    },
    {
      "cell_type": "markdown",
      "source": [
        "## Balanced Binary Tree"
      ],
      "metadata": {
        "id": "N8FT2EKPZo7e"
      }
    },
    {
      "cell_type": "code",
      "source": [
        "# Definition for a binary tree node.\n",
        "# class TreeNode(object):\n",
        "#     def __init__(self, val=0, left=None, right=None):\n",
        "#         self.val = val\n",
        "#         self.left = left\n",
        "#         self.right = right\n",
        "class Solution(object):\n",
        "    def isBalanced(self, root):\n",
        "        \"\"\"\n",
        "        :type root: TreeNode\n",
        "        :rtype: bool\n",
        "        \"\"\"\n",
        "        # height balanced = the depth of the subtrees of each node does not differ by more than 1\n",
        "        # create depth helper function\n",
        "        def depth(node):\n",
        "            if node is None:\n",
        "                return 0\n",
        "\n",
        "            ldepth = depth(node.left)\n",
        "            rdepth = depth(node.right)\n",
        "\n",
        "            # check that their depths do not differ by more than 1\n",
        "            if ldepth == -1 or rdepth == -1 or abs(ldepth - rdepth) > 1: # ldepth or rdepth == -1 occurs when there is no left or right node in the first place.\n",
        "                return -1\n",
        "\n",
        "            # we want the max right and left depth for each node\n",
        "            # +1 to include the parent node\n",
        "            return max(ldepth, rdepth) + 1\n",
        "\n",
        "        return depth(root) != -1"
      ],
      "metadata": {
        "id": "1Rvb0eCnZqvW"
      },
      "execution_count": null,
      "outputs": []
    },
    {
      "cell_type": "markdown",
      "source": [
        "## Subtree of Another Tree"
      ],
      "metadata": {
        "id": "vnNJM5RGreIK"
      }
    },
    {
      "cell_type": "code",
      "source": [
        "# Definition for a binary tree node.\n",
        "# class TreeNode(object):\n",
        "#     def __init__(self, val=0, left=None, right=None):\n",
        "#         self.val = val\n",
        "#         self.left = left\n",
        "#         self.right = right\n",
        "class Solution(object):\n",
        "    def isSubtree(self, root, subRoot):\n",
        "        \"\"\"\n",
        "        :type root: TreeNode\n",
        "        :type subRoot: TreeNode\n",
        "        :rtype: bool\n",
        "        \"\"\"\n",
        "\n",
        "        # Given the roots of two binary trees root and subRoot, return true if there is a subtree of root with the same structure and node values of subRoot and false otherwise.\n",
        "\n",
        "        if not root:\n",
        "            return False\n",
        "\n",
        "        def isSameTree(p, q):\n",
        "            # If both trees are empty\n",
        "            if not p and not q:\n",
        "                return True\n",
        "            # If one of the trees is empty\n",
        "            if not p or not q:\n",
        "                return False\n",
        "            # If the values of the nodes are not equal\n",
        "            if p.val != q.val:\n",
        "                return False\n",
        "            # Check the left and right subtrees\n",
        "            # 'and' ensures that we only return True if both the left and right subtrees are the same\n",
        "            return isSameTree(p.left, q.left) and isSameTree(p.right, q.right)\n",
        "\n",
        "        # Check if trees rooted at current node are identical\n",
        "        if isSameTree(root, subRoot):\n",
        "            return True\n",
        "\n",
        "        # Check subtrees\n",
        "        return self.isSubtree(root.left, subRoot) or self.isSubtree(root.right, subRoot)\n",
        "        # iterate through root.left and root.right to compare each version w subRoot (until True is returned)"
      ],
      "metadata": {
        "id": "jtwGZ38Lrg7j"
      },
      "execution_count": null,
      "outputs": []
    },
    {
      "cell_type": "markdown",
      "source": [
        "## Lowest Common Ancestor of a Binary Tree"
      ],
      "metadata": {
        "id": "xXAeMJrLKJ4p"
      }
    },
    {
      "cell_type": "code",
      "source": [
        "# Definition for a binary tree node.\n",
        "# class TreeNode(object):\n",
        "#     def __init__(self, x):\n",
        "#         self.val = x\n",
        "#         self.left = None\n",
        "#         self.right = None\n",
        "\n",
        "class Solution(object):\n",
        "    def lowestCommonAncestor(self, root, p, q):\n",
        "        \"\"\"\n",
        "        :type root: TreeNode\n",
        "        :type p: TreeNode\n",
        "        :type q: TreeNode\n",
        "        :rtype: TreeNode\n",
        "        \"\"\"\n",
        "        # use DFS - so use recursion\n",
        "        # for a BST, every value to the left of the root is < root.val\n",
        "        # every value to the right is > root.val\n",
        "        if not root or not p or not q:\n",
        "            return None\n",
        "\n",
        "        # if min(p, q) is > root.val, then their LCA must be to the right of root\n",
        "        # similarly, if max(p, q) is < root.val then their LCA must be to the left of root\n",
        "\n",
        "        if min(p.val, q.val) > root.val:\n",
        "            return self.lowestCommonAncestor(root.right, p, q)\n",
        "\n",
        "        elif max(p.val, q.val) < root.val:\n",
        "            return self.lowestCommonAncestor(root.left, p, q)\n",
        "\n",
        "        # if the function can no longer continue, then you have found the LCA which is root\n",
        "        else:\n",
        "            return root"
      ],
      "metadata": {
        "id": "F1CJbp_5KNyY"
      },
      "execution_count": null,
      "outputs": []
    },
    {
      "cell_type": "markdown",
      "source": [
        "## Binary Tree Level Order Traversal (BFS)"
      ],
      "metadata": {
        "id": "LBtFqZWQSi1m"
      }
    },
    {
      "cell_type": "markdown",
      "source": [
        " ### Explanation:\n",
        " A binary tree level order traversal generally recommends a breadth first search (BFS) approach with the use of a queue data structure. When we process a node (curr), we'll push the node's children onto the end of the queue in the order in which we want to traverse (in this case, left to right). In this way, we'll have finished putting the next row in the queue at the same time we finish iterating through this row.\n",
        "\n",
        "\n",
        " To help us keep track of the rows, we just nest the main loop inside another loop.\n",
        "\n",
        "**At the beginning of the outer loop, we capture the queue length, which will tell us how long the row is.**\n",
        "\n",
        "Then we can iterate through that many nodes, popping them off the queue's front one at a time, then process any end-of-row instructions.\n",
        "\n",
        "**In the case of this problem, that will mean pushing the current row array (row) onto our answer array (ans).**\n",
        "\n",
        " We'll continue this process until the queue is empty, at which point we will have reached the end of the binary tree, and can return ans."
      ],
      "metadata": {
        "id": "OHoFIBDMSq5D"
      }
    },
    {
      "cell_type": "code",
      "source": [
        "# Definition for a binary tree node.\n",
        "# class TreeNode(object):\n",
        "#     def __init__(self, val=0, left=None, right=None):\n",
        "#         self.val = val\n",
        "#         self.left = left\n",
        "#         self.right = right\n",
        "class Solution(object):\n",
        "    def levelOrder(self, root):\n",
        "        \"\"\"\n",
        "        :type root: TreeNode\n",
        "        :rtype: List[List[int]]\n",
        "        \"\"\"\n",
        "        # level order traversal -- from left -> right\n",
        "        if not root:\n",
        "            return []\n",
        "\n",
        "        result = []\n",
        "        queue = deque([root]) # deque removes an item from the end of the queue. In this case, 'root'\n",
        "\n",
        "        while queue:\n",
        "            level_size = len(queue)\n",
        "            current_level = []\n",
        "\n",
        "            for _ in range(level_size): # iterator doesn't matter, we are just iterating through the number of times that is the length of the queue at the time\n",
        "                                        # this will give us the 'breadth' of the level in the binary tree (number of nodes in that horizontal level)\n",
        "                node = queue.popleft()  # Remove the next node from the front of the queue.\n",
        "                current_level.append(node.val) # add the value of each node in the level to current level, this will be passed to the array at the end\n",
        "\n",
        "              # Check if the current node has a left child.\n",
        "            if node.left:\n",
        "                queue.append(node.left)  # If so, add the left child to the end of the queue.\n",
        "\n",
        "            # Check if the current node has a right child.\n",
        "            if node.right:\n",
        "                queue.append(node.right)  # If so, add the right child to the end of the queue.\n",
        "\n",
        "        # After processing all nodes at the current level, add their values to the result list.\n",
        "        result.append(current_level)\n",
        "\n",
        "        return result"
      ],
      "metadata": {
        "id": "lDq9s13GSmLD"
      },
      "execution_count": null,
      "outputs": []
    },
    {
      "cell_type": "markdown",
      "source": [
        "## Right Side View of BST"
      ],
      "metadata": {
        "id": "dWCMgxhIPWrR"
      }
    },
    {
      "cell_type": "code",
      "source": [
        "# Definition for a binary tree node.\n",
        "# class TreeNode(object):\n",
        "#     def __init__(self, val=0, left=None, right=None):\n",
        "#         self.val = val\n",
        "#         self.left = left\n",
        "#         self.right = right\n",
        "class Solution(object):\n",
        "    def rightSideView(self, root):\n",
        "        \"\"\"\n",
        "        :type root: TreeNode\n",
        "        :rtype: List[int]\n",
        "        \"\"\"\n",
        "        # return values on the rightmost side of a binary tree from top-to-bottom\n",
        "        # use DFS\n",
        "        if not root:\n",
        "            return []\n",
        "\n",
        "        right = self.rightSideView(root.right)\n",
        "        left = self.rightSideView(root.left)\n",
        "\n",
        "        # return the right view of both right and left subtrees, then combine them\n",
        "        # for unbalanced trees this can be O(n^2)\n",
        "        return [root.val] + right + left[len(right):]"
      ],
      "metadata": {
        "id": "8k35UHerPZ6Q"
      },
      "execution_count": null,
      "outputs": []
    },
    {
      "cell_type": "markdown",
      "source": [
        "**Explanation:**\n",
        "\n",
        "**return [root.val] + right + left[len(right):]:**\n",
        "* **[root.val]:** Adds the current node's value to the list. This is because when viewing from the right side, the current node (if visible) is always part of the view.\n",
        "\n",
        "* **right:** Appends the right side view of the right subtree. Since we're looking from the right, the right subtree's right side view is prioritized.\n",
        "\n",
        "* **left[len(right):]:** This is a bit tricky. It appends the part of the left subtree's right side view that is not obscured by the right subtree. len(right) tells us how many nodes are visible from the right subtree. If the right subtree is shorter than the left, there will be some parts of the left subtree that are visible. These are the nodes beyond the len(right) index in the left subtree's right side view."
      ],
      "metadata": {
        "id": "DHwLoRLBgEeG"
      }
    },
    {
      "cell_type": "code",
      "source": [
        "class Solution(object):\n",
        "    def rightSideView(self, root):\n",
        "        res = []\n",
        "\n",
        "        def dfs(node, depth):\n",
        "            if not node:\n",
        "                return\n",
        "            if depth == len(res):  # First time visiting this depth\n",
        "                res.append(node.val)\n",
        "            # Traverse right subtree first, then left subtree\n",
        "            dfs(node.right, depth + 1)\n",
        "            dfs(node.left, depth + 1)\n",
        "\n",
        "        dfs(root, 0)\n",
        "        return res"
      ],
      "metadata": {
        "id": "Te3asPC4Pwlt"
      },
      "execution_count": null,
      "outputs": []
    },
    {
      "cell_type": "markdown",
      "source": [
        "## BST Traversal\n",
        "\n",
        "There are three types of traversing a Binary Tree:\n",
        "\n",
        "* **InOrder Traversal** -- left, root, right\n",
        "\n",
        "* **PreOrder Traversal** -- root, left child, right child **OR** root, right child, left child\n",
        "\n",
        "* **PostOrder Traversal** -- left child, right child, root **OR** right child, left child, root"
      ],
      "metadata": {
        "id": "5sg7U329YI_q"
      }
    },
    {
      "cell_type": "markdown",
      "source": [
        "## InOrder Traversal"
      ],
      "metadata": {
        "id": "erf74ifhXrvr"
      }
    },
    {
      "cell_type": "code",
      "source": [
        "    # Time complexity of inorder traversal is O(n)\n",
        "    # Fun fact: Inorder traversal leads to a sorted array if it is\n",
        "    # a Valid Binary Search. Tree.\n",
        "    # InOrder Traversal -- left, root, right\n",
        "    def inorder(self, root, output):\n",
        "        if root is None:\n",
        "            return\n",
        "\n",
        "        self.inorder(root.left, output) # left\n",
        "        output.append(root.val) # root\n",
        "        self.inorder(root.right, output) # right\n",
        "        return"
      ],
      "metadata": {
        "id": "W_uAOk1aXtr2"
      },
      "execution_count": null,
      "outputs": []
    },
    {
      "cell_type": "markdown",
      "source": [
        "## Valid BST"
      ],
      "metadata": {
        "id": "KbYoHIPdXoRm"
      }
    },
    {
      "cell_type": "code",
      "source": [
        "# Definition for a binary tree node.\n",
        "# class TreeNode(object):\n",
        "#     def __init__(self, val=0, left=None, right=None):\n",
        "#         self.val = val\n",
        "#         self.left = left\n",
        "#         self.right = right\n",
        "class Solution(object):\n",
        "\n",
        "    # Time complexity of inorder traversal is O(n)\n",
        "    # Fun fact: Inorder traversal leads to a sorted array if it is\n",
        "    # a Valid Binary Search. Tree.\n",
        "    def inorder(self, root, output):\n",
        "        if root is None:\n",
        "            return\n",
        "\n",
        "        self.inorder(root.left, output)\n",
        "        output.append(root.val)\n",
        "        self.inorder(root.right, output)\n",
        "        return\n",
        "\n",
        "    def isValidBST(self, root):\n",
        "        \"\"\"\n",
        "        :type root: TreeNode\n",
        "        :rtype: bool\n",
        "        \"\"\"\n",
        "        # Valid BST:\n",
        "        # right subtree of a node has nodes w value > the given node\n",
        "        # left subtree of a node has nodes w value < the given node\n",
        "        # left and right subtrees must also be BSTs\n",
        "\n",
        "        # solve with InOrder traversal: left, root, right\n",
        "        # check if its a sorted array or not\n",
        "        output = []\n",
        "        self.inorder(root, output)\n",
        "\n",
        "        for i in range(1, len(output)):\n",
        "          if output[i-1]>= output[i]:\n",
        "            return False\n",
        "\n",
        "            return True"
      ],
      "metadata": {
        "id": "cVCVdbJuXpk8"
      },
      "execution_count": null,
      "outputs": []
    },
    {
      "cell_type": "markdown",
      "source": [
        "## Count Good Nodes in BST"
      ],
      "metadata": {
        "id": "0uoMJnO5pXjD"
      }
    },
    {
      "cell_type": "code",
      "source": [
        "# Definition for a binary tree node.\n",
        "# class TreeNode(object):\n",
        "#     def __init__(self, val=0, left=None, right=None):\n",
        "#         self.val = val\n",
        "#         self.left = left\n",
        "#         self.right = right\n",
        "class Solution(object):\n",
        "    def goodNodes(self, root):\n",
        "        \"\"\"\n",
        "        :type root: TreeNode\n",
        "        :rtype: int\n",
        "        \"\"\"\n",
        "        # a node X in the tree is named good if in the path from root to X there are no nodes with a value greater than X\n",
        "        # return no. of good nodes\n",
        "\n",
        "        def dfs(node, max_val):\n",
        "            # count of good nodes\n",
        "            if node is None:\n",
        "                return 0\n",
        "\n",
        "            # if current node is greater than max value so far\n",
        "            # then current node is a good node\n",
        "            # hence add 1, else add 0\n",
        "\n",
        "            good = 1 if node.val >= max_val else 0\n",
        "\n",
        "            # update max val seen so far\n",
        "            max_val = max(max_val, node.val)\n",
        "\n",
        "            # recursively count good nodes in left and right subtrees\n",
        "\n",
        "            good += dfs(node.left, max_val)\n",
        "            good += dfs(node.right, max_val)\n",
        "\n",
        "            return good\n",
        "\n",
        "        return dfs(root, float('-inf')) # max_val = float('-inf'), the lowest possible value"
      ],
      "metadata": {
        "id": "BRU4gpOcpZpH"
      },
      "execution_count": null,
      "outputs": []
    },
    {
      "cell_type": "code",
      "source": [
        "# Definition for a binary tree node.\n",
        "# class TreeNode(object):\n",
        "#     def __init__(self, val=0, left=None, right=None):\n",
        "#         self.val = val\n",
        "#         self.left = left\n",
        "#         self.right = right\n",
        "class Solution(object):\n",
        "    def goodNodes(self, root):\n",
        "        \"\"\"\n",
        "        :type root: TreeNode\n",
        "        :rtype: int\n",
        "        \"\"\"\n",
        "\n",
        "        # make a DFS function first to track the goodNodes count\n",
        "\n",
        "        def counter(node, max_):\n",
        "            # max is the max value, will start at -inf\n",
        "            # node is the root\n",
        "            if not node: return 0\n",
        "\n",
        "            # start of the count by including original root\n",
        "            count = 1 if node.val >= max_ else 0\n",
        "\n",
        "            # update max with the current root value\n",
        "            max_ = max(max_, node.val)\n",
        "\n",
        "            # update count by going through left and right subtrees\n",
        "            count += counter(node.left, max_)\n",
        "            count += counter(node.right, max_)\n",
        "\n",
        "            return count\n",
        "\n",
        "        return counter(root, float('-inf'))"
      ],
      "metadata": {
        "id": "LvlzywDCq86-"
      },
      "execution_count": null,
      "outputs": []
    },
    {
      "cell_type": "markdown",
      "source": [
        "## Kth smallest integer in a BST"
      ],
      "metadata": {
        "id": "q1ppxUEqT42l"
      }
    },
    {
      "cell_type": "code",
      "source": [
        "# Definition for a binary tree node.\n",
        "# class TreeNode(object):\n",
        "#     def __init__(self, val=0, left=None, right=None):\n",
        "#         self.val = val\n",
        "#         self.left = left\n",
        "#         self.right = right\n",
        "class Solution(object):\n",
        "    def kthSmallest(self, root, k):\n",
        "        \"\"\"\n",
        "        :type root: TreeNode\n",
        "        :type k: int\n",
        "        :rtype: int\n",
        "        \"\"\"\n",
        "        # kth smallest value out of all the values of the nodes in the tree\n",
        "        # inorder traversal gets the nodes in ascending order.\n",
        "        # perform inorder traversal until the kth node. and then return that index\n",
        "        # returning inorder as a list\n",
        "        # remember inorder is: left, val, right\n",
        "\n",
        "        def inorder(node):\n",
        "            if node is None:\n",
        "                return []\n",
        "            return inorder(node.left) + [node.val] + inorder(node.right)\n",
        "\n",
        "        checker = inorder(root)\n",
        "        return checker[k-1]"
      ],
      "metadata": {
        "id": "RfOWdW5zT8T1"
      },
      "execution_count": null,
      "outputs": []
    },
    {
      "cell_type": "markdown",
      "source": [
        "## Construct BST from Preorder and Inorder Traversal"
      ],
      "metadata": {
        "id": "YtW2KSswT-Pm"
      }
    },
    {
      "cell_type": "code",
      "source": [
        "# Definition for a binary tree node.\n",
        "# class TreeNode(object):\n",
        "#     def __init__(self, val=0, left=None, right=None):\n",
        "#         self.val = val\n",
        "#         self.left = left\n",
        "#         self.right = right\n",
        "class Solution(object):\n",
        "    def buildTree(self, preorder, inorder):\n",
        "        \"\"\"\n",
        "        :type preorder: List[int]\n",
        "        :type inorder: List[int]\n",
        "        :rtype: TreeNode\n",
        "        \"\"\"\n",
        "        # preorder = preorder traversal of a bst (root.val, left, right) or (root.val, right, left)\n",
        "        # inorder = inorder traversal of the same bst (left, root.val, right)\n",
        "        if not preorder or not inorder:\n",
        "            return None\n",
        "\n",
        "        # return the bst\n",
        "        # in preorder, the first element in the preorder list is the root of the tree\n",
        "        root_val = preorder[0]\n",
        "        root = TreeNode(root_val)\n",
        "\n",
        "        # split inorder into left and right subtrees\n",
        "        # list.index(val) returns the index of that value in the list\n",
        "        # Here, we are getting the index of where the root value is in inorder.\n",
        "        # This lets us find the boundary between the left and right subtrees in the inorder list\n",
        "        mid = inorder.index(root_val)\n",
        "\n",
        "        # build left and right subtrees\n",
        "\n",
        "        # we start from preorder[1..] because preorder[0] is the root.\n",
        "        # preorder[1:mid+1] takes a slice of preorder that CORRESPONDS to the elements of the left subtree\n",
        "        # inorder[:mid] contains the elements of the left subtree)\n",
        "        root.left = self.buildTree(preorder[1:mid+1], inorder[:mid])\n",
        "\n",
        "        # preorder[mid+1:] corresponds to the elements of the right subtree\n",
        "        # inorder[mid+1:] contains the elements of the right subtree\n",
        "        root.right = self.buildTree(preorder[mid+1:], inorder[mid+1:])\n",
        "\n",
        "        return root"
      ],
      "metadata": {
        "id": "VtYAd8khUDZN"
      },
      "execution_count": null,
      "outputs": []
    },
    {
      "cell_type": "markdown",
      "source": [
        "# 3. Tries"
      ],
      "metadata": {
        "id": "irTZb7QHZ4lL"
      }
    },
    {
      "cell_type": "markdown",
      "source": [
        "## Implement Trie (Prefix Tree)"
      ],
      "metadata": {
        "id": "6cV2M6qBZ-5x"
      }
    },
    {
      "cell_type": "code",
      "source": [
        "class Trie(object):\n",
        "\n",
        "# there is an end of word marker '-'. This indicates the word is complete\n",
        "    def __init__(self):\n",
        "        # start the Trie\n",
        "        self.trie = {}\n",
        "\n",
        "\n",
        "    def insert(self, word):\n",
        "        \"\"\"\n",
        "        :type word: str\n",
        "        :rtype: None\n",
        "        \"\"\"\n",
        "        # define self.trie\n",
        "        node = self.trie\n",
        "\n",
        "        # add to the dictionary\n",
        "        for char in word:\n",
        "            if char not in node:\n",
        "                node[char] = {}\n",
        "            node = node[char] # this adds the word in order to the dictionary by updating node.\n",
        "        node['-'] = True # Mark the end of a word\n",
        "\n",
        "\n",
        "    def search(self, word):\n",
        "        \"\"\"\n",
        "        :type word: str\n",
        "        :rtype: bool\n",
        "        \"\"\"\n",
        "        node = self.trie\n",
        "\n",
        "        for char in word:\n",
        "            if char not in node:\n",
        "                return False\n",
        "            node = node[char]\n",
        "        return '-' in node # we need to check the word is complete and that 'word' is not a prefix of it\n",
        "\n",
        "    def startsWith(self, prefix):\n",
        "        \"\"\"\n",
        "        :type prefix: str\n",
        "        :rtype: bool\n",
        "        \"\"\"\n",
        "        node = self.trie\n",
        "\n",
        "        for char in prefix:\n",
        "            if char not in node:\n",
        "                return False\n",
        "        # since they are done in order already, we don't need to check for ordering\n",
        "            node = node[char]\n",
        "        return True\n",
        "\n",
        "\n",
        "# Your Trie object will be instantiated and called as such:\n",
        "# obj = Trie()\n",
        "# obj.insert(word)\n",
        "# param_2 = obj.search(word)\n",
        "# param_3 = obj.startsWith(prefix)"
      ],
      "metadata": {
        "id": "grQ58PP2aBo8"
      },
      "execution_count": null,
      "outputs": []
    },
    {
      "cell_type": "markdown",
      "source": [
        "## Design Add and Search Words Data Strucure"
      ],
      "metadata": {
        "id": "fLp6KDn-FUgl"
      }
    },
    {
      "cell_type": "markdown",
      "source": [
        "### Logic for search functionality:\n",
        "\n",
        "Two cases:\n",
        "\n",
        "* When the character is a '.'   -- we have to check it against the subsequent characters.\n",
        "* When a character is not a '.'   -- perform normal checks (if char not in node: return False)"
      ],
      "metadata": {
        "id": "zdiYOW6aSitB"
      }
    },
    {
      "cell_type": "code",
      "source": [
        "class WordDictionary(object):\n",
        "\n",
        "    def __init__(self):\n",
        "        self.trie = {}\n",
        "\n",
        "    def addWord(self, word):\n",
        "        \"\"\"\n",
        "        :type word: str\n",
        "        :rtype: None\n",
        "        \"\"\"\n",
        "        node = self.trie\n",
        "\n",
        "        for char in word:\n",
        "            if char not in node:\n",
        "                node[char] = {}\n",
        "            node = node[char]\n",
        "        node['-'] = True # to mark the end of the word\n",
        "\n",
        "\n",
        "    def search(self, word):\n",
        "        \"\"\"\n",
        "        :type word: str\n",
        "        :rtype: bool\n",
        "        \"\"\"\n",
        "        node = self.trie\n",
        "        return self.search_in_node(word, 0, node)\n",
        "\n",
        "    def search_in_node(self, word, index, node):\n",
        "        if index == len(word):\n",
        "            return '-' in node\n",
        "\n",
        "        char = word[index]\n",
        "\n",
        "        if char == '.':\n",
        "            for key in node:\n",
        "                # key != '-' check if its the end of the word\n",
        "                if key != '-' and self.search_in_node(word, index + 1, node[key]):\n",
        "                    # recursive search i the subtrie starting from word[index+1:]\n",
        "                    # if this recursive search returns True (in the if statement), then a match is found so we return True overall.\n",
        "                    return True\n",
        "            # if no match is found for any of the keys, return false\n",
        "            return False\n",
        "        else:\n",
        "            # If the current character is not '.',\n",
        "            # proceed with the normal trie search process.\n",
        "            if char not in node:\n",
        "                # If the character is not present in the current node,\n",
        "                # it means there's no such word in the trie.\n",
        "                return False\n",
        "\n",
        "            # Otherwise, continue the search in the sub-trie for this character.\n",
        "            return self.search_in_node(word, index + 1, node[char])\n",
        "\n",
        "# Your WordDictionary object will be instantiated and called as such:\n",
        "# obj = WordDictionary()\n",
        "# obj.addWord(word)\n",
        "# param_2 = obj.search(word)"
      ],
      "metadata": {
        "id": "QbxfEJQJFYpC"
      },
      "execution_count": null,
      "outputs": []
    },
    {
      "cell_type": "markdown",
      "source": [
        "# 4. Heaps"
      ],
      "metadata": {
        "id": "03WufRqHFKrg"
      }
    },
    {
      "cell_type": "markdown",
      "source": [
        "## Kth Largest Element in a Stream"
      ],
      "metadata": {
        "id": "kSSR5d4kFMnu"
      }
    },
    {
      "cell_type": "code",
      "source": [
        "class KthLargest(object):\n",
        "\n",
        "    # kth largest element in the sorted order\n",
        "    # two parts to the question:\n",
        "    # initialising the heap\n",
        "    # adding and finding the kth element in the heap\n",
        "\n",
        "\n",
        "    # we want to maintain the k largest elements in our heap, as we need to have the kth largest number in our heap.\n",
        "    # the kth largest number means its actually the smallest number out of the k largest numbers.\n",
        "    # Thus we want a min-heap\n",
        "\n",
        "    def __init__(self, k, nums):\n",
        "        \"\"\"\n",
        "        :type k: int\n",
        "        :type nums: List[int]\n",
        "        \"\"\"\n",
        "        self.k = k\n",
        "        self.heap = []\n",
        "\n",
        "        # add initial numbers to nums\n",
        "        for num in nums:\n",
        "            self.add(num)\n",
        "\n",
        "\n",
        "    def add(self, val):\n",
        "        \"\"\"\n",
        "        :type val: int\n",
        "        :rtype: int\n",
        "        \"\"\"\n",
        "        heappush(self.heap, val)\n",
        "        # ensure length does not exceed k\n",
        "        if len(self.heap) > self.k:\n",
        "            heappop(self.heap) # remove the smallest element when length exceeds k\n",
        "        return self.heap[0] # return the smallest\n",
        "\n",
        "\n",
        "# Your KthLargest object will be instantiated and called as such:\n",
        "# obj = KthLargest(k, nums)\n",
        "# param_1 = obj.add(val)"
      ],
      "metadata": {
        "id": "HzN0XFUJFRmV"
      },
      "execution_count": null,
      "outputs": []
    },
    {
      "cell_type": "markdown",
      "source": [
        "## K closest points to origin"
      ],
      "metadata": {
        "id": "2aMWTGgrvqDu"
      }
    },
    {
      "cell_type": "code",
      "source": [
        "class Solution(object):\n",
        "    def kClosest(self, points, k):\n",
        "        \"\"\"\n",
        "        :type points: List[List[int]]\n",
        "        :type k: int\n",
        "        :rtype: List[List[int]]\n",
        "        \"\"\"\n",
        "        # points[i] = [xi, yi]\n",
        "        # return the k closest points to the origin - (0, 0)\n",
        "        # distance between two points is sqrt[(x1 - x2)^2 + (y1 - y2)^2]\n",
        "        # in this case, distance = sqrt[x1^2 + y1^2]\n",
        "\n",
        "        # create a heap\n",
        "        heap = []\n",
        "\n",
        "        # we want the first element added to be the furthest away, we will use a max heap\n",
        "        # so that each call of heappop removes the largest element\n",
        "\n",
        "        for (x, y) in points: # iterate through array of lists\n",
        "\n",
        "            distance = -(x*x + y*y) # negative because max heap\n",
        "\n",
        "            if len(heap) == k:\n",
        "                # Maintain the distance at k by popping the smallest (were using -distance)\n",
        "                # and pushing the next element etc\n",
        "                heappushpop(heap, (distance, x, y))\n",
        "            else:\n",
        "                heappush(heap, (distance, x, y))\n",
        "\n",
        "        return [(x,y) for (distance, x, y) in heap]"
      ],
      "metadata": {
        "id": "gPSvHqBQvuMB"
      },
      "execution_count": null,
      "outputs": []
    },
    {
      "cell_type": "markdown",
      "source": [
        "## Last Stone Weight"
      ],
      "metadata": {
        "id": "BWQT-UfyRSdK"
      }
    },
    {
      "cell_type": "code",
      "source": [
        "class Solution(object):\n",
        "    def lastStoneWeight(self, stones):\n",
        "        \"\"\"\n",
        "        :type stones: List[int]\n",
        "        :rtype: int\n",
        "        \"\"\"\n",
        "        # stones[i] is the weight of the ith stone\n",
        "        # on each turn, chose the HEAVIEST TWO STONES of weight x, y\n",
        "        # where x <= y\n",
        "\n",
        "        # if x == y, both stones are destroyed\n",
        "\n",
        "        # if x != y, x is destroyed and y becomes y - x\n",
        "\n",
        "        # at the end there is <= 1 stone left.\n",
        "        # Return the weight of the last remaining stone\n",
        "        # If there are no stones left return 0\n",
        "\n",
        "        heap = []\n",
        "\n",
        "        # max heap so we remove the\n",
        "        # Assign priority to each element\n",
        "        for stone in stones:\n",
        "            heappush(heap, -stone)\n",
        "\n",
        "        # Process the stones\n",
        "        while len(heap) > 1:\n",
        "            # Pop two heaviest stones\n",
        "            stone1 = -heappop(heap)\n",
        "            stone2 = -heappop(heap)\n",
        "\n",
        "            # If the stones have different weights\n",
        "            if stone1 != stone2:\n",
        "                # The new stone is the difference in weights\n",
        "                new_stone = stone1 - stone2\n",
        "                heappush(heap, -new_stone)\n",
        "\n",
        "        # Check if there is a stone left and return its weight\n",
        "        return -heappop(heap) if heap else 0"
      ],
      "metadata": {
        "id": "gzNTLouBRXxw"
      },
      "execution_count": null,
      "outputs": []
    },
    {
      "cell_type": "markdown",
      "source": [
        "## Kth Largest Element in an Array"
      ],
      "metadata": {
        "id": "07hPwYEKDPUY"
      }
    },
    {
      "cell_type": "code",
      "source": [
        "class Solution(object):\n",
        "    def findKthLargest(self, nums, k):\n",
        "        \"\"\"\n",
        "        :type nums: List[int]\n",
        "        :type k: int\n",
        "        :rtype: int\n",
        "        \"\"\"\n",
        "        # Add each element to a heap.\n",
        "        # We want the kth LARGEST element - we want to use a max heap\n",
        "\n",
        "        heap = []\n",
        "\n",
        "        for elem in nums:\n",
        "            heappush(heap, elem) # Add each element\n",
        "\n",
        "            if len(heap) > k:\n",
        "                heappop(heap) # Remove highest priority elements (elements with largest value)\n",
        "\n",
        "        return heap[0]"
      ],
      "metadata": {
        "id": "KX6_u9ZqDTPx"
      },
      "execution_count": null,
      "outputs": []
    },
    {
      "cell_type": "markdown",
      "source": [
        "## Task Scheduler"
      ],
      "metadata": {
        "id": "j4fsJ0JcDTlp"
      }
    },
    {
      "cell_type": "code",
      "source": [
        "# Suppose {A:6,B:4,C:2} n = 2 then we can fill the slot  in the matrix for clear visualization\n",
        "\t# At every row there will be three element since n = 2\n",
        "\t# So [\n",
        "\t#\t\t[ A  , B , C ],\n",
        "\t#\t\t[ A  , B , C ],\n",
        "\t#\t\t[ A , B , idle],\n",
        "\t#\t\t[ A , B , idle ],\n",
        "\t#\t\t[ A, idle , idle ],\n",
        "\t#       [ A , empty ,empty ]\n",
        "\t#    Here we can see that for first 5 row number of element is\n",
        "\t#     (maxfreq - 1) * ( number of element in column i.e (n + 1)\n",
        "\n",
        "\t#    For last row there might be all all three n + 1 element or less than that ,which depends upon\n",
        "\t#    frequency  of  elements in array.So we handle that case diffrently.\n",
        "\n",
        "\t#    For calculating number of element in last row,we can check how many character have\n",
        "\n",
        "\t#    max frequency which value of  last_row\n",
        "\t# So final answer will be\n",
        "\t\t\t\t\t#    ans = (number of row - 1) * ( column) + number of element in last row\n",
        "class Solution:\n",
        "    def leastInterval(self, tasks: List[str], n: int) -> int:\n",
        "        freq = Counter(tasks)\n",
        "        max_freq = max(freq.values())\n",
        "\n",
        "        freq = list(freq.values())\n",
        "\n",
        "        last_row = freq.count(max_freq)\n",
        "\n",
        "        ans = (max_freq - 1) * (n + 1) + last_row\n",
        "\n",
        "        return max(len(tasks),ans)"
      ],
      "metadata": {
        "id": "AAet8jBGK9kB"
      },
      "execution_count": null,
      "outputs": []
    },
    {
      "cell_type": "code",
      "source": [
        "class Solution(object):\n",
        "    def leastInterval(self, tasks, n):\n",
        "        \"\"\"\n",
        "        :type tasks: List[str]\n",
        "        :type n: int\n",
        "        :rtype: int\n",
        "        \"\"\"\n",
        "        # Tasks array - each letter represents a different task\n",
        "        # Tasks can be done in any order\n",
        "        # Each task is done in 1 unit of time, CPU can complete one task or be idle\n",
        "\n",
        "        # Integer n = cooldown period between two same tasks (the same letter in the Tasks array)\n",
        "        # There must >= n units of time between any two same tasks\n",
        "\n",
        "        # Return the least number of units of time that the CPU will take to finish all the given tasks\n",
        "\n",
        "        # n = 0 case\n",
        "        if n == 0:\n",
        "            return len(tasks)\n",
        "\n",
        "        # Count the frequency of each task\n",
        "        task_counts = collections.Counter(tasks)\n",
        "        max_freq = max(task_counts.values())\n",
        "\n",
        "        # Find out how many tasks have the maximum frequency\n",
        "        max_freq_tasks = sum(1 for task, freq in task_counts.items() if freq == max_freq)\n",
        "\n",
        "        # Calculate the total intervals\n",
        "        intervals = max_freq - 1\n",
        "        interval_length = n - (max_freq_tasks - 1)\n",
        "        empty_slots = intervals * interval_length\n",
        "\n",
        "        # Calculate the remaining tasks after filling the highest frequency tasks\n",
        "        remaining_tasks = len(tasks) - (max_freq * max_freq_tasks)\n",
        "        idles = max(0, empty_slots - remaining_tasks)\n",
        "\n",
        "        return len(tasks) + idles"
      ],
      "metadata": {
        "id": "WBBXxaWTDVpB"
      },
      "execution_count": null,
      "outputs": []
    },
    {
      "cell_type": "markdown",
      "source": [
        "## Design Twitter"
      ],
      "metadata": {
        "id": "rj5qkp2P26Q3"
      }
    },
    {
      "cell_type": "code",
      "source": [
        "class Twitter(object):\n",
        "\n",
        "    def __init__(self):\n",
        "        self.IdLog = defaultdict(set) # defaultdict(set) means when you put a new key, it will have default value of an empty set unless we update it. This prevents duplicates\n",
        "        self.tweets = []\n",
        "\n",
        "    def postTweet(self, userId, tweetId):\n",
        "        \"\"\"\n",
        "        :type userId: int\n",
        "        :type tweetId: int\n",
        "        :rtype: None\n",
        "        \"\"\"\n",
        "        # We are not actually worried about composing a tweetId\n",
        "        # the tweetId is provided. so we don't need to define it\n",
        "        self.tweets.append((userId, tweetId))\n",
        "\n",
        "\n",
        "    def getNewsFeed(self, userId):\n",
        "        \"\"\"\n",
        "        :type userId: int\n",
        "        :rtype: List[int]\n",
        "        \"\"\"\n",
        "\n",
        "        feed = []\n",
        "        i = len(self.tweets) - 1\n",
        "\n",
        "        while i >= 0 and len(feed) < 10:\n",
        "\n",
        "            # Index postTweet -- (self.tweets.append((userId, tweetId)))\n",
        "            if self.tweets[i][0] in self.IdLog[userId] or self.tweets[i][0] == userId:\n",
        "\n",
        "                # we want tweet IDs\n",
        "                feed.append(self.tweets[i][1])\n",
        "\n",
        "            i -= 1 # now decrease i in reverse. That way the tweets are returned in order\n",
        "\n",
        "        return feed\n",
        "\n",
        "\n",
        "\n",
        "    def follow(self, followerId, followeeId):\n",
        "        \"\"\"\n",
        "        :type followerId: int\n",
        "        :type followeeId: int\n",
        "        :rtype: None\n",
        "        \"\"\"\n",
        "        self.IdLog[followerId].add(followeeId) # Simply add new followeeId to the dictionary\n",
        "\n",
        "    def unfollow(self, followerId, followeeId):\n",
        "        \"\"\"\n",
        "        :type followerId: int\n",
        "        :type followeeId: int\n",
        "        :rtype: None\n",
        "        \"\"\"\n",
        "        if followeeId in self.IdLog[followerId]:\n",
        "            self.IdLog[followerId].remove(followeeId)\n",
        "\n",
        "        return self.IdLog\n",
        "\n",
        "# Your Twitter object will be instantiated and called as such:\n",
        "# obj = Twitter()\n",
        "# obj.postTweet(userId,tweetId)\n",
        "# param_2 = obj.getNewsFeed(userId)\n",
        "# obj.follow(followerId,followeeId)\n",
        "# obj.unfollow(followerId,followeeId)"
      ],
      "metadata": {
        "id": "wYIC0eTT280L"
      },
      "execution_count": null,
      "outputs": []
    },
    {
      "cell_type": "markdown",
      "source": [
        "# 5. Backtracking"
      ],
      "metadata": {
        "id": "3BemDm66kWGs"
      }
    },
    {
      "cell_type": "markdown",
      "source": [
        "## Subsets"
      ],
      "metadata": {
        "id": "VIhR9QODkYdh"
      }
    },
    {
      "cell_type": "code",
      "source": [
        "class Solution(object):\n",
        "    def subsets(self, nums):\n",
        "        \"\"\"\n",
        "        :type nums: List[int]\n",
        "        :rtype: List[List[int]]\n",
        "        \"\"\"\n",
        "        result = []\n",
        "        subset = []\n",
        "\n",
        "        def backtrack(start):\n",
        "            result.append(subset[:]) # copy the subset\n",
        "\n",
        "            for i in range(start, len(nums)):\n",
        "\n",
        "                # Include the number in the current subset\n",
        "                subset.append(nums[i])\n",
        "\n",
        "                # Move on to the next element\n",
        "                backtrack(i + 1)\n",
        "\n",
        "                # Exclude the number from the current subset (backtrack)\n",
        "                subset.pop()\n",
        "\n",
        "        backtrack(0)\n",
        "        return result\n",
        "\n",
        "# For each call of backtrack, it first adds the current subset to the result.\n",
        "# Then, it iterates over all elements starting from start, adding each element to the subset, and calling backtrack recursively for the next elements.\n",
        "# After the recursive call returns, it removes (pops) the last element added to subset to backtrack and explore other possibilities."
      ],
      "metadata": {
        "id": "RSx1ddQ14wAZ"
      },
      "execution_count": null,
      "outputs": []
    },
    {
      "cell_type": "markdown",
      "source": [
        "For a set with n elements. The bactrack function checks if they are in a subset or not. Thus there the time complexity is O(2^N)."
      ],
      "metadata": {
        "id": "2LOonrCU5uXh"
      }
    },
    {
      "cell_type": "markdown",
      "source": [
        "## Combination Sum"
      ],
      "metadata": {
        "id": "ky1wWItekcQ_"
      }
    },
    {
      "cell_type": "code",
      "source": [
        "class Solution(object):\n",
        "    def combinationSum(self, candidates, target):\n",
        "        \"\"\"\n",
        "        :type candidates: List[int]\n",
        "        :type target: int\n",
        "        :rtype: List[List[int]]\n",
        "        \"\"\"\n",
        "        # Array of disctinct integers - candidates\n",
        "        # target integer - target\n",
        "        # Return all unique combinations of candidates where the chosen numbers sum to target.\n",
        "        result, subset = [], []\n",
        "\n",
        "        def backtrack(start, current_sum):\n",
        "\n",
        "            if current_sum == target:\n",
        "                result.append(subset[:])\n",
        "                return # We have found a valid combination (subset). return from the current recursive call\n",
        "                # There will be (len(candidates) - start) recursive calls anyway, regardless of current sum.\n",
        "            if current_sum > target:\n",
        "                return\n",
        "\n",
        "            for i in range(start, len(candidates)):\n",
        "\n",
        "                # Include the number in the current subset\n",
        "                subset.append(candidates[i])\n",
        "\n",
        "                # Recur with the updated sum\n",
        "                backtrack(i, current_sum + candidates[i])\n",
        "\n",
        "                # Exclude the number from the current subset (backtrack)\n",
        "                subset.pop()\n",
        "\n",
        "        backtrack(0, 0)\n",
        "\n",
        "        return result"
      ],
      "metadata": {
        "id": "sqtRgqbbkfNc"
      },
      "execution_count": null,
      "outputs": []
    },
    {
      "cell_type": "markdown",
      "source": [
        "Time complexity not easily expressed as we are only considering options which meet the target. As a result, the worst case time complexity could be 2^N (if all combinations sum to target). But still not quite. It depends on start and candidates."
      ],
      "metadata": {
        "id": "FugztXlh97X-"
      }
    },
    {
      "cell_type": "markdown",
      "source": [
        "## Subsets II"
      ],
      "metadata": {
        "id": "fhrn-m1tyxRO"
      }
    },
    {
      "cell_type": "code",
      "source": [
        "class Solution(object):\n",
        "    def subsetsWithDup(self, nums):\n",
        "        \"\"\"\n",
        "        :type nums: List[int]\n",
        "        :rtype: List[List[int]]\n",
        "        \"\"\"\n",
        "        # The solution set must not contain duplicate subsets\n",
        "        # The difference here is that nums may contain duplicates\n",
        "        # Those duplicates may result in additional possible subsets\n",
        "\n",
        "        result, subset = [], []\n",
        "\n",
        "        def backtrack(start):\n",
        "\n",
        "            if sorted(subset) not in result:\n",
        "                result.append(sorted(subset[:]))\n",
        "\n",
        "            for i in range(start, len(nums)):\n",
        "\n",
        "                subset.append(nums[i])\n",
        "\n",
        "                backtrack(i + 1)\n",
        "\n",
        "                subset.pop()\n",
        "\n",
        "        backtrack(0)\n",
        "        return result"
      ],
      "metadata": {
        "id": "gxSfzgZxyzjb"
      },
      "execution_count": null,
      "outputs": []
    },
    {
      "cell_type": "markdown",
      "source": [
        "Sorted = N Log N time complexity\n",
        "\n",
        "Subsets = 2^N\n",
        "\n",
        "However checking for existence in results is O(N) at the worst case. So overall time complexity is not so simple. Depends on number of duplicates."
      ],
      "metadata": {
        "id": "50yGq3Co2Nx9"
      }
    },
    {
      "cell_type": "markdown",
      "source": [
        "## Permutations"
      ],
      "metadata": {
        "id": "mFIVSF4Gy0J0"
      }
    },
    {
      "cell_type": "code",
      "source": [
        "class Solution(object):\n",
        "    def permute(self, nums):\n",
        "        result = []\n",
        "        permutation = []\n",
        "        used = [False] * len(nums)  # To keep track of used elements\n",
        "\n",
        "        # Used checks if elements have been added to the current permutation\n",
        "\n",
        "        def backtrack():\n",
        "            # Base condition: if the permutation is complete\n",
        "            if len(permutation) == len(nums):\n",
        "                result.append(permutation[:])\n",
        "                return\n",
        "\n",
        "            for i in range(len(nums)):\n",
        "                if not used[i]:\n",
        "                    # Include the element\n",
        "                    permutation.append(nums[i])\n",
        "                    used[i] = True\n",
        "\n",
        "                    # Continue with the next element\n",
        "                    backtrack()\n",
        "\n",
        "                    # Backtrack\n",
        "                    permutation.pop()\n",
        "                    used[i] = False\n",
        "\n",
        "        backtrack()\n",
        "        return result"
      ],
      "metadata": {
        "id": "LiVFabVcy1ul"
      },
      "execution_count": null,
      "outputs": []
    },
    {
      "cell_type": "markdown",
      "source": [
        "## Combination Sum II"
      ],
      "metadata": {
        "id": "Q_LqwCwPn5oO"
      }
    },
    {
      "cell_type": "code",
      "source": [
        "class Solution(object):\n",
        "    def combinationSum2(self, candidates, target):\n",
        "        \"\"\"\n",
        "        :type candidates: List[int]\n",
        "        :type target: int\n",
        "        :rtype: List[List[int]]\n",
        "        \"\"\"\n",
        "        # we want all unique combinations, each number may only be used once\n",
        "        # No duplicates essentially\n",
        "\n",
        "        result, sumset = [], []\n",
        "        candidates.sort() # sort candidate for later duplicate check\n",
        "        def combsum(start, current_sum):\n",
        "\n",
        "            if current_sum == target:\n",
        "                result.append(sumset[:])\n",
        "                return\n",
        "\n",
        "            if current_sum > target:\n",
        "                return\n",
        "            # we can 'sort' sumset by ensuring that each subsequent element is >= the elements in sumset\n",
        "            for i in range(start, len(candidates)):\n",
        "                if i > start and candidates[i] == candidates[i-1]: # This check removes duplicate combinations such as [1,7] and later [7,1]\n",
        "                    continue\n",
        "\n",
        "                sumset.append(candidates[i])\n",
        "\n",
        "                combsum(i + 1, current_sum + candidates[i])\n",
        "\n",
        "                sumset.pop()\n",
        "\n",
        "        combsum(0, 0)\n",
        "        return result"
      ],
      "metadata": {
        "id": "Aw6OdXJrn8kL"
      },
      "execution_count": null,
      "outputs": []
    },
    {
      "cell_type": "markdown",
      "source": [
        "## Word Search"
      ],
      "metadata": {
        "id": "2AKJz06vn9DB"
      }
    },
    {
      "cell_type": "code",
      "source": [
        "class Solution(object):\n",
        "    def exist(self, board, word):\n",
        "        \"\"\"\n",
        "        :type board: List[List[str]]\n",
        "        :type word: str\n",
        "        :rtype: bool\n",
        "        \"\"\"\n",
        "        # board is an array of letters\n",
        "        # we want to return True if the board contains the word\n",
        "        # The word can be constructed from letters of sequentially adjacent cells\n",
        "            # adjacent cells are horizontally or vertically neighboring\n",
        "            # the same letter cell can't be used multiple times\n",
        "\n",
        "        ROWS, COLS = len(board), len(board[0])\n",
        "\n",
        "        def backtrack(r, c, index):\n",
        "            if index == len(word): # we have successfully found the word\n",
        "                return True\n",
        "\n",
        "            # if we are out of bounds, or the current cells character doesnt match the character in word\n",
        "            if r < 0 or c < 0 or r >= ROWS or c >= COLS or word[index] != board[r][c]:\n",
        "                return False\n",
        "\n",
        "            # mark the choice as visited by changing its value to '#'\n",
        "            temp, board[r][c] = board[r][c], '#'\n",
        "\n",
        "            # we call backtrack for the four adjacent cells\n",
        "            # Important!\n",
        "            found = (backtrack(r + 1, c, index + 1) or\n",
        "                     backtrack(r - 1, c, index + 1) or\n",
        "                     backtrack(r, c + 1, index + 1) or\n",
        "                     backtrack(r, c - 1, index + 1))\n",
        "\n",
        "            # backtrack: unmark the choice so that the cell can be used in subsequent searches\n",
        "            board[r][c] = temp\n",
        "            return found\n",
        "\n",
        "        # Simple check to see if the backtrack function works or not.\n",
        "        for r in range(ROWS):\n",
        "            for c in range(COLS):\n",
        "                if backtrack(r, c, 0):\n",
        "                    return True\n",
        "        return False"
      ],
      "metadata": {
        "id": "ofNZm-t4y5JV"
      },
      "execution_count": null,
      "outputs": []
    },
    {
      "cell_type": "markdown",
      "source": [
        "### Time complexity:\n",
        "\n",
        "- Double for loop (r, c traversal throughout the board): O(ROWS x COLS)\n",
        "- Recursive call through 4 directions of the board: O(4^L) where L is the length of the word\n",
        "- Overall: O(ROWS x COLS x 4^L)\n",
        "\n",
        "### Space complexity:\n",
        "\n",
        "- Recursive stack over length of the word: O(L) where L is the length of the word\n",
        "- No other storage of data using extra space, in place data storage has constant space complexity\n",
        "- Overall: O(L)"
      ],
      "metadata": {
        "id": "CH3z_aV9Q7pA"
      }
    },
    {
      "cell_type": "markdown",
      "source": [
        "## Palindrome Partitioning"
      ],
      "metadata": {
        "id": "I7R2odPpTPA6"
      }
    },
    {
      "cell_type": "code",
      "source": [
        "class Solution(object):\n",
        "    def partition(self, s):\n",
        "        result = []\n",
        "\n",
        "        # Function to check if a given string is a palindrome\n",
        "        def isPalindrome(sub):\n",
        "            return sub == sub[::-1]  # A string is a palindrome if it reads the same forwards and backwards\n",
        "\n",
        "        # Backtracking function to find palindrome partitions\n",
        "        def backtrack(start, path):\n",
        "            # Base case: if start reaches the end of the string,\n",
        "            # it means the current path is a valid partition\n",
        "            if start == len(s):\n",
        "                result.append(path[:])  # Add a copy of the current path to the result\n",
        "                return\n",
        "\n",
        "            # Iterate over the substring starting from 'start' index to the end of the string\n",
        "            for end in range(start + 1, len(s) + 1):\n",
        "                # Check if the substring from 'start' to 'end' is a palindrome\n",
        "                if isPalindrome(s[start:end]):\n",
        "                    # If it is, append it to the path\n",
        "                    path.append(s[start:end])\n",
        "                    # Recursively call backtrack to find next palindrome substring starting from 'end'\n",
        "                    backtrack(end, path)\n",
        "                    # Backtrack: remove the last element to try a new partition starting from the next index\n",
        "                    path.pop()\n",
        "\n",
        "        # Initialize the backtracking process\n",
        "        backtrack(0, [])\n",
        "        return result"
      ],
      "metadata": {
        "id": "wxucjZ1kTRet"
      },
      "execution_count": null,
      "outputs": []
    },
    {
      "cell_type": "markdown",
      "source": [
        "* String slicing is O(L) time complexity where L is the length of the string\n",
        "* No. of recursive calls depends on number of ways we can partition the string.\n",
        "For a string of length L, we can partition approximately 2^(L-1) times\n",
        "thus, **TIME COMPLEXITY: O(L x 2^L)**\n",
        "\n",
        "\n",
        "* No. of elements to be added to result depends on no. of partitions.\n",
        "Worst case we can partition 2^(L-1) times.\n",
        "* Depth of the recursive backtrack call is at most L. So space complexity O(L).\n",
        "* Overall **SPACE COMPLEXITY: O(L x 2^L)**"
      ],
      "metadata": {
        "id": "AvvYHNuVCzeP"
      }
    },
    {
      "cell_type": "code",
      "source": [
        "class Solution(object):\n",
        "    def partition(self, s):\n",
        "        \"\"\"\n",
        "        :type s: str\n",
        "        :rtype: List[List[str]]\n",
        "        \"\"\"\n",
        "        def isPalindrome(elem):\n",
        "            return elem == elem[::-1] # The reverse of the string\n",
        "            # string slicing is O(L) time complexity where L is the length of the string\n",
        "\n",
        "        result = []\n",
        "\n",
        "        # No. of recursive calls depends on number of ways we can partition the string.\n",
        "        # for a string of length L, we can partition approximately 2^L times\n",
        "        # thus, TIME COMPLEXITY: O(L x 2^L)\n",
        "        def backtrack(start, path):\n",
        "\n",
        "            if start == len(s): # if start equals length fo string, then it is a valid partition\n",
        "                result.append(path[:])\n",
        "                return\n",
        "\n",
        "            for end in range(start + 1, len(s) + 1): # strings indexing starts later\n",
        "\n",
        "                if isPalindrome(s[start:end]):\n",
        "\n",
        "                    path.append(s[start:end])\n",
        "\n",
        "                    backtrack(end, path)\n",
        "\n",
        "                    path.pop()\n",
        "\n",
        "        backtrack(0, [])\n",
        "        return result\n",
        "\n"
      ],
      "metadata": {
        "id": "xtrbNzqiCyVy"
      },
      "execution_count": null,
      "outputs": []
    },
    {
      "cell_type": "markdown",
      "source": [
        "**for end in range(start + 1, len(s) + 1):**\n",
        "* This loop is used to consider all possible substrings that start at index start. Since string slicing is end-exclusive, s[start:end] includes the characters from start up to end - 1.\n",
        "*  To include the character at end, you need to go one past it, hence len(s) + 1. If you used len(s) as the upper bound, you would never include the last character of the string in a substring.\n",
        "\n",
        "**backtrack(end, path):**\n",
        "* In the recursive call, you use end as the new start for the next recursion. This is because you have already considered the substring up to end - 1, and you want to start considering substrings from the next character."
      ],
      "metadata": {
        "id": "PHdPQc4EZi7d"
      }
    },
    {
      "cell_type": "markdown",
      "source": [
        "## Letter Combinations of a Phone Number"
      ],
      "metadata": {
        "id": "PcMZo806PBte"
      }
    },
    {
      "cell_type": "code",
      "source": [
        "class Solution(object):\n",
        "    def letterCombinations(self, digits):\n",
        "        \"\"\"\n",
        "        :type digits: str\n",
        "        :rtype: List[str]\n",
        "        \"\"\"\n",
        "        # Map in a dictionary\n",
        "\n",
        "        digit_to_letters = {\n",
        "            '2': 'abc',\n",
        "            '3': 'def',\n",
        "            '4': 'ghi',\n",
        "            '5': 'jkl',\n",
        "            '6': 'mno',\n",
        "            '7': 'pqrs',\n",
        "            '8': 'tuv',\n",
        "            '9': 'wxyz'\n",
        "        }\n",
        "\n",
        "        result = []\n",
        "\n",
        "        if not digits:\n",
        "            return []\n",
        "\n",
        "        def backtrack(index, path):\n",
        "\n",
        "            # if current combination is complete\n",
        "            if len(path) == len(digits):\n",
        "                result.append(''.join(path)) # string manipulation (as it is not originally a string)\n",
        "                return\n",
        "\n",
        "            for letter in digit_to_letters[digits[index]]:\n",
        "\n",
        "                path.append(letter) # Add the letter to current path\n",
        "\n",
        "                backtrack(index + 1, path) # Move on to the next digit\n",
        "\n",
        "                path.pop() # Backtrack\n",
        "\n",
        "        backtrack(0, [])\n",
        "        return result"
      ],
      "metadata": {
        "id": "O2v8iCKDPEfj"
      },
      "execution_count": null,
      "outputs": []
    },
    {
      "cell_type": "markdown",
      "source": [
        "**Time Complexity:**\n",
        "Number of Recursive Calls: For each digit in the input, the number of recursive calls depends on the number of letters mapped to that digit. For example, digits 2-6 and 8 map to 3 letters each, and digits 7 and 9 map to 4 letters each.\n",
        "Maximum Depth of Recursion: The depth of the recursive call stack is equal to the number of digits in the input, denoted as N.\n",
        "Overall Time Complexity: Assuming the average number of letters per digit is M (which is 3 for digits 2-6 and 8, and 4 for digits 7 and 9, so approximately 3.5), the total number of recursive calls made will be approximately M^N. However, for simplicity, you can approximate this as O(4^N), assuming each digit maps to 4 letters for a worst-case scenario.\n",
        "\n",
        "**Space Complexity:**\n",
        "Recursive Call Stack: The maximum depth of the recursive call stack is N, as the recursion goes as deep as the number of digits in the input.\n",
        "Storage for Combinations: In the worst case, all combinations of letters are stored. Each combination is of length N, and there are approximately 4^N combinations in the worst case.\n",
        "Overall Space Complexity: The space complexity can be approximated as O(4^N * N), considering the space for storing all combinations. However, if you are only considering the space used by the recursive call stack and not the output, then the space complexity is O(N)."
      ],
      "metadata": {
        "id": "A_HfJ_JIPGNL"
      }
    },
    {
      "cell_type": "markdown",
      "source": [
        "## Word Search II"
      ],
      "metadata": {
        "id": "jQxYo1L80WZD"
      }
    },
    {
      "cell_type": "code",
      "source": [
        "class TrieNode:\n",
        "    def __init__(self):\n",
        "        self.children = {}\n",
        "        self.isEndOfWord = False\n",
        "        self.word = None  # Store the word at the end node\n",
        "\n",
        "def buildTrie(words):\n",
        "    root = TrieNode()\n",
        "    for word in words:\n",
        "        node = root\n",
        "        for char in word:\n",
        "            if char not in node.children:\n",
        "                node.children[char] = TrieNode()\n",
        "            node = node.children[char]\n",
        "        node.isEndOfWord = True\n",
        "        node.word = word  # Store the word at the end node\n",
        "    return root\n",
        "\n",
        "class Solution(object):\n",
        "    def findWords(self, board, words):\n",
        "        root = buildTrie(words)\n",
        "        rows, cols = len(board), len(board[0])\n",
        "        res = []\n",
        "\n",
        "        def dfs(r, c, node):\n",
        "            char = board[r][c]\n",
        "            if char not in node.children:\n",
        "                return\n",
        "\n",
        "            next_node = node.children[char]\n",
        "            if next_node.isEndOfWord:\n",
        "                res.append(next_node.word)\n",
        "                next_node.isEndOfWord = False  # Avoid duplicate entries\n",
        "\n",
        "            board[r][c] = '#'  # Mark as visited\n",
        "            for dr, dc in [(1,0), (-1,0), (0,1), (0,-1)]:\n",
        "                nr, nc = r + dr, c + dc\n",
        "                if 0 <= nr < rows and 0 <= nc < cols and board[nr][nc] != '#':\n",
        "                    dfs(nr, nc, next_node)\n",
        "            board[r][c] = char  # Reset\n",
        "\n",
        "        for r in range(rows):\n",
        "            for c in range(cols):\n",
        "                if board[r][c] in root.children:\n",
        "                    dfs(r, c, root)\n",
        "\n",
        "        return res"
      ],
      "metadata": {
        "id": "X0XwIR1t0ZDQ"
      },
      "execution_count": null,
      "outputs": []
    },
    {
      "cell_type": "code",
      "source": [
        "class Solution(object):\n",
        "    def findWords(self, board, words):\n",
        "        \"\"\"\n",
        "        :type board: List[List[str]]\n",
        "        :type words: List[str]\n",
        "        :rtype: List[str]\n",
        "        \"\"\"\n",
        "        # m x n board, list of strings 'words'\n",
        "        # return all words on the board\n",
        "\n",
        "        # initialize rows and cols\n",
        "\n",
        "        rows, cols = len(board), len(board[0])\n",
        "        word_set = set(words)\n",
        "        res = set()\n",
        "\n",
        "        # backtracking function to check for individual words\n",
        "\n",
        "        def dfs(r, c, word, index):\n",
        "\n",
        "            if len(word) == index:\n",
        "                return True\n",
        "\n",
        "            if r >= rows or c >= cols or r < 0 or c < 0 or board[r][c] != word[index]:\n",
        "                return False\n",
        "\n",
        "            temp, board[r][c] = board[r][c], '#'\n",
        "\n",
        "            found = (\n",
        "                dfs(r+1, c, word, index + 1) or\n",
        "                dfs(r-1, c, word, index + 1) or\n",
        "                dfs(r, c+1, word, index + 1) or\n",
        "                dfs(r, c-1, word, index + 1)\n",
        "            )\n",
        "\n",
        "            board[r][c] = temp\n",
        "\n",
        "            return found\n",
        "\n",
        "        for word in word_set:\n",
        "            for r in range(rows):\n",
        "                for c in range(cols):\n",
        "                    if dfs(r, c, word, 0) and board[r][c] == word[0]:\n",
        "                        res.add(word)\n",
        "                        break\n",
        "\n",
        "        return res"
      ],
      "metadata": {
        "id": "ezfu8rzq5uHB"
      },
      "execution_count": null,
      "outputs": []
    },
    {
      "cell_type": "markdown",
      "source": [
        "# 7. Graphs"
      ],
      "metadata": {
        "id": "WuIK9NqFa85B"
      }
    },
    {
      "cell_type": "markdown",
      "source": [
        "## Number of Islands"
      ],
      "metadata": {
        "id": "BA_qkKwQbB4V"
      }
    },
    {
      "cell_type": "code",
      "source": [
        "class Solution(object):\n",
        "    def dfs(self, grid, i, j):\n",
        "        # dfs function is where we check surroundings of a given node/point\n",
        "        if i<0 or j<0 or i>=len(grid) or j>=len(grid[0]) or grid[i][j] != '1':\n",
        "            return\n",
        "\n",
        "        grid[i][j] = '#' #maps every connecting '1' to '#', thus marking them as visited.\n",
        "\n",
        "        # check all four directions\n",
        "        self.dfs(grid, i+1, j)\n",
        "        self.dfs(grid, i-1, j)\n",
        "        self.dfs(grid, i, j+1)\n",
        "        self.dfs(grid, i, j-1)\n",
        "        return\n",
        "\n",
        "    def numIslands(self, grid):\n",
        "        \"\"\"\n",
        "        :type grid: List[List[str]]\n",
        "        :rtype: int\n",
        "        \"\"\"\n",
        "        # An island is surrounded by water, and is formed by connecting adjacent lands horizontally or vertically (we can ignore diagonally)\n",
        "        # land = 1, water = 0\n",
        "        # if everything surrounding a 1 is 0, then we have an island\n",
        "        # we can assume that the edges of the grid itself are surrounded by water\n",
        "\n",
        "        if not grid:\n",
        "            return 0\n",
        "\n",
        "        count = 0\n",
        "        longit, latit = len(grid), len(grid[0])\n",
        "\n",
        "        for i in range(longit):\n",
        "            for j in range(latit):\n",
        "                if grid[i][j] == '1':\n",
        "                    self.dfs(grid, i, j)\n",
        "                    count += 1\n",
        "\n",
        "        return count"
      ],
      "metadata": {
        "id": "B-sAS-QMbEbm"
      },
      "execution_count": null,
      "outputs": []
    },
    {
      "cell_type": "markdown",
      "source": [
        "Whenever `grid[i][j] == '1'` is encountered in numIslands, it indicates the start of a new island. This is because the dfs function will mark all connected '1's as visited (by changing them to '#') from this starting point.\n",
        "\n",
        "The dfs function effectively traverses and marks the entire island that contains the `grid[i][j]` cell. Therefore, after the completion of this dfs call, the entire island to which `grid[i][j]` belongs has been visited.\n",
        "\n",
        "Hence, `count += 1` is correct because each time this condition is met, a new, previously unvisited island is discovered."
      ],
      "metadata": {
        "id": "R_BzoHSjwjNi"
      }
    },
    {
      "cell_type": "markdown",
      "source": [
        "**Time Complexity:** The time complexity is O(longit x latit), not O(longit x latit x N). This is because each cell in the grid is visited exactly once. The size of the grid is longit x latit, so that's the total number of operations in the worst case.\n",
        "\n",
        "The DFS function's time complexity is bounded by the number of cells in the grid since it only processes each cell once. `DFS` will visit each cell and mark it, ensuring no cell is processed more than once. Therefore, its complexity is also part of the O(longit x latit) complexity of `numIslands`.\n",
        "\n",
        "**Space Complexity:** The primary additional space used in your solution is the call stack due to recursion in DFS. In the worst case (where the grid is entirely land), the maximum depth of the recursion stack would be O(longit x latit). Therefore, the space complexity is O(longit x latit), not O(1)."
      ],
      "metadata": {
        "id": "mHmUWojGwwgQ"
      }
    },
    {
      "cell_type": "markdown",
      "source": [
        "## Clone Graph"
      ],
      "metadata": {
        "id": "fYeQ7eSJbMdy"
      }
    },
    {
      "cell_type": "code",
      "source": [
        "\"\"\"\n",
        "# Definition for a Node.\n",
        "class Node(object):\n",
        "    def __init__(self, val = 0, neighbors = None):\n",
        "        self.val = val\n",
        "        self.neighbors = neighbors if neighbors is not None else []\n",
        "\"\"\"\n",
        "\n",
        "class Solution(object):\n",
        "    def cloneGraph(self, node):\n",
        "        \"\"\"\n",
        "        :type node: Node\n",
        "        :rtype: Node\n",
        "        \"\"\"\n",
        "        if not node:\n",
        "            return node\n",
        "\n",
        "        # Dictionary to store the original node to its clone\n",
        "        self.clones = {}\n",
        "\n",
        "        def dfs(node):\n",
        "            if node in self.clones:\n",
        "                return self.clones[node]\n",
        "\n",
        "            # Create a clone for the current node\n",
        "            clone = Node(node.val)\n",
        "            self.clones[node] = clone\n",
        "\n",
        "            # Recursively clone all the neighbors\n",
        "            for neighbor in node.neighbors:\n",
        "              # self.neighbors = neighbors if neighbors is not None else [], so clone.neighbors is an empty list for now.\n",
        "                clone.neighbors.append(dfs(neighbor)) # recursively get all the neighbours of each neighbour and so on\n",
        "\n",
        "            return clone\n",
        "\n",
        "        return dfs(node)"
      ],
      "metadata": {
        "id": "mQT28YaNbOKy"
      },
      "execution_count": null,
      "outputs": []
    },
    {
      "cell_type": "markdown",
      "source": [
        "**Space Complexity**\n",
        "\n",
        "Clones Dictionary: The clones dictionary stores a copy of each node in the graph. If there are n nodes in the graph, the dictionary will have n entries. Therefore, the space complexity for the dictionary is O(n).\n",
        "\n",
        "Recursive Call Stack: In the worst-case scenario (like a linked list structure), the depth of the recursive call stack can go up to n, where n is the number of nodes in the graph. Therefore, the space complexity due to recursion is also O(n).\n",
        "\n",
        "Combining these, the total space complexity of the algorithm is O(n) + O(n) = O(n).\n",
        "\n",
        "**Time Complexity**\n",
        "\n",
        "Visiting Each Node: The algorithm visits each node exactly once. While visiting each node, it performs a constant amount of work (excluding the recursive calls).\n",
        "\n",
        "Processing Neighbors: For each node, the algorithm also iterates over its neighbors. If the total number of edges in the graph is e, then across all nodes, the algorithm does O(e) work."
      ],
      "metadata": {
        "id": "CaJ6a9lNSaMu"
      }
    },
    {
      "cell_type": "markdown",
      "source": [
        "## Max Area of Island"
      ],
      "metadata": {
        "id": "_vd2VbuyYg7B"
      }
    },
    {
      "cell_type": "code",
      "source": [
        "class Solution(object):\n",
        "    def maxAreaOfIsland(self, grid):\n",
        "        \"\"\"\n",
        "        :type grid: List[List[int]]\n",
        "        :rtype: int\n",
        "        \"\"\"\n",
        "\n",
        "        if grid is None:\n",
        "            return 0\n",
        "\n",
        "\n",
        "        max_area, longit, latit = 0, len(grid), len(grid[0])\n",
        "\n",
        "        for i in range(longit):\n",
        "            for j in range(latit):\n",
        "                if grid[i][j] == 1:\n",
        "                    self.area = 0\n",
        "                    self.dfs(grid, i, j)\n",
        "                    max_area = max(max_area, self.area) # update max_area\n",
        "\n",
        "        return max_area\n",
        "\n",
        "    def dfs(self, grid, i, j):\n",
        "\n",
        "        if i>= len(grid) or j >= len(grid[0]) or i < 0 or j < 0 or grid[i][j] != 1:\n",
        "            return\n",
        "\n",
        "\n",
        "        self.area += 1\n",
        "        grid[i][j] = '#'\n",
        "\n",
        "        self.dfs(grid, i+1, j)\n",
        "        self.dfs(grid, i-1, j)\n",
        "        self.dfs(grid, i, j+1)\n",
        "        self.dfs(grid, i, j-1)\n",
        "        return"
      ],
      "metadata": {
        "id": "8m63tBKbYi-X"
      },
      "execution_count": null,
      "outputs": []
    },
    {
      "cell_type": "markdown",
      "source": [
        "**Time Complexity**\n",
        "\n",
        "O(longit x latit) - The worst case is we visit every cell in the board once.\n",
        "\n",
        "**Space Complexity**\n",
        "\n",
        "O(longit x latit) - In the worst case, the entire grid could be filled with '1's, forming a single large island. In such a case, the depth of the recursive call stack could potentially be as large as the total number of cells in the grid"
      ],
      "metadata": {
        "id": "_fnHukBZi2eA"
      }
    },
    {
      "cell_type": "markdown",
      "source": [
        "## Pacific Atlantic Water Flow"
      ],
      "metadata": {
        "id": "jBIQ5dKpYjbg"
      }
    },
    {
      "cell_type": "code",
      "source": [
        "class Solution(object):\n",
        "    def pacificAtlantic(self, heights):\n",
        "        \"\"\"\n",
        "        :type heights: List[List[int]]\n",
        "        :rtype: List[List[int]]\n",
        "        \"\"\"\n",
        "\n",
        "        # mxn rectangular island that borders both the pacific and atlantic oceans\n",
        "        # pacific touches islands top and left edges\n",
        "        # atlantic touches islands bottom and right edges\n",
        "\n",
        "        # heights represents the height above sea level of the cell at coordinate (r,c)\n",
        "\n",
        "        # rainwater can flow to neighbouring cells (4 cardinal directions) if the cells height is <= the current cell's height\n",
        "\n",
        "        # return a 2D list of coordinates result where result[i] = [r_i, c_i] denotes that rain water can flow from cell (r_i, c_i) to both the pacific and atlantic oceans\n",
        "\n",
        "        #check all 4 directions, if the height is less than predecessor, then abort\n",
        "\n",
        "        if not heights:\n",
        "            return []\n",
        "\n",
        "        self.longit, self.latit = len(heights), len(heights[0])\n",
        "        pacific_reachable = set()\n",
        "        atlantic_reachable = set()\n",
        "\n",
        "        def dfs(i, j, reachable):\n",
        "            if (i, j) in reachable:\n",
        "                return\n",
        "            reachable.add((i, j))\n",
        "\n",
        "            for x, y in [(i+1, j), (i-1, j), (i, j+1), (i, j-1)]:\n",
        "                if 0 <= x < self.longit and 0 <= y < self.latit and heights[x][y] >= heights[i][j]:\n",
        "                    dfs(x, y, reachable)\n",
        "\n",
        "            return\n",
        "\n",
        "\n",
        "\n",
        "\n",
        "        # Start DFS from Pacific and Atlantic boundaries\n",
        "        for i in range(self.longit):\n",
        "            dfs(i, 0, pacific_reachable)\n",
        "            dfs(i, self.latit - 1, atlantic_reachable)\n",
        "        for j in range(self.latit):\n",
        "            dfs(0, j, pacific_reachable)\n",
        "            dfs(self.longit - 1, j, atlantic_reachable)\n",
        "\n",
        "        # Intersection of cells reachable from both oceans\n",
        "        return list(pacific_reachable & atlantic_reachable)"
      ],
      "metadata": {
        "id": "Gmmt4i8MYkGu"
      },
      "execution_count": null,
      "outputs": []
    },
    {
      "cell_type": "markdown",
      "source": [
        "**Time and Space Complexity**\n",
        "\n",
        "At worst case, both O(longit x latit).\n",
        "\n",
        "Space complexity: Space is used for both reachable sets. At worst case, both sets could contain all the cells in the boards. Thus O(longit x latit) + O(longit x latit) = O(longit x latit)\n",
        "\n",
        "Time complexity: Since there are longit x latit no. of cells, the worst case is that every cell is reachable from both oceans. Thus time complexity of O(longit x latit)."
      ],
      "metadata": {
        "id": "Y2Zz25SHrUHk"
      }
    },
    {
      "cell_type": "markdown",
      "source": [
        "## Surrounded Regions"
      ],
      "metadata": {
        "id": "yL87msCuYkif"
      }
    },
    {
      "cell_type": "code",
      "source": [
        "class Solution(object):\n",
        "    def solve(self, board):\n",
        "        if not board or not board[0]:\n",
        "            return\n",
        "\n",
        "        self.rows, self.cols = len(board), len(board[0])\n",
        "\n",
        "        # Mark the 'O's connected to the boundary\n",
        "        for i in range(self.rows):\n",
        "            for j in range(self.cols):\n",
        "                if (i in [0, self.rows-1] or j in [0, self.cols-1]) and board[i][j] == 'O':\n",
        "                    self.dfs(board, i, j)\n",
        "\n",
        "        # Capture the rest and restore the boundary 'O's\n",
        "        for i in range(self.rows):\n",
        "            for j in range(self.cols):\n",
        "                if board[i][j] == 'O':\n",
        "                    board[i][j] = 'X'\n",
        "                elif board[i][j] == 'T':  # Temporary marker\n",
        "                    board[i][j] = 'O'\n",
        "\n",
        "    def dfs(self, board, i, j):\n",
        "        if i < 0 or i >= self.rows or j < 0 or j >= self.cols or board[i][j] != 'O':\n",
        "            return\n",
        "\n",
        "        board[i][j] = 'T'  # Temporary mark the 'O's connected to boundary\n",
        "\n",
        "        # Explore all four directions\n",
        "        self.dfs(board, i+1, j)\n",
        "        self.dfs(board, i-1, j)\n",
        "        self.dfs(board, i, j+1)\n",
        "        self.dfs(board, i, j-1)\n"
      ],
      "metadata": {
        "id": "ROH1jSKhYlFf"
      },
      "execution_count": null,
      "outputs": []
    },
    {
      "cell_type": "markdown",
      "source": [
        "**Time and Space complexity**\n",
        "\n",
        "Both are O(rows x cols) for similar reasons to above questions."
      ],
      "metadata": {
        "id": "Wte81o71zH9m"
      }
    },
    {
      "cell_type": "markdown",
      "source": [
        "## Rotten Oranges"
      ],
      "metadata": {
        "id": "BE9SRjcpaVg5"
      }
    },
    {
      "cell_type": "code",
      "source": [
        "class Solution(object):\n",
        "    def orangesRotting(self, grid):\n",
        "        \"\"\"\n",
        "        :type grid: List[List[int]]\n",
        "        :rtype: int\n",
        "        \"\"\"\n",
        "        # 0 represents an empty cell\n",
        "        # 1 a fresh orange\n",
        "        # 2 a rotten orange\n",
        "\n",
        "        # Every minute a fresh orange that is 4-directionally adjacent to a rotten orange becomes rotten.\n",
        "\n",
        "        # So for each direction, if the cell is a 2, after 4-dir search, if cell is 1, cell becomes 2, repeat.\n",
        "\n",
        "        # BFS is better so we can count all simulataenous orange rottings in the same time frame\n",
        "\n",
        "        queue = deque()\n",
        "        time, count, rows, cols = -1, 0, len(grid), len(grid[0])\n",
        "\n",
        "        for i in range(rows):\n",
        "            for j in range(cols):\n",
        "                if grid[i][j] == 1:\n",
        "                    count+=1\n",
        "                elif grid[i][j] == 2:\n",
        "                    queue.append((i,j))\n",
        "\n",
        "        while len(queue) > 0:\n",
        "            rotten = []\n",
        "            while len(queue) > 0: # another while loop so rotten isnt reassigned to [] every time\n",
        "                rotten.append(queue.popleft())\n",
        "            for orange in rotten:\n",
        "                i,j = orange\n",
        "                for x, y in [(i+1, j), (i-1, j), (i, j+1), (i, j-1)]:\n",
        "                    if rows > x >= 0 and cols > y >= 0 and grid[x][y] == 1:\n",
        "                        grid[x][y] = 2\n",
        "                        count -= 1 #decrease the count until count becomes 0 (when all normal oranges are accounted for)\n",
        "                        queue.append((x,y))\n",
        "\n",
        "            time += 1\n",
        "\n",
        "        if not count:\n",
        "            return max(time,0)\n",
        "        else:\n",
        "            return -1\n",
        "\n"
      ],
      "metadata": {
        "id": "n6iTFmTIaYEf"
      },
      "execution_count": null,
      "outputs": []
    },
    {
      "cell_type": "markdown",
      "source": [
        "O(rows x cols) Space and Time complexity worst case."
      ],
      "metadata": {
        "id": "KxVbfy3farZ3"
      }
    },
    {
      "cell_type": "markdown",
      "source": [
        "## Course Scheduler"
      ],
      "metadata": {
        "id": "_vDodCFzaaMc"
      }
    },
    {
      "cell_type": "code",
      "source": [
        "class Solution(object):\n",
        "    def canFinish(self, numCourses, prerequisites):\n",
        "        \"\"\"\n",
        "        :type numCourses: int\n",
        "        :type prerequisites: List[List[int]]\n",
        "        :rtype: bool\n",
        "        \"\"\"\n",
        "\n",
        "        # prerequisites[a, b] - you need to take course b before course a\n",
        "        # numCourses is the number of courses you have to take\n",
        "        # return true if you can finish all courses, otherwise return false\n",
        "\n",
        "        # Initialize an adjacency list to represent the graph.\n",
        "        lst = collections.defaultdict(list)\n",
        "\n",
        "        # Initialize a queue for BFS.\n",
        "        queue = collections.deque()\n",
        "\n",
        "        # Initialize an array to store the in-degree of each course.\n",
        "        # In-degree represents how many prerequisites each course has.\n",
        "        order = [0] * numCourses\n",
        "\n",
        "        # Build the graph and compute the in-degrees of each course.\n",
        "        for i, j in prerequisites:\n",
        "            lst[j].append(i)  # Add course i to the adjacency list of course j\n",
        "            order[i] += 1  # Increment in-degree of course i\n",
        "\n",
        "        # Enqueue courses with zero in-degree.\n",
        "        for i in range(len(order)):\n",
        "            if order[i] == 0:\n",
        "                queue.append(i)\n",
        "\n",
        "        # Initialize count of processed courses.\n",
        "        count = 0\n",
        "\n",
        "        while queue:\n",
        "            current = queue.popleft()  # Process the next course with zero in-degree.\n",
        "            count += 1  # Increment count of processed courses.\n",
        "\n",
        "            # Decrease the in-degree of adjacent courses and enqueue if in-degree becomes zero.\n",
        "            for i in lst[current]:\n",
        "                order[i] -= 1\n",
        "                if order[i] == 0:\n",
        "                    queue.append(i)\n",
        "# The graph is represented using an adjacency list (lst), where each key-value pair represents a course and its list of subsequent courses.\n",
        "# The order array tracks the in-degree (number of prerequisites) for each course.\n",
        "# The BFS approach is used to process each course, starting with those that have zero in-degree (no prerequisites).\n",
        "# Courses are added to the queue when their in-degree becomes zero, meaning they are ready to be taken.\n",
        "\n",
        "        # If count equals numCourses, all courses can be completed (no cycle detected).\n",
        "        return count == numCourses"
      ],
      "metadata": {
        "id": "UvJh4LdyaZ4I"
      },
      "execution_count": null,
      "outputs": []
    },
    {
      "cell_type": "markdown",
      "source": [
        "**Time Complexity:**\n",
        "\n",
        "* Graph Construction: The loop for i, j in prerequisites: runs once for each prerequisite, so it has a time complexity of O(P), where P is the number of prerequisites.\n",
        "\n",
        "* Queue Operations: The while queue: loop processes each course exactly once. Each course is enqueued and dequeued a single time, resulting in O(C) operations, where C is the number of courses.\n",
        "\n",
        "* Adjacency List Traversal: Inside the while loop, the code iterates over the adjacency list of each course. In the worst case, it will iterate over all prerequisites once. Hence, this part also contributes O(P).\n",
        "\n",
        "Combining these, the total time complexity is O(P + C), which is often simplified to O(P) assuming the number of prerequisites dominates the number of courses.\n",
        "\n",
        "**Space Complexity:**\n",
        "\n",
        "* Adjacency List: The adjacency list lst stores all the prerequisites. In the worst case, it will hold all P prerequisites, giving a space complexity of O(P).\n",
        "* In-Degree Array: The order array has a length equal to the number of courses, so its space complexity is O(C).\n",
        "* Queue: In the worst case, the queue might hold all the courses (when they have no prerequisites or their prerequisites are already satisfied), so it also contributes O(C) to the space complexity.\n",
        "\n",
        "Therefore, the total space complexity is O(P + C), which can also be simplified to O(P) under the assumption that the number of prerequisites is the larger factor."
      ],
      "metadata": {
        "id": "z4tfBL3TkroS"
      }
    },
    {
      "cell_type": "markdown",
      "source": [
        "## Course Scheduler II"
      ],
      "metadata": {
        "id": "j7gKc-Amaa9i"
      }
    },
    {
      "cell_type": "code",
      "source": [
        "class Solution(object):\n",
        "    def findOrder(self, numCourses, prerequisites):\n",
        "        \"\"\"\n",
        "        :type numCourses: int\n",
        "        :type prerequisites: List[List[int]]\n",
        "        :rtype: List[int]\n",
        "        \"\"\"\n",
        "\n",
        "\n",
        "        count, graph, queue, ordering = 0, collections.defaultdict(list), collections.deque(), []\n",
        "\n",
        "        order = [0] * numCourses\n",
        "\n",
        "        for x, y in prerequisites:\n",
        "            graph[y].append(x)\n",
        "            order[x] += 1\n",
        "\n",
        "        for i in range(len(order)):\n",
        "            if order[i] == 0:\n",
        "                queue.append(i)\n",
        "\n",
        "        while queue:\n",
        "            current = queue.popleft()\n",
        "            ordering.append(current) # ordering is determined by when the course is removed from the queue.\n",
        "            count += 1\n",
        "\n",
        "            for i in graph[current]:\n",
        "                order[i] -= 1\n",
        "                if order[i] == 0:\n",
        "                    queue.append(i)\n",
        "\n",
        "\n",
        "        if count == numCourses:\n",
        "            return ordering\n",
        "        else:\n",
        "            return []\n"
      ],
      "metadata": {
        "id": "NLCxtf3vaarn"
      },
      "execution_count": null,
      "outputs": []
    },
    {
      "cell_type": "markdown",
      "source": [
        "Same time and space complexity as above -- O(P + C)"
      ],
      "metadata": {
        "id": "_zHlp7fHsOF7"
      }
    },
    {
      "cell_type": "markdown",
      "source": [
        "## Redundant Connection"
      ],
      "metadata": {
        "id": "Q_I8EHIXab2X"
      }
    },
    {
      "cell_type": "code",
      "source": [
        "class Solution(object):\n",
        "    def findRedundantConnection(self, edges):\n",
        "        \"\"\"\n",
        "        :type edges: List[List[int]]\n",
        "        :rtype: List[int]\n",
        "        \"\"\"\n",
        "        # graph started as a tree with n nodes labeled 1 to n with 1 additional edge added\n",
        "        # the added edge has two different vertices chosen from 1 to n\n",
        "        # the graph is an array of edges, edge[i] = [a_i, b_i] where a an b are nodes in the graph\n",
        "\n",
        "        # we want to return an edge that can be removed so that the resulting graph is a tree of n nodes again.\n",
        "\n",
        "        # DFS function to check if there's a path between nodes u and v.\n",
        "        def dfs(u, v):\n",
        "            if u in visited:  # If u is already visited, stop the search.\n",
        "                return False\n",
        "            if u == v:  # If u equals v, a path is found.\n",
        "                return True\n",
        "\n",
        "            visited.add(u)  # Mark u as visited.\n",
        "\n",
        "            # Recursively visit all the neighbors of u.\n",
        "            for i in graph[u]:\n",
        "                if dfs(i, v):\n",
        "                    return True\n",
        "            return False  # Return False if no path is found.\n",
        "\n",
        "        n = len(edges)\n",
        "        graph = defaultdict(list)  # Create a graph using an adjacency list.\n",
        "\n",
        "        ans = []  # To store the redundant edge.\n",
        "        for u, v in edges:\n",
        "            visited = set()  # Reset the visited set for each edge.\n",
        "\n",
        "            # Check if adding the edge (u, v) creates a cycle.\n",
        "            # If u and v are already connected, the edge is redundant.\n",
        "            if dfs(u, v):\n",
        "                ans = [u, v]\n",
        "\n",
        "            # Add the edge to the graph.\n",
        "            graph[u].append(v)\n",
        "            graph[v].append(u)\n",
        "\n",
        "        return ans  # Return the redundant edge."
      ],
      "metadata": {
        "id": "uQnW2RZrabgG"
      },
      "execution_count": null,
      "outputs": []
    },
    {
      "cell_type": "markdown",
      "source": [
        "**Time Complexity: O(N²)**\n",
        "\n",
        "* The function iterates over each edge once, and there are N edges, where N is the number of edges in the input.\n",
        "\n",
        "* For each edge, a DFS is performed. In the worst case, DFS can visit all nodes in the graph. Since the graph is almost a tree with an extra edge, there can be up to N nodes.\n",
        "\n",
        "* Thus, in the worst case, the time complexity is O(N) for the outer loop (iterating over edges) multiplied by O(N) for the DFS, resulting in O(N²).\n",
        "\n",
        "**Space Complexity: O(N)**\n",
        "\n",
        "* The space complexity is dominated by the storage required for the graph representation and the DFS stack.\n",
        "* The graph is stored as an adjacency list, which in the worst case can contain all N edges, resulting in a space complexity of O(N).\n",
        "* The DFS recursion stack can, in the worst case, go as deep as the number of nodes in the graph, which is O(N) in this case.\n",
        "* Additionally, the visited set used in DFS is reset for each edge and will at most contain N elements in the worst case.\n",
        "\n",
        "Therefore, the overall space complexity is O(N)"
      ],
      "metadata": {
        "id": "WOs1b4SqF1bj"
      }
    },
    {
      "cell_type": "markdown",
      "source": [
        "# 8. Advanced Graphs"
      ],
      "metadata": {
        "id": "g3-OITDe2jEW"
      }
    },
    {
      "cell_type": "markdown",
      "source": [
        "## Reconstruct Itinerary"
      ],
      "metadata": {
        "id": "iDSGsTyE2m6j"
      }
    },
    {
      "cell_type": "code",
      "source": [
        "class Solution(object):\n",
        "    def findItinerary(self, tickets):\n",
        "        \"\"\"\n",
        "        :type tickets: List[List[str]]\n",
        "        :rtype: List[str]\n",
        "        \"\"\"\n",
        "        # tickets[i] = [from_i, to_i]\n",
        "        # reconstruct the itinerary in order and return it\n",
        "        # The itinerary must begin with JFK. If there are multiple valid itineraries, we return\n",
        "        # the itinerary which has the smallest lexical order when read as a single string\n",
        "        # i.e ABC comes before ABD as C comes before D\n",
        "\n",
        "        graph, itin = collections.defaultdict(list), []\n",
        "\n",
        "        # Create the graph and sort destinations in lexical order\n",
        "        for x, y in sorted(tickets):\n",
        "            graph[x].append(y)\n",
        "\n",
        "\n",
        "        self.dfs('JFK', graph, itin)\n",
        "\n",
        "        return itin[::-1]  # reverse the itinerary as we build it backward in dfs\n",
        "\n",
        "    def dfs(self, node, graph, itin):\n",
        "        # Continue to traverse as long as the current node has adjacent nodes (destinations).\n",
        "        # This loop explores all possible paths from the current node.\n",
        "        while graph[node]:\n",
        "            # The destinations are sorted in lexical order.\n",
        "            # pop(0) removes and returns the first destination, which is the smallest in lexical order.\n",
        "            # This ensures we always pick the next destination with the smallest lexical order.\n",
        "            next_node = graph[node].pop(0)\n",
        "\n",
        "            # Recursively perform DFS from the next node.\n",
        "            # This step continues the depth-first traversal from the next node.\n",
        "            # It will explore all paths from this next node before moving to the next destination of the current node.\n",
        "            self.dfs(next_node, graph, itin)\n",
        "\n",
        "        # Append the current node to the itinerary.\n",
        "        # This is done after exploring all paths from the current node, indicating we've used all tickets from this node.\n",
        "        # The itinerary list is built in reverse, as we add the final destinations first.\n",
        "        # The first node to be added will actually be the last node in the final itinerary.\n",
        "        itin.append(node)\n",
        "\n",
        "        # No explicit return is needed as the function returns None by default.\n",
        "        # This marks the end of the current DFS call.\n"
      ],
      "metadata": {
        "id": "dp-09clf2wip"
      },
      "execution_count": null,
      "outputs": []
    },
    {
      "cell_type": "markdown",
      "source": [
        "**Time Complexity:**\n",
        "\n",
        "* Graph Construction: The for x, y in sorted(tickets): loop has a complexity\n",
        "of O(T log T), where T is the number of tickets. This is due to the sorting of the tickets.\n",
        "* DFS Calls: The DFS function is called recursively. In the worst case, it visits each ticket once. However, note that the number of DFS calls is not directly proportional to the number of unique nodes (airports) but rather to the number of tickets (edges in the graph). If we denote the number of tickets as T, the DFS traversal has a complexity of O(T) since each ticket is considered exactly once.\n",
        "\n",
        "So, the total time complexity is O(T log T) for sorting the tickets plus O(T) for the DFS, resulting in O(T log T).\n",
        "\n",
        "**Space Complexity:**\n",
        "\n",
        "* Graph Storage: The graph stores each ticket as an edge, leading to a space complexity of O(T).\n",
        "* Itinerary List: The itin list will hold a number of elements equal to the number of tickets plus one (for the starting point), so it's also O(T).\n",
        "* DFS Stack: The recursive stack's maximum depth will be proportional to the number of tickets in the worst case, which is O(T).\n",
        "\n",
        "Combining these, the space complexity is also O(T)."
      ],
      "metadata": {
        "id": "_RsodSw-HMpT"
      }
    },
    {
      "cell_type": "markdown",
      "source": [
        "## Min Cost to Connect all Points"
      ],
      "metadata": {
        "id": "EvR2hOG12pvD"
      }
    },
    {
      "cell_type": "code",
      "source": [
        "class Solution(object):\n",
        "    def minCostConnectPoints(self, points):\n",
        "        \"\"\"\n",
        "        :type points: List[List[int]]\n",
        "        :rtype: int\n",
        "        \"\"\"\n",
        "        # points[i] = [xi, yi]\n",
        "        # The cost of connecting two points [xi, yi] and [xj, yj] is:\n",
        "        # |xi - xj| + |yi - yj|\n",
        "        # Return the minimum cost to make all points connected. All points are connected if there is exactly one simple path between any two points.\n",
        "\n",
        "        # Use a priority queue (min heap), so cost will be priority\n",
        "\n",
        "        # Calculate the Manhattan distance between two points\n",
        "        def manhattan(p1, p2):\n",
        "            return abs(p1[0] - p2[0]) + abs(p1[1] - p2[1])\n",
        "\n",
        "        # Number of points\n",
        "        n = len(points)\n",
        "        # Total cost to connect all points\n",
        "        total_cost = 0\n",
        "        # Min heap to get the point with minimum cost to connect\n",
        "        min_heap = [(0, 0)]  # (cost, point_index)\n",
        "        # Set to keep track of visited points\n",
        "        visited = set()\n",
        "\n",
        "        while len(visited) < n:\n",
        "            cost, i = heappop(min_heap) # min_heap is a tuple of two values, i is the point_index\n",
        "            # heappop removes the smallest value from the heap in terms of priority\n",
        "\n",
        "            if i in visited:\n",
        "                continue\n",
        "\n",
        "            visited.add(i)\n",
        "            total_cost += cost\n",
        "\n",
        "            for j in range(n):\n",
        "                if j not in visited: # We can't have both i and j points in visited, otherwise were getting extra points\n",
        "                    heappush(min_heap, (manhattan(points[i], points[j]), j)) # add the manhattan distance to the heap, index it with j\n",
        "                    # This updates the cost variable in the while loop\n",
        "\n",
        "        return total_cost\n"
      ],
      "metadata": {
        "id": "S-aIefOc2xTR"
      },
      "execution_count": null,
      "outputs": []
    },
    {
      "cell_type": "markdown",
      "source": [
        "**Time Complexity:**\n",
        "\n",
        "Min Heap Operations: The key operations in the while loop involve heappop and heappush. The number of times these operations occur is not just n but depends on how many times points are added to the heap. Each point can be added up to n times (once for each of the other points). Thus, if there are n points, the total number of heap operations can be up to n^2.\n",
        "\n",
        "Heap Operation Complexity: The complexity of heappop and heappush operations is O(log N) where N is the number of items in the heap. In the worst case, the heap can have up to n items. Therefore, each heappop and heappush operation has a complexity of O(log n).\n",
        "\n",
        "Total Time Complexity: Combining these factors, the total time complexity is O(n^2 log n) because you have up to n^2 heap operations, each of which is O(log n).\n",
        "\n",
        "**Space Complexity:**\n",
        "\n",
        "Heap Storage: The heap can store up to n points at any time, so its space complexity is O(n).\n",
        "\n",
        "Visited Set: The visited set will contain each point once, so its space complexity is also O(n).\n",
        "\n",
        "Total Space Complexity: Combining these, the total space complexity is O(n), dominated by the heap and the visited set."
      ],
      "metadata": {
        "id": "uXQEaJLAHg5W"
      }
    },
    {
      "cell_type": "markdown",
      "source": [
        "## Network Delay"
      ],
      "metadata": {
        "id": "lHZd8hGz2tvf"
      }
    },
    {
      "cell_type": "code",
      "source": [
        "class Solution(object):\n",
        "    def networkDelayTime(self, times, n, k):\n",
        "        \"\"\"\n",
        "        :type times: List[List[int]]\n",
        "        :type n: int\n",
        "        :type k: int\n",
        "        :rtype: int\n",
        "        \"\"\"\n",
        "        # network of n nodes\n",
        "        # times[i] = (ui, vi, wi) - ui is source node, vi is target node, wi is time taken for signal to travel from ui to vi\n",
        "\n",
        "        # Use a priority queue to ensure next node is shortest\n",
        "        # Create a graph from the times data\n",
        "        graph = {}\n",
        "        for u, v, w in times:\n",
        "            if u in graph:\n",
        "                graph[u].append((v, w))\n",
        "            else:\n",
        "                graph[u] = [(v, w)]\n",
        "\n",
        "        # Initialize distances and visited set\n",
        "        distance = {node: float('inf') for node in range(1, n+1)}\n",
        "        distance[k] = 0\n",
        "        visited = set()\n",
        "\n",
        "        # Priority queue (min heap) for Dijkstra's algorithm\n",
        "        queue = [(0, k)]\n",
        "\n",
        "        while queue:\n",
        "            dist, node = heapq.heappop(queue)\n",
        "            visited.add(node)\n",
        "\n",
        "            if node not in graph:\n",
        "                continue\n",
        "\n",
        "            for neigh, time in graph[node]:\n",
        "                if neigh not in visited:\n",
        "                    old_cost = distance[neigh]\n",
        "                    new_cost = dist + time\n",
        "                    if new_cost < old_cost:\n",
        "                        distance[neigh] = new_cost\n",
        "                        heapq.heappush(queue, (new_cost, neigh))\n",
        "\n",
        "        # Calculate final result\n",
        "        max_dist = max(distance.values())\n",
        "        return max_dist if max_dist < float('inf') else -1"
      ],
      "metadata": {
        "id": "2OJYN2I620JG"
      },
      "execution_count": null,
      "outputs": []
    },
    {
      "cell_type": "markdown",
      "source": [],
      "metadata": {
        "id": "yjThN0aJI3iK"
      }
    },
    {
      "cell_type": "markdown",
      "source": [
        "## Swim in Rising Water"
      ],
      "metadata": {
        "id": "r9xW1xYa202x"
      }
    },
    {
      "cell_type": "code",
      "source": [
        "class Solution(object):\n",
        "    def swimInWater(self, grid):\n",
        "        N = len(grid)\n",
        "\n",
        "        # The min heap stores entries of form (elevation, x, y)\n",
        "        min_heap = [(grid[0][0], 0, 0)]\n",
        "        # Set to keep track of visited cells\n",
        "        visited = set((0, 0))\n",
        "        # Directions for moving up, down, left, right\n",
        "        directions = [(1, 0), (-1, 0), (0, 1), (0, -1)]\n",
        "        # The maximum elevation seen so far\n",
        "        max_elevation = grid[0][0]\n",
        "\n",
        "        while min_heap:\n",
        "            elevation, x, y = heappop(min_heap)\n",
        "            max_elevation = max(max_elevation, elevation)\n",
        "\n",
        "            # If we've reached the bottom-right cell, return the max elevation\n",
        "            if x == N - 1 and y == N - 1:\n",
        "                return max_elevation\n",
        "\n",
        "            # Check adjacent cells\n",
        "            for dx, dy in directions:\n",
        "                nx, ny = x + dx, y + dy\n",
        "                if 0 <= nx < N and 0 <= ny < N and (nx, ny) not in visited:\n",
        "                    visited.add((nx, ny))\n",
        "                    heappush(min_heap, (grid[nx][ny], nx, ny))\n"
      ],
      "metadata": {
        "id": "ZQZod15D23ZS"
      },
      "execution_count": null,
      "outputs": []
    },
    {
      "cell_type": "markdown",
      "source": [
        "**Time Complexity:**\n",
        "\n",
        "* The primary operations here are the heappop and heappush operations within the while loop.\n",
        "* The while loop will continue until all the cells are processed. In a grid of size N x N, there are N^2 cells.\n",
        "* Each heappop operation has a time complexity of O(log K), where K is the number of elements in the heap. In the worst case, the heap could contain all cells of the grid, so K can be up to N^2.\n",
        "* Each heappush operation also has a time complexity of O(log K), with the same consideration for K.\n",
        "* Therefore, considering both heappop and heappush, and the fact that every cell is pushed and popped exactly once, the overall time complexity is O(N^2 log N^2), which simplifies to O(2N^2 log N) = O(N^2 log N).\n",
        "\n",
        "**Space Complexity:**\n",
        "\n",
        "* The space complexity is determined by the size of the heap and the visited set.\n",
        "* The heap, in the worst case, might contain all cells of the grid at some point, leading to a space complexity of O(N^2).\n",
        "* The visited set will also potentially hold entries for all cells in the grid, contributing another O(N^2) to the space complexity.\n",
        "* Therefore, the overall space complexity is O(N^2), considering the contributions from both the heap and the visited set."
      ],
      "metadata": {
        "id": "uIwI7ZxYI4hi"
      }
    },
    {
      "cell_type": "markdown",
      "source": [
        "## Cheapest Flight Within K Stops"
      ],
      "metadata": {
        "id": "6sfXiyHl6htz"
      }
    },
    {
      "cell_type": "code",
      "source": [
        "class Solution(object):\n",
        "    def findCheapestPrice(self, n, flights, src, dst, k):\n",
        "        \"\"\"\n",
        "        :type n: int\n",
        "        :type flights: List[List[int]]\n",
        "        :type src: int\n",
        "        :type dst: int\n",
        "        :type k: int\n",
        "        :rtype: int\n",
        "        \"\"\"\n",
        "        # flights[i] = [fromi, toi, pricei]\n",
        "        # you are given three integers src, dst, k\n",
        "        # return the cheapest price from src to dst with at most k stops.\n",
        "        # if there is no such route, return -1\n",
        "\n",
        "        # priority queue:\n",
        "\n",
        "\n",
        "        # Create a graph from the flights data\n",
        "        graph = {}\n",
        "        for u, v, w in flights:\n",
        "            if u not in graph:\n",
        "                graph[u] = []\n",
        "            graph[u].append((v, w))\n",
        "\n",
        "        # Min heap to store (price, city, stops)\n",
        "        heap = [(0, src, 0)]\n",
        "\n",
        "        # Dictionary to store the cheapest price to reach a city with a certain number of stops\n",
        "        cheapest = {(src, 0): 0}\n",
        "\n",
        "        while heap:\n",
        "            price, city, stops = heapq.heappop(heap)\n",
        "\n",
        "            # If the destination is reached, return the price\n",
        "            if city == dst:\n",
        "                return price\n",
        "\n",
        "            # If the number of stops is within the limit, explore further\n",
        "            if stops <= k:\n",
        "                for next_city, next_price in graph.get(city, []):\n",
        "                    new_cost = price + next_price\n",
        "                    if (next_city, stops + 1) not in cheapest or new_cost < cheapest[(next_city, stops + 1)]:\n",
        "                        cheapest[(next_city, stops + 1)] = new_cost\n",
        "                        heapq.heappush(heap, (new_cost, next_city, stops + 1))\n",
        "\n",
        "        return -1  # If no route is found"
      ],
      "metadata": {
        "id": "K9YSU-fj6lbm"
      },
      "execution_count": null,
      "outputs": []
    },
    {
      "cell_type": "markdown",
      "source": [
        "**Space Complexity:**\n",
        "* Graph: The graph representation (usually an adjacency list in this case) will take O(E) space, where E is the number of edges in the graph.\n",
        "\n",
        "* Heap: The heap can potentially store more than\n",
        "k entries. At worst, it might store an entry for each city for each possible number of stops up to\n",
        "k. This is because the algorithm stores different entries for the same city if it's reached with a different number of stops. Therefore, the heap can take up to\n",
        "**O(n × k)** space.\n",
        "\n",
        "* Visited Dictionary: Similar to the heap, the visited dictionary (cheapest in the provided implementation) can have an entry for each city for each number of stops, leading to\n",
        "O(n × k) space complexity.\n",
        "\n",
        "Assuming n is the number of nodes (cities) and\n",
        "k is the maximum number of stops, the space complexity can be approximated as\n",
        "O(n × k + E), which simplifies to\n",
        "O(n × k) if\n",
        "n×k dominates\n",
        "E.\n",
        "\n",
        "**Time Complexity:**\n",
        "\n",
        "* Building the Graph: This is\n",
        "O(E), where\n",
        "E is the number of edges (flights).\n",
        "\n",
        "* Processing the Heap: In the worst case, each city for each possible number of stops (up to\n",
        "k) is processed. For each city, the algorithm potentially looks at all its outgoing edges. The heap operations (insertion and extraction) take\n",
        "O(log(n × k)) time due to the heap size.\n",
        "\n",
        "* So, the total time for processing the heap is\n",
        "O(E × k × log(n × k)).\n",
        "\n",
        "* Therefore, the overall time complexity is approximately\n",
        "O(E × k × log(n × k))+O(E), which simplifies to\n",
        "O(E × k × log(n × k)) for large inputs.\n",
        "\n",
        "The time complexity is more sensitive to the number of edges and the limit on the number of stops than to the number of nodes, especially because of the logarithmic factor introduced by the heap operations."
      ],
      "metadata": {
        "id": "IUEUipgJ6lwC"
      }
    },
    {
      "cell_type": "markdown",
      "source": [
        "## Alien Dictionary"
      ],
      "metadata": {
        "id": "rdyAoj07Xfez"
      }
    },
    {
      "cell_type": "code",
      "source": [
        "from collections import defaultdict, deque\n",
        "\n",
        "def alienOrder(words):\n",
        "    # Create a graph using a dictionary, where each character points to a set of characters.\n",
        "    adj_list = defaultdict(set)\n",
        "    # Create a dictionary to track the number of characters pointing to each character.\n",
        "    in_degree = {char: 0 for word in words for char in word}\n",
        "\n",
        "    # Build the graph by comparing adjacent words.\n",
        "    for first, second in zip(words, words[1:]):\n",
        "        for c, d in zip(first, second):\n",
        "            if c != d:\n",
        "                # Add an edge and update in-degree if the pair of characters is not seen before.\n",
        "                if d not in adj_list[c]:\n",
        "                    adj_list[c].add(d)\n",
        "                    in_degree[d] += 1\n",
        "                break\n",
        "        else:  # Handle edge case where a word is a prefix of another.\n",
        "            if len(second) < len(first): return \"\"\n",
        "\n",
        "    # Initialize a queue with all characters with in-degree of 0.\n",
        "    queue = deque([char for char in in_degree if in_degree[char] == 0])\n",
        "    result = []  # To store the order of characters.\n",
        "\n",
        "    # Process the graph using topological sort.\n",
        "    while queue:\n",
        "        char = queue.popleft()\n",
        "        result.append(char)\n",
        "        # Decrease in-degree for neighbors and add to queue if in-degree becomes 0.\n",
        "        for neighbor in adj_list[char]:\n",
        "            in_degree[neighbor] -= 1\n",
        "            if in_degree[neighbor] == 0:\n",
        "                queue.append(neighbor)\n",
        "\n",
        "    # Check if all characters are included in the result (i.e., no cycles).\n",
        "    if len(result) == len(in_degree):\n",
        "        return \"\".join(result)  # Return the order of characters.\n",
        "    else:\n",
        "        return \"\"  # Return empty string if there's a cycle.\n"
      ],
      "metadata": {
        "id": "AjTksZq3Xha9"
      },
      "execution_count": null,
      "outputs": []
    },
    {
      "cell_type": "markdown",
      "source": [
        "# 9. 1-D Dynamic Programming"
      ],
      "metadata": {
        "id": "87CN33uh_9QC"
      }
    },
    {
      "cell_type": "markdown",
      "source": [
        "## Climbing Stairs"
      ],
      "metadata": {
        "id": "NHcUpivNACL6"
      }
    },
    {
      "cell_type": "code",
      "source": [
        "class Solution(object):\n",
        "    def climbStairs(self, n):\n",
        "        \"\"\"\n",
        "        :type n: int\n",
        "        :rtype: int\n",
        "        \"\"\"\n",
        "        # n total steps to reach the top of the stair case\n",
        "        # can climb in increments of 1 or 2 steps\n",
        "        # how many distinct ways can you climb to the top\n",
        "\n",
        "        # The \"Climbing Stairs\" problem asks for the number of distinct ways to climb n steps when you can climb either 1 step or 2 steps at a time.\n",
        "\n",
        "        # The essence of this problem lies in understanding that the number of ways to reach the nth step is the sum of the ways to reach the (n-1)th and (n-2)th steps. This is because:\n",
        "\n",
        "        # To reach the nth step from the (n-1)th step, you take a single step.\n",
        "        # To reach the nth step from the (n-2)th step, you take two steps at once.\n",
        "\n",
        "        # so we sum the ways to reach the nth step.\n",
        "\n",
        "        if n == 1:\n",
        "            return 1\n",
        "\n",
        "        dp = [0] * (n + 1)\n",
        "\n",
        "        dp[1], dp[2] = 1, 2 #initiliaze the increments to an extent.\n",
        "\n",
        "        for i in range(3, n + 1):\n",
        "\n",
        "            dp[i] = dp[i - 1] + dp[i - 2]\n",
        "\n",
        "        return dp[n]\n"
      ],
      "metadata": {
        "id": "2KLFiX-FHWDa"
      },
      "execution_count": null,
      "outputs": []
    },
    {
      "cell_type": "markdown",
      "source": [
        "Time and Space complexity: O(n) -- We are using a list of size n+1. We are iterating over n-2 values. Both tend to O(n)"
      ],
      "metadata": {
        "id": "Xb13DQqZJTe_"
      }
    },
    {
      "cell_type": "code",
      "source": [
        "# BACKTRACKING: High Memory for problem type. Do Standard DP technique(s) instead.\n",
        "class Solution(object):\n",
        "    def climbStairs(self, n):\n",
        "        \"\"\"\n",
        "        :type n: int\n",
        "        :rtype: int\n",
        "        \"\"\"\n",
        "        # n total steps to reach the top of the stair case\n",
        "        # can climb in increments of 1 or 2 steps\n",
        "        # how many distinct ways can you climb to the top\n",
        "\n",
        "        result, increments = [], [1,2]\n",
        "\n",
        "        def backtrack(subset, total):\n",
        "\n",
        "            if total == n:\n",
        "                result.append(subset[:])\n",
        "                return\n",
        "            elif total > n:\n",
        "                return\n",
        "\n",
        "            for x in increments:\n",
        "\n",
        "                subset.append(x)\n",
        "\n",
        "                backtrack(subset, total + x)\n",
        "\n",
        "                subset.pop()\n",
        "\n",
        "            return\n",
        "\n",
        "        backtrack([], 0)\n",
        "        return len(result)\n"
      ],
      "metadata": {
        "id": "u20dEqN5ABhv"
      },
      "execution_count": null,
      "outputs": []
    },
    {
      "cell_type": "markdown",
      "source": [
        "## Min Cost Climbing Stairs"
      ],
      "metadata": {
        "id": "kULAU2YHAD5n"
      }
    },
    {
      "cell_type": "code",
      "source": [
        "class Solution(object):\n",
        "    def minCostClimbingStairs(self, cost):\n",
        "        \"\"\"\n",
        "        :type cost: List[int]\n",
        "        :rtype: int\n",
        "        \"\"\"\n",
        "        # cost[i] = the cost of ith step on a stair case\n",
        "        # once you pay the cost you can climb one or two steps\n",
        "        # return min cost to go up stairs\n",
        "\n",
        "        n = len(cost)\n",
        "        dp = [0] * (n + 1)  # +1 because we want to reach the top, which is beyond the last step\n",
        "\n",
        "        # Initialize the first two steps, you can start at either step 0 or step 1\n",
        "        dp[0], dp[1] = cost[0], cost[1]\n",
        "\n",
        "        # Build up the DP table\n",
        "        for i in range(2, n):\n",
        "            dp[i] = cost[i] + min(dp[i - 1], dp[i - 2])\n",
        "\n",
        "        # The minimum cost to reach the top is the minimum of the last two steps\n",
        "        return min(dp[n - 1], dp[n - 2])\n"
      ],
      "metadata": {
        "id": "H6iLX8BtAGGA"
      },
      "execution_count": null,
      "outputs": []
    },
    {
      "cell_type": "markdown",
      "source": [
        "Time and Space Complexity O(n). min/max functions are constant complexity when checking the min or max of only two values.\n",
        "\n",
        "They are O(n) complexity when checking min or max in an entire list"
      ],
      "metadata": {
        "id": "2mZHMQ96OZQD"
      }
    },
    {
      "cell_type": "markdown",
      "source": [
        "## House Robber"
      ],
      "metadata": {
        "id": "qJqnz2viAGjF"
      }
    },
    {
      "cell_type": "markdown",
      "source": [
        "For each house i, you have two choices:\n",
        "\n",
        "* Not Rob House i: If you decide not to rob the current house (i), then the maximum amount of money you can have is the same as the maximum amount you could have robbed up to the previous house (i-1), which is dp[i-1].\n",
        "\n",
        "* Rob House i: If you decide to rob house i, you must skip the previous house (i-1) due to the constraint (can't rob two adjacent houses).\n",
        "\n",
        "So, the maximum amount you can rob includes the amount from house i (nums[i-1], note that i-1 is used because the nums array is 0-indexed) plus the maximum amount you could have robbed up to the house before the previous one (i-2), which is dp[i-2] + nums[i-1]."
      ],
      "metadata": {
        "id": "sTgP-mBSXFe1"
      }
    },
    {
      "cell_type": "code",
      "source": [
        "class Solution(object):\n",
        "    def rob(self, nums):\n",
        "        \"\"\"\n",
        "        :type nums: List[int]\n",
        "        :rtype: int\n",
        "        \"\"\"\n",
        "        # two cases:\n",
        "        # rob house n - you get dp[n-2] and house n = nums[i]\n",
        "        # rob house n-1 - you get dp[n-1]\n",
        "        n = len(nums)\n",
        "        if n == 0:\n",
        "            return 0\n",
        "        if n==1:\n",
        "            return nums[0]\n",
        "\n",
        "        # only looking at n houses, so initialize dp with n points\n",
        "        dp = [0] * (n) # so its indexed from dp[0] to dp[n]\n",
        "\n",
        "        # base cases: house 0 or house 1\n",
        "\n",
        "        dp[0], dp[1] = nums[0], max(nums[0], nums[1])\n",
        "\n",
        "        for i in range(2, n): # range function does not include n, goes up to n-1\n",
        "            dp[i] = max(dp[i-1], dp[i-2] + nums[i])\n",
        "        return dp[n-1]"
      ],
      "metadata": {
        "id": "hGkGnXKf2-6g"
      },
      "execution_count": null,
      "outputs": []
    },
    {
      "cell_type": "code",
      "source": [
        "class Solution(object):\n",
        "    def rob(self, nums):\n",
        "        \"\"\"\n",
        "        :type nums: List[int]\n",
        "        :rtype: int\n",
        "        \"\"\"\n",
        "        # Security will be contacted if two adjacent/consecutive houses are broken into on the same night\n",
        "        # nums represents how much money each house has\n",
        "        # we want the maximum money that can be earned w/o altering security\n",
        "        # i.e. increments can only go up in >=2\n",
        "        n = len(nums)\n",
        "        dp = [0] * (n+1)\n",
        "        if n==0:\n",
        "            return 0\n",
        "\n",
        "        if n==1:\n",
        "            return nums[0]\n",
        "\n",
        "        dp[1], dp[2] = nums[0], max(nums[0], nums[1]) # this is because house 2 will be picked first if its bigger than house 1\n",
        "\n",
        "        for i in range(3, n+1):\n",
        "            dp[i] = max(dp[i-1], dp[i-2] + nums[i-1])  # not rob house i or rob house i, its nums[i-1] not nums[i] because the nums array is 0-indexed\n",
        "        return dp[n]"
      ],
      "metadata": {
        "id": "V-p8zHfGALOa"
      },
      "execution_count": null,
      "outputs": []
    },
    {
      "cell_type": "markdown",
      "source": [
        "Time and Space complexity O(n)"
      ],
      "metadata": {
        "id": "vp7YgdXRW1NB"
      }
    },
    {
      "cell_type": "markdown",
      "source": [
        "## House Robber II"
      ],
      "metadata": {
        "id": "jpSdwGnj0BaK"
      }
    },
    {
      "cell_type": "code",
      "source": [
        "class Solution(object):\n",
        "    def rob(self, nums):\n",
        "        \"\"\"\n",
        "        :type nums: List[int]\n",
        "        :rtype: int\n",
        "        \"\"\"\n",
        "        # cases are rob the first house or rob the last house\n",
        "        n = len(nums)\n",
        "\n",
        "        if n == 0:\n",
        "            return 0\n",
        "\n",
        "        if n == 1:\n",
        "            return nums[0]\n",
        "\n",
        "        def rob_house(house):\n",
        "            if not house:\n",
        "                return 0\n",
        "            if len(house) == 1:\n",
        "                return house[0]\n",
        "\n",
        "            # n+1 houses since we are looking at first house again\n",
        "            dp = [0] * n\n",
        "\n",
        "            # base cases:\n",
        "            dp[0], dp[1] = house[0], max(house[0], house[1])\n",
        "\n",
        "            for i in range(2, len(house)):\n",
        "                dp[i] = max(dp[i-1], dp[i-2] + house[i])\n",
        "\n",
        "            return dp[len(house)-1]\n",
        "\n",
        "        # case 1 = rob first house (or n-1th house), not robbing last house\n",
        "        c1 = rob_house(nums[:-1])\n",
        "\n",
        "        # case 2 = rob last house, i.e. not robbing first house\n",
        "        c2 = rob_house(nums[1:])\n",
        "\n",
        "        return max(c1, c2)"
      ],
      "metadata": {
        "id": "6qOFBDrP6A8P"
      },
      "execution_count": null,
      "outputs": []
    },
    {
      "cell_type": "code",
      "source": [
        "class Solution(object):\n",
        "    def rob(self, nums):\n",
        "        \"\"\"\n",
        "        :type nums: List[int]\n",
        "        :rtype: int\n",
        "        \"\"\"\n",
        "\n",
        "        # Houses are in a circular array\n",
        "        # You cannot rob the first and last house:\n",
        "            # two cases: rob house 1 to n-1 or house 2 to house n\n",
        "        n = len(nums)\n",
        "        if n == 0:\n",
        "            return 0\n",
        "        if n == 1:\n",
        "            return nums[0]\n",
        "\n",
        "        # Helper function to rob a linear street of houses\n",
        "        def rob_line(houses):\n",
        "            if not houses:\n",
        "                return 0\n",
        "            if len(houses) == 1:\n",
        "                return houses[0]\n",
        "            dp = [0] * len(houses)\n",
        "            dp[0], dp[1] = houses[0], max(houses[0], houses[1])\n",
        "            for i in range(2, len(houses)):\n",
        "                dp[i] = max(dp[i - 1], dp[i - 2] + houses[i])\n",
        "            return dp[-1]\n",
        "\n",
        "        # Case 1: Exclude the last house\n",
        "        case1 = rob_line(nums[:-1])\n",
        "        # Case 2: Exclude the first house\n",
        "        case2 = rob_line(nums[1:])\n",
        "\n",
        "        # Take the maximum of the two cases\n",
        "        return max(case1, case2)\n"
      ],
      "metadata": {
        "id": "GdZ1f8fP0EYh"
      },
      "execution_count": null,
      "outputs": []
    },
    {
      "cell_type": "markdown",
      "source": [
        "Time complexity O(n) - List slicing has O(n) time complexity. For loop iterates over (n-1) points. However, the argument of rob_line does not interact with the for loop inside the function. So they are sequential -- O(n) + O(n) = O(n), rather than nested time.\n",
        "\n",
        "Space complexity - O(n) as only dp is created."
      ],
      "metadata": {
        "id": "tuJefm9f5uU0"
      }
    },
    {
      "cell_type": "markdown",
      "source": [
        "## Longest Palindromic Substring"
      ],
      "metadata": {
        "id": "MVKBtV2O0Ev2"
      }
    },
    {
      "cell_type": "code",
      "source": [
        "class Solution(object):\n",
        "    def longestPalindrome(self, s):\n",
        "        \"\"\"\n",
        "        :type s: str\n",
        "        :rtype: str\n",
        "        \"\"\"\n",
        "        # given a string s, return the longest palindromic substring\n",
        "        n = len(s)\n",
        "        dp = [[False]*n for _ in range(n)]\n",
        "        ans=s[0] # default. This allows for if len(s) is 1.\n",
        "\n",
        "        for i in range(n):\n",
        "            dp[i][i]=True # Every individual letter is a palindrome\n",
        "\n",
        "        for j in range(n):\n",
        "            for i in range(j):\n",
        "                if s[i]==s[j] and (dp[i+1][j-1] or j==i+1): # if j== i+1, then we have two adjacent characters which are the same. This still satisfies the palindromic condition\n",
        "                    dp[i][j]=True\n",
        "\n",
        "                    if j-i+1>len(ans): # check if current partition is longer than the one that is stored\n",
        "                        ans=s[i:j+1]\n",
        "        return ans"
      ],
      "metadata": {
        "id": "qVibyoaq0HIC"
      },
      "execution_count": null,
      "outputs": []
    },
    {
      "cell_type": "markdown",
      "source": [
        "Time Complexity: Solved using a 2D DP approach, the board is thus i x j, so the time complexity is O(n^2)\n",
        "\n",
        "Space Complexity: O(n^2) - 2D DP Array"
      ],
      "metadata": {
        "id": "8RYCZOUB_HmA"
      }
    },
    {
      "cell_type": "markdown",
      "source": [
        "## Palindromic Substrings"
      ],
      "metadata": {
        "id": "3rion3fL0Hbv"
      }
    },
    {
      "cell_type": "code",
      "source": [
        "class Solution(object):\n",
        "    def countSubstrings(self, s):\n",
        "        \"\"\"\n",
        "        :type s: str\n",
        "        :rtype: int\n",
        "        \"\"\"\n",
        "        # given a string s return the number of palindromic substrings in it\n",
        "        n = len(s)\n",
        "        dp = [[False] * n for _ in range(n)]\n",
        "        count = 0\n",
        "        ans = s[0]\n",
        "\n",
        "        # every time we set dp[i][i] to true, the count increases\n",
        "        for i in range(n):\n",
        "            dp[i][i] = True\n",
        "            count += 1\n",
        "\n",
        "        # the logic here is: each time a 'letter' in the 2D array is converted to True, it repesents the discovery of a new palindromic substring.\n",
        "        # This iterates through i and j combinations once over. It should be duplicate proof\n",
        "        for j in range(n):\n",
        "            for i in range(j):\n",
        "                if s[i] == s[j] and (dp[i+1][j-1] or j == i+1):\n",
        "                    dp[i][j] = True\n",
        "                    count += 1\n",
        "\n",
        "        return count\n"
      ],
      "metadata": {
        "id": "UlTttkx10J58"
      },
      "execution_count": null,
      "outputs": []
    },
    {
      "cell_type": "markdown",
      "source": [
        "Time and Space Complexity O(n^2) like above."
      ],
      "metadata": {
        "id": "SRQhJpFoD_jV"
      }
    },
    {
      "cell_type": "markdown",
      "source": [
        "## Decode Ways"
      ],
      "metadata": {
        "id": "vBX_tTKt0KMT"
      }
    },
    {
      "cell_type": "code",
      "source": [
        "class Solution(object):\n",
        "    def numDecodings(self, s):\n",
        "        \"\"\"\n",
        "        :type s: str\n",
        "        :rtype: int\n",
        "        \"\"\"\n",
        "        # given a string s, containing only digits, return the number of ways to decode it.\n",
        "        # we are looking for combinations in the string s which result in a 'mapping'\n",
        "        # only when every string in s is accounted for, resulting in a mapping can we start setting the board to true\n",
        "\n",
        "        if not s or s[0] == '0': # no valid mappings\n",
        "            return 0\n",
        "\n",
        "        n, count = len(s), 0\n",
        "\n",
        "        dp = [0] * (n+1)\n",
        "\n",
        "        # dp[0] = 1, there is exactly 1 way to decode nothing\n",
        "        # dp[1] = 1, there is exactly 1 way to decode 1 digit\n",
        "        # dp is a checker of the count of a string of length n\n",
        "        dp[0], dp[1] = 1, 1\n",
        "\n",
        "        for i in range(2, n + 1):\n",
        "            # Single digit decode\n",
        "            if s[i-1] != '0': # if digits != 0, then we can have a combination of single digits decoding\n",
        "                dp[i] += dp[i-1]\n",
        "\n",
        "            # Two digit decode\n",
        "            # the list slice carefully inspects only two adjacent digits at a time, the constraint 10 - 26 ensures that numbers that are preceded by 0 are not even considered\n",
        "            if 10 <= int(s[i-2:i]) <= 26: # as long as the combo is 2 digits\n",
        "                dp[i] += dp[i-2]\n",
        "        return dp[n]"
      ],
      "metadata": {
        "id": "lWZCYr6eMQRc"
      },
      "execution_count": null,
      "outputs": []
    },
    {
      "cell_type": "markdown",
      "source": [
        "Time and Space Complexity O(n)"
      ],
      "metadata": {
        "id": "u8cOt-y7MPmF"
      }
    },
    {
      "cell_type": "markdown",
      "source": [
        "## Coin Change"
      ],
      "metadata": {
        "id": "pimJilqm_PHj"
      }
    },
    {
      "cell_type": "markdown",
      "source": [
        "**range(coin, amount + 1):** This range ensures that you only consider amounts that can be achieved using at least one coin of the current denomination. For example, if the coin value is 3, there's no point in trying to use it for amounts 1 and 2.\n",
        "\n",
        "**dp[i - coin] + 1:** This represents taking one more coin of the current denomination (coin). Since dp[i - coin] gives the fewest coins needed to make up the amount i - coin, adding one more coin (coin) gives the fewest coins for the amount i.\n",
        "\n",
        "Thus, dp[i - coin] + 1 is the total number of coins used including this new coin."
      ],
      "metadata": {
        "id": "Z88nJkZaIpOg"
      }
    },
    {
      "cell_type": "code",
      "source": [
        "class Solution(object):\n",
        "    def coinChange(self, coins, amount):\n",
        "        \"\"\"\n",
        "        :type coins: List[int]\n",
        "        :type amount: int\n",
        "        :rtype: int\n",
        "        \"\"\"\n",
        "        # dp array to work amount min no. of coins per amount\n",
        "        dp = [float('inf')] * (amount + 1) # amount is in place of the usual n\n",
        "\n",
        "        # base case, amount is 0. No coins are required to make 0\n",
        "        dp[0] = 0\n",
        "\n",
        "        for coin in coins:\n",
        "            for i in range(coin, amount + 1): # go from each coin value\n",
        "                dp[i] = min(dp[i], dp[i - coin] + 1) # since we want fewest number\n",
        "                # we look at current iteration against prev iteration so subtracting any coin.\n",
        "                # this is a top-down approach\n",
        "\n",
        "        return dp[amount] if dp[amount] != float('inf') else -1"
      ],
      "metadata": {
        "id": "rIfzBB4p_RfX"
      },
      "execution_count": null,
      "outputs": []
    },
    {
      "cell_type": "markdown",
      "source": [
        "## Maximum Product Subarray"
      ],
      "metadata": {
        "id": "lJdIPwdJ_OzA"
      }
    },
    {
      "cell_type": "code",
      "source": [
        "class Solution(object):\n",
        "    def maxProduct(self, nums):\n",
        "        \"\"\"\n",
        "        :type nums: List[int]\n",
        "        :rtype: int\n",
        "        \"\"\"\n",
        "        # given an array nums, find a subarray that has the largest product\n",
        "        # return the product\n",
        "        # NOTE: the subarray must be formed of consecutive numbers in nums\n",
        "\n",
        "        # Utilize Kadane's algorithm, we track both max and mins\n",
        "\n",
        "        prev_max = nums[0] # max from previous iteration\n",
        "        prev_min = nums[0] # min from previous iteration\n",
        "        max_to_n = nums[0] # max this iteration\n",
        "        min_to_n = nums[0] # min this iteration\n",
        "        ans = nums[0]\n",
        "\n",
        "        for i in nums[1:]:\n",
        "\t\t    # use previous max/min*current i or restart from i. The absolute value of the min could be larger so we store it.\n",
        "            max_to_n = max(max(prev_max*i, prev_min*i), i)\n",
        "            min_to_n = min(min(prev_max*i, prev_min*i), i)\n",
        "\n",
        "            prev_max = max_to_n # update prev_max with the new max\n",
        "            prev_min = min_to_n # update prev_min with the new min\n",
        "\n",
        "            ans = max(ans, max_to_n)\n",
        "        return ans\n",
        "\n",
        "        # key intuition here is that when we come upon a negative number\n",
        "        # our current max can suddenly become a min (but is still max by absolute value)\n",
        "        # Following the next negative number, our min can become a max again. Thus keeping track of min is useful"
      ],
      "metadata": {
        "id": "d0YclCg2_7cN"
      },
      "execution_count": null,
      "outputs": []
    },
    {
      "cell_type": "code",
      "source": [
        "# Linear approach w/o DP\n",
        "def maxProduct(self, nums):\n",
        "        \"\"\"\n",
        "        :type nums: List[int]\n",
        "        :rtype: int\n",
        "        \"\"\"\n",
        "        ans = nums[0]\n",
        "        current = 1\n",
        "\t\t# left to right pass. Captures all potential subarrays containing first odd n negative numbers\n",
        "        for i in nums:\n",
        "            current*=i\n",
        "            ans = max(ans, current)\n",
        "\t\t\t# zero is a delimiter, restart at 1. This is optimal since zero multiplied on is still zero.\n",
        "            if current == 0:\n",
        "                current = 1\n",
        "        current = 1\n",
        "\t\t# right to left pass capturing all potential subarrays containing last odd n negative numbers\n",
        "        for i in reversed(nums):\n",
        "            current*=i\n",
        "            ans = max(ans, current)\n",
        "            if current == 0:\n",
        "                current = 1\n",
        "        return ans"
      ],
      "metadata": {
        "id": "eIj3XfaEMjPp"
      },
      "execution_count": null,
      "outputs": []
    },
    {
      "cell_type": "markdown",
      "source": [
        "## Word Break"
      ],
      "metadata": {
        "id": "DJu1dViP_OrK"
      }
    },
    {
      "cell_type": "code",
      "source": [
        "class Solution(object):\n",
        "    def wordBreak(self, s, wordDict):\n",
        "        # Length of the string\n",
        "        n = len(s)\n",
        "\n",
        "        # Initialize a DP array with 'False' values. Size is n + 1 to include the empty substring.\n",
        "        dp = [False] * (n + 1)\n",
        "\n",
        "        # Base case: An empty string can always be segmented (i.e., doing nothing is valid).\n",
        "        dp[0] = True\n",
        "\n",
        "        # Iterate over the string from 1 to n (both inclusive).\n",
        "        for i in range(1, n + 1):\n",
        "            # Check all possible substrings ending at position 'i'.\n",
        "            for j in range(i):\n",
        "                # If the substring s[j:i] is in the wordDict and the substring up to 'j' can be segmented,\n",
        "                # then set dp[i] to 'True'.\n",
        "                if dp[j] and s[j:i] in wordDict:\n",
        "                    dp[i] = True\n",
        "                    # Once we find a valid segmentation ending at 'i', no need to check further.\n",
        "                    break\n",
        "\n",
        "        # dp[n] will be True if the entire string can be segmented, False otherwise.\n",
        "        return dp[n]"
      ],
      "metadata": {
        "id": "IgJF1ILl_8DY"
      },
      "execution_count": null,
      "outputs": []
    },
    {
      "cell_type": "markdown",
      "source": [
        "## Longest Increasing Subsequence"
      ],
      "metadata": {
        "id": "VfXNLuit_OUh"
      }
    },
    {
      "cell_type": "code",
      "source": [
        "# DP\n",
        "class Solution(object):\n",
        "    def lengthOfLIS(self, nums):\n",
        "        \"\"\"\n",
        "        :type nums: List[int]\n",
        "        :rtype: int\n",
        "        \"\"\"\n",
        "        # Handle empty input\n",
        "        if not nums:\n",
        "            return 0\n",
        "\n",
        "        # Initialize DP array: dp[i] will store the length of the longest increasing subsequence\n",
        "        # ending at index i.\n",
        "        dp = [1] * len(nums)\n",
        "\n",
        "        # Iterate over the array to build up the dp array\n",
        "        for i in range(1, len(nums)):\n",
        "            # Check every j before i\n",
        "            for j in range(i):\n",
        "                # If nums[i] can extend the subsequence ending at nums[j]\n",
        "                if nums[i] > nums[j]:\n",
        "                    # Update dp[i] if extending at j results in a longer subsequence\n",
        "                    dp[i] = max(dp[i], dp[j] + 1)\n",
        "\n",
        "        # The longest subsequence is the maximum value in the dp array\n",
        "        return max(dp)"
      ],
      "metadata": {
        "id": "lrCWTLEJ_84o"
      },
      "execution_count": null,
      "outputs": []
    },
    {
      "cell_type": "markdown",
      "source": [
        "Time Complexity: O(n^2)\n",
        "\n",
        "Space Complexity: O(n)"
      ],
      "metadata": {
        "id": "4N644TpMgtMD"
      }
    },
    {
      "cell_type": "code",
      "source": [
        "# Binary Search\n",
        "class Solution(object):\n",
        "    def lengthOfLIS(self, nums):\n",
        "        \"\"\"\n",
        "        :type nums: List[int]\n",
        "        :rtype: int\n",
        "        \"\"\"\n",
        "        # 'tails' is an array that stores the smallest tail of all increasing subsequences\n",
        "        # with length 'i+1' in 'tails[i]'.\n",
        "        tails = [0] * len(nums)\n",
        "        # 'size' represents the length of the longest increasing subsequence found so far.\n",
        "        size = 0\n",
        "\n",
        "        # Iterate over each number in nums.\n",
        "        for x in nums:\n",
        "            # Binary search within the tails array.\n",
        "            l, r = 0, size\n",
        "            while l != r:\n",
        "                mid = (l + r) // 2  # Find the middle index.\n",
        "\n",
        "                # Check if 'x' extends any of the existing subsequences.\n",
        "                if tails[mid] < x:\n",
        "                    l = mid + 1\n",
        "                else:\n",
        "                    r = mid\n",
        "\n",
        "            # 'x' extends the subsequence or starts a new one.\n",
        "            tails[l] = x\n",
        "            # Update the size of the longest subsequence if necessary.\n",
        "            size = max(l + 1, size)\n",
        "\n",
        "        return size"
      ],
      "metadata": {
        "id": "KJMfEdOAglGf"
      },
      "execution_count": null,
      "outputs": []
    },
    {
      "cell_type": "markdown",
      "source": [
        "Time complexity: O(nlogn)\n",
        "\n",
        "Space Complexity: O(n)"
      ],
      "metadata": {
        "id": "URcP-GGUgnlY"
      }
    },
    {
      "cell_type": "markdown",
      "source": [
        "## Partition Equal Subset Sum"
      ],
      "metadata": {
        "id": "hzEEYwecj4cU"
      }
    },
    {
      "cell_type": "code",
      "source": [
        "class Solution(object):\n",
        "    def canPartition(self, nums):\n",
        "        \"\"\"\n",
        "        :type nums: List[int]\n",
        "        :rtype: bool\n",
        "        \"\"\"\n",
        "        # return true if you can partition the array into two subsets s.t.\n",
        "        # the sum of the elements is equal. Or False otherwise\n",
        "        # the subsets do not need to be of equal length\n",
        "\n",
        "\n",
        "        # only possible when total sum can be halved\n",
        "\n",
        "        total = sum(nums)\n",
        "\n",
        "        if total%2 != 0: # total % 2 computes the remainder when total is divided by 2\n",
        "            return False # total is odd\n",
        "\n",
        "        half = total // 2\n",
        "\n",
        "        # dp array w half the numbers, we want it to return all True\n",
        "        dp = [False] * (half + 1)\n",
        "\n",
        "        dp[0] = True # we can always partition 0\n",
        "\n",
        "        for num in nums:\n",
        "            # Iterate backwards from 'half' down to 'num'\n",
        "            # This ensures that each number in 'nums' is only used once\n",
        "            for i in range(half, num - 1, -1):\n",
        "                # Update the DP array:\n",
        "                # dp[i] will be True if it's already True (subset sum 'i' was already achievable)\n",
        "                # or if dp[i - num] is True (meaning a subset sum of 'i - num' was achievable,\n",
        "                # so adding 'num' results in a subset sum of 'i')\n",
        "                dp[i] = dp[i] or dp[i - num]\n",
        "\n",
        "        # Return True if a subset sum equal to 'half' of the total sum is achievable\n",
        "        return dp[half]"
      ],
      "metadata": {
        "id": "MpV1U4I8j7zL"
      },
      "execution_count": null,
      "outputs": []
    },
    {
      "cell_type": "markdown",
      "source": [],
      "metadata": {
        "id": "MCfJmxKirBhg"
      }
    },
    {
      "cell_type": "code",
      "source": [
        "# Bit manipulation solution. Incredibly effective Spacewise\n",
        "def canPartition(nums):\n",
        "    s = sum(nums)\n",
        "\n",
        "    # Check if the total sum is odd (using bitwise AND with 1)\n",
        "    if s & 1:\n",
        "        return False  # Can't partition if the sum is odd\n",
        "\n",
        "    s = s // 2  # Target sum for each subset (half of the total sum)\n",
        "\n",
        "    dp = 1  # DP bitmask, starting with only the 0 sum represented\n",
        "\n",
        "    for x in nums:\n",
        "        # Update the bitmask:\n",
        "        # Shift the bitmask left by 'x' positions and OR it with the current dp\n",
        "        # This adds all new sums that can be formed by adding 'x' to existing sums\n",
        "        dp |= dp << x\n",
        "\n",
        "    # Check if there's a combination that sums up to the target (s)\n",
        "    # This is done by checking if the 's'-th bit in dp is set (1 << s)\n",
        "    return dp & (1 << s) != 0\n"
      ],
      "metadata": {
        "id": "stRMqxAyrCE4"
      },
      "execution_count": null,
      "outputs": []
    },
    {
      "cell_type": "markdown",
      "source": [
        "# 10. 2-D Dynamic Programming"
      ],
      "metadata": {
        "id": "Iex8rSDnmi6G"
      }
    },
    {
      "cell_type": "markdown",
      "source": [
        "## Unique Paths"
      ],
      "metadata": {
        "id": "BW2U1sozj8Im"
      }
    },
    {
      "cell_type": "code",
      "source": [
        "class Solution(object):\n",
        "    def uniquePaths(self, m, n):\n",
        "        \"\"\"\n",
        "        :type m: int\n",
        "        :type n: int\n",
        "        :rtype: int\n",
        "        \"\"\"\n",
        "        # m x n grid\n",
        "        # robot is located at grid[0][0]\n",
        "        # return no. of possible unique paths to get to grid[m-1][n-1]\n",
        "        # it can only move down or right\n",
        "\n",
        "        # m x n grid. So we wont cols x rows = n x m\n",
        "        dp = [[0 for _ in range(n)] for _ in range(m)]\n",
        "\n",
        "        # we want to get the no. of possible combinations to reach grid[m-1][n-1] from above and from the left ( as the robot can move down or right)\n",
        "\n",
        "        # base cases: from above (dp[i-1][j]) or from left (dp[i][j-1])\n",
        "        dp[0][0] = 1 # start point\n",
        "\n",
        "        for i in range(m):\n",
        "            for j in range(n):\n",
        "                if i > 0: # above\n",
        "                    dp[i][j] += dp[i-1][j] # represents possible paths from above\n",
        "\n",
        "                if j > 0 : # left\n",
        "                    dp[i][j] += dp[i][j-1] # represents possible paths from the left\n",
        "\n",
        "        return dp[m-1][n-1] # as m, n are out of range"
      ],
      "metadata": {
        "id": "MatxvDuDj9w2"
      },
      "execution_count": null,
      "outputs": []
    },
    {
      "cell_type": "markdown",
      "source": [
        "## Longest Common Subsequence"
      ],
      "metadata": {
        "id": "wKLHn6uhj-At"
      }
    },
    {
      "cell_type": "code",
      "source": [
        "class Solution:\n",
        "    def longestCommonSubsequence(self, text1: str, text2: str) -> int:\n",
        "        m,n=len(text1),len(text2)\n",
        "        dp=[[0 for i in range(n+1)] for j in range(m+1)]\n",
        "        ans=0\n",
        "        for i in range(1,m+1):\n",
        "            for j in range(1,n+1):\n",
        "                if text1[i-1]==text2[j-1]:\n",
        "                    dp[i][j]=1+dp[i-1][j-1]\n",
        "                else:\n",
        "                    dp[i][j]=max((dp[i][j-1]),dp[i-1][j])\n",
        "                ans=max(ans,dp[i][j])\n",
        "        return ans\n",
        "    ```"
      ],
      "metadata": {
        "id": "OIApoUq_kBUm"
      },
      "execution_count": null,
      "outputs": []
    },
    {
      "cell_type": "markdown",
      "source": [
        "## Best Time to Buy and Sell Stock with Cooldown"
      ],
      "metadata": {
        "id": "a6V0eZtgkBmC"
      }
    },
    {
      "cell_type": "code",
      "source": [
        "class Solution(object):\n",
        "    def maxProfit(self, prices):\n",
        "        \"\"\"\n",
        "        :type prices: List[int]\n",
        "        :rtype: int\n",
        "        \"\"\"\n",
        "        # prices[i] is the price of a given stock on the ith day\n",
        "\n",
        "        # find max profit you can achieve\n",
        "        # after you sell stock, you cannot buy stock on the next day\n",
        "        # you cannot do multiple transactions simultaneously\n",
        "\n",
        "        # so the moment you do a 'sell' call, the next day of stock is moot\n",
        "\n",
        "        # 2D dp array dp[i][j] where i is the day and j:\n",
        "            # 0 = holding a stock\n",
        "            # 1 = cooling down\n",
        "            # 2 = not holding a stock & ready to buy\n",
        "\n",
        "        # buy[i], sell[i], rest[i]\n",
        "        # before day i, what is the maxProfit for any sequence ending with buy, sell or rest\n",
        "        # from there we deduce the transition functions.\n",
        "\n",
        "        # you have to rest before you buy\n",
        "        # After you sell, you rest before you can buy again\n",
        "        # we have to buy before we sell\n",
        "        # buy[i] = max(rest[i-1] - price, buy[i-1])\n",
        "        # sell[i] = max(buy[i-1] + price, sell[i-1]) # we add price here because you are selling\n",
        "        # rest[i] = max(sell[i-1]) # After you sell you rest\n",
        "\n",
        "        # Thus we can now say (after substituting rest[i] into buy[i]):\n",
        "        # buy[i] = max(sell[i-2] - price, buy[i-1])\n",
        "        # sell[i] = max(buy[i-1] + price, sell[i-1])\n",
        "\n",
        "        # Initialize variables for selling, buying, previous selling, and previous buying.\n",
        "        sell, buy, prev_sell, prev_buy = 0, -prices[0], 0, 0\n",
        "\n",
        "        # Iterate through the 'prices' list to calculate the maximum profit.\n",
        "        for price in prices:\n",
        "            # Store the previous buy value in 'prev_buy'.\n",
        "            prev_buy = buy\n",
        "\n",
        "            # Calculate the new buy value, which is the maximum of the previous sell minus the current price or the previous buy.\n",
        "            buy = max(prev_sell - price, prev_buy)\n",
        "\n",
        "            # Store the previous sell value in 'prev_sell'.\n",
        "            prev_sell = sell\n",
        "\n",
        "            # Calculate the new sell value, which is the maximum of the previous buy plus the current price or the previous sell.\n",
        "            sell = max(prev_buy + price, prev_sell)\n",
        "\n",
        "        # Return the 'sell' value, which represents the maximum profit overall.\n",
        "        return sell"
      ],
      "metadata": {
        "id": "FC1NMsS6kEo8"
      },
      "execution_count": null,
      "outputs": []
    },
    {
      "cell_type": "markdown",
      "source": [
        "## Coin Change II"
      ],
      "metadata": {
        "id": "RJ4aqer5pNLv"
      }
    },
    {
      "cell_type": "code",
      "source": [
        "def change(amount, coins):\n",
        "    # Create a DP table to store the number of ways to make change for each amount\n",
        "    dp = [0] * (amount + 1)\n",
        "\n",
        "    # There's one way to make change for zero amount, which is by not using any coin\n",
        "    dp[0] = 1\n",
        "\n",
        "    # Iterate through each coin in the coins array\n",
        "    for coin in coins:\n",
        "        # For each coin, update the DP table from coin value to the target amount\n",
        "        for i in range(coin, amount + 1):\n",
        "            dp[i] += dp[i - coin]\n",
        "\n",
        "    # The value at dp[amount] represents the number of ways to make change for the given amount\n",
        "    return dp[amount]\n"
      ],
      "metadata": {
        "id": "tKIHleR_pOja"
      },
      "execution_count": null,
      "outputs": []
    },
    {
      "cell_type": "markdown",
      "source": [
        "## Target Sum"
      ],
      "metadata": {
        "id": "lGHCxVkHM_kt"
      }
    },
    {
      "cell_type": "code",
      "source": [
        "class Solution(object):\n",
        "    def findTargetSumWays(self, nums, target):\n",
        "        \"\"\"\n",
        "        :type nums: List[int]\n",
        "        :type target: int\n",
        "        :rtype: int\n",
        "        \"\"\"\n",
        "        # You want to build an expression by adding one of + and - before each integer in nums\n",
        "        # and then concatenate all the integers\n",
        "\n",
        "        # e.g. nums = [2, 1], you can add + before 2 and - before 1 to build \"+2-1\"\n",
        "\n",
        "        # return no. of different expressions which evaluate to target\n",
        "        # note: all nums in array need to be used\n",
        "        memo = {}\n",
        "\n",
        "        def dp(i, total):\n",
        "            # If we've reached the end of the list, check if the total is equal to S.\n",
        "            if i == len(nums):\n",
        "                return 1 if total == target else 0\n",
        "            # If the current subproblem has already been computed, return the stored result.\n",
        "            if (i, total) in memo:\n",
        "                return memo[(i, total)]\n",
        "\n",
        "            # Recursive calls for the next number in the list with both addition and subtraction.\n",
        "            # This represents the choice of using a '+' or '-' before the current number.\n",
        "            add = dp(i + 1, total + nums[i])\n",
        "            subtract = dp(i + 1, total - nums[i])\n",
        "\n",
        "            # Store the computed result in the memo dictionary before returning it.\n",
        "            memo[(i, total)] = add + subtract\n",
        "            return memo[(i, total)]\n",
        "\n",
        "        # Start the dynamic programming process from the first index and an initial total of 0.\n",
        "        return dp(0, 0)"
      ],
      "metadata": {
        "id": "NDyvlOoTNBiL"
      },
      "execution_count": null,
      "outputs": []
    },
    {
      "cell_type": "markdown",
      "source": [
        "## Interleaving String"
      ],
      "metadata": {
        "id": "NypRHaOiM73q"
      }
    },
    {
      "cell_type": "markdown",
      "source": [
        "For the problem of checking if s3 is an interleaving of s1 and s2, the DP array dp[i][j] represents whether the first i characters of s1 and the first j characters of s2 can interleave to form the first i+j characters of s3."
      ],
      "metadata": {
        "id": "6yT-S12aqksf"
      }
    },
    {
      "cell_type": "code",
      "source": [
        "class Solution(object):\n",
        "    def isInterleave(self, s1, s2, s3):\n",
        "        \"\"\"\n",
        "        :type s1: str\n",
        "        :type s2: str\n",
        "        :type s3: str\n",
        "        :rtype: bool\n",
        "        \"\"\"\n",
        "        # find whether s3 is an interleaving of s1 & s2\n",
        "\n",
        "        # for strings s, t:\n",
        "        # s = s1 + s2 + s3 + ... + sn\n",
        "        # t = t1 + t2 + t2 + ... + tn\n",
        "\n",
        "        # the interleaving is:\n",
        "        # s1 + t1 + s2 + t2 + ... + sn + tn\n",
        "        # OR t1 + s1 + t2 + s2 + ... + tn + sn\n",
        "\n",
        "        # Lengths of the strings\n",
        "        n1, n2, n3 = len(s1), len(s2), len(s3)\n",
        "\n",
        "        # If the combined lengths of s1 and s2 don't match s3, they can't interleave to form s3\n",
        "        if n1 + n2 != n3:\n",
        "            return False\n",
        "\n",
        "        # Initialize the DP array\n",
        "        # dp[i][j] will be True if the first i characters of s1 and first j characters of s2\n",
        "        # can interleave to form the first i+j characters of s3\n",
        "        dp = [[False] * (n2 + 1) for _ in range(n1 + 1)]\n",
        "        dp[0][0] = True  # Empty strings are considered interleaving\n",
        "\n",
        "        # Fill the first row of the DP array\n",
        "        # This loop checks if s1[0:i] can interleave with an empty s2 to form s3[0:i]\n",
        "        for i in range(1, n1 + 1):\n",
        "            dp[i][0] = dp[i - 1][0] and s1[i - 1] == s3[i - 1]\n",
        "\n",
        "        # Fill the first column of the DP array\n",
        "        # This loop checks if s2[0:j] can interleave with an empty s1 to form s3[0:j]\n",
        "        for j in range(1, n2 + 1):\n",
        "            dp[0][j] = dp[0][j - 1] and s2[j - 1] == s3[j - 1]\n",
        "\n",
        "        # Fill the rest of the DP array\n",
        "        for i in range(1, n1 + 1):\n",
        "            for j in range(1, n2 + 1):\n",
        "                # dp[i][j] is true if either of the following is true:\n",
        "                # 1. The current character of s1 (s1[i - 1]) is equal to the current character of s3 (s3[i + j - 1])\n",
        "                #    and the string formed by s1[0:i-1] and s2[0:j] interleaves to form s3[0:i+j-1]\n",
        "                # 2. The current character of s2 (s2[j - 1]) is equal to the current character of s3 (s3[i + j - 1])\n",
        "                #    and the string formed by s1[0:i] and s2[0:j-1] interleaves to form s3[0:i+j-1]\n",
        "                dp[i][j] = (dp[i - 1][j] and s1[i - 1] == s3[i + j - 1]) or \\\n",
        "                           (dp[i][j - 1] and s2[j - 1] == s3[i + j - 1])\n",
        "\n",
        "        # The value at dp[n1][n2] tells us if s1 and s2 can interleave to form s3\n",
        "        return dp[n1][n2]"
      ],
      "metadata": {
        "id": "Vgdwaq9fM-LD"
      },
      "execution_count": null,
      "outputs": []
    },
    {
      "cell_type": "markdown",
      "source": [
        "## Edit Distance"
      ],
      "metadata": {
        "id": "OEtLUR5MwVIv"
      }
    },
    {
      "cell_type": "code",
      "source": [
        "class Solution:\n",
        "    def minDistance(self, word1, word2):\n",
        "        # Lengths of the input strings\n",
        "        n1, n2 = len(word1), len(word2)\n",
        "\n",
        "        # Creating a DP table where dp[i][j] will hold the edit distance\n",
        "        # between the first i characters of word1 and the first j characters of word2\n",
        "        dp = [[0] * (n2 + 1) for _ in range(n1 + 1)]\n",
        "\n",
        "        # Filling the first column: converting word1 to an empty string (all deletions)\n",
        "        for i in range(n1 + 1):\n",
        "            dp[i][0] = i\n",
        "\n",
        "        # Filling the first row: converting an empty string to word2 (all insertions)\n",
        "        for j in range(n2 + 1):\n",
        "            dp[0][j] = j\n",
        "\n",
        "        # Filling the rest of the DP table\n",
        "        for i in range(1, n1 + 1):\n",
        "            for j in range(1, n2 + 1):\n",
        "                # If the characters are the same, no operation is needed,\n",
        "                # so we take the value from the top-left diagonal cell\n",
        "                if word1[i - 1] == word2[j - 1]:\n",
        "                    dp[i][j] = dp[i - 1][j - 1]\n",
        "                else:\n",
        "                    # If the characters are different, consider three operations:\n",
        "                    # 1. Insertion (left cell)\n",
        "                    # 2. Deletion (top cell)\n",
        "                    # 3. Substitution (top-left diagonal cell)\n",
        "                    # Add 1 to the operation count and choose the minimum among these three.\n",
        "                    dp[i][j] = 1 + min(dp[i - 1][j],    # Deletion\n",
        "                                       dp[i][j - 1],    # Insertion - j is for word 2, i is for word 1\n",
        "                                       dp[i - 1][j - 1]) # Substitution\n",
        "\n",
        "        # The value in the bottom-right cell is the final edit distance\n",
        "        return dp[n1][n2]"
      ],
      "metadata": {
        "id": "CmunB9LQwWvr"
      },
      "execution_count": null,
      "outputs": []
    },
    {
      "cell_type": "markdown",
      "source": [
        "**Deletion (dp[i - 1][j]):**\n",
        "\n",
        "When we consider dp[i - 1][j], we are looking at the scenario where we have already transformed the first i - 1 characters of word1 into the first j characters of word2.\n",
        "Now, to use this scenario to achieve our goal of dp[i][j], we need to delete the i-th character of word1 because it's extra. We already have our desired j characters of word2, so this extra character in word1 needs to go.\n",
        "That's why we consider dp[i - 1][j] and add 1 for this deletion operation.\n",
        "\n",
        "**Insertion (dp[i][j - 1]):**\n",
        "\n",
        "In this case, dp[i][j - 1] represents the minimum operations required to transform the first i characters of word1 into the first j - 1 characters of word2.\n",
        "Now, to reach dp[i][j] from here, we need to insert the j-th character of word2 at the end of the already transformed part of word1. This is because we're short of one character in transforming into the full j characters of word2.\n",
        "We add 1 to dp[i][j - 1] to account for this insertion.\n",
        "\n",
        "Substitution (dp[i - 1][j - 1]):\n",
        "\n",
        "Here, dp[i - 1][j - 1] tells us the operations needed to match the first i - 1 characters of word1 with the first j - 1 characters of word2.\n",
        "To extend this scenario to dp[i][j], if the i-th character of word1 and the j-th character of word2 are different, we need to substitute the i-th character of word1 with the j-th character of word2.\n",
        "This substitution is counted as one operation, so we add 1 to dp[i - 1][j - 1]."
      ],
      "metadata": {
        "id": "ZdTrfEdBAH99"
      }
    },
    {
      "cell_type": "markdown",
      "source": [
        "# Greedy"
      ],
      "metadata": {
        "id": "0nGd18ecQksD"
      }
    },
    {
      "cell_type": "markdown",
      "source": [
        "## Maximum Subarray"
      ],
      "metadata": {
        "id": "MK-hTkqh9pXP"
      }
    },
    {
      "cell_type": "code",
      "source": [
        "class Solution(object):\n",
        "    def maxSubArray(self, nums):\n",
        "        \"\"\"\n",
        "        :type nums: List[int]\n",
        "        :rtype: int\n",
        "        \"\"\"\n",
        "        # Kadane's algorithm\n",
        "        # iterate through the array and at each step, calculate max subarray sum ending at that position\n",
        "\n",
        "        if not nums:\n",
        "            return 0\n",
        "\n",
        "        # max_current, max_global\n",
        "        max_current = max_global = nums[0]\n",
        "\n",
        "        # update max_current at each step, update max_global if max_current > max_global\n",
        "        for num in nums[1:]:\n",
        "            max_current = max(num, max_current + num)\n",
        "            if max_current > max_global:\n",
        "                max_global = max_current\n",
        "\n",
        "        return max_global\n",
        "\n",
        "        # O(n) time complexity, O(1) space complexity"
      ],
      "metadata": {
        "id": "YIAUxJuQ9r5C"
      },
      "execution_count": null,
      "outputs": []
    },
    {
      "cell_type": "markdown",
      "source": [
        "O(n) time and space complexity"
      ],
      "metadata": {
        "id": "-uGPFuGPI2rd"
      }
    },
    {
      "cell_type": "markdown",
      "source": [
        "## Jump Game"
      ],
      "metadata": {
        "id": "o_6Gwe3E9scU"
      }
    },
    {
      "cell_type": "code",
      "source": [
        "class Solution(object):\n",
        "    def canJump(self, nums):\n",
        "        \"\"\"\n",
        "        :type nums: List[int]\n",
        "        :rtype: bool\n",
        "        \"\"\"\n",
        "\n",
        "        # pos holds the longest distance that can be reached from the current position\n",
        "        pos = 0\n",
        "\n",
        "        # Iterate through each number in the nums list\n",
        "        for num in nums:\n",
        "            # If pos becomes negative, it means we've encountered a gap that we can't jump over\n",
        "            if pos < 0:\n",
        "                return False\n",
        "\n",
        "            # If the current number is greater than pos, update pos to be the current number\n",
        "            # This represents the furthest we can jump from this position\n",
        "            elif num > pos:\n",
        "                pos = num\n",
        "\n",
        "            # Decrease pos by 1 at each step, representing a jump to the next position\n",
        "            pos -= 1\n",
        "\n",
        "        # If we've made it through the loop, it means we can reach the last index\n",
        "        return True"
      ],
      "metadata": {
        "id": "nC8e-Xfd9vN_"
      },
      "execution_count": null,
      "outputs": []
    },
    {
      "cell_type": "markdown",
      "source": [
        "O(n) time, O(1) space"
      ],
      "metadata": {
        "id": "_Wty7ZaWLmUh"
      }
    },
    {
      "cell_type": "markdown",
      "source": [
        "## Jump Game II"
      ],
      "metadata": {
        "id": "1kdgbRV09vrK"
      }
    },
    {
      "cell_type": "code",
      "source": [
        "class Solution(object):\n",
        "    def jump(self, nums):\n",
        "        \"\"\"\n",
        "        :type nums: List[int]\n",
        "        :rtype: int\n",
        "        \"\"\"\n",
        "        # integers nums of lenght n, pos = nums[0]\n",
        "        # nums[i] = max length of a forward jump from index i\n",
        "        # return the min no. of jumps to reach the last step\n",
        "\n",
        "        # If the array has 0 or 1 elements, no jumps are needed\n",
        "        if len(nums) <= 1:\n",
        "            return 0\n",
        "\n",
        "        # jumps counts the number of jumps made\n",
        "        # current_end marks the farthest we can go with the current number of jumps\n",
        "        # farthest marks the farthest position we can reach with the next jump\n",
        "        jumps = current_end = farthest = 0\n",
        "\n",
        "        # Iterate over the array, except for the last element (since we want to land on the last index)\n",
        "        for i in range(len(nums) - 1):\n",
        "            # Update farthest to be the maximum of its current value and i + nums[i]\n",
        "            # (i.e., the farthest we can reach from this position)\n",
        "            farthest = max(farthest, i + nums[i])\n",
        "\n",
        "            # If we've reached the end of our current jump,\n",
        "            # increase the jump count and update current_end to farthest\n",
        "            if i == current_end:\n",
        "                jumps += 1\n",
        "                current_end = farthest\n",
        "\n",
        "        return jumps"
      ],
      "metadata": {
        "id": "ajAn43e49zM3"
      },
      "execution_count": null,
      "outputs": []
    },
    {
      "cell_type": "markdown",
      "source": [
        "O(n) time, O(1) space"
      ],
      "metadata": {
        "id": "ClJ36CFjO201"
      }
    },
    {
      "cell_type": "markdown",
      "source": [
        "## Gas Station"
      ],
      "metadata": {
        "id": "P5tdPrOB9y3-"
      }
    },
    {
      "cell_type": "code",
      "source": [
        "class Solution(object):\n",
        "    def canCompleteCircuit(self, gas, cost):\n",
        "        \"\"\"\n",
        "        :type gas: List[int]\n",
        "        :type cost: List[int]\n",
        "        :rtype: int\n",
        "        \"\"\"\n",
        "        # n gas stations on a circular route, where the amount of gas at ith station is\n",
        "        # gas[i]\n",
        "        # it costs cost[i] of gas to travel from ith station to (i+1)th station\n",
        "\n",
        "        #  Greedy:\n",
        "        # At each stage we always select the best starting point, the best starting point is the starting point that can get the car to the next station.\n",
        "        # if the car can aways get to the next station, then surely the car will complete the circuit if it is possilbe.\n",
        "\n",
        "        trip_tank, curr_tank, start, n = 0, 0, 0, len(gas)\n",
        "        for i in range(n):\n",
        "            trip_tank += gas[i] - cost[i]\n",
        "            curr_tank += gas[i] - cost[i]\n",
        "\n",
        "            if curr_tank < 0:\n",
        "                start = i + 1 # restart the index\n",
        "                curr_tank = 0\n",
        "\n",
        "        return start if trip_tank >= 0 else -1 # return start if overall trip tank is fine"
      ],
      "metadata": {
        "id": "xRt84heK93Js"
      },
      "execution_count": null,
      "outputs": []
    },
    {
      "cell_type": "markdown",
      "source": [
        "O(n) time, O(1) space"
      ],
      "metadata": {
        "id": "OM8vgEhMQRRo"
      }
    },
    {
      "cell_type": "markdown",
      "source": [
        "# Intervals"
      ],
      "metadata": {
        "id": "C2ilJHhnQnlj"
      }
    },
    {
      "cell_type": "markdown",
      "source": [
        "## Insert Interval"
      ],
      "metadata": {
        "id": "mIfW_aIVQv3V"
      }
    },
    {
      "cell_type": "code",
      "source": [
        "class Solution(object):\n",
        "    def insert(self, intervals, newInterval):\n",
        "        \"\"\"\n",
        "        :type intervals: List[List[int]]\n",
        "        :type newInterval: List[int]\n",
        "        :rtype: List[List[int]]\n",
        "        \"\"\"\n",
        "        # Prepare an empty list to store the result\n",
        "        result = []\n",
        "        # Initialize an index variable for iterating through intervals\n",
        "        i = 0\n",
        "        # Get the length of the intervals list\n",
        "        n = len(intervals)\n",
        "\n",
        "        # Add all intervals that end before the start of newInterval\n",
        "        # This loop continues until we find an interval that overlaps with newInterval\n",
        "        while i < n and intervals[i][1] < newInterval[0]:\n",
        "            result.append(intervals[i])\n",
        "            i += 1\n",
        "\n",
        "        # Merge intervals that overlap with newInterval\n",
        "        # This loop merges all overlapping intervals into one newInterval\n",
        "        while i < n and intervals[i][0] <= newInterval[1]:\n",
        "            # Update newInterval to the union of itself and the overlapping interval\n",
        "            newInterval = [min(newInterval[0], intervals[i][0]),\n",
        "                           max(newInterval[1], intervals[i][1])]\n",
        "            i += 1\n",
        "        # Add the merged newInterval to the result\n",
        "        result.append(newInterval)\n",
        "\n",
        "        # Add the remaining intervals to the result\n",
        "        # These intervals start after the end of the newInterval and don't need merging\n",
        "        while i < n:\n",
        "            result.append(intervals[i])\n",
        "            i += 1\n",
        "\n",
        "        # Return the final list of intervals\n",
        "        return result\n",
        "\n",
        "# Example Usage\n",
        "# intervals = [[1,3],[6,9]]\n",
        "# newInterval = [2,5]\n",
        "# solution = Solution()\n",
        "# print(solution.insert(intervals, newInterval))  # Output: [[1,5],[6,9]]"
      ],
      "metadata": {
        "colab": {
          "base_uri": "https://localhost:8080/"
        },
        "id": "gjQ1NBkIQ3hG",
        "outputId": "d64a1b3f-cf77-4744-e635-e7ad16530041"
      },
      "execution_count": null,
      "outputs": [
        {
          "output_type": "execute_result",
          "data": {
            "text/plain": [
              "2"
            ]
          },
          "metadata": {},
          "execution_count": 2
        }
      ]
    },
    {
      "cell_type": "markdown",
      "source": [
        "O(n) time, O(n) worst case space"
      ],
      "metadata": {
        "id": "yPwQUA4qb2x1"
      }
    },
    {
      "cell_type": "markdown",
      "source": [
        "## Merge Intervals"
      ],
      "metadata": {
        "id": "ar84zfLRQyYS"
      }
    },
    {
      "cell_type": "code",
      "source": [
        "class Solution(object):\n",
        "    def merge(self, intervals):\n",
        "        \"\"\"\n",
        "        :type intervals: List[List[int]]\n",
        "        :rtype: List[List[int]]\n",
        "        \"\"\"\n",
        "\n",
        "        # ensure sorted\n",
        "        intervals.sort(key = lambda x : x[0])\n",
        "\n",
        "        # merge all overlapping intervals in an array of intervals\n",
        "        i = 0\n",
        "\n",
        "        while i < len(intervals) - 1:\n",
        "            # condition to start merging process\n",
        "            if intervals[i][1] >= intervals[i+1][0]:\n",
        "                ninterval = [min(intervals[i][0], intervals[i+1][0]), max(intervals[i][1], intervals[i+1][1])]\n",
        "\n",
        "                intervals[i] = ninterval # replace current interval w merged interval\n",
        "\n",
        "                del intervals[i+1] # delete next one as it is merged\n",
        "\n",
        "            else:\n",
        "                i += 1\n",
        "\n",
        "        return intervals"
      ],
      "metadata": {
        "id": "xOP7WTeeQ22T"
      },
      "execution_count": null,
      "outputs": []
    },
    {
      "cell_type": "markdown",
      "source": [
        "O(n log n) time -- sort is O (n log n), O(1) space"
      ],
      "metadata": {
        "id": "6J8HnS5gl9ZG"
      }
    },
    {
      "cell_type": "markdown",
      "source": [
        "## Non-Overlapping Intervals"
      ],
      "metadata": {
        "id": "gDhCIBlDQ0fD"
      }
    },
    {
      "cell_type": "code",
      "source": [
        "class Solution(object):\n",
        "    def eraseOverlapIntervals(self, intervals):\n",
        "        \"\"\"\n",
        "        :type intervals: List[List[int]]\n",
        "        :rtype: int\n",
        "        \"\"\"\n",
        "        # return min number of intervals to be removed to make the rest of the intervals non-overlapping\n",
        "\n",
        "        # Edge case: if there are no intervals, no removal is needed\n",
        "        if not intervals:\n",
        "            return 0\n",
        "\n",
        "        # Sort intervals based on end times\n",
        "        intervals.sort(key = lambda x: x[1])\n",
        "\n",
        "        # Initialize the count of intervals to remove\n",
        "        count = 0\n",
        "\n",
        "        # The end of the first interval\n",
        "        end = intervals[0][1]\n",
        "\n",
        "        # Iterate through the intervals starting from the second one\n",
        "        for i in range(1, len(intervals)):\n",
        "            # If the start of the current interval is less than the end of the last interval,\n",
        "            # it means they are overlapping, and we need to remove an interval\n",
        "            if intervals[i][0] < end:\n",
        "                count += 1\n",
        "            else:\n",
        "                # Update the end to be the end of the current interval\n",
        "                end = intervals[i][1]\n",
        "\n",
        "        return count"
      ],
      "metadata": {
        "id": "Bg-kWmbqQ4HZ"
      },
      "execution_count": null,
      "outputs": []
    },
    {
      "cell_type": "markdown",
      "source": [
        "O( n log n) time, constant space"
      ],
      "metadata": {
        "id": "qsAw3zzztRmK"
      }
    },
    {
      "cell_type": "markdown",
      "source": [
        "# Mathematics"
      ],
      "metadata": {
        "id": "BsllLiEeBtaS"
      }
    },
    {
      "cell_type": "markdown",
      "source": [
        "## Rotate Image"
      ],
      "metadata": {
        "id": "JNFKqcQdwJXt"
      }
    },
    {
      "cell_type": "code",
      "source": [
        "class Solution(object):\n",
        "    def rotate(self, matrix):\n",
        "        \"\"\"\n",
        "        :type matrix: List[List[int]]\n",
        "        :rtype: None Do not return anything, modify matrix in-place instead.\n",
        "        \"\"\"\n",
        "\n",
        "        # nxn 2D matrix. Rotate the matrix by 90 degrees clockwise\n",
        "        # to rotate 90 degrees, first transpose the matrix (cols become rows, rows become cols)\n",
        "        # Second, reverse each row. After reversing each row the matrix has rotated 90-degrees clockwise\n",
        "        n = len(matrix)\n",
        "        if n == 1:\n",
        "            return matrix\n",
        "\n",
        "        # transpose\n",
        "        for i in range(n):\n",
        "            for j in range(i, n):\n",
        "                matrix[i][j], matrix[j][i] = matrix[j][i], matrix[i][j]\n",
        "\n",
        "        # reverse\n",
        "        for i in range(n):\n",
        "            matrix[i] = matrix[i][::-1]\n",
        "\n",
        "        return matrix"
      ],
      "metadata": {
        "id": "F8KkDiJGwLTf"
      },
      "execution_count": null,
      "outputs": []
    },
    {
      "cell_type": "markdown",
      "source": [
        "O(n^2) time, Constant space"
      ],
      "metadata": {
        "id": "YfG2rrMry4BQ"
      }
    },
    {
      "cell_type": "markdown",
      "source": [
        "## Spiral Matrix"
      ],
      "metadata": {
        "id": "N0tagcM-wLuC"
      }
    },
    {
      "cell_type": "code",
      "source": [
        "class Solution(object):\n",
        "    def spiralOrder(self, matrix):\n",
        "        result = []\n",
        "        while matrix:\n",
        "            # 1. Take the first row from the matrix and append it to the result.\n",
        "            # This is the top side of the spiral.\n",
        "            result += matrix.pop(0)\n",
        "\n",
        "            # 2. Take the last element from each remaining row (if any) and append it to the result.\n",
        "            # This is the right side of the spiral.\n",
        "            if matrix and matrix[0]:  # Check if the matrix is not empty and the first row is not empty\n",
        "                for line in matrix:\n",
        "                    result.append(line.pop())  # Take the last element from each row\n",
        "\n",
        "            # 3. Take the last row from the matrix, reverse it, and append it to the result.\n",
        "            # This is the bottom side of the spiral.\n",
        "            if matrix:  # Check if there are still rows remaining\n",
        "                result += matrix.pop()[::-1]  # Reverse the last row and append it to the result\n",
        "\n",
        "            # 4. Take the first element from each remaining row (in reverse order) and append it to the result.\n",
        "            # This is the left side of the spiral.\n",
        "            if matrix and matrix[0]:  # Check if the matrix and the first row are not empty\n",
        "                for line in matrix[::-1]:  # Iterate over the rows in reverse order\n",
        "                    result.append(line.pop(0))  # Take the first element from the row\n",
        "\n",
        "        return result"
      ],
      "metadata": {
        "id": "rsicLT7ywOMW"
      },
      "execution_count": null,
      "outputs": []
    },
    {
      "cell_type": "markdown",
      "source": [
        "O(n^2) time and space"
      ],
      "metadata": {
        "id": "e1g-iPzg6QtY"
      }
    },
    {
      "cell_type": "markdown",
      "source": [
        "## Set Matrix Zeroes"
      ],
      "metadata": {
        "id": "jCq5jP2QwOtB"
      }
    },
    {
      "cell_type": "code",
      "source": [
        "class Solution(object):\n",
        "    def setZeroes(self, matrix):\n",
        "        \"\"\"\n",
        "        :type matrix: List[List[int]]\n",
        "        :rtype: None Do not return anything, modify matrix in-place instead.\n",
        "        \"\"\"\n",
        "\n",
        "        # Given an m x n matrix, if an element is 0, set its entire row and column to 0\n",
        "        # this must be done in place\n",
        "        n, m = len(matrix), len(matrix[0])\n",
        "        jstore = []  # List to store the columns that have zero\n",
        "\n",
        "        # First pass: check each element in the matrix\n",
        "        for i in range(n):\n",
        "            for j in range(m):\n",
        "                # If an element is zero, store its column number\n",
        "                if matrix[i][j] == 0:\n",
        "                    jstore.append(j)\n",
        "\n",
        "        # Second pass: set entire rows and columns to zero\n",
        "        for i in range(n):\n",
        "            # If a row contains a zero, set all elements in the row to zero\n",
        "            if 0 in matrix[i]:\n",
        "                for k in range(m):\n",
        "                    matrix[i][k] = 0\n",
        "            # If a row does not contain a zero, only set elements to zero if their column is in jstore\n",
        "            else:\n",
        "                for j in jstore:\n",
        "                    matrix[i][j] = 0\n",
        "\n",
        "        # The function doesn't need to return anything because we modify the matrix in place"
      ],
      "metadata": {
        "id": "aSBYGoeBwQtD"
      },
      "execution_count": null,
      "outputs": []
    },
    {
      "cell_type": "markdown",
      "source": [
        "## Pow(x, n)"
      ],
      "metadata": {
        "id": "Qz2FfCVWwRW6"
      }
    },
    {
      "cell_type": "code",
      "source": [
        "# memory limit exceeded\n",
        "class Solution(object):\n",
        "    def myPow(self, x, n):\n",
        "        \"\"\"\n",
        "        :type x: float\n",
        "        :type n: int\n",
        "        :rtype: float\n",
        "        \"\"\"\n",
        "        if n == 0:\n",
        "            return 1\n",
        "\n",
        "        # calc x ^n\n",
        "        ans = x\n",
        "\n",
        "        for _ in range(abs(n)-1): # absolute value for negative n, so we get desired result\n",
        "            ans *= x\n",
        "\n",
        "        return ans if n > 0 else 1/ans\n"
      ],
      "metadata": {
        "id": "I-j_M5tWwTwM"
      },
      "execution_count": null,
      "outputs": []
    },
    {
      "cell_type": "code",
      "source": [
        "class Solution(object):\n",
        "    def myPow(self, x, n):\n",
        "        \"\"\"\n",
        "        :type x: float\n",
        "        :type n: int\n",
        "        :rtype: float\n",
        "        \"\"\"\n",
        "        if n == 0:\n",
        "            return 1\n",
        "        elif n < 0:\n",
        "            # For negative powers, use the positive power and take the reciprocal\n",
        "            return 1 / self.myPow(x, -n)\n",
        "        elif n % 2 == 0:\n",
        "            # If n is even, calculate half power and square it\n",
        "            half = self.myPow(x, n // 2)\n",
        "            return half * half\n",
        "        else:\n",
        "            # If n is odd, calculate half power, square it, and multiply by x\n",
        "            half = self.myPow(x, n // 2)\n",
        "            return half * half * x"
      ],
      "metadata": {
        "id": "KeR9q8_exb9i"
      },
      "execution_count": null,
      "outputs": []
    },
    {
      "cell_type": "markdown",
      "source": [
        "## Plus one"
      ],
      "metadata": {
        "id": "cgqpNSlTBtXC"
      }
    },
    {
      "cell_type": "code",
      "source": [
        "class Solution(object):\n",
        "    def plusOne(self, digits):\n",
        "        \"\"\"\n",
        "        :type digits: List[int]\n",
        "        :rtype: List[int]\n",
        "        \"\"\"\n",
        "        # an integer, thus, the length of the array equals the number of digits in the integer\n",
        "        # add 1 to the last digit\n",
        "        if len(digits) > 0:\n",
        "            n = len(digits) - 1\n",
        "        else:\n",
        "            n = 0\n",
        "        # check for if the last digit is 9\n",
        "        # If it is, check for if the second last digit is 9 and so on..\n",
        "        while n >= 0:\n",
        "            if digits[n] < 9:\n",
        "                digits[n] += 1\n",
        "                return digits\n",
        "            else:\n",
        "                # Last digit becomes 0\n",
        "                digits[n] = 0\n",
        "                # we now go through the ns backwards\n",
        "                # e.g. n = 8, n = 7\n",
        "\n",
        "                n -= 1\n",
        "        # return 1 in front of the digits if there is the case where all the digits are 9\n",
        "        return [1] + digits"
      ],
      "metadata": {
        "id": "bknOnOkIBvtd"
      },
      "execution_count": null,
      "outputs": []
    },
    {
      "cell_type": "markdown",
      "source": [
        "## Happy Number"
      ],
      "metadata": {
        "id": "DyvZ6xTBBtKs"
      }
    },
    {
      "cell_type": "code",
      "source": [
        "class Solution(object):\n",
        "    def isHappy(self, n):\n",
        "        \"\"\"\n",
        "        :type n: int\n",
        "        :rtype: bool\n",
        "        \"\"\"\n",
        "        res = [n] # tracker for our number\n",
        "\n",
        "        while n!=1:\n",
        "            digits = [int(digit) for digit in str(n)]\n",
        "            n = sum(x**2 for x in digits)\n",
        "            if n in res:\n",
        "                    return False\n",
        "            res.append(n)\n",
        "        return True"
      ],
      "metadata": {
        "id": "Ni-_yQEoQkse"
      },
      "execution_count": null,
      "outputs": []
    },
    {
      "cell_type": "markdown",
      "source": [
        "## Multiply Strings"
      ],
      "metadata": {
        "id": "xfXP9xjbUv-O"
      }
    },
    {
      "cell_type": "code",
      "source": [
        "\n",
        "class Solution(object):\n",
        "    def multiply(self, num1, num2):\n",
        "        \"\"\"\n",
        "        :type num1: str\n",
        "        :type num2: str\n",
        "        :rtype: str\n",
        "        \"\"\"\n",
        "        if num1 == \"0\" or num2 == \"0\":\n",
        "            return \"0\"\n",
        "\n",
        "        # If either of the input numbers is '0', the result is '0'.\n",
        "        if num1 == '0' or num2 == '0':\n",
        "            return '0'\n",
        "\n",
        "        # This helper function decodes a string number to an integer without using int().\n",
        "        def decode(num):\n",
        "            ans = 0\n",
        "            for i in num:\n",
        "                # For each character in the string, convert it to an integer using ASCII values,\n",
        "                # and accumulate it into the answer while shifting the previous answer to the left by one decimal place.\n",
        "                ans = ans * 10 + (ord(i) - ord('0'))\n",
        "            return ans\n",
        "\n",
        "        # This helper function encodes an integer back to a string without using str().\n",
        "        def encode(s):\n",
        "            news = ''\n",
        "            while s:\n",
        "                # Get the last digit of the integer.\n",
        "                a = s % 10\n",
        "                # Divide the number by 10 to remove the last digit.\n",
        "                s = s // 10\n",
        "                # Convert the digit to a character and prepend it to the result string.\n",
        "                news = chr(ord('0') + a) + news\n",
        "            return news\n",
        "\n",
        "        # Decode both numbers, multiply them, and encode the result back to a string.\n",
        "        return encode(decode(num1) * decode(num2))\n"
      ],
      "metadata": {
        "id": "NprVNVVVUyJj"
      },
      "execution_count": null,
      "outputs": []
    },
    {
      "cell_type": "markdown",
      "source": [
        "## Detect Squares"
      ],
      "metadata": {
        "id": "bqFSXWvaUynk"
      }
    },
    {
      "cell_type": "code",
      "source": [
        "class DetectSquares(object):\n",
        "\n",
        "    def __init__(self):\n",
        "        self.ptsCount = defaultdict(int)\n",
        "        self.pts = []\n",
        "\n",
        "    def add(self, point):\n",
        "        \"\"\"\n",
        "        :type point: List[int]\n",
        "        :rtype: None\n",
        "        \"\"\"\n",
        "        self.ptsCount[tuple(point)] +=1\n",
        "        self.pts.append(point)\n",
        "\n",
        "    def count(self, point):\n",
        "        \"\"\"\n",
        "        :type point: List[int]\n",
        "        :rtype: int\n",
        "        \"\"\"\n",
        "        px, py = point\n",
        "        res = 0\n",
        "        for x, y in self.pts:\n",
        "            if (abs(px - x) != abs(py - y)) or px == x or py == y:\n",
        "                continue\n",
        "            res +=self.ptsCount[(px,y)] * self.ptsCount[(x,py)]\n",
        "        return res\n",
        "\n",
        "\n",
        "\n",
        "# Your DetectSquares object will be instantiated and called as such:\n",
        "# obj = DetectSquares()\n",
        "# obj.add(point)\n",
        "# param_2 = obj.count(point)\n",
        "# Your DetectSquares object will be instantiated and called as such:\n",
        "# obj = DetectSquares()\n",
        "# obj.add(point)\n",
        "# param_2 = obj.count(point)"
      ],
      "metadata": {
        "id": "sa2hG4hSU1EY"
      },
      "execution_count": null,
      "outputs": []
    },
    {
      "cell_type": "markdown",
      "source": [
        "# Bit Manipulation"
      ],
      "metadata": {
        "id": "JnNa6MxEQsGA"
      }
    },
    {
      "cell_type": "markdown",
      "source": [
        "## Single Number"
      ],
      "metadata": {
        "id": "SluM6QbhH0Xt"
      }
    },
    {
      "cell_type": "code",
      "source": [
        "class Solution(object):\n",
        "    def singleNumber(self, nums):\n",
        "        \"\"\"\n",
        "        :type nums: List[int]\n",
        "        :rtype: int\n",
        "        \"\"\"\n",
        "        unique = 0\n",
        "        for num in nums:\n",
        "\n",
        "            unique ^= num\n",
        "\n",
        "        return unique # only the number that doesnt have a pair will remain\n",
        "        # constant space and time (as is the case w bit manipulation)"
      ],
      "metadata": {
        "id": "0kS37CHKNGBl"
      },
      "execution_count": null,
      "outputs": []
    },
    {
      "cell_type": "markdown",
      "source": [
        "## Number Of 1 Bits"
      ],
      "metadata": {
        "id": "YZNZqSprNG9T"
      }
    },
    {
      "cell_type": "code",
      "source": [
        "class Solution(object):\n",
        "    def hammingWeight(self, n):\n",
        "        \"\"\"\n",
        "        :type n: int\n",
        "        :rtype: int\n",
        "        \"\"\"\n",
        "        return bin(n).count('1')"
      ],
      "metadata": {
        "id": "EbEv-Jd_NIGf"
      },
      "execution_count": null,
      "outputs": []
    },
    {
      "cell_type": "markdown",
      "source": [
        "## Reverse Bits"
      ],
      "metadata": {
        "id": "UCBZjxi-NIrE"
      }
    },
    {
      "cell_type": "code",
      "source": [
        "class Solution:\n",
        "    def reverseBits(self, n):\n",
        "        result = 0\n",
        "        for i in range(32):  # Assuming we're dealing with a 32-bit integer\n",
        "            result <<= 1  # Shift the bits of result to the left\n",
        "            if n & 1:  # Check if the last bit of n is set\n",
        "                result |= 1  # Set the last bit of result if the condition is true\n",
        "            n >>= 1  # Shift the bits of n to the right, to process the next bit in the next iteration\n",
        "        return result"
      ],
      "metadata": {
        "id": "6d9Sx7bENJDm"
      },
      "execution_count": null,
      "outputs": []
    },
    {
      "cell_type": "markdown",
      "source": [
        "## Counting Bits"
      ],
      "metadata": {
        "id": "ppVcaOp5NJpP"
      }
    },
    {
      "cell_type": "code",
      "source": [
        "class Solution(object):\n",
        "    def countBits(self, n):\n",
        "        \"\"\"\n",
        "        :type n: int\n",
        "        :rtype: List[int]\n",
        "        \"\"\"\n",
        "\n",
        "        counter = []\n",
        "\n",
        "        for i in range(n+1):\n",
        "            counter.append(bin(i).count('1'))\n",
        "\n",
        "        return counter"
      ],
      "metadata": {
        "id": "xebfroh1NKNy"
      },
      "execution_count": null,
      "outputs": []
    },
    {
      "cell_type": "markdown",
      "source": [
        "## Missing Number"
      ],
      "metadata": {
        "id": "WTp7iSJFTKRb"
      }
    },
    {
      "cell_type": "code",
      "source": [
        "class Solution:\n",
        "    def missingNumber(self, nums):\n",
        "        \"\"\"\n",
        "        :type nums: List[int]\n",
        "        :rtype: int\n",
        "        \"\"\"\n",
        "        missing = len(nums)  # Start with the last number as it won't be included in the loop\n",
        "        for i, num in enumerate(nums):\n",
        "\n",
        "          # With XOR: The expression a ^ b ^ c is equivalent to (a ^ b) ^ c or a ^ (b ^ c).\n",
        "\n",
        "            missing ^= i ^ num  # XOR with both index and number\n",
        "        return missing"
      ],
      "metadata": {
        "id": "vF45d__zT-s4"
      },
      "execution_count": null,
      "outputs": []
    },
    {
      "cell_type": "code",
      "source": [
        "class Solution:\n",
        "    def missingNumber(self, nums):\n",
        "        \"\"\"\n",
        "        :type nums: List[int]\n",
        "        :rtype: int\n",
        "        \"\"\"\n",
        "        # Calculate the expected sum of numbers from 0 to n\n",
        "        n = len(nums)\n",
        "        expected_sum = n * (n + 1) // 2\n",
        "\n",
        "        # Calculate the actual sum of numbers in the array\n",
        "        actual_sum = sum(nums)\n",
        "\n",
        "        # The missing number is the difference between the expected and actual sum\n",
        "        return expected_sum - actual_sum"
      ],
      "metadata": {
        "id": "RmvZjcbVTOQJ"
      },
      "execution_count": null,
      "outputs": []
    },
    {
      "cell_type": "markdown",
      "source": [
        "## Sum of Two Integers"
      ],
      "metadata": {
        "id": "1e2DUQn-TNtp"
      }
    },
    {
      "cell_type": "code",
      "source": [
        "class Solution:\n",
        "    def getSum(self, a, b):\n",
        "        \"\"\"\n",
        "        :type a: int\n",
        "        :type b: int\n",
        "        :rtype: int\n",
        "        \"\"\"\n",
        "        # 32 bits integer max\n",
        "        MAX = 0x7FFFFFFF\n",
        "        # Mask to get last 32 bits\n",
        "        mask = 0xFFFFFFFF\n",
        "\n",
        "        while b != 0:\n",
        "            # Calculate the carry, which is the AND of a and b\n",
        "            carry = (a & b) << 1\n",
        "\n",
        "            # Sum of a and b where at least one of the bits is not set\n",
        "            a = (a ^ b) & mask\n",
        "\n",
        "            # Carry is stored in b to be added in the next iteration\n",
        "            b = carry & mask\n",
        "\n",
        "        # for negative numbers, we return the complement of result\n",
        "        return a if a <= MAX else ~(a ^ mask)\n"
      ],
      "metadata": {
        "id": "F3GU9MF8TSHp"
      },
      "execution_count": null,
      "outputs": []
    },
    {
      "cell_type": "markdown",
      "source": [
        "## Reverse Integers"
      ],
      "metadata": {
        "id": "AY4RZolMTRrg"
      }
    },
    {
      "cell_type": "code",
      "source": [
        "class Solution:\n",
        "    def reverse(self, x):\n",
        "        \"\"\"\n",
        "        :type x: int\n",
        "        :rtype: int\n",
        "        \"\"\"\n",
        "        # Initialize the reversed number to 0\n",
        "        rev = 0\n",
        "\n",
        "        # Check the sign of x\n",
        "        sign = (x > 0) - (x < 0)\n",
        "        x = abs(x)\n",
        "\n",
        "        # Loop until x becomes 0\n",
        "        while x != 0:\n",
        "            # Pop the last digit from x\n",
        "            pop = x % 10\n",
        "            x //= 10\n",
        "\n",
        "            # Push the digit to rev\n",
        "            rev = rev * 10 + pop\n",
        "\n",
        "        # Check for overflow and return 0 if it overflows\n",
        "        if rev > 2**31-1 or rev < -2**31:\n",
        "            return 0\n",
        "\n",
        "        # Return the reversed number with the original sign\n",
        "        return sign * rev\n"
      ],
      "metadata": {
        "id": "aFgOXkxtTSoM"
      },
      "execution_count": null,
      "outputs": []
    },
    {
      "cell_type": "markdown",
      "source": [
        "# Sliding Window"
      ],
      "metadata": {
        "id": "S6IgE0sFEbdY"
      }
    },
    {
      "cell_type": "markdown",
      "source": [
        "## 567. Permutation in String\n",
        "\n",
        "Given two strings s1 and s2, return true if s2 contains a permutation of s1, or false otherwise.\n",
        "\n",
        "In other words, return true if one of s1's permutations is the substring of s2."
      ],
      "metadata": {
        "id": "U-aNU_FOEctS"
      }
    },
    {
      "cell_type": "code",
      "source": [
        "class Solution(object):\n",
        "    def checkInclusion(self, s1, s2):\n",
        "        \"\"\"\n",
        "        :type s1: str\n",
        "        :type s2: str\n",
        "        :rtype: bool\n",
        "        \"\"\"\n",
        "        # The crux of this problem is essentially to find if an anagram\n",
        "        # of s1 is contained within s2\n",
        "\n",
        "        if len(s1) > len(s2):\n",
        "            return False\n",
        "\n",
        "        s1_anag = {}\n",
        "        window = {}\n",
        "        l, r = 0, 0\n",
        "\n",
        "        # Fill in the s1 anagram hashmap/dictionary\n",
        "        for item in s1:\n",
        "            s1_anag[item] = s1_anag.get(item, 0) + 1\n",
        "\n",
        "        # Now that we have each character of s1's count, we can start sliding these windows\n",
        "        # end goal is to get each iteration of 'window' and equate it to 's1_anag'\n",
        "        # if they are equal, then return True, else continue. Return False at the end.\n",
        "        while r < len(s2):\n",
        "\n",
        "            # standard counter\n",
        "            if s2[r] in window:\n",
        "                window[s2[r]] +=1\n",
        "            else:\n",
        "                window[s2[r]] = 1\n",
        "\n",
        "            if r - l + 1 == len(s1):\n",
        "                if window == s1_anag:\n",
        "                    return True\n",
        "\n",
        "            # move the left pointer\n",
        "            # if s2[l] in window:: This condition checks if the character at the left end of the current window (s2[l]) is present in the window dictionary. If it is, it means that this character is part of the current window.\n",
        "\n",
        "            # if window[s2[l]] == 1:: If the character at s2[l] appears only once in the current window, it means removing it from the window dictionary would make the window size smaller. So, in this case, we use del window[s2[l]] to remove the character from the window dictionary.\n",
        "\n",
        "            # else:: If the character at s2[l] appears more than once in the current window, decrement its count in the window dictionary by 1 using window[s2[l]] -= 1. This step is necessary to reflect the removal of one occurrence of the character.\n",
        "                if s2[l] in window:\n",
        "                    if window[s2[l]] == 1:\n",
        "                        del window[s2[l]]\n",
        "                    else:\n",
        "                        window[s2[l]] -= 1\n",
        "                # l +=1 remains inside the above if statement because\n",
        "                # only when the window length is equal to len(s1) do we test it,\n",
        "                # and if it is incorrect, only then do we need to move the left pointer\n",
        "                l += 1\n",
        "            r += 1\n",
        "\n",
        "        return False\n",
        "\n"
      ],
      "metadata": {
        "id": "t7s9UEzFEj1Z"
      },
      "execution_count": null,
      "outputs": []
    }
  ]
}