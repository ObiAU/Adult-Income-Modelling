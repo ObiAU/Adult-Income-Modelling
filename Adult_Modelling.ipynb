{
  "nbformat": 4,
  "nbformat_minor": 0,
  "metadata": {
    "colab": {
      "provenance": []
    },
    "kernelspec": {
      "name": "python3",
      "display_name": "Python 3"
    },
    "language_info": {
      "name": "python"
    },
    "accelerator": "GPU",
    "gpuClass": "standard"
  },
  "cells": [
    {
      "cell_type": "markdown",
      "source": [
        "## Few Starting notes for tensorflow NN model\n",
        "\n",
        "* one hot encode categorical features. If a feature is not numeric, then we need to make sure its one hot encoded.\n",
        "\n",
        "* There is no advantage to normalising one-hot encoded features."
      ],
      "metadata": {
        "id": "Zg2qo0HzRrGd"
      }
    },
    {
      "cell_type": "code",
      "source": [
        "import tensorflow as tf\n",
        "import matplotlib.pyplot as plt\n",
        "import numpy as np\n",
        "import pandas as pd\n",
        "import random\n",
        "from sklearn.model_selection import train_test_split\n",
        "from tensorflow.keras.optimizers import RMSprop\n",
        "from sklearn.ensemble import RandomForestClassifier\n",
        "from sklearn.metrics import confusion_matrix\n",
        "from sklearn.metrics import accuracy_score, precision_score, recall_score, f1_score\n",
        "import seaborn as sns"
      ],
      "metadata": {
        "id": "pjBatorRbXjm"
      },
      "execution_count": 2,
      "outputs": []
    },
    {
      "cell_type": "code",
      "source": [
        "# General Data extractor\n",
        "def load_data(file):\n",
        "  return pd.read_csv(file, header = None, names = ['Age', 'Workclass', 'fnlwgt', 'Education', 'Education No.',\n",
        "                      'Marital-Status', 'Occupation', 'Relationship',\n",
        "                      'Race', 'Sex', 'Capital-Gain', 'Capital-Loss',\n",
        "                      'Hours-per-week', 'Native-Country', 'Income'])"
      ],
      "metadata": {
        "id": "rK-5WrU6mOuT"
      },
      "execution_count": 3,
      "outputs": []
    },
    {
      "cell_type": "markdown",
      "source": [
        "###################################################################################################"
      ],
      "metadata": {
        "id": "ywQNOkTZOOsB"
      }
    },
    {
      "cell_type": "markdown",
      "source": [
        "## **NON-GROUPED DATA SET**"
      ],
      "metadata": {
        "id": "YNJjxAE2OIU7"
      }
    },
    {
      "cell_type": "code",
      "source": [
        "from google.colab import files\n",
        "uploaded = files.upload()"
      ],
      "metadata": {
        "colab": {
          "base_uri": "https://localhost:8080/",
          "height": 109
        },
        "id": "VIUaE9ZBbeBI",
        "outputId": "01e409fe-c7d5-465a-9d76-7e564c2419bc"
      },
      "execution_count": 1,
      "outputs": [
        {
          "output_type": "display_data",
          "data": {
            "text/plain": [
              "<IPython.core.display.HTML object>"
            ],
            "text/html": [
              "\n",
              "     <input type=\"file\" id=\"files-10457796-52e3-4416-a296-0d05af18de86\" name=\"files[]\" multiple disabled\n",
              "        style=\"border:none\" />\n",
              "     <output id=\"result-10457796-52e3-4416-a296-0d05af18de86\">\n",
              "      Upload widget is only available when the cell has been executed in the\n",
              "      current browser session. Please rerun this cell to enable.\n",
              "      </output>\n",
              "      <script>// Copyright 2017 Google LLC\n",
              "//\n",
              "// Licensed under the Apache License, Version 2.0 (the \"License\");\n",
              "// you may not use this file except in compliance with the License.\n",
              "// You may obtain a copy of the License at\n",
              "//\n",
              "//      http://www.apache.org/licenses/LICENSE-2.0\n",
              "//\n",
              "// Unless required by applicable law or agreed to in writing, software\n",
              "// distributed under the License is distributed on an \"AS IS\" BASIS,\n",
              "// WITHOUT WARRANTIES OR CONDITIONS OF ANY KIND, either express or implied.\n",
              "// See the License for the specific language governing permissions and\n",
              "// limitations under the License.\n",
              "\n",
              "/**\n",
              " * @fileoverview Helpers for google.colab Python module.\n",
              " */\n",
              "(function(scope) {\n",
              "function span(text, styleAttributes = {}) {\n",
              "  const element = document.createElement('span');\n",
              "  element.textContent = text;\n",
              "  for (const key of Object.keys(styleAttributes)) {\n",
              "    element.style[key] = styleAttributes[key];\n",
              "  }\n",
              "  return element;\n",
              "}\n",
              "\n",
              "// Max number of bytes which will be uploaded at a time.\n",
              "const MAX_PAYLOAD_SIZE = 100 * 1024;\n",
              "\n",
              "function _uploadFiles(inputId, outputId) {\n",
              "  const steps = uploadFilesStep(inputId, outputId);\n",
              "  const outputElement = document.getElementById(outputId);\n",
              "  // Cache steps on the outputElement to make it available for the next call\n",
              "  // to uploadFilesContinue from Python.\n",
              "  outputElement.steps = steps;\n",
              "\n",
              "  return _uploadFilesContinue(outputId);\n",
              "}\n",
              "\n",
              "// This is roughly an async generator (not supported in the browser yet),\n",
              "// where there are multiple asynchronous steps and the Python side is going\n",
              "// to poll for completion of each step.\n",
              "// This uses a Promise to block the python side on completion of each step,\n",
              "// then passes the result of the previous step as the input to the next step.\n",
              "function _uploadFilesContinue(outputId) {\n",
              "  const outputElement = document.getElementById(outputId);\n",
              "  const steps = outputElement.steps;\n",
              "\n",
              "  const next = steps.next(outputElement.lastPromiseValue);\n",
              "  return Promise.resolve(next.value.promise).then((value) => {\n",
              "    // Cache the last promise value to make it available to the next\n",
              "    // step of the generator.\n",
              "    outputElement.lastPromiseValue = value;\n",
              "    return next.value.response;\n",
              "  });\n",
              "}\n",
              "\n",
              "/**\n",
              " * Generator function which is called between each async step of the upload\n",
              " * process.\n",
              " * @param {string} inputId Element ID of the input file picker element.\n",
              " * @param {string} outputId Element ID of the output display.\n",
              " * @return {!Iterable<!Object>} Iterable of next steps.\n",
              " */\n",
              "function* uploadFilesStep(inputId, outputId) {\n",
              "  const inputElement = document.getElementById(inputId);\n",
              "  inputElement.disabled = false;\n",
              "\n",
              "  const outputElement = document.getElementById(outputId);\n",
              "  outputElement.innerHTML = '';\n",
              "\n",
              "  const pickedPromise = new Promise((resolve) => {\n",
              "    inputElement.addEventListener('change', (e) => {\n",
              "      resolve(e.target.files);\n",
              "    });\n",
              "  });\n",
              "\n",
              "  const cancel = document.createElement('button');\n",
              "  inputElement.parentElement.appendChild(cancel);\n",
              "  cancel.textContent = 'Cancel upload';\n",
              "  const cancelPromise = new Promise((resolve) => {\n",
              "    cancel.onclick = () => {\n",
              "      resolve(null);\n",
              "    };\n",
              "  });\n",
              "\n",
              "  // Wait for the user to pick the files.\n",
              "  const files = yield {\n",
              "    promise: Promise.race([pickedPromise, cancelPromise]),\n",
              "    response: {\n",
              "      action: 'starting',\n",
              "    }\n",
              "  };\n",
              "\n",
              "  cancel.remove();\n",
              "\n",
              "  // Disable the input element since further picks are not allowed.\n",
              "  inputElement.disabled = true;\n",
              "\n",
              "  if (!files) {\n",
              "    return {\n",
              "      response: {\n",
              "        action: 'complete',\n",
              "      }\n",
              "    };\n",
              "  }\n",
              "\n",
              "  for (const file of files) {\n",
              "    const li = document.createElement('li');\n",
              "    li.append(span(file.name, {fontWeight: 'bold'}));\n",
              "    li.append(span(\n",
              "        `(${file.type || 'n/a'}) - ${file.size} bytes, ` +\n",
              "        `last modified: ${\n",
              "            file.lastModifiedDate ? file.lastModifiedDate.toLocaleDateString() :\n",
              "                                    'n/a'} - `));\n",
              "    const percent = span('0% done');\n",
              "    li.appendChild(percent);\n",
              "\n",
              "    outputElement.appendChild(li);\n",
              "\n",
              "    const fileDataPromise = new Promise((resolve) => {\n",
              "      const reader = new FileReader();\n",
              "      reader.onload = (e) => {\n",
              "        resolve(e.target.result);\n",
              "      };\n",
              "      reader.readAsArrayBuffer(file);\n",
              "    });\n",
              "    // Wait for the data to be ready.\n",
              "    let fileData = yield {\n",
              "      promise: fileDataPromise,\n",
              "      response: {\n",
              "        action: 'continue',\n",
              "      }\n",
              "    };\n",
              "\n",
              "    // Use a chunked sending to avoid message size limits. See b/62115660.\n",
              "    let position = 0;\n",
              "    do {\n",
              "      const length = Math.min(fileData.byteLength - position, MAX_PAYLOAD_SIZE);\n",
              "      const chunk = new Uint8Array(fileData, position, length);\n",
              "      position += length;\n",
              "\n",
              "      const base64 = btoa(String.fromCharCode.apply(null, chunk));\n",
              "      yield {\n",
              "        response: {\n",
              "          action: 'append',\n",
              "          file: file.name,\n",
              "          data: base64,\n",
              "        },\n",
              "      };\n",
              "\n",
              "      let percentDone = fileData.byteLength === 0 ?\n",
              "          100 :\n",
              "          Math.round((position / fileData.byteLength) * 100);\n",
              "      percent.textContent = `${percentDone}% done`;\n",
              "\n",
              "    } while (position < fileData.byteLength);\n",
              "  }\n",
              "\n",
              "  // All done.\n",
              "  yield {\n",
              "    response: {\n",
              "      action: 'complete',\n",
              "    }\n",
              "  };\n",
              "}\n",
              "\n",
              "scope.google = scope.google || {};\n",
              "scope.google.colab = scope.google.colab || {};\n",
              "scope.google.colab._files = {\n",
              "  _uploadFiles,\n",
              "  _uploadFilesContinue,\n",
              "};\n",
              "})(self);\n",
              "</script> "
            ]
          },
          "metadata": {}
        },
        {
          "output_type": "stream",
          "name": "stdout",
          "text": [
            "Saving adult.data to adult.data\n",
            "Saving adult.test to adult.test\n"
          ]
        }
      ]
    },
    {
      "cell_type": "code",
      "source": [
        "# load the dataset\n",
        "fledged = load_data('adult.data')\n",
        "# Drop education no. column as it correlates exactly with education\n",
        "# education no. has numeric values in its column, but it is important to note that\n",
        "# these values are categorical in nature, and possess no inherent ordering (as actual numeric values do)\n",
        "fledged = fledged.drop('Education No.', axis = 1)\n",
        "fledged.head()"
      ],
      "metadata": {
        "id": "qiFesgJxnYrI",
        "colab": {
          "base_uri": "https://localhost:8080/",
          "height": 206
        },
        "outputId": "76969175-33f4-4bb6-cd2f-c86add768a4f"
      },
      "execution_count": 4,
      "outputs": [
        {
          "output_type": "execute_result",
          "data": {
            "text/plain": [
              "   Age          Workclass  fnlwgt   Education       Marital-Status  \\\n",
              "0   39          State-gov   77516   Bachelors        Never-married   \n",
              "1   50   Self-emp-not-inc   83311   Bachelors   Married-civ-spouse   \n",
              "2   38            Private  215646     HS-grad             Divorced   \n",
              "3   53            Private  234721        11th   Married-civ-spouse   \n",
              "4   28            Private  338409   Bachelors   Married-civ-spouse   \n",
              "\n",
              "           Occupation    Relationship    Race      Sex  Capital-Gain  \\\n",
              "0        Adm-clerical   Not-in-family   White     Male          2174   \n",
              "1     Exec-managerial         Husband   White     Male             0   \n",
              "2   Handlers-cleaners   Not-in-family   White     Male             0   \n",
              "3   Handlers-cleaners         Husband   Black     Male             0   \n",
              "4      Prof-specialty            Wife   Black   Female             0   \n",
              "\n",
              "   Capital-Loss  Hours-per-week  Native-Country  Income  \n",
              "0             0              40   United-States   <=50K  \n",
              "1             0              13   United-States   <=50K  \n",
              "2             0              40   United-States   <=50K  \n",
              "3             0              40   United-States   <=50K  \n",
              "4             0              40            Cuba   <=50K  "
            ],
            "text/html": [
              "\n",
              "  <div id=\"df-a3ca5084-c293-4878-8c37-d4d113f0d151\">\n",
              "    <div class=\"colab-df-container\">\n",
              "      <div>\n",
              "<style scoped>\n",
              "    .dataframe tbody tr th:only-of-type {\n",
              "        vertical-align: middle;\n",
              "    }\n",
              "\n",
              "    .dataframe tbody tr th {\n",
              "        vertical-align: top;\n",
              "    }\n",
              "\n",
              "    .dataframe thead th {\n",
              "        text-align: right;\n",
              "    }\n",
              "</style>\n",
              "<table border=\"1\" class=\"dataframe\">\n",
              "  <thead>\n",
              "    <tr style=\"text-align: right;\">\n",
              "      <th></th>\n",
              "      <th>Age</th>\n",
              "      <th>Workclass</th>\n",
              "      <th>fnlwgt</th>\n",
              "      <th>Education</th>\n",
              "      <th>Marital-Status</th>\n",
              "      <th>Occupation</th>\n",
              "      <th>Relationship</th>\n",
              "      <th>Race</th>\n",
              "      <th>Sex</th>\n",
              "      <th>Capital-Gain</th>\n",
              "      <th>Capital-Loss</th>\n",
              "      <th>Hours-per-week</th>\n",
              "      <th>Native-Country</th>\n",
              "      <th>Income</th>\n",
              "    </tr>\n",
              "  </thead>\n",
              "  <tbody>\n",
              "    <tr>\n",
              "      <th>0</th>\n",
              "      <td>39</td>\n",
              "      <td>State-gov</td>\n",
              "      <td>77516</td>\n",
              "      <td>Bachelors</td>\n",
              "      <td>Never-married</td>\n",
              "      <td>Adm-clerical</td>\n",
              "      <td>Not-in-family</td>\n",
              "      <td>White</td>\n",
              "      <td>Male</td>\n",
              "      <td>2174</td>\n",
              "      <td>0</td>\n",
              "      <td>40</td>\n",
              "      <td>United-States</td>\n",
              "      <td>&lt;=50K</td>\n",
              "    </tr>\n",
              "    <tr>\n",
              "      <th>1</th>\n",
              "      <td>50</td>\n",
              "      <td>Self-emp-not-inc</td>\n",
              "      <td>83311</td>\n",
              "      <td>Bachelors</td>\n",
              "      <td>Married-civ-spouse</td>\n",
              "      <td>Exec-managerial</td>\n",
              "      <td>Husband</td>\n",
              "      <td>White</td>\n",
              "      <td>Male</td>\n",
              "      <td>0</td>\n",
              "      <td>0</td>\n",
              "      <td>13</td>\n",
              "      <td>United-States</td>\n",
              "      <td>&lt;=50K</td>\n",
              "    </tr>\n",
              "    <tr>\n",
              "      <th>2</th>\n",
              "      <td>38</td>\n",
              "      <td>Private</td>\n",
              "      <td>215646</td>\n",
              "      <td>HS-grad</td>\n",
              "      <td>Divorced</td>\n",
              "      <td>Handlers-cleaners</td>\n",
              "      <td>Not-in-family</td>\n",
              "      <td>White</td>\n",
              "      <td>Male</td>\n",
              "      <td>0</td>\n",
              "      <td>0</td>\n",
              "      <td>40</td>\n",
              "      <td>United-States</td>\n",
              "      <td>&lt;=50K</td>\n",
              "    </tr>\n",
              "    <tr>\n",
              "      <th>3</th>\n",
              "      <td>53</td>\n",
              "      <td>Private</td>\n",
              "      <td>234721</td>\n",
              "      <td>11th</td>\n",
              "      <td>Married-civ-spouse</td>\n",
              "      <td>Handlers-cleaners</td>\n",
              "      <td>Husband</td>\n",
              "      <td>Black</td>\n",
              "      <td>Male</td>\n",
              "      <td>0</td>\n",
              "      <td>0</td>\n",
              "      <td>40</td>\n",
              "      <td>United-States</td>\n",
              "      <td>&lt;=50K</td>\n",
              "    </tr>\n",
              "    <tr>\n",
              "      <th>4</th>\n",
              "      <td>28</td>\n",
              "      <td>Private</td>\n",
              "      <td>338409</td>\n",
              "      <td>Bachelors</td>\n",
              "      <td>Married-civ-spouse</td>\n",
              "      <td>Prof-specialty</td>\n",
              "      <td>Wife</td>\n",
              "      <td>Black</td>\n",
              "      <td>Female</td>\n",
              "      <td>0</td>\n",
              "      <td>0</td>\n",
              "      <td>40</td>\n",
              "      <td>Cuba</td>\n",
              "      <td>&lt;=50K</td>\n",
              "    </tr>\n",
              "  </tbody>\n",
              "</table>\n",
              "</div>\n",
              "      <button class=\"colab-df-convert\" onclick=\"convertToInteractive('df-a3ca5084-c293-4878-8c37-d4d113f0d151')\"\n",
              "              title=\"Convert this dataframe to an interactive table.\"\n",
              "              style=\"display:none;\">\n",
              "        \n",
              "  <svg xmlns=\"http://www.w3.org/2000/svg\" height=\"24px\"viewBox=\"0 0 24 24\"\n",
              "       width=\"24px\">\n",
              "    <path d=\"M0 0h24v24H0V0z\" fill=\"none\"/>\n",
              "    <path d=\"M18.56 5.44l.94 2.06.94-2.06 2.06-.94-2.06-.94-.94-2.06-.94 2.06-2.06.94zm-11 1L8.5 8.5l.94-2.06 2.06-.94-2.06-.94L8.5 2.5l-.94 2.06-2.06.94zm10 10l.94 2.06.94-2.06 2.06-.94-2.06-.94-.94-2.06-.94 2.06-2.06.94z\"/><path d=\"M17.41 7.96l-1.37-1.37c-.4-.4-.92-.59-1.43-.59-.52 0-1.04.2-1.43.59L10.3 9.45l-7.72 7.72c-.78.78-.78 2.05 0 2.83L4 21.41c.39.39.9.59 1.41.59.51 0 1.02-.2 1.41-.59l7.78-7.78 2.81-2.81c.8-.78.8-2.07 0-2.86zM5.41 20L4 18.59l7.72-7.72 1.47 1.35L5.41 20z\"/>\n",
              "  </svg>\n",
              "      </button>\n",
              "      \n",
              "  <style>\n",
              "    .colab-df-container {\n",
              "      display:flex;\n",
              "      flex-wrap:wrap;\n",
              "      gap: 12px;\n",
              "    }\n",
              "\n",
              "    .colab-df-convert {\n",
              "      background-color: #E8F0FE;\n",
              "      border: none;\n",
              "      border-radius: 50%;\n",
              "      cursor: pointer;\n",
              "      display: none;\n",
              "      fill: #1967D2;\n",
              "      height: 32px;\n",
              "      padding: 0 0 0 0;\n",
              "      width: 32px;\n",
              "    }\n",
              "\n",
              "    .colab-df-convert:hover {\n",
              "      background-color: #E2EBFA;\n",
              "      box-shadow: 0px 1px 2px rgba(60, 64, 67, 0.3), 0px 1px 3px 1px rgba(60, 64, 67, 0.15);\n",
              "      fill: #174EA6;\n",
              "    }\n",
              "\n",
              "    [theme=dark] .colab-df-convert {\n",
              "      background-color: #3B4455;\n",
              "      fill: #D2E3FC;\n",
              "    }\n",
              "\n",
              "    [theme=dark] .colab-df-convert:hover {\n",
              "      background-color: #434B5C;\n",
              "      box-shadow: 0px 1px 3px 1px rgba(0, 0, 0, 0.15);\n",
              "      filter: drop-shadow(0px 1px 2px rgba(0, 0, 0, 0.3));\n",
              "      fill: #FFFFFF;\n",
              "    }\n",
              "  </style>\n",
              "\n",
              "      <script>\n",
              "        const buttonEl =\n",
              "          document.querySelector('#df-a3ca5084-c293-4878-8c37-d4d113f0d151 button.colab-df-convert');\n",
              "        buttonEl.style.display =\n",
              "          google.colab.kernel.accessAllowed ? 'block' : 'none';\n",
              "\n",
              "        async function convertToInteractive(key) {\n",
              "          const element = document.querySelector('#df-a3ca5084-c293-4878-8c37-d4d113f0d151');\n",
              "          const dataTable =\n",
              "            await google.colab.kernel.invokeFunction('convertToInteractive',\n",
              "                                                     [key], {});\n",
              "          if (!dataTable) return;\n",
              "\n",
              "          const docLinkHtml = 'Like what you see? Visit the ' +\n",
              "            '<a target=\"_blank\" href=https://colab.research.google.com/notebooks/data_table.ipynb>data table notebook</a>'\n",
              "            + ' to learn more about interactive tables.';\n",
              "          element.innerHTML = '';\n",
              "          dataTable['output_type'] = 'display_data';\n",
              "          await google.colab.output.renderOutput(dataTable, element);\n",
              "          const docLink = document.createElement('div');\n",
              "          docLink.innerHTML = docLinkHtml;\n",
              "          element.appendChild(docLink);\n",
              "        }\n",
              "      </script>\n",
              "    </div>\n",
              "  </div>\n",
              "  "
            ]
          },
          "metadata": {},
          "execution_count": 4
        }
      ]
    },
    {
      "cell_type": "code",
      "source": [
        "fledged.dropna()\n",
        "# Remove whitespace\n",
        "for col in ['Workclass', 'Occupation', 'Native-Country']:\n",
        "    fledged[col] = fledged[col].str.strip()\n",
        "# Remove ? values\n",
        "fledged = (fledged[(fledged['Workclass'] != '?')&\n",
        "                   (fledged['Occupation'] != '?') &\n",
        "                   (fledged['Native-Country'] != '?')&\n",
        "                   (fledged['Workclass'] != 'Without-pay')])"
      ],
      "metadata": {
        "id": "OsN0QzV3fx7z"
      },
      "execution_count": 6,
      "outputs": []
    },
    {
      "cell_type": "markdown",
      "source": [
        "Data set has 14 attributes and 2 labels (>50k, <=50k). This is therefore a binary problem, and we are working with binary classication. \n",
        "\n",
        "We will have to one-hot encode the labels as they are non-numeric. \n",
        "We will also have to one-hot encode all categorical attributes. At a glance, it seems like most of the attributes are categorical.\n",
        "\n",
        "Consider using loss function categorical_crossentropy and Adam optimizer. If not, then try sparse_categorical_crossentropy.(if this was a multivariate problem)\n",
        "\n",
        "Since this is a binary classification problem, we will use loss function binary_crossentropy and choose optimizer function accordingly.\n",
        "\n",
        "Set the **initial lr=0.001**, worst case, define a learning rate call back function to find optimal initial learning rate for adam optimizer."
      ],
      "metadata": {
        "id": "dYNfMuPfnkTv"
      }
    },
    {
      "cell_type": "markdown",
      "source": [
        "We can onehot encode using the OneHotEncoder from sklearn.preprocessing, or we can use the pandas.get_dummies methodology.\n",
        "\n",
        "Here, we will perform both and compare to ensure successful one-hot encoding."
      ],
      "metadata": {
        "id": "9O_183aKT_MR"
      }
    },
    {
      "cell_type": "markdown",
      "source": [
        "As we can see, only 6 of the columns have numerical values which df.describe().transpose() can call out.\n",
        "\n",
        "After one hot encoding, we should hope to see all 15 columns called out.\n"
      ],
      "metadata": {
        "id": "OKMbodemUsM8"
      }
    },
    {
      "cell_type": "code",
      "source": [
        "# List of categorical columns to one-hot encode\n",
        "Categoricals = ['Workclass', 'Education', 'Marital-Status',\n",
        "                'Occupation', 'Relationship', 'Race',\n",
        "                'Sex', 'Native-Country']\n",
        "# one-hot encode each column\n",
        "for col in Categoricals:\n",
        "  one_hot = pd.get_dummies(fledged[col], prefix=col)\n",
        "# Concatenate the one-hot encoded column back into the original df\n",
        "  fledged = pd.concat([fledged, one_hot], axis = 1)\n",
        "  fledged = fledged.drop(col, axis=1)"
      ],
      "metadata": {
        "id": "AeVzlBHmU9G-"
      },
      "execution_count": 7,
      "outputs": []
    },
    {
      "cell_type": "markdown",
      "source": [
        "Encode 'income' column as binary. There is no need to one-hot encode as the\n",
        "'income' column represents ordinal data."
      ],
      "metadata": {
        "id": "TQOxSKx6cyM5"
      }
    },
    {
      "cell_type": "code",
      "source": [
        "# preprocess by stripping the string type label column and encoding as binary.\n",
        "# Comment out this cell after running\n",
        "fledged['Income'] = fledged['Income'].str.strip().str.lower()\n",
        "fledged['Income'] = fledged['Income'].replace({'>50k': 1, '<=50k': 0})\n",
        "fledged['Income'] = fledged['Income'].astype(int)"
      ],
      "metadata": {
        "id": "H5KJAkyNBE-w"
      },
      "execution_count": 8,
      "outputs": []
    },
    {
      "cell_type": "code",
      "source": [
        "fledged.head()"
      ],
      "metadata": {
        "id": "vNFhtxhyQf6k",
        "colab": {
          "base_uri": "https://localhost:8080/",
          "height": 334
        },
        "outputId": "8beae8fe-9c95-4020-83b7-57e396c75447"
      },
      "execution_count": 9,
      "outputs": [
        {
          "output_type": "execute_result",
          "data": {
            "text/plain": [
              "   Age  fnlwgt  Capital-Gain  Capital-Loss  Hours-per-week  Income  \\\n",
              "0   39   77516          2174             0              40       0   \n",
              "1   50   83311             0             0              13       0   \n",
              "2   38  215646             0             0              40       0   \n",
              "3   53  234721             0             0              40       0   \n",
              "4   28  338409             0             0              40       0   \n",
              "\n",
              "   Workclass_Federal-gov  Workclass_Local-gov  Workclass_Private  \\\n",
              "0                      0                    0                  0   \n",
              "1                      0                    0                  0   \n",
              "2                      0                    0                  1   \n",
              "3                      0                    0                  1   \n",
              "4                      0                    0                  1   \n",
              "\n",
              "   Workclass_Self-emp-inc  ...  Native-Country_Portugal  \\\n",
              "0                       0  ...                        0   \n",
              "1                       0  ...                        0   \n",
              "2                       0  ...                        0   \n",
              "3                       0  ...                        0   \n",
              "4                       0  ...                        0   \n",
              "\n",
              "   Native-Country_Puerto-Rico  Native-Country_Scotland  Native-Country_South  \\\n",
              "0                           0                        0                     0   \n",
              "1                           0                        0                     0   \n",
              "2                           0                        0                     0   \n",
              "3                           0                        0                     0   \n",
              "4                           0                        0                     0   \n",
              "\n",
              "   Native-Country_Taiwan  Native-Country_Thailand  \\\n",
              "0                      0                        0   \n",
              "1                      0                        0   \n",
              "2                      0                        0   \n",
              "3                      0                        0   \n",
              "4                      0                        0   \n",
              "\n",
              "   Native-Country_Trinadad&Tobago  Native-Country_United-States  \\\n",
              "0                               0                             1   \n",
              "1                               0                             1   \n",
              "2                               0                             1   \n",
              "3                               0                             1   \n",
              "4                               0                             0   \n",
              "\n",
              "   Native-Country_Vietnam  Native-Country_Yugoslavia  \n",
              "0                       0                          0  \n",
              "1                       0                          0  \n",
              "2                       0                          0  \n",
              "3                       0                          0  \n",
              "4                       0                          0  \n",
              "\n",
              "[5 rows x 103 columns]"
            ],
            "text/html": [
              "\n",
              "  <div id=\"df-de1e7158-f8cd-45e9-b9ae-36e1116148a6\">\n",
              "    <div class=\"colab-df-container\">\n",
              "      <div>\n",
              "<style scoped>\n",
              "    .dataframe tbody tr th:only-of-type {\n",
              "        vertical-align: middle;\n",
              "    }\n",
              "\n",
              "    .dataframe tbody tr th {\n",
              "        vertical-align: top;\n",
              "    }\n",
              "\n",
              "    .dataframe thead th {\n",
              "        text-align: right;\n",
              "    }\n",
              "</style>\n",
              "<table border=\"1\" class=\"dataframe\">\n",
              "  <thead>\n",
              "    <tr style=\"text-align: right;\">\n",
              "      <th></th>\n",
              "      <th>Age</th>\n",
              "      <th>fnlwgt</th>\n",
              "      <th>Capital-Gain</th>\n",
              "      <th>Capital-Loss</th>\n",
              "      <th>Hours-per-week</th>\n",
              "      <th>Income</th>\n",
              "      <th>Workclass_Federal-gov</th>\n",
              "      <th>Workclass_Local-gov</th>\n",
              "      <th>Workclass_Private</th>\n",
              "      <th>Workclass_Self-emp-inc</th>\n",
              "      <th>...</th>\n",
              "      <th>Native-Country_Portugal</th>\n",
              "      <th>Native-Country_Puerto-Rico</th>\n",
              "      <th>Native-Country_Scotland</th>\n",
              "      <th>Native-Country_South</th>\n",
              "      <th>Native-Country_Taiwan</th>\n",
              "      <th>Native-Country_Thailand</th>\n",
              "      <th>Native-Country_Trinadad&amp;Tobago</th>\n",
              "      <th>Native-Country_United-States</th>\n",
              "      <th>Native-Country_Vietnam</th>\n",
              "      <th>Native-Country_Yugoslavia</th>\n",
              "    </tr>\n",
              "  </thead>\n",
              "  <tbody>\n",
              "    <tr>\n",
              "      <th>0</th>\n",
              "      <td>39</td>\n",
              "      <td>77516</td>\n",
              "      <td>2174</td>\n",
              "      <td>0</td>\n",
              "      <td>40</td>\n",
              "      <td>0</td>\n",
              "      <td>0</td>\n",
              "      <td>0</td>\n",
              "      <td>0</td>\n",
              "      <td>0</td>\n",
              "      <td>...</td>\n",
              "      <td>0</td>\n",
              "      <td>0</td>\n",
              "      <td>0</td>\n",
              "      <td>0</td>\n",
              "      <td>0</td>\n",
              "      <td>0</td>\n",
              "      <td>0</td>\n",
              "      <td>1</td>\n",
              "      <td>0</td>\n",
              "      <td>0</td>\n",
              "    </tr>\n",
              "    <tr>\n",
              "      <th>1</th>\n",
              "      <td>50</td>\n",
              "      <td>83311</td>\n",
              "      <td>0</td>\n",
              "      <td>0</td>\n",
              "      <td>13</td>\n",
              "      <td>0</td>\n",
              "      <td>0</td>\n",
              "      <td>0</td>\n",
              "      <td>0</td>\n",
              "      <td>0</td>\n",
              "      <td>...</td>\n",
              "      <td>0</td>\n",
              "      <td>0</td>\n",
              "      <td>0</td>\n",
              "      <td>0</td>\n",
              "      <td>0</td>\n",
              "      <td>0</td>\n",
              "      <td>0</td>\n",
              "      <td>1</td>\n",
              "      <td>0</td>\n",
              "      <td>0</td>\n",
              "    </tr>\n",
              "    <tr>\n",
              "      <th>2</th>\n",
              "      <td>38</td>\n",
              "      <td>215646</td>\n",
              "      <td>0</td>\n",
              "      <td>0</td>\n",
              "      <td>40</td>\n",
              "      <td>0</td>\n",
              "      <td>0</td>\n",
              "      <td>0</td>\n",
              "      <td>1</td>\n",
              "      <td>0</td>\n",
              "      <td>...</td>\n",
              "      <td>0</td>\n",
              "      <td>0</td>\n",
              "      <td>0</td>\n",
              "      <td>0</td>\n",
              "      <td>0</td>\n",
              "      <td>0</td>\n",
              "      <td>0</td>\n",
              "      <td>1</td>\n",
              "      <td>0</td>\n",
              "      <td>0</td>\n",
              "    </tr>\n",
              "    <tr>\n",
              "      <th>3</th>\n",
              "      <td>53</td>\n",
              "      <td>234721</td>\n",
              "      <td>0</td>\n",
              "      <td>0</td>\n",
              "      <td>40</td>\n",
              "      <td>0</td>\n",
              "      <td>0</td>\n",
              "      <td>0</td>\n",
              "      <td>1</td>\n",
              "      <td>0</td>\n",
              "      <td>...</td>\n",
              "      <td>0</td>\n",
              "      <td>0</td>\n",
              "      <td>0</td>\n",
              "      <td>0</td>\n",
              "      <td>0</td>\n",
              "      <td>0</td>\n",
              "      <td>0</td>\n",
              "      <td>1</td>\n",
              "      <td>0</td>\n",
              "      <td>0</td>\n",
              "    </tr>\n",
              "    <tr>\n",
              "      <th>4</th>\n",
              "      <td>28</td>\n",
              "      <td>338409</td>\n",
              "      <td>0</td>\n",
              "      <td>0</td>\n",
              "      <td>40</td>\n",
              "      <td>0</td>\n",
              "      <td>0</td>\n",
              "      <td>0</td>\n",
              "      <td>1</td>\n",
              "      <td>0</td>\n",
              "      <td>...</td>\n",
              "      <td>0</td>\n",
              "      <td>0</td>\n",
              "      <td>0</td>\n",
              "      <td>0</td>\n",
              "      <td>0</td>\n",
              "      <td>0</td>\n",
              "      <td>0</td>\n",
              "      <td>0</td>\n",
              "      <td>0</td>\n",
              "      <td>0</td>\n",
              "    </tr>\n",
              "  </tbody>\n",
              "</table>\n",
              "<p>5 rows × 103 columns</p>\n",
              "</div>\n",
              "      <button class=\"colab-df-convert\" onclick=\"convertToInteractive('df-de1e7158-f8cd-45e9-b9ae-36e1116148a6')\"\n",
              "              title=\"Convert this dataframe to an interactive table.\"\n",
              "              style=\"display:none;\">\n",
              "        \n",
              "  <svg xmlns=\"http://www.w3.org/2000/svg\" height=\"24px\"viewBox=\"0 0 24 24\"\n",
              "       width=\"24px\">\n",
              "    <path d=\"M0 0h24v24H0V0z\" fill=\"none\"/>\n",
              "    <path d=\"M18.56 5.44l.94 2.06.94-2.06 2.06-.94-2.06-.94-.94-2.06-.94 2.06-2.06.94zm-11 1L8.5 8.5l.94-2.06 2.06-.94-2.06-.94L8.5 2.5l-.94 2.06-2.06.94zm10 10l.94 2.06.94-2.06 2.06-.94-2.06-.94-.94-2.06-.94 2.06-2.06.94z\"/><path d=\"M17.41 7.96l-1.37-1.37c-.4-.4-.92-.59-1.43-.59-.52 0-1.04.2-1.43.59L10.3 9.45l-7.72 7.72c-.78.78-.78 2.05 0 2.83L4 21.41c.39.39.9.59 1.41.59.51 0 1.02-.2 1.41-.59l7.78-7.78 2.81-2.81c.8-.78.8-2.07 0-2.86zM5.41 20L4 18.59l7.72-7.72 1.47 1.35L5.41 20z\"/>\n",
              "  </svg>\n",
              "      </button>\n",
              "      \n",
              "  <style>\n",
              "    .colab-df-container {\n",
              "      display:flex;\n",
              "      flex-wrap:wrap;\n",
              "      gap: 12px;\n",
              "    }\n",
              "\n",
              "    .colab-df-convert {\n",
              "      background-color: #E8F0FE;\n",
              "      border: none;\n",
              "      border-radius: 50%;\n",
              "      cursor: pointer;\n",
              "      display: none;\n",
              "      fill: #1967D2;\n",
              "      height: 32px;\n",
              "      padding: 0 0 0 0;\n",
              "      width: 32px;\n",
              "    }\n",
              "\n",
              "    .colab-df-convert:hover {\n",
              "      background-color: #E2EBFA;\n",
              "      box-shadow: 0px 1px 2px rgba(60, 64, 67, 0.3), 0px 1px 3px 1px rgba(60, 64, 67, 0.15);\n",
              "      fill: #174EA6;\n",
              "    }\n",
              "\n",
              "    [theme=dark] .colab-df-convert {\n",
              "      background-color: #3B4455;\n",
              "      fill: #D2E3FC;\n",
              "    }\n",
              "\n",
              "    [theme=dark] .colab-df-convert:hover {\n",
              "      background-color: #434B5C;\n",
              "      box-shadow: 0px 1px 3px 1px rgba(0, 0, 0, 0.15);\n",
              "      filter: drop-shadow(0px 1px 2px rgba(0, 0, 0, 0.3));\n",
              "      fill: #FFFFFF;\n",
              "    }\n",
              "  </style>\n",
              "\n",
              "      <script>\n",
              "        const buttonEl =\n",
              "          document.querySelector('#df-de1e7158-f8cd-45e9-b9ae-36e1116148a6 button.colab-df-convert');\n",
              "        buttonEl.style.display =\n",
              "          google.colab.kernel.accessAllowed ? 'block' : 'none';\n",
              "\n",
              "        async function convertToInteractive(key) {\n",
              "          const element = document.querySelector('#df-de1e7158-f8cd-45e9-b9ae-36e1116148a6');\n",
              "          const dataTable =\n",
              "            await google.colab.kernel.invokeFunction('convertToInteractive',\n",
              "                                                     [key], {});\n",
              "          if (!dataTable) return;\n",
              "\n",
              "          const docLinkHtml = 'Like what you see? Visit the ' +\n",
              "            '<a target=\"_blank\" href=https://colab.research.google.com/notebooks/data_table.ipynb>data table notebook</a>'\n",
              "            + ' to learn more about interactive tables.';\n",
              "          element.innerHTML = '';\n",
              "          dataTable['output_type'] = 'display_data';\n",
              "          await google.colab.output.renderOutput(dataTable, element);\n",
              "          const docLink = document.createElement('div');\n",
              "          docLink.innerHTML = docLinkHtml;\n",
              "          element.appendChild(docLink);\n",
              "        }\n",
              "      </script>\n",
              "    </div>\n",
              "  </div>\n",
              "  "
            ]
          },
          "metadata": {},
          "execution_count": 9
        }
      ]
    },
    {
      "cell_type": "markdown",
      "source": [
        "## Normalization\n",
        "\n",
        "* Age has a fairly symmetric distribution, so min-max normalization could work well. Alternatively, you could use z-score normalization, which would standardize the values to have a mean of 0 and a standard deviation of 1.\n",
        "\n",
        "* Capital Gain and Capital Loss: These features have a heavy-tailed distribution with a long right tail, so it would be better to use a log transformation to reduce the effect of outliers and then use z-score normalization.\n",
        "\n",
        "* Hours per week: This feature has a slightly skewed distribution, so z-score normalization may be appropriate."
      ],
      "metadata": {
        "id": "zmePRKGTIzs-"
      }
    },
    {
      "cell_type": "code",
      "source": [
        "# Perform min-max normalization on Age\n",
        "age_min = fledged['Age'].min()\n",
        "age_max = fledged['Age'].max()\n",
        "fledgeNorm_ = fledged.copy()\n",
        "fledgeNorm_['Age'] = (fledgeNorm_['Age'] - age_min) / (age_max - age_min)\n",
        "\n",
        "fnl_min = fledged['fnlwgt'].min()\n",
        "fnl_max = fledged['fnlwgt'].max()\n",
        "fledgeNorm_['fnlwgt'] = (fledgeNorm_['fnlwgt'] - fnl_min) / (fnl_max - fnl_min)\n",
        "\n",
        "# Perform log transformation on Capital-Gain and Capital-Loss, then z-score normalization\n",
        "fledgeNorm_['Capital-Gain'] = np.log(fledgeNorm_['Capital-Gain'] + 1)  # add 1 to avoid division by zero\n",
        "fledgeNorm_['Capital-Loss'] = np.log(fledgeNorm_['Capital-Loss'] + 1)\n",
        "cg_mean = fledgeNorm_['Capital-Gain'].mean()\n",
        "cg_std = fledgeNorm_['Capital-Gain'].std()\n",
        "fledgeNorm_['Capital-Gain'] = (fledgeNorm_['Capital-Gain'] - cg_mean) / cg_std\n",
        "cl_mean = fledgeNorm_['Capital-Loss'].mean()\n",
        "cl_std = fledgeNorm_['Capital-Loss'].std()\n",
        "fledgeNorm_['Capital-Loss'] = (fledgeNorm_['Capital-Loss'] - cl_mean) / cl_std\n",
        "\n",
        "# Perform z-score normalization on Hours-per-week\n",
        "hpw_mean = fledgeNorm_['Hours-per-week'].mean()\n",
        "hpw_std = fledgeNorm_['Hours-per-week'].std()\n",
        "fledgeNorm_['Hours-per-week'] = (fledgeNorm_['Hours-per-week'] - hpw_mean) / hpw_std"
      ],
      "metadata": {
        "id": "tL_3ZwhDJ5G7"
      },
      "execution_count": 10,
      "outputs": []
    },
    {
      "cell_type": "code",
      "source": [
        "fledgeNorm_.head()"
      ],
      "metadata": {
        "colab": {
          "base_uri": "https://localhost:8080/",
          "height": 334
        },
        "id": "-KeMm2PWGI2w",
        "outputId": "0db6eacb-15d2-4a7b-9ddd-a35b44375570"
      },
      "execution_count": 11,
      "outputs": [
        {
          "output_type": "execute_result",
          "data": {
            "text/plain": [
              "        Age    fnlwgt  Capital-Gain  Capital-Loss  Hours-per-week  Income  \\\n",
              "0  0.301370  0.043338      2.809889     -0.222765       -0.078077       0   \n",
              "1  0.452055  0.047277     -0.300955     -0.222765       -2.332580       0   \n",
              "2  0.287671  0.137244     -0.300955     -0.222765       -0.078077       0   \n",
              "3  0.493151  0.150212     -0.300955     -0.222765       -0.078077       0   \n",
              "4  0.150685  0.220703     -0.300955     -0.222765       -0.078077       0   \n",
              "\n",
              "   Workclass_Federal-gov  Workclass_Local-gov  Workclass_Private  \\\n",
              "0                      0                    0                  0   \n",
              "1                      0                    0                  0   \n",
              "2                      0                    0                  1   \n",
              "3                      0                    0                  1   \n",
              "4                      0                    0                  1   \n",
              "\n",
              "   Workclass_Self-emp-inc  ...  Native-Country_Portugal  \\\n",
              "0                       0  ...                        0   \n",
              "1                       0  ...                        0   \n",
              "2                       0  ...                        0   \n",
              "3                       0  ...                        0   \n",
              "4                       0  ...                        0   \n",
              "\n",
              "   Native-Country_Puerto-Rico  Native-Country_Scotland  Native-Country_South  \\\n",
              "0                           0                        0                     0   \n",
              "1                           0                        0                     0   \n",
              "2                           0                        0                     0   \n",
              "3                           0                        0                     0   \n",
              "4                           0                        0                     0   \n",
              "\n",
              "   Native-Country_Taiwan  Native-Country_Thailand  \\\n",
              "0                      0                        0   \n",
              "1                      0                        0   \n",
              "2                      0                        0   \n",
              "3                      0                        0   \n",
              "4                      0                        0   \n",
              "\n",
              "   Native-Country_Trinadad&Tobago  Native-Country_United-States  \\\n",
              "0                               0                             1   \n",
              "1                               0                             1   \n",
              "2                               0                             1   \n",
              "3                               0                             1   \n",
              "4                               0                             0   \n",
              "\n",
              "   Native-Country_Vietnam  Native-Country_Yugoslavia  \n",
              "0                       0                          0  \n",
              "1                       0                          0  \n",
              "2                       0                          0  \n",
              "3                       0                          0  \n",
              "4                       0                          0  \n",
              "\n",
              "[5 rows x 103 columns]"
            ],
            "text/html": [
              "\n",
              "  <div id=\"df-fd25aee2-00ac-496b-a27c-700b76ff7144\">\n",
              "    <div class=\"colab-df-container\">\n",
              "      <div>\n",
              "<style scoped>\n",
              "    .dataframe tbody tr th:only-of-type {\n",
              "        vertical-align: middle;\n",
              "    }\n",
              "\n",
              "    .dataframe tbody tr th {\n",
              "        vertical-align: top;\n",
              "    }\n",
              "\n",
              "    .dataframe thead th {\n",
              "        text-align: right;\n",
              "    }\n",
              "</style>\n",
              "<table border=\"1\" class=\"dataframe\">\n",
              "  <thead>\n",
              "    <tr style=\"text-align: right;\">\n",
              "      <th></th>\n",
              "      <th>Age</th>\n",
              "      <th>fnlwgt</th>\n",
              "      <th>Capital-Gain</th>\n",
              "      <th>Capital-Loss</th>\n",
              "      <th>Hours-per-week</th>\n",
              "      <th>Income</th>\n",
              "      <th>Workclass_Federal-gov</th>\n",
              "      <th>Workclass_Local-gov</th>\n",
              "      <th>Workclass_Private</th>\n",
              "      <th>Workclass_Self-emp-inc</th>\n",
              "      <th>...</th>\n",
              "      <th>Native-Country_Portugal</th>\n",
              "      <th>Native-Country_Puerto-Rico</th>\n",
              "      <th>Native-Country_Scotland</th>\n",
              "      <th>Native-Country_South</th>\n",
              "      <th>Native-Country_Taiwan</th>\n",
              "      <th>Native-Country_Thailand</th>\n",
              "      <th>Native-Country_Trinadad&amp;Tobago</th>\n",
              "      <th>Native-Country_United-States</th>\n",
              "      <th>Native-Country_Vietnam</th>\n",
              "      <th>Native-Country_Yugoslavia</th>\n",
              "    </tr>\n",
              "  </thead>\n",
              "  <tbody>\n",
              "    <tr>\n",
              "      <th>0</th>\n",
              "      <td>0.301370</td>\n",
              "      <td>0.043338</td>\n",
              "      <td>2.809889</td>\n",
              "      <td>-0.222765</td>\n",
              "      <td>-0.078077</td>\n",
              "      <td>0</td>\n",
              "      <td>0</td>\n",
              "      <td>0</td>\n",
              "      <td>0</td>\n",
              "      <td>0</td>\n",
              "      <td>...</td>\n",
              "      <td>0</td>\n",
              "      <td>0</td>\n",
              "      <td>0</td>\n",
              "      <td>0</td>\n",
              "      <td>0</td>\n",
              "      <td>0</td>\n",
              "      <td>0</td>\n",
              "      <td>1</td>\n",
              "      <td>0</td>\n",
              "      <td>0</td>\n",
              "    </tr>\n",
              "    <tr>\n",
              "      <th>1</th>\n",
              "      <td>0.452055</td>\n",
              "      <td>0.047277</td>\n",
              "      <td>-0.300955</td>\n",
              "      <td>-0.222765</td>\n",
              "      <td>-2.332580</td>\n",
              "      <td>0</td>\n",
              "      <td>0</td>\n",
              "      <td>0</td>\n",
              "      <td>0</td>\n",
              "      <td>0</td>\n",
              "      <td>...</td>\n",
              "      <td>0</td>\n",
              "      <td>0</td>\n",
              "      <td>0</td>\n",
              "      <td>0</td>\n",
              "      <td>0</td>\n",
              "      <td>0</td>\n",
              "      <td>0</td>\n",
              "      <td>1</td>\n",
              "      <td>0</td>\n",
              "      <td>0</td>\n",
              "    </tr>\n",
              "    <tr>\n",
              "      <th>2</th>\n",
              "      <td>0.287671</td>\n",
              "      <td>0.137244</td>\n",
              "      <td>-0.300955</td>\n",
              "      <td>-0.222765</td>\n",
              "      <td>-0.078077</td>\n",
              "      <td>0</td>\n",
              "      <td>0</td>\n",
              "      <td>0</td>\n",
              "      <td>1</td>\n",
              "      <td>0</td>\n",
              "      <td>...</td>\n",
              "      <td>0</td>\n",
              "      <td>0</td>\n",
              "      <td>0</td>\n",
              "      <td>0</td>\n",
              "      <td>0</td>\n",
              "      <td>0</td>\n",
              "      <td>0</td>\n",
              "      <td>1</td>\n",
              "      <td>0</td>\n",
              "      <td>0</td>\n",
              "    </tr>\n",
              "    <tr>\n",
              "      <th>3</th>\n",
              "      <td>0.493151</td>\n",
              "      <td>0.150212</td>\n",
              "      <td>-0.300955</td>\n",
              "      <td>-0.222765</td>\n",
              "      <td>-0.078077</td>\n",
              "      <td>0</td>\n",
              "      <td>0</td>\n",
              "      <td>0</td>\n",
              "      <td>1</td>\n",
              "      <td>0</td>\n",
              "      <td>...</td>\n",
              "      <td>0</td>\n",
              "      <td>0</td>\n",
              "      <td>0</td>\n",
              "      <td>0</td>\n",
              "      <td>0</td>\n",
              "      <td>0</td>\n",
              "      <td>0</td>\n",
              "      <td>1</td>\n",
              "      <td>0</td>\n",
              "      <td>0</td>\n",
              "    </tr>\n",
              "    <tr>\n",
              "      <th>4</th>\n",
              "      <td>0.150685</td>\n",
              "      <td>0.220703</td>\n",
              "      <td>-0.300955</td>\n",
              "      <td>-0.222765</td>\n",
              "      <td>-0.078077</td>\n",
              "      <td>0</td>\n",
              "      <td>0</td>\n",
              "      <td>0</td>\n",
              "      <td>1</td>\n",
              "      <td>0</td>\n",
              "      <td>...</td>\n",
              "      <td>0</td>\n",
              "      <td>0</td>\n",
              "      <td>0</td>\n",
              "      <td>0</td>\n",
              "      <td>0</td>\n",
              "      <td>0</td>\n",
              "      <td>0</td>\n",
              "      <td>0</td>\n",
              "      <td>0</td>\n",
              "      <td>0</td>\n",
              "    </tr>\n",
              "  </tbody>\n",
              "</table>\n",
              "<p>5 rows × 103 columns</p>\n",
              "</div>\n",
              "      <button class=\"colab-df-convert\" onclick=\"convertToInteractive('df-fd25aee2-00ac-496b-a27c-700b76ff7144')\"\n",
              "              title=\"Convert this dataframe to an interactive table.\"\n",
              "              style=\"display:none;\">\n",
              "        \n",
              "  <svg xmlns=\"http://www.w3.org/2000/svg\" height=\"24px\"viewBox=\"0 0 24 24\"\n",
              "       width=\"24px\">\n",
              "    <path d=\"M0 0h24v24H0V0z\" fill=\"none\"/>\n",
              "    <path d=\"M18.56 5.44l.94 2.06.94-2.06 2.06-.94-2.06-.94-.94-2.06-.94 2.06-2.06.94zm-11 1L8.5 8.5l.94-2.06 2.06-.94-2.06-.94L8.5 2.5l-.94 2.06-2.06.94zm10 10l.94 2.06.94-2.06 2.06-.94-2.06-.94-.94-2.06-.94 2.06-2.06.94z\"/><path d=\"M17.41 7.96l-1.37-1.37c-.4-.4-.92-.59-1.43-.59-.52 0-1.04.2-1.43.59L10.3 9.45l-7.72 7.72c-.78.78-.78 2.05 0 2.83L4 21.41c.39.39.9.59 1.41.59.51 0 1.02-.2 1.41-.59l7.78-7.78 2.81-2.81c.8-.78.8-2.07 0-2.86zM5.41 20L4 18.59l7.72-7.72 1.47 1.35L5.41 20z\"/>\n",
              "  </svg>\n",
              "      </button>\n",
              "      \n",
              "  <style>\n",
              "    .colab-df-container {\n",
              "      display:flex;\n",
              "      flex-wrap:wrap;\n",
              "      gap: 12px;\n",
              "    }\n",
              "\n",
              "    .colab-df-convert {\n",
              "      background-color: #E8F0FE;\n",
              "      border: none;\n",
              "      border-radius: 50%;\n",
              "      cursor: pointer;\n",
              "      display: none;\n",
              "      fill: #1967D2;\n",
              "      height: 32px;\n",
              "      padding: 0 0 0 0;\n",
              "      width: 32px;\n",
              "    }\n",
              "\n",
              "    .colab-df-convert:hover {\n",
              "      background-color: #E2EBFA;\n",
              "      box-shadow: 0px 1px 2px rgba(60, 64, 67, 0.3), 0px 1px 3px 1px rgba(60, 64, 67, 0.15);\n",
              "      fill: #174EA6;\n",
              "    }\n",
              "\n",
              "    [theme=dark] .colab-df-convert {\n",
              "      background-color: #3B4455;\n",
              "      fill: #D2E3FC;\n",
              "    }\n",
              "\n",
              "    [theme=dark] .colab-df-convert:hover {\n",
              "      background-color: #434B5C;\n",
              "      box-shadow: 0px 1px 3px 1px rgba(0, 0, 0, 0.15);\n",
              "      filter: drop-shadow(0px 1px 2px rgba(0, 0, 0, 0.3));\n",
              "      fill: #FFFFFF;\n",
              "    }\n",
              "  </style>\n",
              "\n",
              "      <script>\n",
              "        const buttonEl =\n",
              "          document.querySelector('#df-fd25aee2-00ac-496b-a27c-700b76ff7144 button.colab-df-convert');\n",
              "        buttonEl.style.display =\n",
              "          google.colab.kernel.accessAllowed ? 'block' : 'none';\n",
              "\n",
              "        async function convertToInteractive(key) {\n",
              "          const element = document.querySelector('#df-fd25aee2-00ac-496b-a27c-700b76ff7144');\n",
              "          const dataTable =\n",
              "            await google.colab.kernel.invokeFunction('convertToInteractive',\n",
              "                                                     [key], {});\n",
              "          if (!dataTable) return;\n",
              "\n",
              "          const docLinkHtml = 'Like what you see? Visit the ' +\n",
              "            '<a target=\"_blank\" href=https://colab.research.google.com/notebooks/data_table.ipynb>data table notebook</a>'\n",
              "            + ' to learn more about interactive tables.';\n",
              "          element.innerHTML = '';\n",
              "          dataTable['output_type'] = 'display_data';\n",
              "          await google.colab.output.renderOutput(dataTable, element);\n",
              "          const docLink = document.createElement('div');\n",
              "          docLink.innerHTML = docLinkHtml;\n",
              "          element.appendChild(docLink);\n",
              "        }\n",
              "      </script>\n",
              "    </div>\n",
              "  </div>\n",
              "  "
            ]
          },
          "metadata": {},
          "execution_count": 11
        }
      ]
    },
    {
      "cell_type": "code",
      "source": [
        "# NON-NORMALIZED\n",
        "# 80:20 split\n",
        "pre_train = fledged.sample(frac=0.8, random_state=42)\n",
        "pre_val = fledged.drop(pre_train.index)\n",
        "# split the labels from the rest of the features\n",
        "pretrain_features = pre_train.copy()\n",
        "preval_features = pre_val.copy()\n",
        "\n",
        "pretrain_labels = pretrain_features.pop('Income')\n",
        "preval_labels = preval_features.pop('Income')"
      ],
      "metadata": {
        "id": "kh8OdVBPDZuB"
      },
      "execution_count": 13,
      "outputs": []
    },
    {
      "cell_type": "code",
      "source": [
        "# NORMALIZED\n",
        "# we perform the standard 80% 20% train validation data split\n",
        "fledge_train = fledgeNorm_.sample(frac=0.8, random_state=42)\n",
        "fledge_validation = fledgeNorm_.drop(fledge_train.index)\n",
        "# split the labels from the rest of the features\n",
        "train_features = fledge_train.copy()\n",
        "val_features = fledge_validation.copy()\n",
        "\n",
        "train_labels = train_features.pop('Income')\n",
        "val_labels = val_features.pop('Income')"
      ],
      "metadata": {
        "id": "xaXSOuANeO1w"
      },
      "execution_count": 14,
      "outputs": []
    },
    {
      "cell_type": "code",
      "source": [
        "# callback function\n",
        "class StopOnPoint(tf.keras.callbacks.Callback):\n",
        "    def __init__(self, point):\n",
        "        super(StopOnPoint, self).__init__()\n",
        "        self.point = point\n",
        "\n",
        "    def on_epoch_end(self, epoch, logs=None): \n",
        "        accuracy = logs[\"accuracy\"]\n",
        "        if accuracy >= self.point:\n",
        "            self.model.stop_training = True\n",
        "\n",
        "# callbacks = [StopOnPoint(0.87)]"
      ],
      "metadata": {
        "id": "Wgh6ZzRuH4WW"
      },
      "execution_count": null,
      "outputs": []
    },
    {
      "cell_type": "code",
      "source": [
        "# Build the model\n",
        "# Note: this model is normalized, to attempt pre-norm model just change dataframe in above cells to create labels and feats for pre-norm\n",
        "Norm_model = tf.keras.Sequential([\n",
        "    tf.keras.layers.Dense(128, activation = 'relu', input_shape=(train_features.shape[1],)),\n",
        "    # tf.keras.layers.Dropout(0.2),\n",
        "    tf.keras.layers.Dense(64, activation = 'relu'),\n",
        "    # tf.keras.layers.Dropout(0.2),\n",
        "  # tf.keras.layers.Dense(64, activation = 'relu'),\n",
        "    tf.keras.layers.Dense(32, activation = 'relu'),\n",
        "    # tf.keras.layers.Dropout(0.2),\n",
        " # tf.keras.layers.Dense(16, activation = 'relu'),\n",
        "    # sigmoid activation for binary classification problem\n",
        "    tf.keras.layers.Dense(1, activation = 'sigmoid')\n",
        "])\n",
        "\n",
        "Norm_model.compile(loss='binary_crossentropy',\n",
        "                      #optimizer = tf.keras.optimizers.RMSprop(learning_rate=0.001),\n",
        "                   optimizer = tf.keras.optimizers.Adam(learning_rate=0.001),\n",
        "                      metrics = ['accuracy'])\n",
        "\n",
        "history = Norm_model.fit(train_features, train_labels, epochs=15,\n",
        "                  batch_size = 16, validation_data = (val_features, val_labels),\n",
        "                  callbacks = [StopOnPoint(0.87)])"
      ],
      "metadata": {
        "colab": {
          "base_uri": "https://localhost:8080/"
        },
        "id": "r0h4qC2cozTr",
        "outputId": "298ae863-b2b4-40d6-9277-3afade08bf59"
      },
      "execution_count": null,
      "outputs": [
        {
          "output_type": "stream",
          "name": "stdout",
          "text": [
            "Epoch 1/15\n",
            "1508/1508 [==============================] - 8s 4ms/step - loss: 0.3518 - accuracy: 0.8341 - val_loss: 0.3382 - val_accuracy: 0.8430\n",
            "Epoch 2/15\n",
            "1508/1508 [==============================] - 6s 4ms/step - loss: 0.3326 - accuracy: 0.8452 - val_loss: 0.3322 - val_accuracy: 0.8430\n",
            "Epoch 3/15\n",
            "1508/1508 [==============================] - 6s 4ms/step - loss: 0.3238 - accuracy: 0.8490 - val_loss: 0.3296 - val_accuracy: 0.8448\n",
            "Epoch 4/15\n",
            "1508/1508 [==============================] - 6s 4ms/step - loss: 0.3175 - accuracy: 0.8533 - val_loss: 0.3239 - val_accuracy: 0.8464\n",
            "Epoch 5/15\n",
            "1508/1508 [==============================] - 6s 4ms/step - loss: 0.3111 - accuracy: 0.8551 - val_loss: 0.3258 - val_accuracy: 0.8494\n",
            "Epoch 6/15\n",
            "1508/1508 [==============================] - 6s 4ms/step - loss: 0.3048 - accuracy: 0.8577 - val_loss: 0.3305 - val_accuracy: 0.8423\n",
            "Epoch 7/15\n",
            "1508/1508 [==============================] - 7s 5ms/step - loss: 0.3010 - accuracy: 0.8577 - val_loss: 0.3298 - val_accuracy: 0.8441\n",
            "Epoch 8/15\n",
            "1508/1508 [==============================] - 6s 4ms/step - loss: 0.2956 - accuracy: 0.8636 - val_loss: 0.3399 - val_accuracy: 0.8451\n",
            "Epoch 9/15\n",
            "1508/1508 [==============================] - 6s 4ms/step - loss: 0.2907 - accuracy: 0.8624 - val_loss: 0.3363 - val_accuracy: 0.8446\n",
            "Epoch 10/15\n",
            "1508/1508 [==============================] - 6s 4ms/step - loss: 0.2853 - accuracy: 0.8648 - val_loss: 0.3498 - val_accuracy: 0.8473\n",
            "Epoch 11/15\n",
            "1508/1508 [==============================] - 7s 5ms/step - loss: 0.2809 - accuracy: 0.8663 - val_loss: 0.3435 - val_accuracy: 0.8474\n",
            "Epoch 12/15\n",
            "1508/1508 [==============================] - 6s 4ms/step - loss: 0.2765 - accuracy: 0.8692 - val_loss: 0.3461 - val_accuracy: 0.8502\n",
            "Epoch 13/15\n",
            "1508/1508 [==============================] - 6s 4ms/step - loss: 0.2711 - accuracy: 0.8708 - val_loss: 0.3554 - val_accuracy: 0.8471\n"
          ]
        }
      ]
    },
    {
      "cell_type": "code",
      "source": [
        "# Build the model\n",
        "# Note: this model is non-normalized, to attempt norm model just change dataframe in above cells to create labels and feats for pre-norm\n",
        "# Update: now just refer to above codeblock for model trained on normalized data (accuracy increase is approx 10%)\n",
        "model = tf.keras.Sequential([\n",
        "    tf.keras.layers.Dense(128, activation = 'relu', input_shape=(train_features.shape[1],)),\n",
        "    # tf.keras.layers.Dropout(0.2),\n",
        "    tf.keras.layers.Dense(64, activation = 'relu'),\n",
        "    # tf.keras.layers.Dropout(0.2),\n",
        "  # tf.keras.layers.Dense(64, activation = 'relu'),\n",
        "    tf.keras.layers.Dense(32, activation = 'relu'),\n",
        "    # tf.keras.layers.Dropout(0.2),\n",
        " # tf.keras.layers.Dense(16, activation = 'relu'),\n",
        "    # sigmoid activation for binary classification problem\n",
        "    tf.keras.layers.Dense(1, activation = 'sigmoid')\n",
        "])\n",
        "\n",
        "model.compile(loss='binary_crossentropy',\n",
        "                      #optimizer = tf.keras.optimizers.RMSprop(learning_rate=0.001),\n",
        "                   optimizer = tf.keras.optimizers.Adam(learning_rate=0.001),\n",
        "                      metrics = ['accuracy'])\n",
        "\n",
        "history1 = model.fit(pretrain_features, pretrain_labels, epochs=15,\n",
        "                  batch_size = 16, validation_data = (preval_features, preval_labels),\n",
        "                  callbacks = [StopOnPoint(0.87)])"
      ],
      "metadata": {
        "colab": {
          "base_uri": "https://localhost:8080/"
        },
        "id": "XDNEn1kdqlgz",
        "outputId": "4e7c1779-f8f0-4c72-f234-cdb69ff38af2"
      },
      "execution_count": null,
      "outputs": [
        {
          "output_type": "stream",
          "name": "stdout",
          "text": [
            "Epoch 1/15\n",
            "1508/1508 [==============================] - 8s 4ms/step - loss: 135.2231 - accuracy: 0.6704 - val_loss: 18.4236 - val_accuracy: 0.7745\n",
            "Epoch 2/15\n",
            "1508/1508 [==============================] - 6s 4ms/step - loss: 29.9971 - accuracy: 0.6754 - val_loss: 6.9797 - val_accuracy: 0.7837\n",
            "Epoch 3/15\n",
            "1508/1508 [==============================] - 6s 4ms/step - loss: 3.5669 - accuracy: 0.6887 - val_loss: 2.8999 - val_accuracy: 0.7836\n",
            "Epoch 4/15\n",
            "1508/1508 [==============================] - 6s 4ms/step - loss: 1.2616 - accuracy: 0.7109 - val_loss: 1.6939 - val_accuracy: 0.7856\n",
            "Epoch 5/15\n",
            "1508/1508 [==============================] - 7s 4ms/step - loss: 0.7410 - accuracy: 0.7439 - val_loss: 0.5369 - val_accuracy: 0.7559\n",
            "Epoch 6/15\n",
            "1508/1508 [==============================] - 6s 4ms/step - loss: 0.9366 - accuracy: 0.7505 - val_loss: 0.5647 - val_accuracy: 0.7579\n",
            "Epoch 7/15\n",
            "1508/1508 [==============================] - 6s 4ms/step - loss: 0.5550 - accuracy: 0.7589 - val_loss: 0.5553 - val_accuracy: 0.7562\n",
            "Epoch 8/15\n",
            "1508/1508 [==============================] - 6s 4ms/step - loss: 0.5654 - accuracy: 0.7544 - val_loss: 0.5605 - val_accuracy: 0.7512\n",
            "Epoch 9/15\n",
            "1508/1508 [==============================] - 8s 5ms/step - loss: 0.5583 - accuracy: 0.7532 - val_loss: 0.5605 - val_accuracy: 0.7512\n",
            "Epoch 10/15\n",
            "1508/1508 [==============================] - 6s 4ms/step - loss: 0.5583 - accuracy: 0.7532 - val_loss: 0.5605 - val_accuracy: 0.7512\n",
            "Epoch 11/15\n",
            "1508/1508 [==============================] - 6s 4ms/step - loss: 0.5583 - accuracy: 0.7532 - val_loss: 0.5605 - val_accuracy: 0.7512\n",
            "Epoch 12/15\n",
            "1508/1508 [==============================] - 6s 4ms/step - loss: 0.5583 - accuracy: 0.7532 - val_loss: 0.5605 - val_accuracy: 0.7512\n",
            "Epoch 13/15\n",
            "1508/1508 [==============================] - 6s 4ms/step - loss: 0.5583 - accuracy: 0.7532 - val_loss: 0.5605 - val_accuracy: 0.7512\n",
            "Epoch 14/15\n",
            "1508/1508 [==============================] - 6s 4ms/step - loss: 0.5583 - accuracy: 0.7532 - val_loss: 0.5606 - val_accuracy: 0.7512\n",
            "Epoch 15/15\n",
            "1508/1508 [==============================] - 7s 5ms/step - loss: 0.5584 - accuracy: 0.7532 - val_loss: 0.5605 - val_accuracy: 0.7512\n"
          ]
        }
      ]
    },
    {
      "cell_type": "code",
      "source": [
        "# NORMALIZED CONFUSION MATRIX\n",
        "Normpred = Norm_model.predict(val_features)\n",
        "Normpreds = (Normpred > 0.5).astype(int)\n",
        "NNconf = confusion_matrix(val_labels, Normpreds)\n",
        "NNconf_df = pd.DataFrame(NNconf, index=['True Negative', 'True Positive'], columns=['Predicted Negative', 'Predicted Positive'])\n",
        "\n",
        "sns.heatmap(NNconf_df, annot=True, fmt=\"d\", cmap=\"Blues\")\n",
        "plt.xlabel(\"Predicted Label\")\n",
        "plt.ylabel(\"True Label\")\n",
        "plt.show()"
      ],
      "metadata": {
        "colab": {
          "base_uri": "https://localhost:8080/",
          "height": 297
        },
        "id": "pClpE61_6vQV",
        "outputId": "d1441cd8-a504-4c60-b739-5b2f8a8bb7fc"
      },
      "execution_count": null,
      "outputs": [
        {
          "output_type": "stream",
          "name": "stdout",
          "text": [
            "189/189 [==============================] - 0s 2ms/step\n"
          ]
        },
        {
          "output_type": "display_data",
          "data": {
            "text/plain": [
              "<Figure size 432x288 with 2 Axes>"
            ],
            "image/png": "[encoded data removed]"
          },
          "metadata": {
            "needs_background": "light"
          }
        }
      ]
    },
    {
      "cell_type": "code",
      "source": [
        "# NON_NORMALIZED CONFUSION\n",
        "pred = model.predict(preval_features)\n",
        "preds = (pred > 0.5).astype(int)\n",
        "Nconf = confusion_matrix(preval_labels, preds)\n",
        "Nconf_df = pd.DataFrame(Nconf, index=['True Negative', 'True Positive'], columns=['Predicted Negative', 'Predicted Positive'])\n",
        "\n",
        "sns.heatmap(Nconf_df, annot=True, fmt=\"d\", cmap=\"Blues\")\n",
        "plt.xlabel(\"Predicted Label\")\n",
        "plt.ylabel(\"True Label\")\n",
        "plt.show()"
      ],
      "metadata": {
        "colab": {
          "base_uri": "https://localhost:8080/",
          "height": 297
        },
        "id": "LCOYouqpqyPy",
        "outputId": "c95e12a3-3656-4f58-8d91-f7d8f2fde5fe"
      },
      "execution_count": null,
      "outputs": [
        {
          "output_type": "stream",
          "name": "stdout",
          "text": [
            "189/189 [==============================] - 1s 3ms/step\n"
          ]
        },
        {
          "output_type": "display_data",
          "data": {
            "text/plain": [
              "<Figure size 432x288 with 2 Axes>"
            ],
            "image/png": "[encoded data removed]"
          },
          "metadata": {
            "needs_background": "light"
          }
        }
      ]
    },
    {
      "cell_type": "code",
      "source": [
        "import numpy as np\n",
        "import seaborn as sns\n",
        "import matplotlib.pyplot as plt\n",
        "from sklearn.metrics import accuracy_score, precision_score, recall_score, f1_score\n",
        "\n",
        "# Calculate the scores\n",
        "accuracy = accuracy_score(preval_labels, preds)\n",
        "precision = precision_score(preval_labels, preds)\n",
        "recall = recall_score(preval_labels, preds)\n",
        "f1 = f1_score(preval_labels, preds)\n",
        "\n",
        "# Create the DataFrame\n",
        "scores_df = pd.DataFrame({\n",
        "    'Metric': ['Accuracy', 'Precision', 'Recall', 'F1 Score'],\n",
        "    'Score': [accuracy, precision, recall, f1]\n",
        "})\n",
        "\n",
        "# Define a function to add background color based on the scores\n",
        "def add_bg_color(val):\n",
        "    color = 'white'\n",
        "    if val > 0.8:\n",
        "        color = '#55a868'  # green\n",
        "    elif val > 0.6:\n",
        "        color = '#a1d99b'  # light green\n",
        "    elif val > 0.4:\n",
        "        color = '#fdae61'  # orange\n",
        "    elif val > 0.2:\n",
        "        color = '#f46d43'  # light red\n",
        "    else:\n",
        "        color = '#d73027'  # red\n",
        "    return f'background-color: {color}'\n",
        "\n",
        "# Format the DataFrame using Styler\n",
        "scores_df_styled = (scores_df.style\n",
        "                   .format({'Score': '{:.2%}'})  # Format the scores as percentage\n",
        "                   .applymap(add_bg_color, subset=['Score'])  # Add background color\n",
        "                   .set_properties(**{'text-align': 'center', 'font-size': '16px'})  # Set text alignment and font size\n",
        "                   .set_table_styles([\n",
        "                       {'selector': 'th', 'props': [\n",
        "                           ('background-color', '#303030'),  # header background color\n",
        "                           ('color', 'white'),  # header text color\n",
        "                           ('font-size', '16px'),  # header font size\n",
        "                       ]},\n",
        "                       {'selector': 'th.col_heading', 'props': [\n",
        "                           ('background-color', '#2f4f4f'),  # Metric column background color\n",
        "                       ]},\n",
        "                   ])\n",
        "                  )\n",
        "\n",
        "# Display the styled DataFrame\n",
        "scores_df_styled"
      ],
      "metadata": {
        "colab": {
          "base_uri": "https://localhost:8080/",
          "height": 197
        },
        "id": "nrPHQNhI0Y5N",
        "outputId": "48186109-c64e-4ee2-a3c2-cd53d2f95c76"
      },
      "execution_count": null,
      "outputs": [
        {
          "output_type": "execute_result",
          "data": {
            "text/plain": [
              "<pandas.io.formats.style.Styler at 0x7f4bdc4af550>"
            ],
            "text/html": [
              "<style type=\"text/css\">\n",
              "#T_188de_ th {\n",
              "  background-color: #303030;\n",
              "  color: white;\n",
              "  font-size: 16px;\n",
              "}\n",
              "#T_188de_ th.col_heading {\n",
              "  background-color: #2f4f4f;\n",
              "}\n",
              "#T_188de_row0_col0, #T_188de_row1_col0, #T_188de_row2_col0, #T_188de_row3_col0 {\n",
              "  text-align: center;\n",
              "  font-size: 16px;\n",
              "}\n",
              "#T_188de_row0_col1 {\n",
              "  background-color: #a1d99b;\n",
              "  text-align: center;\n",
              "  font-size: 16px;\n",
              "}\n",
              "#T_188de_row1_col1 {\n",
              "  background-color: #55a868;\n",
              "  text-align: center;\n",
              "  font-size: 16px;\n",
              "}\n",
              "#T_188de_row2_col1, #T_188de_row3_col1 {\n",
              "  background-color: #d73027;\n",
              "  text-align: center;\n",
              "  font-size: 16px;\n",
              "}\n",
              "</style>\n",
              "<table id=\"T_188de_\" class=\"dataframe\">\n",
              "  <thead>\n",
              "    <tr>\n",
              "      <th class=\"blank level0\" >&nbsp;</th>\n",
              "      <th class=\"col_heading level0 col0\" >Metric</th>\n",
              "      <th class=\"col_heading level0 col1\" >Score</th>\n",
              "    </tr>\n",
              "  </thead>\n",
              "  <tbody>\n",
              "    <tr>\n",
              "      <th id=\"T_188de_level0_row0\" class=\"row_heading level0 row0\" >0</th>\n",
              "      <td id=\"T_188de_row0_col0\" class=\"data row0 col0\" >Accuracy</td>\n",
              "      <td id=\"T_188de_row0_col1\" class=\"data row0 col1\" >75.12%</td>\n",
              "    </tr>\n",
              "    <tr>\n",
              "      <th id=\"T_188de_level0_row1\" class=\"row_heading level0 row1\" >1</th>\n",
              "      <td id=\"T_188de_row1_col0\" class=\"data row1 col0\" >Precision</td>\n",
              "      <td id=\"T_188de_row1_col1\" class=\"data row1 col1\" >100.00%</td>\n",
              "    </tr>\n",
              "    <tr>\n",
              "      <th id=\"T_188de_level0_row2\" class=\"row_heading level0 row2\" >2</th>\n",
              "      <td id=\"T_188de_row2_col0\" class=\"data row2 col0\" >Recall</td>\n",
              "      <td id=\"T_188de_row2_col1\" class=\"data row2 col1\" >0.66%</td>\n",
              "    </tr>\n",
              "    <tr>\n",
              "      <th id=\"T_188de_level0_row3\" class=\"row_heading level0 row3\" >3</th>\n",
              "      <td id=\"T_188de_row3_col0\" class=\"data row3 col0\" >F1 Score</td>\n",
              "      <td id=\"T_188de_row3_col1\" class=\"data row3 col1\" >1.32%</td>\n",
              "    </tr>\n",
              "  </tbody>\n",
              "</table>\n"
            ]
          },
          "metadata": {},
          "execution_count": 30
        }
      ]
    },
    {
      "cell_type": "code",
      "source": [
        "import pandas as pd\n",
        "from sklearn.metrics import accuracy_score, precision_score, recall_score, f1_score\n",
        "\n",
        "# NORMALIZED-SCORES\n",
        "accuracy = accuracy_score(val_labels, Normpreds)\n",
        "precision = precision_score(val_labels, Normpreds)\n",
        "recall = recall_score(val_labels, Normpreds)\n",
        "f1 = f1_score(val_labels, Normpreds)\n",
        "\n",
        "# Create the DataFrame\n",
        "Nscores_df = pd.DataFrame({\n",
        "    'Metric': ['Accuracy', 'Precision', 'Recall', 'F1 Score'],\n",
        "    'Score': [accuracy, precision, recall, f1]\n",
        "})\n",
        "\n",
        "# Format the DataFrame using Styler\n",
        "Nscores_df_styled = (Nscores_df.style\n",
        "                   .format({'Score': '{:.2%}'})  # Format the scores as percentage\n",
        "                   .applymap(add_bg_color, subset=['Score'])  # Add background color\n",
        "                   .set_properties(**{'text-align': 'center', 'font-size': '16px'})  # Set text alignment and font size\n",
        "                   .set_table_styles([\n",
        "                       {'selector': 'th', 'props': [\n",
        "                           ('background-color', '#303030'),  # header background color\n",
        "                           ('color', 'white'),  # header text color\n",
        "                           ('font-size', '16px'),  # header font size\n",
        "                       ]},\n",
        "                       {'selector': 'th.col_heading', 'props': [\n",
        "                           ('background-color', '#2f4f4f'),  # Metric column background color\n",
        "                       ]},\n",
        "                   ])\n",
        "                  )\n",
        "\n",
        "# Display the styled DataFrame\n",
        "Nscores_df_styled\n"
      ],
      "metadata": {
        "colab": {
          "base_uri": "https://localhost:8080/",
          "height": 197
        },
        "id": "PWL1L8-YxBnv",
        "outputId": "c1f8e18d-65f7-4f87-f54f-03d5a9a58bd9"
      },
      "execution_count": null,
      "outputs": [
        {
          "output_type": "execute_result",
          "data": {
            "text/plain": [
              "<pandas.io.formats.style.Styler at 0x7f4bf0177bb0>"
            ],
            "text/html": [
              "<style type=\"text/css\">\n",
              "#T_1bf2c_ th {\n",
              "  background-color: #303030;\n",
              "  color: white;\n",
              "  font-size: 16px;\n",
              "}\n",
              "#T_1bf2c_ th.col_heading {\n",
              "  background-color: #2f4f4f;\n",
              "}\n",
              "#T_1bf2c_row0_col0, #T_1bf2c_row1_col0, #T_1bf2c_row2_col0, #T_1bf2c_row3_col0 {\n",
              "  text-align: center;\n",
              "  font-size: 16px;\n",
              "}\n",
              "#T_1bf2c_row0_col1 {\n",
              "  background-color: #55a868;\n",
              "  text-align: center;\n",
              "  font-size: 16px;\n",
              "}\n",
              "#T_1bf2c_row1_col1, #T_1bf2c_row2_col1, #T_1bf2c_row3_col1 {\n",
              "  background-color: #a1d99b;\n",
              "  text-align: center;\n",
              "  font-size: 16px;\n",
              "}\n",
              "</style>\n",
              "<table id=\"T_1bf2c_\" class=\"dataframe\">\n",
              "  <thead>\n",
              "    <tr>\n",
              "      <th class=\"blank level0\" >&nbsp;</th>\n",
              "      <th class=\"col_heading level0 col0\" >Metric</th>\n",
              "      <th class=\"col_heading level0 col1\" >Score</th>\n",
              "    </tr>\n",
              "  </thead>\n",
              "  <tbody>\n",
              "    <tr>\n",
              "      <th id=\"T_1bf2c_level0_row0\" class=\"row_heading level0 row0\" >0</th>\n",
              "      <td id=\"T_1bf2c_row0_col0\" class=\"data row0 col0\" >Accuracy</td>\n",
              "      <td id=\"T_1bf2c_row0_col1\" class=\"data row0 col1\" >84.71%</td>\n",
              "    </tr>\n",
              "    <tr>\n",
              "      <th id=\"T_1bf2c_level0_row1\" class=\"row_heading level0 row1\" >1</th>\n",
              "      <td id=\"T_1bf2c_row1_col0\" class=\"data row1 col0\" >Precision</td>\n",
              "      <td id=\"T_1bf2c_row1_col1\" class=\"data row1 col1\" >71.21%</td>\n",
              "    </tr>\n",
              "    <tr>\n",
              "      <th id=\"T_1bf2c_level0_row2\" class=\"row_heading level0 row2\" >2</th>\n",
              "      <td id=\"T_1bf2c_row2_col0\" class=\"data row2 col0\" >Recall</td>\n",
              "      <td id=\"T_1bf2c_row2_col1\" class=\"data row2 col1\" >65.36%</td>\n",
              "    </tr>\n",
              "    <tr>\n",
              "      <th id=\"T_1bf2c_level0_row3\" class=\"row_heading level0 row3\" >3</th>\n",
              "      <td id=\"T_1bf2c_row3_col0\" class=\"data row3 col0\" >F1 Score</td>\n",
              "      <td id=\"T_1bf2c_row3_col1\" class=\"data row3 col1\" >68.16%</td>\n",
              "    </tr>\n",
              "  </tbody>\n",
              "</table>\n"
            ]
          },
          "metadata": {},
          "execution_count": 31
        }
      ]
    },
    {
      "cell_type": "code",
      "source": [
        "# plot loss-accuracy curves for visualization\n",
        "sns.set_style('darkgrid')  # Set the plot style\n",
        "\n",
        "plt.plot(history1.history['loss'], label='Training Loss')\n",
        "plt.plot(history1.history['val_loss'], label='Validation Loss')\n",
        "plt.plot(history1.history['accuracy'], label='Training Accuracy')\n",
        "plt.plot(history1.history['val_accuracy'], label='Validation Accuracy')\n",
        "\n",
        "plt.legend(loc='center right', fontsize=7)  # Add a legend\n",
        "plt.title('Loss-Accuracy Pre-Normalization')  # Add a title\n",
        "plt.xlabel('Epochs')  # Add x-axis label\n",
        "plt.ylabel('Loss / Accuracy')  # Add y-axis label\n",
        "plt.ylim([0, 5])  # Set y-axis limits to better visualize changes in the metrics\n",
        "\n",
        "plt.show()\n",
        "plt.close()\n"
      ],
      "metadata": {
        "colab": {
          "base_uri": "https://localhost:8080/",
          "height": 295
        },
        "id": "ZYzwATjbwbg3",
        "outputId": "f64de72f-57b4-4dcd-93d5-e87c4c170dfe"
      },
      "execution_count": null,
      "outputs": [
        {
          "output_type": "display_data",
          "data": {
            "text/plain": [
              "<Figure size 432x288 with 1 Axes>"
            ],
            "image/png": "[encoded data removed]"
          },
          "metadata": {}
        }
      ]
    },
    {
      "cell_type": "code",
      "source": [
        "\n",
        "sns.set_style('darkgrid')  # Set the plot style\n",
        "\n",
        "plt.plot(history.history['loss'], label='Training Loss')\n",
        "plt.plot(history.history['val_loss'], label='Validation Loss')\n",
        "plt.plot(history.history['accuracy'], label='Training Accuracy')\n",
        "plt.plot(history.history['val_accuracy'], label='Validation Accuracy')\n",
        "\n",
        "plt.legend(loc='center right', fontsize=7)  # Add a legend\n",
        "plt.title('Loss-Accuracy Curves (Original Data)')  # title here includes (original data) as we will compare it against grouping later\n",
        "plt.xlabel('Epochs')  # Add x-axis label\n",
        "plt.ylabel('Loss / Accuracy')  # Add y-axis label\n",
        "plt.ylim([0, 1])  # Set y-axis limits to better visualize changes in the metrics\n",
        "\n",
        "plt.show()\n",
        "plt.close()\n"
      ],
      "metadata": {
        "colab": {
          "base_uri": "https://localhost:8080/",
          "height": 295
        },
        "id": "J7P72oYlv-8x",
        "outputId": "deac0992-0ae8-4e4b-8021-b93eeb0e30d9"
      },
      "execution_count": null,
      "outputs": [
        {
          "output_type": "display_data",
          "data": {
            "text/plain": [
              "<Figure size 432x288 with 1 Axes>"
            ],
            "image/png": "[encoded data removed]"
          },
          "metadata": {}
        }
      ]
    },
    {
      "cell_type": "markdown",
      "source": [
        "## Non-Grouped Random Forest Model"
      ],
      "metadata": {
        "id": "zUBq8xEiBjtm"
      }
    },
    {
      "cell_type": "markdown",
      "source": [
        "\n",
        "In general, Random Forest models do not require data normalization as the algorithm is not sensitive to the scale of the features. However, normalization can still be beneficial in some cases, such as when there are large differences in the scales of the features or when using regularization methods like L1 or L2 regularization. Normalization can help ensure that the regularization penalty is applied equally to all features.\n",
        "\n",
        "Additionally, some other machine learning algorithms, such as K-Nearest Neighbors or Support Vector Machines, are more sensitive to the scale of the input features and therefore require normalization to ensure the features are on a similar scale.\n",
        "\n",
        "So, while it is not strictly necessary to normalize the data before fitting a Random Forest classifier, it may still be a good practice to do so, especially if we have features on different scales. We can try both normalized and non-normalized data and see if normalization improves the performance of the model."
      ],
      "metadata": {
        "id": "lnM2WCZNCMIp"
      }
    },
    {
      "cell_type": "code",
      "source": [
        "# Forest model\n",
        "Fmodel = RandomForestClassifier(n_estimators=100, random_state=42)\n",
        "# Fit with non-normalized data\n",
        "Fmodel.fit(pretrain_features, pretrain_labels)\n",
        "Fmodel.score(preval_features, preval_labels)"
      ],
      "metadata": {
        "id": "sKOgo5KkBp-Z",
        "colab": {
          "base_uri": "https://localhost:8080/"
        },
        "outputId": "7ecd04e0-a290-4a8a-cf3b-bb186dcc2429"
      },
      "execution_count": 15,
      "outputs": [
        {
          "output_type": "execute_result",
          "data": {
            "text/plain": [
              "0.8552238805970149"
            ]
          },
          "metadata": {},
          "execution_count": 15
        }
      ]
    },
    {
      "cell_type": "markdown",
      "source": [
        "the preval_features data is not entirely unseen, as it was used during the model selection process. However, the preval_features were not used in the training of the model itself, so the model should not have learned the specific patterns or relationships in this data.\n",
        "\n",
        "The purpose of the validation set is to evaluate the model's performance on data that is separate from the training set, so you can assess how well the model is generalizing to new, unseen data. In this case, you are using the Fmodel.score() method to calculate the accuracy of the model on the validation set, which can give you an indication of how well the model is performing on unseen data.\n",
        "\n",
        "It is worth noting that if you use the validation set repeatedly during the model selection process (for example, if you use it to tune hyperparameters or to evaluate different models), you risk overfitting to the validation set. In this case, you may want to use a separate test set that is truly unseen until the final model selection process. This can help to ensure that you are not biasing your model selection process based on a particular set of validation data.\n",
        "\n",
        "\n",
        "\n",
        "\n"
      ],
      "metadata": {
        "id": "C0nGGnneG7dZ"
      }
    },
    {
      "cell_type": "code",
      "source": [
        "# New model\n",
        "FmodelNorm = RandomForestClassifier(n_estimators=100, random_state=42)\n",
        "# FIt with normalized data\n",
        "FmodelNorm.fit(train_features, train_labels)\n",
        "FmodelNorm.score(val_features, val_labels)\n",
        "val_pred_ = FmodelNorm.predict(val_features)\n",
        "conf_=confusion_matrix(val_labels, val_pred_)\n",
        "confNorm = pd.DataFrame(conf_, index=['True Negative', 'True Positive'], columns=['Predicted Negative', 'Predicted Positive'])\n",
        "sns.heatmap(confNorm, annot=True, fmt=\"d\", cmap=\"Blues\")\n",
        "plt.xlabel(\"Predicted Label\")\n",
        "plt.ylabel(\"True Label\")\n",
        "plt.show()"
      ],
      "metadata": {
        "colab": {
          "base_uri": "https://localhost:8080/",
          "height": 279
        },
        "id": "ATaToC0_FlGu",
        "outputId": "3f823812-5842-41c7-9896-0f8045e70fc1"
      },
      "execution_count": 16,
      "outputs": [
        {
          "output_type": "display_data",
          "data": {
            "text/plain": [
              "<Figure size 432x288 with 2 Axes>"
            ],
            "image/png": "[encoded data removed]"
          },
          "metadata": {
            "needs_background": "light"
          }
        }
      ]
    },
    {
      "cell_type": "code",
      "source": [
        "import pandas as pd\n",
        "from sklearn.metrics import accuracy_score, precision_score, recall_score, f1_score\n",
        "\n",
        "# NORMALIZED-SCORES\n",
        "accuracy = accuracy_score(val_labels, val_pred_)\n",
        "precision = precision_score(val_labels, val_pred_)\n",
        "recall = recall_score(val_labels, val_pred_)\n",
        "f1 = f1_score(val_labels, val_pred_)\n",
        "\n",
        "# Create the DataFrame\n",
        "Nscores_df = pd.DataFrame({\n",
        "    'Metric': ['Accuracy', 'Precision', 'Recall', 'F1 Score'],\n",
        "    'Score': [accuracy, precision, recall, f1]\n",
        "})\n",
        "\n",
        "# Format the DataFrame using Styler\n",
        "Nscores_df_styled = (Nscores_df.style\n",
        "                   .format({'Score': '{:.2%}'})  # Format the scores as percentage\n",
        "                   .applymap(add_bg_color, subset=['Score'])  # Add background color\n",
        "                   .set_properties(**{'text-align': 'center', 'font-size': '16px'})  # Set text alignment and font size\n",
        "                   .set_table_styles([\n",
        "                       {'selector': 'th', 'props': [\n",
        "                           ('background-color', '#303030'),  # header background color\n",
        "                           ('color', 'white'),  # header text color\n",
        "                           ('font-size', '16px'),  # header font size\n",
        "                       ]},\n",
        "                       {'selector': 'th.col_heading', 'props': [\n",
        "                           ('background-color', '#2f4f4f'),  # Metric column background color\n",
        "                       ]},\n",
        "                   ])\n",
        "                  )\n",
        "\n",
        "# Display the styled DataFrame\n",
        "Nscores_df_styled\n"
      ],
      "metadata": {
        "colab": {
          "base_uri": "https://localhost:8080/",
          "height": 197
        },
        "id": "zg1l5u2Y080Z",
        "outputId": "67e559b6-c295-47b1-82b3-0180bdc8e44d"
      },
      "execution_count": null,
      "outputs": [
        {
          "output_type": "execute_result",
          "data": {
            "text/plain": [
              "<pandas.io.formats.style.Styler at 0x7f4b90943ee0>"
            ],
            "text/html": [
              "<style type=\"text/css\">\n",
              "#T_bae3b_ th {\n",
              "  background-color: #303030;\n",
              "  color: white;\n",
              "  font-size: 16px;\n",
              "}\n",
              "#T_bae3b_ th.col_heading {\n",
              "  background-color: #2f4f4f;\n",
              "}\n",
              "#T_bae3b_row0_col0, #T_bae3b_row1_col0, #T_bae3b_row2_col0, #T_bae3b_row3_col0 {\n",
              "  text-align: center;\n",
              "  font-size: 16px;\n",
              "}\n",
              "#T_bae3b_row0_col1 {\n",
              "  background-color: #55a868;\n",
              "  text-align: center;\n",
              "  font-size: 16px;\n",
              "}\n",
              "#T_bae3b_row1_col1, #T_bae3b_row2_col1, #T_bae3b_row3_col1 {\n",
              "  background-color: #a1d99b;\n",
              "  text-align: center;\n",
              "  font-size: 16px;\n",
              "}\n",
              "</style>\n",
              "<table id=\"T_bae3b_\" class=\"dataframe\">\n",
              "  <thead>\n",
              "    <tr>\n",
              "      <th class=\"blank level0\" >&nbsp;</th>\n",
              "      <th class=\"col_heading level0 col0\" >Metric</th>\n",
              "      <th class=\"col_heading level0 col1\" >Score</th>\n",
              "    </tr>\n",
              "  </thead>\n",
              "  <tbody>\n",
              "    <tr>\n",
              "      <th id=\"T_bae3b_level0_row0\" class=\"row_heading level0 row0\" >0</th>\n",
              "      <td id=\"T_bae3b_row0_col0\" class=\"data row0 col0\" >Accuracy</td>\n",
              "      <td id=\"T_bae3b_row0_col1\" class=\"data row0 col1\" >85.49%</td>\n",
              "    </tr>\n",
              "    <tr>\n",
              "      <th id=\"T_bae3b_level0_row1\" class=\"row_heading level0 row1\" >1</th>\n",
              "      <td id=\"T_bae3b_row1_col0\" class=\"data row1 col0\" >Precision</td>\n",
              "      <td id=\"T_bae3b_row1_col1\" class=\"data row1 col1\" >74.40%</td>\n",
              "    </tr>\n",
              "    <tr>\n",
              "      <th id=\"T_bae3b_level0_row2\" class=\"row_heading level0 row2\" >2</th>\n",
              "      <td id=\"T_bae3b_row2_col0\" class=\"data row2 col0\" >Recall</td>\n",
              "      <td id=\"T_bae3b_row2_col1\" class=\"data row2 col1\" >64.11%</td>\n",
              "    </tr>\n",
              "    <tr>\n",
              "      <th id=\"T_bae3b_level0_row3\" class=\"row_heading level0 row3\" >3</th>\n",
              "      <td id=\"T_bae3b_row3_col0\" class=\"data row3 col0\" >F1 Score</td>\n",
              "      <td id=\"T_bae3b_row3_col1\" class=\"data row3 col1\" >68.87%</td>\n",
              "    </tr>\n",
              "  </tbody>\n",
              "</table>\n"
            ]
          },
          "metadata": {},
          "execution_count": 54
        }
      ]
    },
    {
      "cell_type": "markdown",
      "source": [
        "###################################################################################################"
      ],
      "metadata": {
        "id": "8ltx8jNFOjNb"
      }
    },
    {
      "cell_type": "markdown",
      "source": [
        "## Ideas for future models:\n",
        "\n",
        "The following is not either or, we can use both.\n",
        "\n",
        "* Consider modifying the dataset:\n",
        "  * capital = capital gain - capital loss\n",
        "  * Ages can be split into categories? 4 categories let's say\n",
        "  * Countries become USA and NON-USA ?\n",
        "\n",
        "* Consider different model architectures:\n",
        " * dropout layers\n",
        " * regularization\n",
        " * Functional API?"
      ],
      "metadata": {
        "id": "uUK4q4K6eiyd"
      }
    },
    {
      "cell_type": "markdown",
      "source": [
        "## Comparison Ideas:\n",
        "\n",
        "* Compare the same model architecture with differently preprocessed data (e.g. one with the full one-hot encoded columns (104) and the other with grouped columns before one-hot encoding (USA and Non-USA, Age, Marital Status etc..))\n",
        "  * Call the datasets grouped and non-grouped.\n",
        "\n",
        "* Compare the same model architecture but with the number of predictors used in the classification tree that they present in the R code output.\n",
        "  * Compare classification error and accuracy of the two models. Here: the dataset will be the same.\n",
        "  \n",
        "\n",
        "### The Comparisons:\n",
        "\n",
        "Grouped:\n",
        "\n",
        "* TF model against tree-based (accuracy)\n",
        "\n",
        "* TF model against Non-grouped TF model\n",
        "\n",
        "Non-Grouped:\n",
        "\n",
        "* TF model against tree-based (accuracy)\n",
        "\n",
        "Other:\n",
        "\n",
        "* TF model against tree-based with equal predictors\n",
        "\n",
        "* TF model against TF model (re-architectured)"
      ],
      "metadata": {
        "id": "EO9-geW2bAzy"
      }
    },
    {
      "cell_type": "markdown",
      "source": [
        "###################################################################################################"
      ],
      "metadata": {
        "id": "_0E-UwlSOllv"
      }
    },
    {
      "cell_type": "markdown",
      "source": [
        "##  **GROUPED DATA SET**"
      ],
      "metadata": {
        "id": "HLmo-cXeNpW0"
      }
    },
    {
      "cell_type": "code",
      "source": [
        "import tensorflow as tf\n",
        "import matplotlib.pyplot as plt\n",
        "import numpy as np\n",
        "import pandas as pd\n",
        "import random\n",
        "from sklearn.model_selection import train_test_split\n",
        "from tensorflow.keras.optimizers import RMSprop"
      ],
      "metadata": {
        "id": "plvnyUAu9rWB"
      },
      "execution_count": null,
      "outputs": []
    },
    {
      "cell_type": "code",
      "source": [
        "# Helper functions to group the adult data set\n",
        "# We use these for alternative analyses\n",
        "# Specific data extractor\n",
        "def load_data(file):\n",
        "  return pd.read_csv(file, header = None, names = ['Age', 'Workclass', 'fnlwgt',\n",
        "                                                   'Education', 'Education No.',\n",
        "                      'Marital-Status', 'Occupation', 'Relationship',\n",
        "                      'Race', 'Sex', 'Capital-Gain', 'Capital-Loss',\n",
        "                      'Hours-per-week', 'Native-Country', 'Income'])\n",
        "\n",
        "# Encode Countries\n",
        "def encode_country(country):\n",
        "    if country == \"United-States\":\n",
        "        return \"USA\"\n",
        "    else:\n",
        "        return \"Non-USA\"\n",
        "\n",
        "# Categorize age\n",
        "def categorize_age(age):\n",
        "    if age <= 30:\n",
        "        return '<=30'\n",
        "    elif age <= 45:\n",
        "        return '30-45'\n",
        "    elif age <= 60:\n",
        "        return '45-60'\n",
        "    else:\n",
        "        return '>60'\n",
        "\n",
        "# Categorize workclass\n",
        "def categorize_workclass(workclass):\n",
        "    if workclass in ['Self-emp-not-inc', 'Self-emp-inc']:\n",
        "        return 'Self-emp'\n",
        "    elif '-gov' in workclass:\n",
        "        return 'Gov'\n",
        "    elif workclass == 'Private':\n",
        "        return 'Private'\n",
        "    else:\n",
        "        return 'Other'\n",
        "\n",
        "# Categorize marriage\n",
        "def categorize_marriage(m):\n",
        "    if m in ['Married-civ-spouse', 'Married-spouse-absent', 'Married-AF-spouse']:\n",
        "      return 'Married'\n",
        "    elif m == 'Divorced':\n",
        "      return 'Divorced'\n",
        "    elif m == 'Never-Married':\n",
        "      return 'Never-Married'\n",
        "    elif m == 'Separated':\n",
        "      return 'Separated'\n",
        "    elif m == 'Widowed':\n",
        "      return 'Widowed'\n",
        "    # else:\n",
        "    #   return 'Other'\n",
        "\n",
        "# group education: before university, Undergraduate, Postgraduate, Associate\n",
        "# HS-grad, some-college, \n",
        "def EduClear(x):\n",
        "  if x in ['Preschool', '1st-4th', '5th-6th', '9th', '10th','11th', '12th', '7th-8th']:\n",
        "    return 'Before-University'\n",
        "  elif x in ['Assoc-voc', 'Assoc-acdm']:\n",
        "    return 'Associate'\n",
        "  elif x in ['Masters', 'Prof-school', 'Doctorate']:\n",
        "    return 'Postgraduate'\n",
        "  elif x == 'Bachelors':\n",
        "    return 'Undergraduate'\n",
        "  elif x == 'HS-grad':\n",
        "    return 'HS-grad'\n",
        "  elif x == 'Some-college':\n",
        "    return 'Some-college'\n",
        "\n"
      ],
      "metadata": {
        "id": "_MLV1TRdEVZv"
      },
      "execution_count": null,
      "outputs": []
    },
    {
      "cell_type": "code",
      "source": [
        "grouped = load_data('adult.data')\n",
        "# grouped = grouped.drop('Education No.', axis =  1)\n",
        "# grouped.head()"
      ],
      "metadata": {
        "id": "VpAqgCTOTxv1"
      },
      "execution_count": null,
      "outputs": []
    },
    {
      "cell_type": "code",
      "source": [
        "# Remove all whitespaces and ? mark values\n",
        "grouped.dropna()\n",
        "# Remove whitespace\n",
        "for col in ['Workclass', 'Occupation', 'Native-Country', 'Marital-Status', 'Education']:\n",
        "    grouped[col] = grouped[col].str.strip()\n",
        "\n",
        "# Remove ? values\n",
        "grouped = (grouped[(grouped['Workclass'] != '?')&\n",
        "                   (grouped['Occupation'] != '?') &\n",
        "                   (grouped['Native-Country'] != '?')&\n",
        "                   (grouped['Workclass'] != 'Without-pay')])"
      ],
      "metadata": {
        "id": "h2WhmnrqA5xq"
      },
      "execution_count": null,
      "outputs": []
    },
    {
      "cell_type": "markdown",
      "source": [
        "Clean 'Workclass' into 4 categories, 'Gov', 'Self-emp', 'Private' and 'Other'."
      ],
      "metadata": {
        "id": "oecH0CbpaSSm"
      }
    },
    {
      "cell_type": "code",
      "source": [
        "grouped['Workclass'] = grouped['Workclass'].apply(categorize_workclass)\n",
        "grouped['Workclass'].value_counts()"
      ],
      "metadata": {
        "colab": {
          "base_uri": "https://localhost:8080/"
        },
        "id": "rTy3DAOVcAx9",
        "outputId": "97e4c26e-81c9-4f6e-986e-1a28d6790b30"
      },
      "execution_count": null,
      "outputs": [
        {
          "output_type": "execute_result",
          "data": {
            "text/plain": [
              "Private     22286\n",
              "Gov          4289\n",
              "Self-emp     3573\n",
              "Name: Workclass, dtype: int64"
            ]
          },
          "metadata": {},
          "execution_count": 31
        }
      ]
    },
    {
      "cell_type": "markdown",
      "source": [
        "Categorize 'Marital-Status' into Married, Divorced, Never-Married, Separated, Widowed"
      ],
      "metadata": {
        "id": "IuWUeer9B2QB"
      }
    },
    {
      "cell_type": "code",
      "source": [
        "grouped['Marital-Status'] = grouped['Marital-Status'].apply(categorize_marriage)\n",
        "grouped['Marital-Status'].value_counts()"
      ],
      "metadata": {
        "colab": {
          "base_uri": "https://localhost:8080/"
        },
        "id": "BFSO1tuJCCc1",
        "outputId": "3ce85bdf-f724-46c0-ee33-5c96af389a0e"
      },
      "execution_count": null,
      "outputs": [
        {
          "output_type": "execute_result",
          "data": {
            "text/plain": [
              "Married      14447\n",
              "Divorced      4214\n",
              "Separated      939\n",
              "Widowed        826\n",
              "Name: Marital-Status, dtype: int64"
            ]
          },
          "metadata": {},
          "execution_count": 32
        }
      ]
    },
    {
      "cell_type": "markdown",
      "source": [
        "Categorize Education into Before-University, Undergraduate, Postgraduate, Associate, HS-grad, Some-college"
      ],
      "metadata": {
        "id": "7kGFkMLCCMWw"
      }
    },
    {
      "cell_type": "code",
      "source": [
        "grouped['Education'] = grouped['Education'].apply(EduClear)\n",
        "grouped['Education'].value_counts()"
      ],
      "metadata": {
        "colab": {
          "base_uri": "https://localhost:8080/"
        },
        "id": "vXC-GWa9Cc_L",
        "outputId": "c8b1ae41-1b53-4d42-8a32-491b350d62b7"
      },
      "execution_count": null,
      "outputs": [
        {
          "output_type": "execute_result",
          "data": {
            "text/plain": [
              "HS-grad              9831\n",
              "Some-college         6675\n",
              "Undergraduate        5044\n",
              "Before-University    3740\n",
              "Postgraduate         2544\n",
              "Associate            2314\n",
              "Name: Education, dtype: int64"
            ]
          },
          "metadata": {},
          "execution_count": 33
        }
      ]
    },
    {
      "cell_type": "markdown",
      "source": [
        "Categorize native country into USA and Non-USA. This is because the majority of the value counts in said column are USA."
      ],
      "metadata": {
        "id": "o5DWTC7iCo0O"
      }
    },
    {
      "cell_type": "code",
      "source": [
        "grouped['Native-Country'] = grouped['Native-Country'].apply(encode_country)\n",
        "grouped['Native-Country'].value_counts()"
      ],
      "metadata": {
        "colab": {
          "base_uri": "https://localhost:8080/"
        },
        "id": "mbljwmIACvY8",
        "outputId": "8d1e6133-be44-45ea-d7ef-ed76a9fb5bd2"
      },
      "execution_count": null,
      "outputs": [
        {
          "output_type": "execute_result",
          "data": {
            "text/plain": [
              "USA        27491\n",
              "Non-USA     2657\n",
              "Name: Native-Country, dtype: int64"
            ]
          },
          "metadata": {},
          "execution_count": 34
        }
      ]
    },
    {
      "cell_type": "markdown",
      "source": [
        "Our Final bit of grouping will require us to:\n",
        "\n",
        "* Capital = Capital-gain - capital loss\n",
        "* drop the education no., capital-gain, and capital - loss columns."
      ],
      "metadata": {
        "id": "_yDs9ectEGCa"
      }
    },
    {
      "cell_type": "code",
      "source": [
        "grouped['Capital'] = grouped['Capital-Gain'] - grouped['Capital-Loss']"
      ],
      "metadata": {
        "id": "pUsDMbhdOUVv"
      },
      "execution_count": null,
      "outputs": []
    },
    {
      "cell_type": "code",
      "source": [
        "grouped = grouped.drop('Capital-Gain', axis=1)\n",
        "grouped = grouped.drop('Capital-Loss', axis=1)\n",
        "grouped = grouped.drop('Education No.', axis=1)\n",
        "# grouped.head()"
      ],
      "metadata": {
        "id": "KhfseghVXT1y"
      },
      "execution_count": null,
      "outputs": []
    },
    {
      "cell_type": "code",
      "source": [
        "Categoricals = ['Workclass', 'Education', 'Marital-Status',\n",
        "                'Occupation', 'Relationship', 'Race',\n",
        "                'Sex', 'Native-Country']\n",
        "\n",
        "# one-hot encode each categorical column\n",
        "for col in Categoricals:\n",
        "  one_hot = pd.get_dummies(grouped[col], prefix=col)\n",
        "# Concatenate the one-hot encoded column back into the original df\n",
        "  grouped = pd.concat([grouped, one_hot], axis = 1)\n",
        "  grouped = grouped.drop(col, axis=1)\n",
        "\n",
        "# grouped.head()"
      ],
      "metadata": {
        "id": "uLU8zVxoDCtr"
      },
      "execution_count": null,
      "outputs": []
    },
    {
      "cell_type": "code",
      "source": [
        "# preprocess by stripping the string type label column and encoding as binary.\n",
        "# Comment out this cell after running\n",
        "grouped['Income'] = grouped['Income'].str.strip().str.lower()\n",
        "grouped['Income'] = grouped['Income'].replace({'>50k': 1, '<=50k': 0})\n",
        "grouped['Income'] = grouped['Income'].astype(int)\n",
        "grouped.head()"
      ],
      "metadata": {
        "id": "_W7IZtFEDSU-",
        "colab": {
          "base_uri": "https://localhost:8080/",
          "height": 351
        },
        "outputId": "c44658e7-95b2-4ea2-db25-59ea1670875b"
      },
      "execution_count": null,
      "outputs": [
        {
          "output_type": "execute_result",
          "data": {
            "text/plain": [
              "   Age  fnlwgt  Hours-per-week  Income  Capital  Workclass_Gov  \\\n",
              "0   39   77516              40       0     2174              1   \n",
              "1   50   83311              13       0        0              0   \n",
              "2   38  215646              40       0        0              0   \n",
              "3   53  234721              40       0        0              0   \n",
              "4   28  338409              40       0        0              0   \n",
              "\n",
              "   Workclass_Private  Workclass_Self-emp  Education_Associate  \\\n",
              "0                  0                   0                    0   \n",
              "1                  0                   1                    0   \n",
              "2                  1                   0                    0   \n",
              "3                  1                   0                    0   \n",
              "4                  1                   0                    0   \n",
              "\n",
              "   Education_Before-University  ...  Relationship_ Wife  \\\n",
              "0                            0  ...                   0   \n",
              "1                            0  ...                   0   \n",
              "2                            0  ...                   0   \n",
              "3                            1  ...                   0   \n",
              "4                            0  ...                   1   \n",
              "\n",
              "   Race_ Amer-Indian-Eskimo  Race_ Asian-Pac-Islander  Race_ Black  \\\n",
              "0                         0                         0            0   \n",
              "1                         0                         0            0   \n",
              "2                         0                         0            0   \n",
              "3                         0                         0            1   \n",
              "4                         0                         0            1   \n",
              "\n",
              "   Race_ Other  Race_ White  Sex_ Female  Sex_ Male  Native-Country_Non-USA  \\\n",
              "0            0            1            0          1                       0   \n",
              "1            0            1            0          1                       0   \n",
              "2            0            1            0          1                       0   \n",
              "3            0            0            0          1                       0   \n",
              "4            0            0            1          0                       1   \n",
              "\n",
              "   Native-Country_USA  \n",
              "0                   1  \n",
              "1                   1  \n",
              "2                   1  \n",
              "3                   1  \n",
              "4                   0  \n",
              "\n",
              "[5 rows x 47 columns]"
            ],
            "text/html": [
              "\n",
              "  <div id=\"df-7d315aa1-2ad2-4079-bd42-38d383b8b1fe\">\n",
              "    <div class=\"colab-df-container\">\n",
              "      <div>\n",
              "<style scoped>\n",
              "    .dataframe tbody tr th:only-of-type {\n",
              "        vertical-align: middle;\n",
              "    }\n",
              "\n",
              "    .dataframe tbody tr th {\n",
              "        vertical-align: top;\n",
              "    }\n",
              "\n",
              "    .dataframe thead th {\n",
              "        text-align: right;\n",
              "    }\n",
              "</style>\n",
              "<table border=\"1\" class=\"dataframe\">\n",
              "  <thead>\n",
              "    <tr style=\"text-align: right;\">\n",
              "      <th></th>\n",
              "      <th>Age</th>\n",
              "      <th>fnlwgt</th>\n",
              "      <th>Hours-per-week</th>\n",
              "      <th>Income</th>\n",
              "      <th>Capital</th>\n",
              "      <th>Workclass_Gov</th>\n",
              "      <th>Workclass_Private</th>\n",
              "      <th>Workclass_Self-emp</th>\n",
              "      <th>Education_Associate</th>\n",
              "      <th>Education_Before-University</th>\n",
              "      <th>...</th>\n",
              "      <th>Relationship_ Wife</th>\n",
              "      <th>Race_ Amer-Indian-Eskimo</th>\n",
              "      <th>Race_ Asian-Pac-Islander</th>\n",
              "      <th>Race_ Black</th>\n",
              "      <th>Race_ Other</th>\n",
              "      <th>Race_ White</th>\n",
              "      <th>Sex_ Female</th>\n",
              "      <th>Sex_ Male</th>\n",
              "      <th>Native-Country_Non-USA</th>\n",
              "      <th>Native-Country_USA</th>\n",
              "    </tr>\n",
              "  </thead>\n",
              "  <tbody>\n",
              "    <tr>\n",
              "      <th>0</th>\n",
              "      <td>39</td>\n",
              "      <td>77516</td>\n",
              "      <td>40</td>\n",
              "      <td>0</td>\n",
              "      <td>2174</td>\n",
              "      <td>1</td>\n",
              "      <td>0</td>\n",
              "      <td>0</td>\n",
              "      <td>0</td>\n",
              "      <td>0</td>\n",
              "      <td>...</td>\n",
              "      <td>0</td>\n",
              "      <td>0</td>\n",
              "      <td>0</td>\n",
              "      <td>0</td>\n",
              "      <td>0</td>\n",
              "      <td>1</td>\n",
              "      <td>0</td>\n",
              "      <td>1</td>\n",
              "      <td>0</td>\n",
              "      <td>1</td>\n",
              "    </tr>\n",
              "    <tr>\n",
              "      <th>1</th>\n",
              "      <td>50</td>\n",
              "      <td>83311</td>\n",
              "      <td>13</td>\n",
              "      <td>0</td>\n",
              "      <td>0</td>\n",
              "      <td>0</td>\n",
              "      <td>0</td>\n",
              "      <td>1</td>\n",
              "      <td>0</td>\n",
              "      <td>0</td>\n",
              "      <td>...</td>\n",
              "      <td>0</td>\n",
              "      <td>0</td>\n",
              "      <td>0</td>\n",
              "      <td>0</td>\n",
              "      <td>0</td>\n",
              "      <td>1</td>\n",
              "      <td>0</td>\n",
              "      <td>1</td>\n",
              "      <td>0</td>\n",
              "      <td>1</td>\n",
              "    </tr>\n",
              "    <tr>\n",
              "      <th>2</th>\n",
              "      <td>38</td>\n",
              "      <td>215646</td>\n",
              "      <td>40</td>\n",
              "      <td>0</td>\n",
              "      <td>0</td>\n",
              "      <td>0</td>\n",
              "      <td>1</td>\n",
              "      <td>0</td>\n",
              "      <td>0</td>\n",
              "      <td>0</td>\n",
              "      <td>...</td>\n",
              "      <td>0</td>\n",
              "      <td>0</td>\n",
              "      <td>0</td>\n",
              "      <td>0</td>\n",
              "      <td>0</td>\n",
              "      <td>1</td>\n",
              "      <td>0</td>\n",
              "      <td>1</td>\n",
              "      <td>0</td>\n",
              "      <td>1</td>\n",
              "    </tr>\n",
              "    <tr>\n",
              "      <th>3</th>\n",
              "      <td>53</td>\n",
              "      <td>234721</td>\n",
              "      <td>40</td>\n",
              "      <td>0</td>\n",
              "      <td>0</td>\n",
              "      <td>0</td>\n",
              "      <td>1</td>\n",
              "      <td>0</td>\n",
              "      <td>0</td>\n",
              "      <td>1</td>\n",
              "      <td>...</td>\n",
              "      <td>0</td>\n",
              "      <td>0</td>\n",
              "      <td>0</td>\n",
              "      <td>1</td>\n",
              "      <td>0</td>\n",
              "      <td>0</td>\n",
              "      <td>0</td>\n",
              "      <td>1</td>\n",
              "      <td>0</td>\n",
              "      <td>1</td>\n",
              "    </tr>\n",
              "    <tr>\n",
              "      <th>4</th>\n",
              "      <td>28</td>\n",
              "      <td>338409</td>\n",
              "      <td>40</td>\n",
              "      <td>0</td>\n",
              "      <td>0</td>\n",
              "      <td>0</td>\n",
              "      <td>1</td>\n",
              "      <td>0</td>\n",
              "      <td>0</td>\n",
              "      <td>0</td>\n",
              "      <td>...</td>\n",
              "      <td>1</td>\n",
              "      <td>0</td>\n",
              "      <td>0</td>\n",
              "      <td>1</td>\n",
              "      <td>0</td>\n",
              "      <td>0</td>\n",
              "      <td>1</td>\n",
              "      <td>0</td>\n",
              "      <td>1</td>\n",
              "      <td>0</td>\n",
              "    </tr>\n",
              "  </tbody>\n",
              "</table>\n",
              "<p>5 rows × 47 columns</p>\n",
              "</div>\n",
              "      <button class=\"colab-df-convert\" onclick=\"convertToInteractive('df-7d315aa1-2ad2-4079-bd42-38d383b8b1fe')\"\n",
              "              title=\"Convert this dataframe to an interactive table.\"\n",
              "              style=\"display:none;\">\n",
              "        \n",
              "  <svg xmlns=\"http://www.w3.org/2000/svg\" height=\"24px\"viewBox=\"0 0 24 24\"\n",
              "       width=\"24px\">\n",
              "    <path d=\"M0 0h24v24H0V0z\" fill=\"none\"/>\n",
              "    <path d=\"M18.56 5.44l.94 2.06.94-2.06 2.06-.94-2.06-.94-.94-2.06-.94 2.06-2.06.94zm-11 1L8.5 8.5l.94-2.06 2.06-.94-2.06-.94L8.5 2.5l-.94 2.06-2.06.94zm10 10l.94 2.06.94-2.06 2.06-.94-2.06-.94-.94-2.06-.94 2.06-2.06.94z\"/><path d=\"M17.41 7.96l-1.37-1.37c-.4-.4-.92-.59-1.43-.59-.52 0-1.04.2-1.43.59L10.3 9.45l-7.72 7.72c-.78.78-.78 2.05 0 2.83L4 21.41c.39.39.9.59 1.41.59.51 0 1.02-.2 1.41-.59l7.78-7.78 2.81-2.81c.8-.78.8-2.07 0-2.86zM5.41 20L4 18.59l7.72-7.72 1.47 1.35L5.41 20z\"/>\n",
              "  </svg>\n",
              "      </button>\n",
              "      \n",
              "  <style>\n",
              "    .colab-df-container {\n",
              "      display:flex;\n",
              "      flex-wrap:wrap;\n",
              "      gap: 12px;\n",
              "    }\n",
              "\n",
              "    .colab-df-convert {\n",
              "      background-color: #E8F0FE;\n",
              "      border: none;\n",
              "      border-radius: 50%;\n",
              "      cursor: pointer;\n",
              "      display: none;\n",
              "      fill: #1967D2;\n",
              "      height: 32px;\n",
              "      padding: 0 0 0 0;\n",
              "      width: 32px;\n",
              "    }\n",
              "\n",
              "    .colab-df-convert:hover {\n",
              "      background-color: #E2EBFA;\n",
              "      box-shadow: 0px 1px 2px rgba(60, 64, 67, 0.3), 0px 1px 3px 1px rgba(60, 64, 67, 0.15);\n",
              "      fill: #174EA6;\n",
              "    }\n",
              "\n",
              "    [theme=dark] .colab-df-convert {\n",
              "      background-color: #3B4455;\n",
              "      fill: #D2E3FC;\n",
              "    }\n",
              "\n",
              "    [theme=dark] .colab-df-convert:hover {\n",
              "      background-color: #434B5C;\n",
              "      box-shadow: 0px 1px 3px 1px rgba(0, 0, 0, 0.15);\n",
              "      filter: drop-shadow(0px 1px 2px rgba(0, 0, 0, 0.3));\n",
              "      fill: #FFFFFF;\n",
              "    }\n",
              "  </style>\n",
              "\n",
              "      <script>\n",
              "        const buttonEl =\n",
              "          document.querySelector('#df-7d315aa1-2ad2-4079-bd42-38d383b8b1fe button.colab-df-convert');\n",
              "        buttonEl.style.display =\n",
              "          google.colab.kernel.accessAllowed ? 'block' : 'none';\n",
              "\n",
              "        async function convertToInteractive(key) {\n",
              "          const element = document.querySelector('#df-7d315aa1-2ad2-4079-bd42-38d383b8b1fe');\n",
              "          const dataTable =\n",
              "            await google.colab.kernel.invokeFunction('convertToInteractive',\n",
              "                                                     [key], {});\n",
              "          if (!dataTable) return;\n",
              "\n",
              "          const docLinkHtml = 'Like what you see? Visit the ' +\n",
              "            '<a target=\"_blank\" href=https://colab.research.google.com/notebooks/data_table.ipynb>data table notebook</a>'\n",
              "            + ' to learn more about interactive tables.';\n",
              "          element.innerHTML = '';\n",
              "          dataTable['output_type'] = 'display_data';\n",
              "          await google.colab.output.renderOutput(dataTable, element);\n",
              "          const docLink = document.createElement('div');\n",
              "          docLink.innerHTML = docLinkHtml;\n",
              "          element.appendChild(docLink);\n",
              "        }\n",
              "      </script>\n",
              "    </div>\n",
              "  </div>\n",
              "  "
            ]
          },
          "metadata": {},
          "execution_count": 22
        }
      ]
    },
    {
      "cell_type": "markdown",
      "source": [
        "We have 47 columns post grouping and one-hot encoding, lets train it on the same model architecture as the non grouped data set"
      ],
      "metadata": {
        "id": "sURffPPND3lt"
      }
    },
    {
      "cell_type": "code",
      "source": [
        "# Copy the 'grouped' dataframe to a new dataframe called 'groupNorm_'\n",
        "groupNorm_ = grouped.copy()\n",
        "\n",
        "# Perform min-max normalization on Age\n",
        "age_min = groupNorm_['Age'].min()\n",
        "age_max = groupNorm_['Age'].max()\n",
        "groupNorm_['Age'] = (groupNorm_['Age'] - age_min) / (age_max - age_min)\n",
        "\n",
        "# Min-Max normalize final weight\n",
        "ag_min = groupNorm_['fnlwgt'].min()\n",
        "ag_max = groupNorm_['fnlwgt'].max()\n",
        "groupNorm_['fnlwgt'] = (groupNorm_['fnlwgt'] - ag_min) / (ag_max - ag_min)\n",
        "\n",
        "# # Capital is derived from 'Capital-Gain' and 'Capital-Loss', therefore we \n",
        "# # normalize the feature by performing z-score normalization. \n",
        "# # Perform log transformation on 'Capital', then z-score normalization\n",
        "# groupNorm_['Capital'] = np.log(groupNorm_['Capital'] + 1)  # add 1 to avoid division by zero\n",
        "# c_mean = groupNorm_['Capital'].mean()\n",
        "# c_std = groupNorm_['Capital'].std()\n",
        "# groupNorm_['Capital'] = (groupNorm_['Capital'] - c_mean) / c_std\n",
        "\n",
        "# # Perform z-score normalization on Hours-per-week\n",
        "# hpw_mean = groupNorm_['Hours-per-week'].mean()\n",
        "# hpw_std = groupNorm_['Hours-per-week'].std()\n",
        "# groupNorm_['Hours-per-week'] = (groupNorm_['Hours-per-week'] - hpw_mean) / hpw_std"
      ],
      "metadata": {
        "id": "XtvMox86KTQv"
      },
      "execution_count": null,
      "outputs": []
    },
    {
      "cell_type": "code",
      "source": [
        "# NORMALIZED\n",
        "# we perform the standard 80% 20% train validation data split\n",
        "group_train = groupNorm_.sample(frac=0.8, random_state=0)\n",
        "group_validation = groupNorm_.drop(group_train.index)\n",
        "# split the labels from the rest of the features\n",
        "gtrain_features = group_train.copy()\n",
        "gval_features = group_validation.copy()\n",
        "\n",
        "gtrain_labels = gtrain_features.pop('Income')\n",
        "gval_labels = gval_features.pop('Income')"
      ],
      "metadata": {
        "id": "3BhGq9YibDLo"
      },
      "execution_count": null,
      "outputs": []
    },
    {
      "cell_type": "code",
      "source": [
        "# Build the model\n",
        "# Note: this model is normalized, to attempt pre-norm model just change dataframe in above cells to create labels and feats for pre-norm\n",
        "gNorm_model = tf.keras.Sequential([\n",
        "    # 47 neurons for 47 columns\n",
        "    tf.keras.layers.Dense(47, activation = 'relu', input_shape=(gtrain_features.shape[1],)),\n",
        "    tf.keras.layers.Dense(32, activation = 'relu'),\n",
        "  # tf.keras.layers.Dense(64, activation = 'relu'),\n",
        "    tf.keras.layers.Dense(16, activation = 'relu'),\n",
        "   # tf.keras.layers.Dense(16, activation = 'relu'),\n",
        "    # sigmoid activation for binary classification problem\n",
        "    tf.keras.layers.Dense(1, activation = 'sigmoid')\n",
        "])\n",
        "\n",
        "gNorm_model.compile(loss='binary_crossentropy',\n",
        "                      #optimizer = tf.keras.optimizers.RMSprop(learning_rate=0.001),\n",
        "                   optimizer = tf.keras.optimizers.Adam(learning_rate=0.001),\n",
        "                      metrics = ['accuracy'])\n",
        "\n",
        "ghistory = gNorm_model.fit(gtrain_features, gtrain_labels, epochs=15,\n",
        "                  batch_size = 32,\n",
        "                   validation_data = (gval_features, gval_labels))"
      ],
      "metadata": {
        "colab": {
          "base_uri": "https://localhost:8080/"
        },
        "id": "gIQu2coxl8QN",
        "outputId": "6bd291ab-a61c-4e9c-a412-ff36917abe8d"
      },
      "execution_count": null,
      "outputs": [
        {
          "output_type": "stream",
          "name": "stdout",
          "text": [
            "Epoch 1/15\n",
            "754/754 [==============================] - 5s 4ms/step - loss: 1.3430 - accuracy: 0.7980 - val_loss: 0.4430 - val_accuracy: 0.8237\n",
            "Epoch 2/15\n",
            "754/754 [==============================] - 3s 4ms/step - loss: 1.4919 - accuracy: 0.8105 - val_loss: 0.3869 - val_accuracy: 0.8353\n",
            "Epoch 3/15\n",
            "754/754 [==============================] - 4s 5ms/step - loss: 0.6865 - accuracy: 0.8180 - val_loss: 0.4039 - val_accuracy: 0.8242\n",
            "Epoch 4/15\n",
            "754/754 [==============================] - 3s 4ms/step - loss: 0.8353 - accuracy: 0.8216 - val_loss: 0.4955 - val_accuracy: 0.8295\n",
            "Epoch 5/15\n",
            "754/754 [==============================] - 3s 4ms/step - loss: 0.4960 - accuracy: 0.8249 - val_loss: 0.6711 - val_accuracy: 0.8051\n",
            "Epoch 6/15\n",
            "754/754 [==============================] - 4s 5ms/step - loss: 0.6982 - accuracy: 0.8239 - val_loss: 1.0060 - val_accuracy: 0.8279\n",
            "Epoch 7/15\n",
            "754/754 [==============================] - 3s 4ms/step - loss: 0.4471 - accuracy: 0.8265 - val_loss: 0.3509 - val_accuracy: 0.8396\n",
            "Epoch 8/15\n",
            "754/754 [==============================] - 3s 4ms/step - loss: 0.4589 - accuracy: 0.8259 - val_loss: 0.3485 - val_accuracy: 0.8368\n",
            "Epoch 9/15\n",
            "754/754 [==============================] - 3s 4ms/step - loss: 0.4470 - accuracy: 0.8244 - val_loss: 0.3477 - val_accuracy: 0.8357\n",
            "Epoch 10/15\n",
            "754/754 [==============================] - 4s 5ms/step - loss: 0.4026 - accuracy: 0.8303 - val_loss: 0.3364 - val_accuracy: 0.8423\n",
            "Epoch 11/15\n",
            "754/754 [==============================] - 3s 4ms/step - loss: 0.3782 - accuracy: 0.8288 - val_loss: 0.3344 - val_accuracy: 0.8534\n",
            "Epoch 12/15\n",
            "754/754 [==============================] - 3s 4ms/step - loss: 0.3480 - accuracy: 0.8346 - val_loss: 0.3313 - val_accuracy: 0.8385\n",
            "Epoch 13/15\n",
            "754/754 [==============================] - 5s 6ms/step - loss: 0.3539 - accuracy: 0.8310 - val_loss: 0.3266 - val_accuracy: 0.8516\n",
            "Epoch 14/15\n",
            "754/754 [==============================] - 3s 4ms/step - loss: 0.3621 - accuracy: 0.8304 - val_loss: 0.3370 - val_accuracy: 0.8541\n",
            "Epoch 15/15\n",
            "754/754 [==============================] - 3s 4ms/step - loss: 0.3527 - accuracy: 0.8317 - val_loss: 0.3350 - val_accuracy: 0.8451\n"
          ]
        }
      ]
    },
    {
      "cell_type": "code",
      "source": [
        "import matplotlib.pyplot as plt\n",
        "import seaborn as sns\n",
        "\n",
        "sns.set_style('darkgrid')  # Set the plot style\n",
        "\n",
        "plt.plot(ghistory.history['loss'], label='Training Loss')\n",
        "plt.plot(ghistory.history['val_loss'], label='Validation Loss')\n",
        "plt.plot(ghistory.history['accuracy'], label='Training Accuracy')\n",
        "plt.plot(ghistory.history['val_accuracy'], label='Validation Accuracy')\n",
        "\n",
        "plt.legend(loc='upper right', fontsize=7)  # Add a legend\n",
        "plt.title('Loss-Accuracy Curves (Grouped Data)')  # Add a title\n",
        "plt.xlabel('Epochs')  # Add x-axis label\n",
        "plt.ylabel('Loss / Accuracy')  # Add y-axis label\n",
        "plt.ylim([0, 1.5])  # Set y-axis limits to better visualize changes in the metrics\n",
        "\n",
        "plt.show()\n",
        "plt.close()\n"
      ],
      "metadata": {
        "colab": {
          "base_uri": "https://localhost:8080/",
          "height": 295
        },
        "id": "PKot3M456W0N",
        "outputId": "d7933460-4cec-46ee-ba93-74be46f5e909"
      },
      "execution_count": null,
      "outputs": [
        {
          "output_type": "display_data",
          "data": {
            "text/plain": [
              "<Figure size 432x288 with 1 Axes>"
            ],
            "image/png": "[encoded data removed]"
          },
          "metadata": {}
        }
      ]
    },
    {
      "cell_type": "code",
      "source": [
        "# recat NN Conf\n",
        "pred_ = gNorm_model.predict(gval_features)\n",
        "preds_ = (pred_ > 0.5).astype(int)\n",
        "tNconf = confusion_matrix(gval_labels, preds_)\n",
        "tNconf_df = pd.DataFrame(tNconf, index=['True Negative', 'True Positive'], columns=['Predicted Negative', 'Predicted Positive'])\n",
        "\n",
        "sns.heatmap(tNconf_df, annot=True, fmt=\"d\", cmap=\"Blues\")\n",
        "plt.xlabel(\"Predicted Label\")\n",
        "plt.ylabel(\"True Label\")\n",
        "plt.show()"
      ],
      "metadata": {
        "colab": {
          "base_uri": "https://localhost:8080/",
          "height": 300
        },
        "id": "2DqBWdAP5AKK",
        "outputId": "83ac7d44-d80d-4e5c-8270-e4295c507114"
      },
      "execution_count": null,
      "outputs": [
        {
          "output_type": "stream",
          "name": "stdout",
          "text": [
            "189/189 [==============================] - 0s 2ms/step\n"
          ]
        },
        {
          "output_type": "display_data",
          "data": {
            "text/plain": [
              "<Figure size 432x288 with 2 Axes>"
            ],
            "image/png": "[encoded data removed]"
          },
          "metadata": {}
        }
      ]
    },
    {
      "cell_type": "code",
      "source": [
        "# recat NN scores\n",
        "import pandas as pd\n",
        "from sklearn.metrics import accuracy_score, precision_score, recall_score, f1_score\n",
        "\n",
        "# NORMALIZED-SCORES\n",
        "accuracy = accuracy_score(gval_labels, preds_)\n",
        "precision = precision_score(gval_labels, preds_)\n",
        "recall = recall_score(gval_labels, preds_)\n",
        "f1 = f1_score(gval_labels, preds_)\n",
        "\n",
        "# Create the DataFrame\n",
        "gNscores_df = pd.DataFrame({\n",
        "    'Metric': ['Accuracy', 'Precision', 'Recall', 'F1 Score'],\n",
        "    'Score': [accuracy, precision, recall, f1]\n",
        "})\n",
        "\n",
        "# Format the DataFrame using Styler\n",
        "gNscores_df_styled = (gNscores_df.style\n",
        "                   .format({'Score': '{:.2%}'})  # Format the scores as percentage\n",
        "                   .applymap(add_bg_color, subset=['Score'])  # Add background color\n",
        "                   .set_properties(**{'text-align': 'center', 'font-size': '16px'})  # Set text alignment and font size\n",
        "                   .set_table_styles([\n",
        "                       {'selector': 'th', 'props': [\n",
        "                           ('background-color', '#303030'),  # header background color\n",
        "                           ('color', 'white'),  # header text color\n",
        "                           ('font-size', '16px'),  # header font size\n",
        "                       ]},\n",
        "                       {'selector': 'th.col_heading', 'props': [\n",
        "                           ('background-color', '#2f4f4f'),  # Metric column background color\n",
        "                       ]},\n",
        "                   ])\n",
        "                  )\n",
        "\n",
        "# Display the styled DataFrame\n",
        "gNscores_df_styled\n"
      ],
      "metadata": {
        "colab": {
          "base_uri": "https://localhost:8080/",
          "height": 197
        },
        "id": "Vs3U1OFg5CVI",
        "outputId": "ec397744-a4bf-4743-ccb5-6d3b5bec22d8"
      },
      "execution_count": null,
      "outputs": [
        {
          "output_type": "execute_result",
          "data": {
            "text/plain": [
              "<pandas.io.formats.style.Styler at 0x7f4b7e1ee250>"
            ],
            "text/html": [
              "<style type=\"text/css\">\n",
              "#T_24ad4_ th {\n",
              "  background-color: #303030;\n",
              "  color: white;\n",
              "  font-size: 16px;\n",
              "}\n",
              "#T_24ad4_ th.col_heading {\n",
              "  background-color: #2f4f4f;\n",
              "}\n",
              "#T_24ad4_row0_col0, #T_24ad4_row1_col0, #T_24ad4_row2_col0, #T_24ad4_row3_col0 {\n",
              "  text-align: center;\n",
              "  font-size: 16px;\n",
              "}\n",
              "#T_24ad4_row0_col1 {\n",
              "  background-color: #55a868;\n",
              "  text-align: center;\n",
              "  font-size: 16px;\n",
              "}\n",
              "#T_24ad4_row1_col1, #T_24ad4_row2_col1, #T_24ad4_row3_col1 {\n",
              "  background-color: #a1d99b;\n",
              "  text-align: center;\n",
              "  font-size: 16px;\n",
              "}\n",
              "</style>\n",
              "<table id=\"T_24ad4_\" class=\"dataframe\">\n",
              "  <thead>\n",
              "    <tr>\n",
              "      <th class=\"blank level0\" >&nbsp;</th>\n",
              "      <th class=\"col_heading level0 col0\" >Metric</th>\n",
              "      <th class=\"col_heading level0 col1\" >Score</th>\n",
              "    </tr>\n",
              "  </thead>\n",
              "  <tbody>\n",
              "    <tr>\n",
              "      <th id=\"T_24ad4_level0_row0\" class=\"row_heading level0 row0\" >0</th>\n",
              "      <td id=\"T_24ad4_row0_col0\" class=\"data row0 col0\" >Accuracy</td>\n",
              "      <td id=\"T_24ad4_row0_col1\" class=\"data row0 col1\" >84.51%</td>\n",
              "    </tr>\n",
              "    <tr>\n",
              "      <th id=\"T_24ad4_level0_row1\" class=\"row_heading level0 row1\" >1</th>\n",
              "      <td id=\"T_24ad4_row1_col0\" class=\"data row1 col0\" >Precision</td>\n",
              "      <td id=\"T_24ad4_row1_col1\" class=\"data row1 col1\" >67.19%</td>\n",
              "    </tr>\n",
              "    <tr>\n",
              "      <th id=\"T_24ad4_level0_row2\" class=\"row_heading level0 row2\" >2</th>\n",
              "      <td id=\"T_24ad4_row2_col0\" class=\"data row2 col0\" >Recall</td>\n",
              "      <td id=\"T_24ad4_row2_col1\" class=\"data row2 col1\" >72.44%</td>\n",
              "    </tr>\n",
              "    <tr>\n",
              "      <th id=\"T_24ad4_level0_row3\" class=\"row_heading level0 row3\" >3</th>\n",
              "      <td id=\"T_24ad4_row3_col0\" class=\"data row3 col0\" >F1 Score</td>\n",
              "      <td id=\"T_24ad4_row3_col1\" class=\"data row3 col1\" >69.71%</td>\n",
              "    </tr>\n",
              "  </tbody>\n",
              "</table>\n"
            ]
          },
          "metadata": {},
          "execution_count": 76
        }
      ]
    },
    {
      "cell_type": "markdown",
      "source": [
        "## Grouped Random Forest"
      ],
      "metadata": {
        "id": "KN4i9UpdIhwr"
      }
    },
    {
      "cell_type": "code",
      "source": [
        "import tensorflow as tf\n",
        "import matplotlib.pyplot as plt\n",
        "import numpy as np\n",
        "import pandas as pd\n",
        "import random\n",
        "from sklearn.model_selection import train_test_split\n",
        "from tensorflow.keras.optimizers import RMSprop\n",
        "from sklearn.ensemble import RandomForestClassifier\n",
        "from sklearn.metrics import confusion_matrix\n",
        "from sklearn.metrics import accuracy_score, precision_score, recall_score, f1_score"
      ],
      "metadata": {
        "id": "3enQ2SmmLu_v"
      },
      "execution_count": null,
      "outputs": []
    },
    {
      "cell_type": "code",
      "source": [
        "#NORMALIZED\n",
        "# New model\n",
        "gFmodelNorm = RandomForestClassifier(n_estimators=100, random_state=42)\n",
        "# FIt with normalized data\n",
        "gFmodelNorm.fit(gtrain_features, gtrain_labels)\n",
        "gFmodelNorm.score(gval_features, gval_labels)\n",
        "gval_pred_ = gFmodelNorm.predict(gval_features)\n",
        "gconf_=confusion_matrix(gval_labels, gval_pred_)\n",
        "gconfNorm = pd.DataFrame(gconf_, index=['True Negative', 'True Positive'], columns=['Predicted Negative', 'Predicted Positive'])\n",
        "sns.heatmap(gconfNorm, annot=True, fmt=\"d\", cmap=\"Blues\")\n",
        "plt.xlabel(\"Predicted Label\")\n",
        "plt.ylabel(\"True Label\")\n",
        "plt.show()"
      ],
      "metadata": {
        "colab": {
          "base_uri": "https://localhost:8080/",
          "height": 279
        },
        "id": "0q7tvVb6MkUu",
        "outputId": "451ec8e4-16f9-452d-95ef-9ff53c2550d7"
      },
      "execution_count": null,
      "outputs": [
        {
          "output_type": "display_data",
          "data": {
            "text/plain": [
              "<Figure size 432x288 with 2 Axes>"
            ],
            "image/png": "[encoded data removed]"
          },
          "metadata": {}
        }
      ]
    },
    {
      "cell_type": "code",
      "source": [
        "from sklearn.metrics import accuracy_score, precision_score, recall_score, f1_score\n",
        "\n",
        "# Make predictions on validation data\n",
        "gval_pred = gFmodelNorm.predict(gval_features)\n",
        "\n",
        "# Calculate metrics\n",
        "gacc = accuracy_score(gval_labels, gval_pred)\n",
        "gprec = precision_score(gval_labels, gval_pred)\n",
        "grec = recall_score(gval_labels, gval_pred)\n",
        "gf1 = f1_score(gval_labels, gval_pred)\n",
        "\n",
        "import numpy as np\n",
        "import seaborn as sns\n",
        "import matplotlib.pyplot as plt\n",
        "from sklearn.metrics import accuracy_score, precision_score, recall_score, f1_score\n",
        "\n",
        "\n",
        "# Create the DataFrame\n",
        "gscores_df = pd.DataFrame({\n",
        "    'Metric': ['Accuracy', 'Precision', 'Recall', 'F1 Score'],\n",
        "    'Score': [gacc, gprec, grec, gf1]\n",
        "})\n",
        "\n",
        "# Define a function to add background color based on the scores\n",
        "def add_bg_color(val):\n",
        "    color = 'white'\n",
        "    if val > 0.8:\n",
        "        color = '#55a868'  # green\n",
        "    elif val > 0.6:\n",
        "        color = '#a1d99b'  # light green\n",
        "    elif val > 0.4:\n",
        "        color = '#fdae61'  # orange\n",
        "    elif val > 0.2:\n",
        "        color = '#f46d43'  # light red\n",
        "    else:\n",
        "        color = '#d73027'  # red\n",
        "    return f'background-color: {color}'\n",
        "\n",
        "# Format the DataFrame using Styler\n",
        "gscores_df_styled = (gscores_df.style\n",
        "                   .format({'Score': '{:.2%}'})  # Format the scores as percentage\n",
        "                   .applymap(add_bg_color, subset=['Score'])  # Add background color\n",
        "                   .set_properties(**{'text-align': 'center', 'font-size': '16px'})  # Set text alignment and font size\n",
        "                   .set_table_styles([\n",
        "                       {'selector': 'th', 'props': [\n",
        "                           ('background-color', '#303030'),  # header background color\n",
        "                           ('color', 'white'),  # header text color\n",
        "                           ('font-size', '16px'),  # header font size\n",
        "                       ]},\n",
        "                       {'selector': 'th.col_heading', 'props': [\n",
        "                           ('background-color', '#2f4f4f'),  # Metric column background color\n",
        "                       ]},\n",
        "                   ])\n",
        "                  )\n",
        "\n",
        "# Display the styled DataFrame\n",
        "gscores_df_styled\n"
      ],
      "metadata": {
        "colab": {
          "base_uri": "https://localhost:8080/",
          "height": 197
        },
        "id": "gqNNmY-TMf9M",
        "outputId": "21346816-8ad6-4602-8741-9bf37324b30c"
      },
      "execution_count": null,
      "outputs": [
        {
          "output_type": "execute_result",
          "data": {
            "text/plain": [
              "<pandas.io.formats.style.Styler at 0x7f4b909729a0>"
            ],
            "text/html": [
              "<style type=\"text/css\">\n",
              "#T_329c3_ th {\n",
              "  background-color: #303030;\n",
              "  color: white;\n",
              "  font-size: 16px;\n",
              "}\n",
              "#T_329c3_ th.col_heading {\n",
              "  background-color: #2f4f4f;\n",
              "}\n",
              "#T_329c3_row0_col0, #T_329c3_row1_col0, #T_329c3_row2_col0, #T_329c3_row3_col0 {\n",
              "  text-align: center;\n",
              "  font-size: 16px;\n",
              "}\n",
              "#T_329c3_row0_col1 {\n",
              "  background-color: #55a868;\n",
              "  text-align: center;\n",
              "  font-size: 16px;\n",
              "}\n",
              "#T_329c3_row1_col1, #T_329c3_row2_col1, #T_329c3_row3_col1 {\n",
              "  background-color: #a1d99b;\n",
              "  text-align: center;\n",
              "  font-size: 16px;\n",
              "}\n",
              "</style>\n",
              "<table id=\"T_329c3_\" class=\"dataframe\">\n",
              "  <thead>\n",
              "    <tr>\n",
              "      <th class=\"blank level0\" >&nbsp;</th>\n",
              "      <th class=\"col_heading level0 col0\" >Metric</th>\n",
              "      <th class=\"col_heading level0 col1\" >Score</th>\n",
              "    </tr>\n",
              "  </thead>\n",
              "  <tbody>\n",
              "    <tr>\n",
              "      <th id=\"T_329c3_level0_row0\" class=\"row_heading level0 row0\" >0</th>\n",
              "      <td id=\"T_329c3_row0_col0\" class=\"data row0 col0\" >Accuracy</td>\n",
              "      <td id=\"T_329c3_row0_col1\" class=\"data row0 col1\" >85.07%</td>\n",
              "    </tr>\n",
              "    <tr>\n",
              "      <th id=\"T_329c3_level0_row1\" class=\"row_heading level0 row1\" >1</th>\n",
              "      <td id=\"T_329c3_row1_col0\" class=\"data row1 col0\" >Precision</td>\n",
              "      <td id=\"T_329c3_row1_col1\" class=\"data row1 col1\" >72.29%</td>\n",
              "    </tr>\n",
              "    <tr>\n",
              "      <th id=\"T_329c3_level0_row2\" class=\"row_heading level0 row2\" >2</th>\n",
              "      <td id=\"T_329c3_row2_col0\" class=\"data row2 col0\" >Recall</td>\n",
              "      <td id=\"T_329c3_row2_col1\" class=\"data row2 col1\" >63.81%</td>\n",
              "    </tr>\n",
              "    <tr>\n",
              "      <th id=\"T_329c3_level0_row3\" class=\"row_heading level0 row3\" >3</th>\n",
              "      <td id=\"T_329c3_row3_col0\" class=\"data row3 col0\" >F1 Score</td>\n",
              "      <td id=\"T_329c3_row3_col1\" class=\"data row3 col1\" >67.79%</td>\n",
              "    </tr>\n",
              "  </tbody>\n",
              "</table>\n"
            ]
          },
          "metadata": {},
          "execution_count": 79
        }
      ]
    },
    {
      "cell_type": "code",
      "source": [
        "from sklearn.metrics import confusion_matrix, roc_curve, precision_recall_curve, auc\n",
        "import matplotlib.pyplot as plt\n",
        "import seaborn as sns\n",
        "\n",
        "# Calculate confusion matrix\n",
        "gconf = confusion_matrix(gval_labels, gval_pred_)\n",
        "gconfNorm = pd.DataFrame(gconf, index=['True Negative', 'True Positive'], columns=['Predicted Negative', 'Predicted Positive'])\n",
        "# print(gconfNorm)\n",
        "\n",
        "sns.heatmap(gconfNorm, annot=True, fmt=\"d\", cmap=\"Blues\")\n",
        "plt.xlabel(\"Predicted Label\")\n",
        "plt.ylabel(\"True Label\")\n",
        "plt.show()\n",
        "\n",
        "# Calculate and plot ROC curve\n",
        "fpr, tpr, thresholds = roc_curve(gval_labels, gval_pred_)\n",
        "roc_auc = auc(fpr, tpr)\n",
        "\n",
        "plt.figure()\n",
        "plt.plot(fpr, tpr, color='darkorange', lw=2, label='ROC curve (area = %0.2f)' % roc_auc)\n",
        "plt.plot([0, 1], [0, 1], color='navy', lw=2, linestyle='--')\n",
        "plt.xlim([0.0, 1.0])\n",
        "plt.ylim([0.0, 1.05])\n",
        "plt.xlabel('False Positive Rate')\n",
        "plt.ylabel('True Positive Rate')\n",
        "plt.title('Receiver operating characteristic')\n",
        "plt.legend(loc=\"lower right\")\n",
        "plt.show()\n",
        "\n",
        "# Calculate and plot precision-recall curve\n",
        "precision, recall, thresholds = precision_recall_curve(gval_labels, gval_pred_)\n",
        "pr_auc = auc(recall, precision)\n",
        "\n",
        "plt.figure()\n",
        "plt.plot(recall, precision, color='darkorange', lw=2, label='Precision-Recall curve (area = %0.2f)' % pr_auc)\n",
        "plt.xlim([0.0, 1.0])\n",
        "plt.ylim([0.0, 1.05])\n",
        "plt.xlabel('Recall')\n",
        "plt.ylabel('Precision')\n",
        "plt.title('Precision-Recall curve')\n",
        "plt.legend(loc=\"lower right\")\n",
        "plt.show()\n"
      ],
      "metadata": {
        "colab": {
          "base_uri": "https://localhost:8080/",
          "height": 835
        },
        "id": "nc82KhStPW_r",
        "outputId": "46f49feb-b07e-400a-f2e3-f102d26921fb"
      },
      "execution_count": null,
      "outputs": [
        {
          "output_type": "display_data",
          "data": {
            "text/plain": [
              "<Figure size 432x288 with 2 Axes>"
            ],
            "image/png": "[encoded data removed]"
          },
          "metadata": {
            "needs_background": "light"
          }
        },
        {
          "output_type": "display_data",
          "data": {
            "text/plain": [
              "<Figure size 432x288 with 1 Axes>"
            ],
            "image/png": "[encoded data removed]"
          },
          "metadata": {
            "needs_background": "light"
          }
        },
        {
          "output_type": "display_data",
          "data": {
            "text/plain": [
              "<Figure size 432x288 with 1 Axes>"
            ],
            "image/png": "[encoded data removed]"
          },
          "metadata": {
            "needs_background": "light"
          }
        }
      ]
    },
    {
      "cell_type": "markdown",
      "source": [
        "Seems like normalization for both the grouped and non-grouped datasets increases true negative count and decreases true positive count.\n",
        "\n",
        "Next Steps:\n",
        "\n",
        "1. Examine True vs False ratio.\n",
        "2. Also, Research how to properly analyze/compare confusion matrices.\n",
        "3. In addition, after EDA explore whether to normalize different columns differently, e.g. z-score normalization, min-max, log normalization etc\n",
        "4. Mention that we include dropout layers to prevent overfitting."
      ],
      "metadata": {
        "id": "x9AQw13sNT7H"
      }
    },
    {
      "cell_type": "markdown",
      "source": [
        "Two - tailed T-test"
      ],
      "metadata": {
        "id": "jLaheLvMN30f"
      }
    },
    {
      "cell_type": "code",
      "source": [
        "# from scipy.stats import ttest_ind\n",
        "\n",
        "# # assuming your datasets are NumPy arrays or Pandas dataframes\n",
        "# # fledged = ...\n",
        "# # grouped = ...\n",
        "\n",
        "# # perform two-tailed t-test\n",
        "# t_statistic, p_value = ttest_ind(fledged, grouped, equal_var=False)\n",
        "\n",
        "# # print the results\n",
        "# print(\"t-statistic:\", t_statistic)\n",
        "# print(\"p-value:\", p_value)\n"
      ],
      "metadata": {
        "id": "UecWdL3Htjm2"
      },
      "execution_count": null,
      "outputs": []
    },
    {
      "cell_type": "code",
      "source": [
        "# Categoricals"
      ],
      "metadata": {
        "colab": {
          "base_uri": "https://localhost:8080/"
        },
        "id": "U4exoLGPx9Sv",
        "outputId": "2b331a25-8317-43f5-9527-1025ed250e22"
      },
      "execution_count": null,
      "outputs": [
        {
          "output_type": "execute_result",
          "data": {
            "text/plain": [
              "['Workclass',\n",
              " 'Education',\n",
              " 'Marital-Status',\n",
              " 'Occupation',\n",
              " 'Relationship',\n",
              " 'Race',\n",
              " 'Sex',\n",
              " 'Native-Country']"
            ]
          },
          "metadata": {},
          "execution_count": 38
        }
      ]
    },
    {
      "cell_type": "code",
      "source": [
        "# # fledged = fledged.drop(Categoricals, axis=1)\n",
        "# fledged"
      ],
      "metadata": {
        "colab": {
          "base_uri": "https://localhost:8080/",
          "height": 423
        },
        "id": "M8AiYXUgxcRW",
        "outputId": "7ced7a0a-b28f-47b1-af54-6af3035edb3f"
      },
      "execution_count": null,
      "outputs": [
        {
          "output_type": "execute_result",
          "data": {
            "text/plain": [
              "       Age  fnlwgt  Capital-Gain  Capital-Loss  Hours-per-week  Income\n",
              "0       39   77516          2174             0              40   <=50K\n",
              "1       50   83311             0             0              13   <=50K\n",
              "2       38  215646             0             0              40   <=50K\n",
              "3       53  234721             0             0              40   <=50K\n",
              "4       28  338409             0             0              40   <=50K\n",
              "...    ...     ...           ...           ...             ...     ...\n",
              "32556   27  257302             0             0              38   <=50K\n",
              "32557   40  154374             0             0              40    >50K\n",
              "32558   58  151910             0             0              40   <=50K\n",
              "32559   22  201490             0             0              20   <=50K\n",
              "32560   52  287927         15024             0              40    >50K\n",
              "\n",
              "[30148 rows x 6 columns]"
            ],
            "text/html": [
              "\n",
              "  <div id=\"df-fc9c194b-bf80-41de-9e9d-a62d04683bab\">\n",
              "    <div class=\"colab-df-container\">\n",
              "      <div>\n",
              "<style scoped>\n",
              "    .dataframe tbody tr th:only-of-type {\n",
              "        vertical-align: middle;\n",
              "    }\n",
              "\n",
              "    .dataframe tbody tr th {\n",
              "        vertical-align: top;\n",
              "    }\n",
              "\n",
              "    .dataframe thead th {\n",
              "        text-align: right;\n",
              "    }\n",
              "</style>\n",
              "<table border=\"1\" class=\"dataframe\">\n",
              "  <thead>\n",
              "    <tr style=\"text-align: right;\">\n",
              "      <th></th>\n",
              "      <th>Age</th>\n",
              "      <th>fnlwgt</th>\n",
              "      <th>Capital-Gain</th>\n",
              "      <th>Capital-Loss</th>\n",
              "      <th>Hours-per-week</th>\n",
              "      <th>Income</th>\n",
              "    </tr>\n",
              "  </thead>\n",
              "  <tbody>\n",
              "    <tr>\n",
              "      <th>0</th>\n",
              "      <td>39</td>\n",
              "      <td>77516</td>\n",
              "      <td>2174</td>\n",
              "      <td>0</td>\n",
              "      <td>40</td>\n",
              "      <td>&lt;=50K</td>\n",
              "    </tr>\n",
              "    <tr>\n",
              "      <th>1</th>\n",
              "      <td>50</td>\n",
              "      <td>83311</td>\n",
              "      <td>0</td>\n",
              "      <td>0</td>\n",
              "      <td>13</td>\n",
              "      <td>&lt;=50K</td>\n",
              "    </tr>\n",
              "    <tr>\n",
              "      <th>2</th>\n",
              "      <td>38</td>\n",
              "      <td>215646</td>\n",
              "      <td>0</td>\n",
              "      <td>0</td>\n",
              "      <td>40</td>\n",
              "      <td>&lt;=50K</td>\n",
              "    </tr>\n",
              "    <tr>\n",
              "      <th>3</th>\n",
              "      <td>53</td>\n",
              "      <td>234721</td>\n",
              "      <td>0</td>\n",
              "      <td>0</td>\n",
              "      <td>40</td>\n",
              "      <td>&lt;=50K</td>\n",
              "    </tr>\n",
              "    <tr>\n",
              "      <th>4</th>\n",
              "      <td>28</td>\n",
              "      <td>338409</td>\n",
              "      <td>0</td>\n",
              "      <td>0</td>\n",
              "      <td>40</td>\n",
              "      <td>&lt;=50K</td>\n",
              "    </tr>\n",
              "    <tr>\n",
              "      <th>...</th>\n",
              "      <td>...</td>\n",
              "      <td>...</td>\n",
              "      <td>...</td>\n",
              "      <td>...</td>\n",
              "      <td>...</td>\n",
              "      <td>...</td>\n",
              "    </tr>\n",
              "    <tr>\n",
              "      <th>32556</th>\n",
              "      <td>27</td>\n",
              "      <td>257302</td>\n",
              "      <td>0</td>\n",
              "      <td>0</td>\n",
              "      <td>38</td>\n",
              "      <td>&lt;=50K</td>\n",
              "    </tr>\n",
              "    <tr>\n",
              "      <th>32557</th>\n",
              "      <td>40</td>\n",
              "      <td>154374</td>\n",
              "      <td>0</td>\n",
              "      <td>0</td>\n",
              "      <td>40</td>\n",
              "      <td>&gt;50K</td>\n",
              "    </tr>\n",
              "    <tr>\n",
              "      <th>32558</th>\n",
              "      <td>58</td>\n",
              "      <td>151910</td>\n",
              "      <td>0</td>\n",
              "      <td>0</td>\n",
              "      <td>40</td>\n",
              "      <td>&lt;=50K</td>\n",
              "    </tr>\n",
              "    <tr>\n",
              "      <th>32559</th>\n",
              "      <td>22</td>\n",
              "      <td>201490</td>\n",
              "      <td>0</td>\n",
              "      <td>0</td>\n",
              "      <td>20</td>\n",
              "      <td>&lt;=50K</td>\n",
              "    </tr>\n",
              "    <tr>\n",
              "      <th>32560</th>\n",
              "      <td>52</td>\n",
              "      <td>287927</td>\n",
              "      <td>15024</td>\n",
              "      <td>0</td>\n",
              "      <td>40</td>\n",
              "      <td>&gt;50K</td>\n",
              "    </tr>\n",
              "  </tbody>\n",
              "</table>\n",
              "<p>30148 rows × 6 columns</p>\n",
              "</div>\n",
              "      <button class=\"colab-df-convert\" onclick=\"convertToInteractive('df-fc9c194b-bf80-41de-9e9d-a62d04683bab')\"\n",
              "              title=\"Convert this dataframe to an interactive table.\"\n",
              "              style=\"display:none;\">\n",
              "        \n",
              "  <svg xmlns=\"http://www.w3.org/2000/svg\" height=\"24px\"viewBox=\"0 0 24 24\"\n",
              "       width=\"24px\">\n",
              "    <path d=\"M0 0h24v24H0V0z\" fill=\"none\"/>\n",
              "    <path d=\"M18.56 5.44l.94 2.06.94-2.06 2.06-.94-2.06-.94-.94-2.06-.94 2.06-2.06.94zm-11 1L8.5 8.5l.94-2.06 2.06-.94-2.06-.94L8.5 2.5l-.94 2.06-2.06.94zm10 10l.94 2.06.94-2.06 2.06-.94-2.06-.94-.94-2.06-.94 2.06-2.06.94z\"/><path d=\"M17.41 7.96l-1.37-1.37c-.4-.4-.92-.59-1.43-.59-.52 0-1.04.2-1.43.59L10.3 9.45l-7.72 7.72c-.78.78-.78 2.05 0 2.83L4 21.41c.39.39.9.59 1.41.59.51 0 1.02-.2 1.41-.59l7.78-7.78 2.81-2.81c.8-.78.8-2.07 0-2.86zM5.41 20L4 18.59l7.72-7.72 1.47 1.35L5.41 20z\"/>\n",
              "  </svg>\n",
              "      </button>\n",
              "      \n",
              "  <style>\n",
              "    .colab-df-container {\n",
              "      display:flex;\n",
              "      flex-wrap:wrap;\n",
              "      gap: 12px;\n",
              "    }\n",
              "\n",
              "    .colab-df-convert {\n",
              "      background-color: #E8F0FE;\n",
              "      border: none;\n",
              "      border-radius: 50%;\n",
              "      cursor: pointer;\n",
              "      display: none;\n",
              "      fill: #1967D2;\n",
              "      height: 32px;\n",
              "      padding: 0 0 0 0;\n",
              "      width: 32px;\n",
              "    }\n",
              "\n",
              "    .colab-df-convert:hover {\n",
              "      background-color: #E2EBFA;\n",
              "      box-shadow: 0px 1px 2px rgba(60, 64, 67, 0.3), 0px 1px 3px 1px rgba(60, 64, 67, 0.15);\n",
              "      fill: #174EA6;\n",
              "    }\n",
              "\n",
              "    [theme=dark] .colab-df-convert {\n",
              "      background-color: #3B4455;\n",
              "      fill: #D2E3FC;\n",
              "    }\n",
              "\n",
              "    [theme=dark] .colab-df-convert:hover {\n",
              "      background-color: #434B5C;\n",
              "      box-shadow: 0px 1px 3px 1px rgba(0, 0, 0, 0.15);\n",
              "      filter: drop-shadow(0px 1px 2px rgba(0, 0, 0, 0.3));\n",
              "      fill: #FFFFFF;\n",
              "    }\n",
              "  </style>\n",
              "\n",
              "      <script>\n",
              "        const buttonEl =\n",
              "          document.querySelector('#df-fc9c194b-bf80-41de-9e9d-a62d04683bab button.colab-df-convert');\n",
              "        buttonEl.style.display =\n",
              "          google.colab.kernel.accessAllowed ? 'block' : 'none';\n",
              "\n",
              "        async function convertToInteractive(key) {\n",
              "          const element = document.querySelector('#df-fc9c194b-bf80-41de-9e9d-a62d04683bab');\n",
              "          const dataTable =\n",
              "            await google.colab.kernel.invokeFunction('convertToInteractive',\n",
              "                                                     [key], {});\n",
              "          if (!dataTable) return;\n",
              "\n",
              "          const docLinkHtml = 'Like what you see? Visit the ' +\n",
              "            '<a target=\"_blank\" href=https://colab.research.google.com/notebooks/data_table.ipynb>data table notebook</a>'\n",
              "            + ' to learn more about interactive tables.';\n",
              "          element.innerHTML = '';\n",
              "          dataTable['output_type'] = 'display_data';\n",
              "          await google.colab.output.renderOutput(dataTable, element);\n",
              "          const docLink = document.createElement('div');\n",
              "          docLink.innerHTML = docLinkHtml;\n",
              "          element.appendChild(docLink);\n",
              "        }\n",
              "      </script>\n",
              "    </div>\n",
              "  </div>\n",
              "  "
            ]
          },
          "metadata": {},
          "execution_count": 41
        }
      ]
    },
    {
      "cell_type": "code",
      "source": [
        "from scipy.stats import ttest_ind\n",
        "\n",
        "# get the subset of columns that are present in both datasets\n",
        "common_columns = list(set(fledged.columns).intersection(set(grouped.columns)))\n",
        "\n",
        "# align the dataframes on the common columns and reindex to ensure order is consistent\n",
        "fledged = fledged[common_columns].reindex(grouped.index)\n",
        "grouped = grouped[common_columns]\n",
        "\n",
        "# perform two-tailed t-test\n",
        "t_statistic, p_value = ttest_ind(fledged, grouped, equal_var=False)\n",
        "\n",
        "# print the results\n",
        "print(\"t-statistic:\", t_statistic)\n",
        "print(\"p-value:\", p_value)\n"
      ],
      "metadata": {
        "colab": {
          "base_uri": "https://localhost:8080/"
        },
        "id": "HsX5fWS3xA2L",
        "outputId": "cf175054-536d-4d1b-c1e9-fa3fd703fdd0"
      },
      "execution_count": null,
      "outputs": [
        {
          "output_type": "stream",
          "name": "stdout",
          "text": [
            "t-statistic: [0. 0. 0. 0. 0. 0. 0. 0. 0. 0. 0. 0. 0. 0. 0. 0. 0. 0. 0. 0. 0. 0. 0. 0.\n",
            " 0. 0. 0. 0. 0. 0. 0. 0.]\n",
            "p-value: [1. 1. 1. 1. 1. 1. 1. 1. 1. 1. 1. 1. 1. 1. 1. 1. 1. 1. 1. 1. 1. 1. 1. 1.\n",
            " 1. 1. 1. 1. 1. 1. 1. 1.]\n"
          ]
        }
      ]
    }
  ]
}